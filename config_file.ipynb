{
 "cells": [
  {
   "cell_type": "code",
   "execution_count": 1,
   "metadata": {},
   "outputs": [],
   "source": [
    "import numpy as np\n",
    "import pickle as pk"
   ]
  },
  {
   "cell_type": "code",
   "execution_count": 2,
   "metadata": {},
   "outputs": [],
   "source": [
    "# Redshift bins\n",
    "\n",
    "z_bins = np.array([0.15, 0.25, 0.35, 0.45, 0.55, 0.65, 0.75, 0.85, 0.95, 1.05, 1.15, 1.25, 1.35, 1.45, 1.55, 1.65, 1.75, 1.85, 1.95])\n",
    "\n",
    "# Separations\n",
    "\n",
    "dist = np.arange(20, 164, 4)\n",
    "\n",
    "params_dict0 = {\n",
    "    'h' : 0.6766,\n",
    "    'As' : 2.05e-9,\n",
    "    'ns' : 0.9665,\n",
    "    'Ob' : 0.04897, # This is here the density parameter of Baryons\n",
    "    'Om' : 0.3111, # This is here the density parameter of Cold Dark Matter\n",
    "}\n",
    "\n",
    "steps = [1e-3, 1e-1, 1e-4, 1e-2, 1e-2]"
   ]
  },
  {
   "cell_type": "code",
   "execution_count": 3,
   "metadata": {},
   "outputs": [],
   "source": [
    "config_data = {\n",
    "    'z_bins': z_bins,\n",
    "    'dist': dist,\n",
    "    'params_dict0': params_dict0,\n",
    "    'steps': steps,\n",
    "}"
   ]
  },
  {
   "cell_type": "code",
   "execution_count": 4,
   "metadata": {},
   "outputs": [],
   "source": [
    "# Save the configuration to a Pickle file\n",
    "with open('Data/config_derivatives.pkl', 'wb') as config_file:\n",
    "    pk.dump(config_data, config_file)"
   ]
  },
  {
   "cell_type": "code",
   "execution_count": 5,
   "metadata": {},
   "outputs": [
    {
     "name": "stdout",
     "output_type": "stream",
     "text": [
      "---------- Configuartion settings ----------\n"
     ]
    }
   ],
   "source": [
    "print('-'*10+' Configuartion settings '+'-'*10)"
   ]
  },
  {
   "cell_type": "code",
   "execution_count": 6,
   "metadata": {},
   "outputs": [],
   "source": [
    "with open('Data/config_derivatives.pkl', 'rb') as config_file:\n",
    "    config = pk.load(config_file)"
   ]
  },
  {
   "cell_type": "code",
   "execution_count": 7,
   "metadata": {},
   "outputs": [
    {
     "data": {
      "text/plain": [
       "{'z_bins': array([0.15, 0.25, 0.35, 0.45, 0.55, 0.65, 0.75, 0.85, 0.95, 1.05, 1.15,\n",
       "        1.25, 1.35, 1.45, 1.55, 1.65, 1.75, 1.85, 1.95]),\n",
       " 'dist': array([ 20,  24,  28,  32,  36,  40,  44,  48,  52,  56,  60,  64,  68,\n",
       "         72,  76,  80,  84,  88,  92,  96, 100, 104, 108, 112, 116, 120,\n",
       "        124, 128, 132, 136, 140, 144, 148, 152, 156, 160]),\n",
       " 'params_dict0': {'h': 0.6766,\n",
       "  'As': 2.05e-09,\n",
       "  'ns': 0.9665,\n",
       "  'Ob': 0.04897,\n",
       "  'Om': 0.3111},\n",
       " 'steps': [0.001, 0.1, 0.0001, 0.01, 0.01]}"
      ]
     },
     "execution_count": 7,
     "metadata": {},
     "output_type": "execute_result"
    }
   ],
   "source": [
    "config"
   ]
  },
  {
   "cell_type": "code",
   "execution_count": 8,
   "metadata": {},
   "outputs": [
    {
     "name": "stdout",
     "output_type": "stream",
     "text": [
      "---------- Configuartion settings ----------\n",
      "\n",
      "{'dist': array([ 20,  24,  28,  32,  36,  40,  44,  48,  52,  56,  60,  64,  68,\n",
      "        72,  76,  80,  84,  88,  92,  96, 100, 104, 108, 112, 116, 120,\n",
      "       124, 128, 132, 136, 140, 144, 148, 152, 156, 160]),\n",
      " 'params_dict0': {'As': 2.05e-09,\n",
      "                  'Ob': 0.04897,\n",
      "                  'Om': 0.3111,\n",
      "                  'h': 0.6766,\n",
      "                  'ns': 0.9665},\n",
      " 'steps': [0.001,\n",
      "           0.1,\n",
      "           0.0001,\n",
      "           0.01,\n",
      "           0.01],\n",
      " 'z_bins': array([0.15, 0.25, 0.35, 0.45, 0.55, 0.65, 0.75, 0.85, 0.95, 1.05, 1.15,\n",
      "       1.25, 1.35, 1.45, 1.55, 1.65, 1.75, 1.85, 1.95])}\n"
     ]
    }
   ],
   "source": [
    "import pprint\n",
    "\n",
    "print('-'*10+' Configuartion settings '+'-'*10+'\\n')\n",
    "pp = pprint.PrettyPrinter(indent=1, width=1, sort_dicts=True)\n",
    "pp.pprint(config)"
   ]
  },
  {
   "cell_type": "code",
   "execution_count": 9,
   "metadata": {},
   "outputs": [
    {
     "name": "stdout",
     "output_type": "stream",
     "text": [
      "dict_keys(['z_bins', 'dist', 'params_dict0', 'steps'])\n"
     ]
    }
   ],
   "source": [
    "print(config.keys())"
   ]
  },
  {
   "cell_type": "code",
   "execution_count": 10,
   "metadata": {},
   "outputs": [
    {
     "name": "stdout",
     "output_type": "stream",
     "text": [
      "z_bins\n",
      "dist\n",
      "params_dict0\n",
      "steps\n"
     ]
    }
   ],
   "source": [
    "for key in config.keys():\n",
    "    print(f'{key}')"
   ]
  },
  {
   "cell_type": "code",
   "execution_count": 11,
   "metadata": {},
   "outputs": [
    {
     "data": {
      "text/plain": [
       "324"
      ]
     },
     "execution_count": 11,
     "metadata": {},
     "output_type": "execute_result"
    }
   ],
   "source": [
    "len(config['dist'])*9"
   ]
  },
  {
   "cell_type": "code",
   "execution_count": 1,
   "metadata": {},
   "outputs": [
    {
     "name": "stdout",
     "output_type": "stream",
     "text": [
      "\n",
      "---------- Configuartion settings ----------\n",
      "\n",
      "{'dist': array([ 20,  24,  28,  32,  36,  40,  44,  48,  52,  56,  60,  64,  68,\n",
      "        72,  76,  80,  84,  88,  92,  96, 100, 104, 108, 112, 116, 120,\n",
      "       124, 128, 132, 136, 140, 144, 148, 152, 156, 160], dtype=int64),\n",
      " 'params_dict0': {'As': 2.05e-09,\n",
      "                  'Ob': 0.04897,\n",
      "                  'Om': 0.3111,\n",
      "                  'h': 0.6766,\n",
      "                  'ns': 0.9665},\n",
      " 'steps': [0.001,\n",
      "           0.1,\n",
      "           0.0001,\n",
      "           0.01,\n",
      "           0.01],\n",
      " 'z_bins': array([0.15, 0.25, 0.35, 0.45, 0.55, 0.65, 0.75, 0.85, 0.95, 1.05, 1.15,\n",
      "       1.25, 1.35, 1.45, 1.55, 1.65, 1.75, 1.85, 1.95])}\n",
      "\n",
      "----------------------------------------------------------------------------------------------------\n",
      "\n",
      " ... Computing derivatives of the Signal ... \n",
      "\n",
      "\n",
      " Population Split: m = 2.0\n",
      " Galaxy bias difference, delta_b = 1.0\n",
      "\n",
      "Derivatives have shapes : (num_params, num_bins, 9 * num_separations)\n",
      "\n",
      "\n",
      " Derivatives are stored in a Dictionary with keys: \n",
      "\n",
      "dsignal_dsbias\n",
      "dsignal_dnumev\n",
      "dsignal_dgbias\n",
      "dsignal_dcosmic\n",
      "\n",
      " ... Sucess! ... \n",
      "\n",
      "--------------------\n",
      "\n",
      " ... Computing derivatives of the Signal ... \n",
      "\n",
      "\n",
      " Population Split: m = 3.3333333333333335\n",
      " Galaxy bias difference, delta_b = 1.2\n",
      "\n",
      "Derivatives have shapes : (num_params, num_bins, 9 * num_separations)\n",
      "\n",
      "\n",
      " Derivatives are stored in a Dictionary with keys: \n",
      "\n",
      "dsignal_dsbias\n",
      "dsignal_dnumev\n",
      "dsignal_dgbias\n",
      "dsignal_dcosmic\n",
      "\n",
      " ... Sucess! ... \n",
      "\n",
      "--------------------\n",
      "\n",
      " ... Computing derivatives of the Signal ... \n",
      "\n",
      "\n",
      " Population Split: m = 1.4285714285714286\n",
      " Galaxy bias difference, delta_b = 0.8\n",
      "\n",
      "Derivatives have shapes : (num_params, num_bins, 9 * num_separations)\n",
      "\n",
      "\n",
      " Derivatives are stored in a Dictionary with keys: \n",
      "\n",
      "dsignal_dsbias\n",
      "dsignal_dnumev\n",
      "dsignal_dgbias\n",
      "dsignal_dcosmic\n",
      "\n",
      " ... Sucess! ... \n",
      "\n",
      "--------------------\n",
      "\n",
      " Saving the Dictionary to a file: derivatives.pkl \n",
      "\n",
      "split_50x50\n",
      "split_30x70\n",
      "split_70x30\n",
      "\n",
      " Total elapsed real time: 1113.09 seconds\n",
      " Total elapsed CPU time: 9073.88 seconds\n",
      "\n",
      " ... Sucess! ...\n",
      "\n",
      "\n",
      "----------------------------------------------------------------------------------------------------\n"
     ]
    }
   ],
   "source": [
    "%run compute_derivatives.py"
   ]
  },
  {
   "cell_type": "code",
   "execution_count": null,
   "metadata": {},
   "outputs": [],
   "source": []
  }
 ],
 "metadata": {
  "kernelspec": {
   "display_name": "camb",
   "language": "python",
   "name": "python3"
  },
  "language_info": {
   "codemirror_mode": {
    "name": "ipython",
    "version": 3
   },
   "file_extension": ".py",
   "mimetype": "text/x-python",
   "name": "python",
   "nbconvert_exporter": "python",
   "pygments_lexer": "ipython3",
   "version": "3.9.16"
  }
 },
 "nbformat": 4,
 "nbformat_minor": 2
}
