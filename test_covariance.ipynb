{
 "cells": [
  {
   "cell_type": "code",
   "execution_count": 1,
   "metadata": {},
   "outputs": [
    {
     "name": "stdout",
     "output_type": "stream",
     "text": [
      "/Users/danielsb/Documents/GitHub\n"
     ]
    }
   ],
   "source": [
    "#Import\n",
    "%matplotlib inline\n",
    "%config InlineBackend.figure_format = 'retina'\n",
    "import numpy as np\n",
    "import matplotlib.pyplot as plt\n",
    "#from biasmodels import MagnificationBias, GalaxyBias, EvolutionBias\n",
    "from CAMBsolver import Solver\n",
    "from multipole_signal import Signal\n",
    "import fishermat as fm\n",
    "import pickle as pk\n",
    "\n",
    "#Set current directory\n",
    "import os\n",
    "import sys\n",
    "\n",
    "PACKAGE_PARENT = '..'\n",
    "SCRIPT_DIR = os.path.dirname(os.path.realpath(os.path.join(os.getcwd())))\n",
    "sys.path.append(SCRIPT_DIR)\n",
    "print(SCRIPT_DIR)\n",
    "\n",
    "#Configuration\n",
    "large = 22; med = 16; small = 12\n",
    "params = {'axes.titlesize': large,\n",
    "          'legend.fontsize': med,\n",
    "          'axes.labelsize': med,\n",
    "          'axes.titlesize': med,\n",
    "          'xtick.labelsize': med,\n",
    "          'ytick.labelsize': med,\n",
    "          'figure.titlesize': large,\n",
    "          'text.usetex': True}\n",
    "plt.rcParams.update(params)\n"
   ]
  },
  {
   "cell_type": "code",
   "execution_count": 2,
   "metadata": {},
   "outputs": [],
   "source": [
    "# Redshift bins\n",
    "\n",
    "z_bins = np.array([0.15, 0.25, 0.35, 0.45, 0.55, 0.65, 0.75, 0.85, 0.95, 1.05, 1.15, 1.25, 1.35, 1.45, 1.55, 1.65, 1.75, 1.85, 1.95])\n",
    "\n",
    "# Separations\n",
    "\n",
    "dist = [\n",
    "    np.arange(20, 164, 4),\n",
    "    np.arange(32, 164, 4),\n",
    "]\n",
    "\n",
    "params_dict0 = {\n",
    "    'h' : 0.677,\n",
    "    'As' : 2.05e-9,\n",
    "    'ns' : 0.965,\n",
    "    'Ob' : 0.0490, # This is here the density parameter of Baryons\n",
    "    'Om' : 0.3111, # This is here the density parameter of Cold Dark Matter\n",
    "}\n",
    "\n",
    "steps = [1e-3, 1e-1, 1e-4, 1e-2, 1e-2]"
   ]
  },
  {
   "cell_type": "markdown",
   "metadata": {},
   "source": [
    "# Check symmetricity"
   ]
  },
  {
   "cell_type": "code",
   "execution_count": 3,
   "metadata": {},
   "outputs": [
    {
     "name": "stdout",
     "output_type": "stream",
     "text": [
      "\n",
      " ... Loading Covariance Matrices [MONOBB, MONOBF, MONOFF, DIPBF, QUADBB, QUADBF, QUADFF, HEXAT, OCTBF] ... \n",
      "\n",
      "\n",
      " ... Success! ... \n",
      "\n",
      "\n",
      " ... Loading Covariance Matrices [MONOBB, MONOBF, MONOFF, DIPBF, QUADBB, QUADBF, QUADFF, HEXAT, OCTBF] ... \n",
      "\n",
      "\n",
      " ... Success! ... \n",
      "\n",
      "\n",
      " ... Loading Covariance Matrices [MONOBB, MONOBF, MONOFF, DIPBF, QUADBB, QUADBF, QUADFF, HEXAT, OCTBF] ... \n",
      "\n",
      "\n",
      " ... Success! ... \n",
      "\n"
     ]
    }
   ],
   "source": [
    "# Load the Covariance Matrices\n",
    "\n",
    "CovMatrixSKA_50x50 = np.array(fm.cov_matrix_survey(d = dist[0], z_bins=z_bins, pixel_size=4, small_off_diagonal=True, rtol=1e-4, split=[50,50]))\n",
    "CovMatrixSKA_30x70 = np.array(fm.cov_matrix_survey(d = dist[0], z_bins=z_bins, pixel_size=4, small_off_diagonal=True, rtol=1e-4, split=[30,70]))\n",
    "CovMatrixSKA_70x30 = np.array(fm.cov_matrix_survey(d = dist[0], z_bins=z_bins, pixel_size=4, small_off_diagonal=True, rtol=1e-4, split=[70,30]))"
   ]
  },
  {
   "cell_type": "code",
   "execution_count": 4,
   "metadata": {},
   "outputs": [
    {
     "data": {
      "text/plain": [
       "(array([-0.,  0.,  0., -0., -0., -0., -0., -0.,  0.,  0.,  0.,  0., -0.,\n",
       "        -0.,  0.,  0.,  0., -0., -0.]),\n",
       " array([-0.,  0.,  0., -0., -0., -0., -0., -0.,  0.,  0., -0., -0.,  0.,\n",
       "        -0., -0., -0.,  0., -0., -0.]),\n",
       " array([ 0., -0., -0., -0., -0., -0., -0., -0.,  0., -0., -0.,  0.,  0.,\n",
       "        -0., -0., -0.,  0.,  0., -0.]))"
      ]
     },
     "execution_count": 4,
     "metadata": {},
     "output_type": "execute_result"
    }
   ],
   "source": [
    "np.linalg.det(CovMatrixSKA_50x50), np.linalg.det(CovMatrixSKA_30x70), np.linalg.det(CovMatrixSKA_70x30)"
   ]
  },
  {
   "cell_type": "code",
   "execution_count": 5,
   "metadata": {},
   "outputs": [
    {
     "name": "stdout",
     "output_type": "stream",
     "text": [
      "0 True True True\n",
      "1 True True True\n",
      "2 True True True\n",
      "3 True True True\n",
      "4 True True True\n",
      "5 True True True\n",
      "6 True True True\n",
      "7 True True True\n",
      "8 True True True\n",
      "9 True True True\n",
      "10 True True True\n",
      "11 True True True\n",
      "12 True True True\n",
      "13 True True True\n",
      "14 True True True\n",
      "15 True True True\n",
      "16 True True True\n",
      "17 True True True\n",
      "18 True True True\n"
     ]
    }
   ],
   "source": [
    "# Check if Cov Matrices are symmetric:\n",
    "\n",
    "for n, z in enumerate(z_bins):\n",
    "    print(n, np.allclose(CovMatrixSKA_50x50[n], CovMatrixSKA_50x50[n].T, rtol = 1e-20), \n",
    "          np.allclose(CovMatrixSKA_30x70[n], CovMatrixSKA_30x70[n].T, rtol = 1e-20),\n",
    "          np.allclose(CovMatrixSKA_70x30[n], CovMatrixSKA_70x30[n].T, rtol = 1e-20))\n"
   ]
  },
  {
   "cell_type": "code",
   "execution_count": 6,
   "metadata": {},
   "outputs": [
    {
     "name": "stdout",
     "output_type": "stream",
     "text": [
      "\n",
      " ... Loading Covariance Matrices [MONOBB, MONOBF, MONOFF, DIPBF, QUADBB, QUADBF, QUADFF, HEXAT, OCTBF] ... \n",
      "\n",
      "\n",
      " ... Removing small off-diagonal terms vs diagonal terms ... \n",
      "\n",
      "\n",
      " Relative difference = 1e-05 \n",
      "\n",
      "\n",
      " ... Success! ... \n",
      "\n",
      "\n",
      " ... Loading Covariance Matrices [MONOBB, MONOBF, MONOFF, DIPBF, QUADBB, QUADBF, QUADFF, HEXAT, OCTBF] ... \n",
      "\n",
      "\n",
      " ... Removing small off-diagonal terms vs diagonal terms ... \n",
      "\n",
      "\n",
      " Relative difference = 1e-05 \n",
      "\n",
      "\n",
      " ... Success! ... \n",
      "\n"
     ]
    }
   ],
   "source": [
    "# Setting small off-diagonal values to zero\n",
    "\n",
    "CovMatrixSKA_50x50_samll_offdiag_to_zero = fm.cov_matrix_survey(d = dist[0], z_bins=z_bins, pixel_size=4, small_off_diagonal=False, rtol=1e-5, split=[50,50])\n",
    "CovMatrixSKA_30x70_samll_offdiag_to_zero = fm.cov_matrix_survey(d = dist[0], z_bins=z_bins, pixel_size=4, small_off_diagonal=False, rtol=1e-5, split=[30,70])"
   ]
  },
  {
   "cell_type": "code",
   "execution_count": 7,
   "metadata": {},
   "outputs": [
    {
     "name": "stdout",
     "output_type": "stream",
     "text": [
      "0 True True\n",
      "1 True True\n",
      "2 True True\n",
      "3 True True\n",
      "4 True True\n",
      "5 True True\n",
      "6 True True\n",
      "7 True True\n",
      "8 True True\n",
      "9 True True\n",
      "10 True True\n",
      "11 True True\n",
      "12 True True\n",
      "13 True True\n",
      "14 True True\n",
      "15 True True\n",
      "16 True True\n",
      "17 True True\n",
      "18 True True\n"
     ]
    }
   ],
   "source": [
    "# Check if Cov Matrices are symmetric:\n",
    "\n",
    "for n, z in enumerate(z_bins):\n",
    "    print(n, np.allclose(CovMatrixSKA_50x50_samll_offdiag_to_zero[n], CovMatrixSKA_50x50_samll_offdiag_to_zero[n].T, rtol = 1e-20), np.allclose(CovMatrixSKA_30x70_samll_offdiag_to_zero[n], CovMatrixSKA_30x70_samll_offdiag_to_zero[n].T, rtol = 1e-20))"
   ]
  },
  {
   "cell_type": "code",
   "execution_count": 42,
   "metadata": {},
   "outputs": [
    {
     "name": "stdout",
     "output_type": "stream",
     "text": [
      "\n",
      " ... Loading Covariance Matrices [MONOBB, MONOBF, MONOFF, DIPBF, QUADBB, QUADBF, QUADFF, HEXAT, OCTBF] ... \n",
      "\n",
      "\n",
      " ... Computing the Inverse [MONOBB, MONOBF, MONOFF, DIPBF, QUADBB, QUADBF, QUADFF, HEXAT, OCTBF] ... \n",
      "\n",
      "\n",
      " ... Loading Covariance Matrices [MONOBB, MONOBF, MONOFF, DIPBF, QUADBB, QUADBF, QUADFF, HEXAT, OCTBF] ... \n",
      "\n",
      "\n",
      " ... Computing the Inverse [MONOBB, MONOBF, MONOFF, DIPBF, QUADBB, QUADBF, QUADFF, HEXAT, OCTBF] ... \n",
      "\n",
      "\n",
      " ... Loading Covariance Matrices [MONOBB, MONOBF, MONOFF, DIPBF, QUADBB, QUADBF, QUADFF, HEXAT, OCTBF] ... \n",
      "\n",
      "\n",
      " ... Computing the Inverse [MONOBB, MONOBF, MONOFF, DIPBF, QUADBB, QUADBF, QUADFF, HEXAT, OCTBF] ... \n",
      "\n"
     ]
    }
   ],
   "source": [
    "# Load the INVERSE covariance matrices\n",
    "\n",
    "Inv_CovMatrixSKA_50x50 = fm.inverse_cov_matrix_survey(d = dist[0], z_bins=z_bins, pixel_size=4, small_off_diagonal=True, rtol=1e-4, split=[50,50])\n",
    "Inv_CovMatrixSKA_30x70 = fm.inverse_cov_matrix_survey(d = dist[0], z_bins=z_bins, pixel_size=4, small_off_diagonal=True, rtol=1e-4, split=[30,70])\n",
    "Inv_CovMatrixSKA_70x30 = fm.inverse_cov_matrix_survey(d = dist[0], z_bins=z_bins, pixel_size=4, small_off_diagonal=True, rtol=1e-4, split=[70,30])"
   ]
  },
  {
   "cell_type": "code",
   "execution_count": 9,
   "metadata": {},
   "outputs": [
    {
     "name": "stdout",
     "output_type": "stream",
     "text": [
      "0 True True\n",
      "1 True True\n",
      "2 True True\n",
      "3 True True\n",
      "4 True True\n",
      "5 True True\n",
      "6 True True\n",
      "7 True True\n",
      "8 True True\n",
      "9 True True\n",
      "10 True True\n",
      "11 True True\n",
      "12 True True\n",
      "13 True True\n",
      "14 True True\n",
      "15 True True\n",
      "16 True True\n",
      "17 True True\n",
      "18 True True\n"
     ]
    }
   ],
   "source": [
    "# Check if Inverse Cov Matrices are symmetric:\n",
    "\n",
    "for n, z in enumerate(z_bins):\n",
    "    print(n, np.allclose(Inv_CovMatrixSKA_50x50[n], Inv_CovMatrixSKA_50x50[n].T, rtol = 1e-4), np.allclose(Inv_CovMatrixSKA_30x70[n], Inv_CovMatrixSKA_30x70[n].T, rtol = 1e-4))"
   ]
  },
  {
   "cell_type": "code",
   "execution_count": 10,
   "metadata": {},
   "outputs": [
    {
     "name": "stdout",
     "output_type": "stream",
     "text": [
      "0 True 0 True\n",
      "1 True 1 True\n",
      "2 True 2 True\n",
      "3 True 3 True\n",
      "4 True 4 True\n",
      "5 True 5 True\n",
      "6 True 6 True\n",
      "7 True 7 True\n",
      "8 True 8 True\n",
      "9 True 9 True\n",
      "10 True 10 True\n",
      "11 True 11 True\n",
      "12 True 12 True\n",
      "13 True 13 True\n",
      "14 True 14 True\n",
      "15 True 15 True\n",
      "16 True 16 True\n",
      "17 True 17 True\n",
      "18 True 18 True\n"
     ]
    }
   ],
   "source": [
    "Inv_CovMatrixSKA_50x50_hand = [np.linalg.inv(CovMatrixSKA_50x50[i]) for i,_ in enumerate(z_bins)]\n",
    "\n",
    "for n, z in enumerate(z_bins):\n",
    "    print(n, np.allclose(Inv_CovMatrixSKA_50x50[n], Inv_CovMatrixSKA_50x50_hand[n], rtol = 1e-20), n, np.allclose(Inv_CovMatrixSKA_50x50[n], Inv_CovMatrixSKA_50x50_hand[n].T, rtol = 1e-3))"
   ]
  },
  {
   "cell_type": "code",
   "execution_count": 11,
   "metadata": {},
   "outputs": [],
   "source": [
    "Higher_Prec_CovMatrixSKA_50x50 = [CovMatrixSKA_50x50[i].astype(np.float64) for i,_ in enumerate(z_bins)]"
   ]
  },
  {
   "cell_type": "code",
   "execution_count": 12,
   "metadata": {},
   "outputs": [],
   "source": [
    "Inv_Higher_Prec_CovMatrixSKA_50x50 = [np.linalg.inv(Higher_Prec_CovMatrixSKA_50x50[i]) for i,_ in enumerate(z_bins)]"
   ]
  },
  {
   "cell_type": "code",
   "execution_count": 13,
   "metadata": {},
   "outputs": [
    {
     "name": "stdout",
     "output_type": "stream",
     "text": [
      "0 True\n",
      "1 True\n",
      "2 True\n",
      "3 True\n",
      "4 True\n",
      "5 True\n",
      "6 True\n",
      "7 True\n",
      "8 True\n",
      "9 True\n",
      "10 True\n",
      "11 True\n",
      "12 True\n",
      "13 True\n",
      "14 True\n",
      "15 True\n",
      "16 True\n",
      "17 True\n",
      "18 True\n"
     ]
    }
   ],
   "source": [
    "for n, z in enumerate(z_bins):\n",
    "    print(n, np.allclose(Inv_Higher_Prec_CovMatrixSKA_50x50[n], Inv_Higher_Prec_CovMatrixSKA_50x50[n].T, rtol = 1e-3))"
   ]
  },
  {
   "cell_type": "markdown",
   "metadata": {},
   "source": [
    "# Joint Covariance Matrix 50x30 [CC ONLY]"
   ]
  },
  {
   "cell_type": "markdown",
   "metadata": {},
   "source": [
    "## Check Cauchy-Schwarz inequality  \n",
    "\n",
    "The Cauchy-Schwarz inequality implies:\n",
    "\n",
    "$$ \\mathrm{COV}(X,Y) \\leq \\sqrt{\\mathrm{VAR}(X)\\cdot\\mathrm{VAR}(Y)}$$"
   ]
  },
  {
   "cell_type": "code",
   "execution_count": 14,
   "metadata": {},
   "outputs": [
    {
     "name": "stdout",
     "output_type": "stream",
     "text": [
      "\n",
      " ... Loading Covariance Matrices (Joint-splittings Analysis) [CC] [MONOBB, MONOBF, MONOFF, DIPBF, QUADBB, QUADBF, QUADFF, HEXAT, OCTBF] ... \n",
      "\n"
     ]
    }
   ],
   "source": [
    "CovMatrixSKA_joint = fm.cov_matrix_joint(d=dist[0], z_bins=z_bins, small_off_diagonal=True, rtol=1e-4, splits=[50,30], contributions='CC')"
   ]
  },
  {
   "cell_type": "code",
   "execution_count": 15,
   "metadata": {},
   "outputs": [
    {
     "name": "stdout",
     "output_type": "stream",
     "text": [
      "0 True\n",
      "1 True\n",
      "2 True\n",
      "3 True\n",
      "4 True\n",
      "5 True\n",
      "6 True\n",
      "7 True\n",
      "8 True\n",
      "9 True\n",
      "10 True\n",
      "11 True\n",
      "12 True\n",
      "13 True\n",
      "14 True\n",
      "15 True\n",
      "16 True\n",
      "17 True\n",
      "18 True\n"
     ]
    }
   ],
   "source": [
    "for n, z in enumerate(z_bins):\n",
    "    print(n, np.allclose(CovMatrixSKA_joint[n], CovMatrixSKA_joint[n].T, rtol = 1e-20))"
   ]
  },
  {
   "cell_type": "code",
   "execution_count": 16,
   "metadata": {},
   "outputs": [
    {
     "data": {
      "text/plain": [
       "((19, 324, 324), (19, 324, 324), (19, 648, 648))"
      ]
     },
     "execution_count": 16,
     "metadata": {},
     "output_type": "execute_result"
    }
   ],
   "source": [
    "np.shape(CovMatrixSKA_50x50), np.shape(CovMatrixSKA_30x70), np.shape(CovMatrixSKA_joint)"
   ]
  },
  {
   "cell_type": "code",
   "execution_count": 17,
   "metadata": {},
   "outputs": [],
   "source": [
    "CovMatrixSKA_50x30 = np.array([CovMatrixSKA_joint[k][:324, 324:] for k,_ in enumerate(z_bins)])\n",
    "CovMatrixSKA_30x50 = np.array([CovMatrixSKA_joint[k][324:, :324] for k,_ in enumerate(z_bins)])"
   ]
  },
  {
   "cell_type": "code",
   "execution_count": 18,
   "metadata": {},
   "outputs": [
    {
     "data": {
      "text/plain": [
       "((19, 324, 324), (19, 324, 324))"
      ]
     },
     "execution_count": 18,
     "metadata": {},
     "output_type": "execute_result"
    }
   ],
   "source": [
    "np.shape(CovMatrixSKA_50x30), np.shape(CovMatrixSKA_30x50)"
   ]
  },
  {
   "cell_type": "code",
   "execution_count": 19,
   "metadata": {},
   "outputs": [
    {
     "name": "stdout",
     "output_type": "stream",
     "text": [
      "0 True True\n",
      "1 True True\n",
      "2 True True\n",
      "3 True True\n",
      "4 True True\n",
      "5 True True\n",
      "6 True True\n",
      "7 True True\n",
      "8 True True\n",
      "9 True True\n",
      "10 True True\n",
      "11 True True\n",
      "12 True True\n",
      "13 True True\n",
      "14 True True\n",
      "15 True True\n",
      "16 True True\n",
      "17 True True\n",
      "18 True True\n"
     ]
    }
   ],
   "source": [
    "for n, z in enumerate(z_bins):\n",
    "    print(n, np.allclose(CovMatrixSKA_50x30[n], CovMatrixSKA_30x50[n].T, rtol=1e-10), np.allclose(CovMatrixSKA_30x50[n], CovMatrixSKA_50x30[n].T, rtol = 1e-10))"
   ]
  },
  {
   "cell_type": "code",
   "execution_count": 20,
   "metadata": {},
   "outputs": [
    {
     "name": "stdout",
     "output_type": "stream",
     "text": [
      "0 True\n",
      "1 True\n",
      "2 True\n",
      "3 True\n",
      "4 True\n",
      "5 True\n",
      "6 True\n",
      "7 True\n",
      "8 True\n",
      "9 True\n",
      "10 True\n",
      "11 True\n",
      "12 True\n",
      "13 True\n",
      "14 True\n",
      "15 True\n",
      "16 True\n",
      "17 True\n",
      "18 True\n"
     ]
    }
   ],
   "source": [
    "for n, z in enumerate(z_bins):\n",
    "    print(n, np.allclose(CovMatrixSKA_joint[n], CovMatrixSKA_joint[n].T, rtol=1e-20))"
   ]
  },
  {
   "cell_type": "code",
   "execution_count": 21,
   "metadata": {},
   "outputs": [
    {
     "data": {
      "text/plain": [
       "((19, 324, 324), (19, 324, 324))"
      ]
     },
     "execution_count": 21,
     "metadata": {},
     "output_type": "execute_result"
    }
   ],
   "source": [
    "np.shape(CovMatrixSKA_50x30), np.shape(CovMatrixSKA_30x50)"
   ]
  },
  {
   "cell_type": "code",
   "execution_count": 22,
   "metadata": {},
   "outputs": [
    {
     "data": {
      "text/plain": [
       "(1.759172859468612e-05, 1.759172859468612e-05)"
      ]
     },
     "execution_count": 22,
     "metadata": {},
     "output_type": "execute_result"
    }
   ],
   "source": [
    "CovMatrixSKA_50x30[0,0,0], CovMatrixSKA_30x50[0,0,0]"
   ]
  },
  {
   "cell_type": "code",
   "execution_count": 23,
   "metadata": {},
   "outputs": [
    {
     "data": {
      "text/plain": [
       "(1.1406613424594502e-05, 2.728761334220845e-05)"
      ]
     },
     "execution_count": 23,
     "metadata": {},
     "output_type": "execute_result"
    }
   ],
   "source": [
    "CovMatrixSKA_50x50[0,0,0], CovMatrixSKA_30x70[0,0,0]"
   ]
  },
  {
   "cell_type": "code",
   "execution_count": 24,
   "metadata": {},
   "outputs": [
    {
     "data": {
      "text/plain": [
       "(-4.190495416728882e-09, -4.190495416728882e-09)"
      ]
     },
     "execution_count": 24,
     "metadata": {},
     "output_type": "execute_result"
    }
   ],
   "source": [
    "CovMatrixSKA_50x30[0,17,267], CovMatrixSKA_30x50[0,267,17]"
   ]
  },
  {
   "cell_type": "code",
   "execution_count": 25,
   "metadata": {},
   "outputs": [
    {
     "data": {
      "text/plain": [
       "(-4.188698962835081e-09, -5.405294849542528e-09)"
      ]
     },
     "execution_count": 25,
     "metadata": {},
     "output_type": "execute_result"
    }
   ],
   "source": [
    "CovMatrixSKA_50x50[0,17,267], CovMatrixSKA_30x70[0,267,17]"
   ]
  },
  {
   "cell_type": "markdown",
   "metadata": {},
   "source": [
    "## Checking directly from Joint Cov Matrix 50x30\n",
    "\n",
    "Compare off diagonal elements (covariances) versus the correspondent diagonal ones (variances)."
   ]
  },
  {
   "cell_type": "code",
   "execution_count": 26,
   "metadata": {},
   "outputs": [
    {
     "data": {
      "text/plain": [
       "((19, 648, 648), list)"
      ]
     },
     "execution_count": 26,
     "metadata": {},
     "output_type": "execute_result"
    }
   ],
   "source": [
    "np.shape(CovMatrixSKA_joint), type(CovMatrixSKA_joint)"
   ]
  },
  {
   "cell_type": "code",
   "execution_count": 27,
   "metadata": {},
   "outputs": [
    {
     "data": {
      "text/plain": [
       "324"
      ]
     },
     "execution_count": 27,
     "metadata": {},
     "output_type": "execute_result"
    }
   ],
   "source": [
    "36*9"
   ]
  },
  {
   "cell_type": "code",
   "execution_count": 28,
   "metadata": {},
   "outputs": [
    {
     "name": "stdout",
     "output_type": "stream",
     "text": [
      " Monopole BB (d=d), 50x50 =  1.1406613424594502e-05 \n",
      " Monopole BB (d=d), 30x70 =  2.728761334220845e-05\n"
     ]
    }
   ],
   "source": [
    "print(' Monopole BB (d=d), 50x50 = ', CovMatrixSKA_joint[0][0,0],'\\n','Monopole BB (d=d), 30x70 = ', CovMatrixSKA_joint[0][324,324] ) "
   ]
  },
  {
   "cell_type": "code",
   "execution_count": 29,
   "metadata": {},
   "outputs": [
    {
     "name": "stdout",
     "output_type": "stream",
     "text": [
      " Monopole BB (d=d), 50x30 =  1.759172859468612e-05 \n",
      " Monopole BB (d=d), 30x50 =  1.759172859468612e-05\n"
     ]
    }
   ],
   "source": [
    "print(' Monopole BB (d=d), 50x30 = ', CovMatrixSKA_joint[0][0,324],'\\n', 'Monopole BB (d=d), 30x50 = ', CovMatrixSKA_joint[0][324,0] ) "
   ]
  },
  {
   "cell_type": "code",
   "execution_count": 30,
   "metadata": {},
   "outputs": [
    {
     "name": "stdout",
     "output_type": "stream",
     "text": [
      "0.15 True True\n",
      "0.25 True True\n",
      "0.35 True True\n",
      "0.45 True True\n",
      "0.55 True True\n",
      "0.65 True True\n",
      "0.75 True True\n",
      "0.85 True True\n",
      "0.95 True True\n",
      "1.05 True True\n",
      "1.15 True True\n",
      "1.25 True True\n",
      "1.35 True True\n",
      "1.45 True True\n",
      "1.55 True True\n",
      "1.65 True True\n",
      "1.75 True True\n",
      "1.85 True True\n",
      "1.95 True True\n"
     ]
    }
   ],
   "source": [
    "for k,_ in enumerate(z_bins):\n",
    "    print(z_bins[k], np.sqrt(CovMatrixSKA_joint[k][0,0] * CovMatrixSKA_joint[k][324,324]) >= CovMatrixSKA_joint[k][0,324], np.sqrt(CovMatrixSKA_joint[k][0,0] * CovMatrixSKA_joint[k][324,324]) >= CovMatrixSKA_joint[k][324,0])"
   ]
  },
  {
   "cell_type": "code",
   "execution_count": 31,
   "metadata": {},
   "outputs": [
    {
     "name": "stdout",
     "output_type": "stream",
     "text": [
      "0.15 1.764254110592856e-05 1.759172859468612e-05\n",
      "0.25 7.014350303522421e-06 6.98731530466759e-06\n",
      "0.35 3.904079159778656e-06 3.882676937714368e-06\n",
      "0.45 2.5784765980908824e-06 2.5574319017803916e-06\n",
      "0.55 1.8931986511136867e-06 1.869507799160479e-06\n",
      "0.65 1.4969289169443364e-06 1.4681771688573775e-06\n",
      "0.75 1.2532721988093958e-06 1.216178869326269e-06\n",
      "0.85 1.1007803772214066e-06 1.0506751825877635e-06\n",
      "0.95 1.0104386161984314e-06 9.39593695752212e-07\n",
      "1.05 9.703620669081107e-07 8.652478347707248e-07\n",
      "1.15 9.797925594098938e-07 8.173506398847174e-07\n",
      "1.25 1.0534917202039827e-06 7.897336639125897e-07\n",
      "1.35 1.2326007500359773e-06 7.78689068985697e-07\n",
      "1.45 1.6096843827924573e-06 7.820860328394859e-07\n",
      "1.55 2.436372271029366e-06 7.988845722374413e-07\n",
      "1.65 4.3288471808299055e-06 8.288678072612618e-07\n",
      "1.75 8.978984214121797e-06 8.725032747637349e-07\n",
      "1.85 2.1513371013254955e-05 9.30887290652136e-07\n",
      "1.95 5.784949838880617e-05 1.0057488058441292e-06\n"
     ]
    }
   ],
   "source": [
    "for k,_ in enumerate(z_bins):\n",
    "    print(z_bins[k], np.sqrt(CovMatrixSKA_joint[k][0,0] * CovMatrixSKA_joint[k][324,324]), CovMatrixSKA_joint[k][0,324])"
   ]
  },
  {
   "cell_type": "code",
   "execution_count": 32,
   "metadata": {},
   "outputs": [
    {
     "name": "stdout",
     "output_type": "stream",
     "text": [
      " MonoBQuadBF (d=d), 50x50 =  1.9425535215326826e-06 \n",
      " MonoBQuadBF (d=d) (d=d), 30x70 =  4.3165840334060815e-06\n",
      " Monopole BB (d=d), 50x30 =  2.889255939893926e-06 \n",
      " Monopole BB (d=d), 30x50 =  2.889255939893926e-06\n"
     ]
    }
   ],
   "source": [
    "print(' MonoBQuadBF (d=d), 50x50 = ', CovMatrixSKA_joint[0][179,179],'\\n','MonoBQuadBF (d=d) (d=d), 30x70 = ', CovMatrixSKA_joint[0][179+324,179+324] )\n",
    "print(' Monopole BB (d=d), 50x30 = ', CovMatrixSKA_joint[0][179,179+324],'\\n', 'Monopole BB (d=d), 30x50 = ', CovMatrixSKA_joint[0][179+324,179] )  "
   ]
  },
  {
   "cell_type": "code",
   "execution_count": 33,
   "metadata": {},
   "outputs": [
    {
     "name": "stdout",
     "output_type": "stream",
     "text": [
      "True True\n",
      "True True\n",
      "True True\n",
      "True True\n",
      "True True\n",
      "True True\n",
      "True True\n",
      "True True\n",
      "True True\n",
      "True True\n",
      "True True\n",
      "True True\n",
      "True True\n",
      "True True\n",
      "True True\n",
      "True True\n",
      "True True\n",
      "True True\n",
      "True True\n"
     ]
    }
   ],
   "source": [
    "for k,_ in enumerate(z_bins):\n",
    "    print(np.sqrt(CovMatrixSKA_joint[k][179,179] * CovMatrixSKA_joint[k][179+324,179+324]) >= CovMatrixSKA_joint[k][179,179+324], \n",
    "          np.sqrt(CovMatrixSKA_joint[k][179,179] * CovMatrixSKA_joint[k][179+324,179+324]) >= CovMatrixSKA_joint[k][324+179,179])"
   ]
  },
  {
   "cell_type": "code",
   "execution_count": 34,
   "metadata": {},
   "outputs": [
    {
     "data": {
      "text/plain": [
       "324"
      ]
     },
     "execution_count": 34,
     "metadata": {},
     "output_type": "execute_result"
    }
   ],
   "source": [
    "len(CovMatrixSKA_50x50[0])"
   ]
  },
  {
   "cell_type": "code",
   "execution_count": 35,
   "metadata": {},
   "outputs": [
    {
     "name": "stdout",
     "output_type": "stream",
     "text": [
      " Element (d=d), 50x50 =  1.2444286340731441e-08 \n",
      " Element (d=d), 30x70 =  1.563436441154079e-08\n",
      " Element (d=d), 50x30 =  2.1011076877245555e-10 \n",
      " Element (d=d), 30x50 =  2.1011076877245555e-10 \n",
      "\n",
      "Check COV(X,Y)^2 <= SQRT(VAR(X) * VAR(Y)) \n",
      "\n",
      "True True\n",
      "True True\n",
      "True True\n",
      "True True\n",
      "True True\n",
      "True True\n",
      "True True\n",
      "True True\n",
      "True True\n",
      "True True\n",
      "True True\n",
      "True True\n",
      "True True\n",
      "True True\n",
      "True True\n",
      "True True\n",
      "True True\n",
      "True True\n",
      "True True\n"
     ]
    }
   ],
   "source": [
    "i_element = 288\n",
    "j_element = i_element\n",
    "l = len(CovMatrixSKA_50x50[0])\n",
    "\n",
    "print(' Element (d=d), 50x50 = ', CovMatrixSKA_joint[0][i_element,j_element],'\\n','Element (d=d), 30x70 = ', CovMatrixSKA_joint[0][i_element+l,j_element+l] )\n",
    "print(' Element (d=d), 50x30 = ', CovMatrixSKA_joint[0][i_element,j_element+l],'\\n', 'Element (d=d), 30x50 = ', CovMatrixSKA_joint[0][i_element+l,j_element],'\\n' )  \n",
    "\n",
    "print('Check COV(X,Y)^2 <= SQRT(VAR(X) * VAR(Y)) \\n')\n",
    "for k,_ in enumerate(z_bins):\n",
    "    print(np.sqrt(CovMatrixSKA_joint[k][i_element,j_element] * CovMatrixSKA_joint[k][i_element+l,j_element+l]) >= CovMatrixSKA_joint[k][i_element,j_element+l], \n",
    "          np.sqrt(CovMatrixSKA_joint[k][i_element,j_element] * CovMatrixSKA_joint[k][i_element+l,j_element+l]) >= CovMatrixSKA_joint[k][i_element+l,j_element])"
   ]
  },
  {
   "cell_type": "code",
   "execution_count": 36,
   "metadata": {},
   "outputs": [
    {
     "name": "stdout",
     "output_type": "stream",
     "text": [
      " Element (d=d), 50x50 =  6.551780712795955e-08 \n",
      " Element (d=d), 30x70 =  1.6800215155336124e-07\n",
      " Element (d=d), 50x30 =  1.0369842895878622e-07 \n",
      " Element (d=d), 30x50 =  1.0369842895878622e-07 \n",
      "\n",
      "Check COV(X,Y)^2 <= SQRT(VAR(X) * VAR(Y)) \n",
      "\n",
      "True True\n",
      "True True\n",
      "True True\n",
      "True True\n",
      "True True\n",
      "True True\n",
      "True True\n",
      "True True\n",
      "True True\n",
      "True True\n",
      "True True\n",
      "True True\n",
      "True True\n",
      "True True\n",
      "True True\n",
      "True True\n",
      "True True\n",
      "True True\n",
      "True True\n"
     ]
    }
   ],
   "source": [
    "i_element = 56\n",
    "j_element = i_element\n",
    "l = len(CovMatrixSKA_50x50[0])\n",
    "\n",
    "print(' Element (d=d), 50x50 = ', CovMatrixSKA_joint[0][i_element,j_element],'\\n','Element (d=d), 30x70 = ', CovMatrixSKA_joint[0][i_element+l,j_element+l] )\n",
    "print(' Element (d=d), 50x30 = ', CovMatrixSKA_joint[0][i_element,j_element+l],'\\n', 'Element (d=d), 30x50 = ', CovMatrixSKA_joint[0][i_element+l,j_element],'\\n' )  \n",
    "\n",
    "print('Check COV(X,Y)^2 <= SQRT(VAR(X) * VAR(Y)) \\n')\n",
    "for k,_ in enumerate(z_bins):\n",
    "    print(np.sqrt(CovMatrixSKA_joint[k][i_element,j_element] * CovMatrixSKA_joint[k][i_element+l,j_element+l]) >= CovMatrixSKA_joint[k][i_element,j_element+l], \n",
    "          np.sqrt(CovMatrixSKA_joint[k][i_element,j_element] * CovMatrixSKA_joint[k][i_element+l,j_element+l]) >= CovMatrixSKA_joint[k][i_element+l,j_element])"
   ]
  },
  {
   "cell_type": "code",
   "execution_count": 37,
   "metadata": {},
   "outputs": [
    {
     "name": "stdout",
     "output_type": "stream",
     "text": [
      "5.093876193886468e-07 1.0577598333198072e-06\n",
      "5.353246240816097e-08 5.353246240816097e-08\n"
     ]
    }
   ],
   "source": [
    "print(CovMatrixSKA_50x50[0][24,24], CovMatrixSKA_50x50[0][36,36])\n",
    "print(CovMatrixSKA_50x50[0][24,36], CovMatrixSKA_50x50[0][36,24])"
   ]
  },
  {
   "cell_type": "code",
   "execution_count": 38,
   "metadata": {},
   "outputs": [
    {
     "name": "stdout",
     "output_type": "stream",
     "text": [
      "z =  0.15 | check:  True\n",
      "z =  0.25 | check:  True\n",
      "z =  0.35 | check:  True\n",
      "z =  0.45 | check:  True\n",
      "z =  0.55 | check:  True\n",
      "z =  0.65 | check:  True\n",
      "z =  0.75 | check:  True\n",
      "z =  0.85 | check:  True\n",
      "z =  0.95 | check:  True\n",
      "z =  1.05 | check:  True\n",
      "z =  1.15 | check:  True\n",
      "z =  1.25 | check:  True\n",
      "z =  1.35 | check:  True\n",
      "z =  1.45 | check:  True\n",
      "z =  1.55 | check:  True\n",
      "z =  1.65 | check:  True\n",
      "z =  1.75 | check:  True\n",
      "z =  1.85 | check:  True\n",
      "z =  1.95 | check:  True\n"
     ]
    }
   ],
   "source": [
    "for k,_ in enumerate(z_bins):\n",
    "    print('z = ',_, '| check: ', CovMatrixSKA_50x50[k][10,25]**2 <= CovMatrixSKA_50x50[k][10,10]*CovMatrixSKA_50x50[k][25,25])"
   ]
  },
  {
   "cell_type": "code",
   "execution_count": 39,
   "metadata": {},
   "outputs": [
    {
     "name": "stdout",
     "output_type": "stream",
     "text": [
      "z =  0.15 | check:  True\n",
      "z =  0.25 | check:  True\n",
      "z =  0.35 | check:  True\n",
      "z =  0.45 | check:  True\n",
      "z =  0.55 | check:  True\n",
      "z =  0.65 | check:  True\n",
      "z =  0.75 | check:  True\n",
      "z =  0.85 | check:  True\n",
      "z =  0.95 | check:  True\n",
      "z =  1.05 | check:  True\n",
      "z =  1.15 | check:  True\n",
      "z =  1.25 | check:  True\n",
      "z =  1.35 | check:  True\n",
      "z =  1.45 | check:  True\n",
      "z =  1.55 | check:  True\n",
      "z =  1.65 | check:  True\n",
      "z =  1.75 | check:  True\n",
      "z =  1.85 | check:  True\n",
      "z =  1.95 | check:  True\n"
     ]
    }
   ],
   "source": [
    "for k,_ in enumerate(z_bins):\n",
    "    print('z = ',_, '| check: ', CovMatrixSKA_30x70[k][18,30]**2 <= CovMatrixSKA_30x70[k][18,18]*CovMatrixSKA_30x70[k][30,30])"
   ]
  },
  {
   "cell_type": "markdown",
   "metadata": {},
   "source": [
    "## Signal-to-noise"
   ]
  },
  {
   "cell_type": "code",
   "execution_count": 40,
   "metadata": {},
   "outputs": [],
   "source": [
    "splits = [2., 10/3.]\n",
    "\n",
    "mySignals = [Signal(solver=Solver(zs=[0], **params_dict0), n_split=m) for m in splits]\n"
   ]
  },
  {
   "cell_type": "code",
   "execution_count": 41,
   "metadata": {},
   "outputs": [
    {
     "data": {
      "text/plain": [
       "(2, 3, 19, 36)"
      ]
     },
     "execution_count": 41,
     "metadata": {},
     "output_type": "execute_result"
    }
   ],
   "source": [
    "d = np.linspace(20,160,36)\n",
    "z_bins = np.linspace(0.15, 1.95, 19)\n",
    "\n",
    "monopole_sigs = [mySignals[k]._monopole(d=d, z=z_bins) for k,_ in enumerate(splits)]\n",
    "\n",
    "np.shape(monopole_sigs)"
   ]
  },
  {
   "cell_type": "code",
   "execution_count": 42,
   "metadata": {},
   "outputs": [],
   "source": [
    "monopoleBB_signal = [monopole_sigs[k][0] for k,_ in enumerate(splits)]"
   ]
  },
  {
   "cell_type": "code",
   "execution_count": 43,
   "metadata": {},
   "outputs": [],
   "source": [
    "VarMONO_50x50 = [CovMatrixSKA_50x50[k,:36,:36] for k,_ in  enumerate(z_bins)]\n",
    "VarMONO_30x70 = [CovMatrixSKA_30x70[k,:36,:36] for k,_ in  enumerate(z_bins)]\n",
    "#VarMONO_10x90 = [CovMatrixSKA_10x90[k,:36,:36] for k,_ in  enumerate(z_bins)]"
   ]
  },
  {
   "cell_type": "code",
   "execution_count": 44,
   "metadata": {},
   "outputs": [
    {
     "name": "stdout",
     "output_type": "stream",
     "text": [
      "\n",
      " ... Computing the S/N ... \n",
      "\n",
      "Signal & Cov must be given as functions (z,d) and (z,d,d') respectively. \n",
      "\n",
      "--------------------------------------------------\n",
      "\n",
      " Individual SNRs: \n",
      "\n",
      "Bin 1: 58.77421213378112\n",
      "Bin 2: 89.48345521707645\n",
      "Bin 3: 114.76519820946098\n",
      "Bin 4: 134.716436740866\n",
      "Bin 5: 149.53509304639073\n",
      "Bin 6: 159.5306944397853\n",
      "Bin 7: 164.89350644693744\n",
      "Bin 8: 165.8820114819602\n",
      "Bin 9: 162.66901920794453\n",
      "Bin 10: 155.44381004466567\n",
      "Bin 11: 144.78901213682857\n",
      "Bin 12: 131.1870337188347\n",
      "Bin 13: 115.31104126390467\n",
      "Bin 14: 98.24887356301002\n",
      "Bin 15: 80.54138755170176\n",
      "Bin 16: 63.4308923544652\n",
      "Bin 17: 47.776283841079085\n",
      "Bin 18: 34.10909687634405\n",
      "Bin 19: 23.019044873900647\n",
      "\n",
      "--------------------------------------------------\n",
      "\n",
      " Cumulative SNR : 521.0877057700761 \n",
      "\n",
      "--------------------------------------------------\n"
     ]
    }
   ],
   "source": [
    "from fishermat import signal_to_noise\n",
    "\n",
    "#covs = [ VarMONO_50x50, VarMONO_30x70, VarMONO_10x90 ]\n",
    "\n",
    "covs = [ VarMONO_50x50, VarMONO_30x70 ]\n",
    "\n",
    "\n",
    "cumSNR, SNRz = signal_to_noise(monopoleBB_signal[0], covs[0])"
   ]
  },
  {
   "cell_type": "code",
   "execution_count": 45,
   "metadata": {},
   "outputs": [
    {
     "name": "stdout",
     "output_type": "stream",
     "text": [
      "\n",
      " ... Computing the S/N ... \n",
      "\n",
      "Signal & Cov must be given as functions (z,d) and (z,d,d') respectively. \n",
      "\n",
      "--------------------------------------------------\n",
      "\n",
      " Individual SNRs: \n",
      "\n",
      "Bin 1: 58.77421213378112\n",
      "Bin 2: 89.48345521707645\n",
      "Bin 3: 114.76519820946098\n",
      "Bin 4: 134.716436740866\n",
      "Bin 5: 149.53509304639073\n",
      "Bin 6: 159.5306944397853\n",
      "Bin 7: 164.89350644693744\n",
      "Bin 8: 165.8820114819602\n",
      "Bin 9: 162.66901920794453\n",
      "Bin 10: 155.44381004466567\n",
      "Bin 11: 144.78901213682857\n",
      "Bin 12: 131.1870337188347\n",
      "Bin 13: 115.31104126390467\n",
      "Bin 14: 98.24887356301002\n",
      "Bin 15: 80.54138755170176\n",
      "Bin 16: 63.4308923544652\n",
      "Bin 17: 47.776283841079085\n",
      "Bin 18: 34.10909687634405\n",
      "Bin 19: 23.019044873900647\n",
      "\n",
      "--------------------------------------------------\n",
      "\n",
      " Cumulative SNR : 521.0877057700761 \n",
      "\n",
      "--------------------------------------------------\n",
      "\n",
      " ... Computing the S/N ... \n",
      "\n",
      "Signal & Cov must be given as functions (z,d) and (z,d,d') respectively. \n",
      "\n",
      "--------------------------------------------------\n",
      "\n",
      " Individual SNRs: \n",
      "\n",
      "Bin 1: 50.28178239585822\n",
      "Bin 2: 77.28386120780625\n",
      "Bin 3: 99.94384383703023\n",
      "Bin 4: 118.14879038634017\n",
      "Bin 5: 131.8991068742575\n",
      "Bin 6: 141.3342362617081\n",
      "Bin 7: 146.50331386386273\n",
      "Bin 8: 147.5527542174896\n",
      "Bin 9: 144.5738848781501\n",
      "Bin 10: 137.71164761165207\n",
      "Bin 11: 127.54537910975058\n",
      "Bin 12: 114.5861151337434\n",
      "Bin 13: 99.55861983509341\n",
      "Bin 14: 83.59206824288859\n",
      "Bin 15: 67.27752849069671\n",
      "Bin 16: 51.838866094911715\n",
      "Bin 17: 38.08140791564808\n",
      "Bin 18: 26.451653840838368\n",
      "Bin 19: 17.35910008018916\n",
      "\n",
      "--------------------------------------------------\n",
      "\n",
      " Cumulative SNR : 457.03933585531564 \n",
      "\n",
      "--------------------------------------------------\n"
     ]
    }
   ],
   "source": [
    "for k,_ in enumerate(splits):\n",
    "    cumSNR, SNRz = signal_to_noise(monopoleBB_signal[k], covs[k])"
   ]
  },
  {
   "cell_type": "markdown",
   "metadata": {},
   "source": [
    "## Test Fisher Matrix"
   ]
  },
  {
   "cell_type": "markdown",
   "metadata": {},
   "source": [
    "### Load the derivatives"
   ]
  },
  {
   "cell_type": "code",
   "execution_count": 46,
   "metadata": {},
   "outputs": [],
   "source": [
    "with open('derivatives.pkl', 'rb') as File:\n",
    "    derivatives_dict = pk.load(File)\n",
    "    \n",
    "derivatives_50x50 = derivatives_dict['split_50x50']\n",
    "derivatives_30x70 = derivatives_dict['split_30x70']"
   ]
  },
  {
   "cell_type": "code",
   "execution_count": 47,
   "metadata": {},
   "outputs": [
    {
     "data": {
      "text/plain": [
       "((8, 19, 324), (4, 19, 324), (5, 19, 324), (4, 19, 324))"
      ]
     },
     "execution_count": 47,
     "metadata": {},
     "output_type": "execute_result"
    }
   ],
   "source": [
    "dsignal_dsbias50 = derivatives_50x50['dsignal_dsbias']\n",
    "\n",
    "dsignal_dgbias50_ = derivatives_50x50['dsignal_dgbias']\n",
    "\n",
    "dsignal_dcosmic50 = derivatives_50x50['dsignal_dcosmic']\n",
    "\n",
    "dsignal_dnum50 = derivatives_50x50['dsignal_dnumev']\n",
    "\n",
    "np.shape(dsignal_dsbias50), np.shape(dsignal_dgbias50_), np.shape(dsignal_dcosmic50), np.shape(dsignal_dnum50)"
   ]
  },
  {
   "cell_type": "code",
   "execution_count": 48,
   "metadata": {},
   "outputs": [
    {
     "data": {
      "text/plain": [
       "((8, 19, 324), (4, 19, 324), (5, 19, 324), (4, 19, 324))"
      ]
     },
     "execution_count": 48,
     "metadata": {},
     "output_type": "execute_result"
    }
   ],
   "source": [
    "dsignal_dsbias30 = derivatives_30x70['dsignal_dsbias']\n",
    "\n",
    "dsignal_dgbias30_ = derivatives_30x70['dsignal_dgbias']\n",
    "\n",
    "dsignal_dcosmic30 = derivatives_30x70['dsignal_dcosmic']\n",
    "\n",
    "dsignal_dnum30 = derivatives_30x70['dsignal_dnumev']\n",
    "\n",
    "np.shape(dsignal_dsbias30), np.shape(dsignal_dgbias30_), np.shape(dsignal_dcosmic30), np.shape(dsignal_dnum30)"
   ]
  },
  {
   "cell_type": "code",
   "execution_count": 49,
   "metadata": {},
   "outputs": [
    {
     "data": {
      "text/plain": [
       "(21, 19, 324)"
      ]
     },
     "execution_count": 49,
     "metadata": {},
     "output_type": "execute_result"
    }
   ],
   "source": [
    "dsignal_dtheta50 = np.concatenate([dsignal_dsbias50, dsignal_dnum50, dsignal_dgbias50_, dsignal_dcosmic50])\n",
    "\n",
    "np.shape(dsignal_dtheta50)"
   ]
  },
  {
   "cell_type": "code",
   "execution_count": 50,
   "metadata": {},
   "outputs": [
    {
     "data": {
      "text/plain": [
       "(21, 19, 324)"
      ]
     },
     "execution_count": 50,
     "metadata": {},
     "output_type": "execute_result"
    }
   ],
   "source": [
    "dsignal_dtheta30 = np.concatenate([dsignal_dsbias30, dsignal_dnum30, dsignal_dgbias30_, dsignal_dcosmic30])\n",
    "\n",
    "np.shape(dsignal_dtheta30)"
   ]
  },
  {
   "cell_type": "code",
   "execution_count": 51,
   "metadata": {},
   "outputs": [],
   "source": [
    "dsignal_dsB50 = np.concatenate([dsignal_dsbias50[:4], np.zeros_like(dsignal_dsbias50[:4])], axis=2)\n",
    "dsignal_dsB30 = np.concatenate([np.zeros_like(dsignal_dsbias30[:4]), dsignal_dsbias30[:4]], axis=2)\n",
    "\n",
    "dsignal_dsM = np.concatenate([dsignal_dsbias50[4:], dsignal_dsbias30[4:]], axis=2)\n",
    "dsignal_dnum = np.concatenate([dsignal_dnum50, dsignal_dnum30], axis=2)\n",
    "dsignal_dgbias50 = np.concatenate([dsignal_dgbias50_, np.zeros_like(dsignal_dgbias50_[:4])], axis=2)\n",
    "dsignal_dgbias30 = np.concatenate([np.zeros_like(dsignal_dgbias30_[:4]), dsignal_dgbias30_], axis=2)\n",
    "dsignal_dcosmic = np.concatenate([dsignal_dcosmic50, dsignal_dcosmic30], axis=2)"
   ]
  },
  {
   "cell_type": "code",
   "execution_count": 52,
   "metadata": {},
   "outputs": [
    {
     "data": {
      "text/plain": [
       "(29, 19, 648)"
      ]
     },
     "execution_count": 52,
     "metadata": {},
     "output_type": "execute_result"
    }
   ],
   "source": [
    "dsignal_dtheta_multi = np.concatenate([dsignal_dsB50, dsignal_dsB30, dsignal_dsM, dsignal_dnum, dsignal_dgbias50, dsignal_dgbias30, dsignal_dcosmic])\n",
    "\n",
    "np.shape(dsignal_dtheta_multi)"
   ]
  },
  {
   "cell_type": "markdown",
   "metadata": {},
   "source": [
    "## Cosmic Parameters Fisher Matrices"
   ]
  },
  {
   "cell_type": "code",
   "execution_count": 53,
   "metadata": {},
   "outputs": [
    {
     "data": {
      "text/plain": [
       "((19, 324, 324), (19, 324, 324), (19, 648, 648))"
      ]
     },
     "execution_count": 53,
     "metadata": {},
     "output_type": "execute_result"
    }
   ],
   "source": [
    "Inv_CovMatrixSKA_joint = np.array([np.linalg.inv(CovMatrixSKA_joint[i]) for i,k in enumerate(z_bins)])\n",
    "\n",
    "np.shape(Inv_CovMatrixSKA_50x50), np.shape(Inv_CovMatrixSKA_30x70), np.shape(Inv_CovMatrixSKA_joint)"
   ]
  },
  {
   "cell_type": "code",
   "execution_count": 54,
   "metadata": {},
   "outputs": [
    {
     "name": "stdout",
     "output_type": "stream",
     "text": [
      "0 True True True\n",
      "1 True True True\n",
      "2 True True True\n",
      "3 True True True\n",
      "4 True True True\n",
      "5 True True True\n",
      "6 True True True\n",
      "7 True True True\n",
      "8 True True True\n",
      "9 True True True\n",
      "10 True True True\n",
      "11 True True True\n",
      "12 True True True\n",
      "13 True True True\n",
      "14 True True True\n",
      "15 True True True\n",
      "16 True True True\n",
      "17 True True True\n",
      "18 True True True\n"
     ]
    }
   ],
   "source": [
    "for n, z in enumerate(z_bins):\n",
    "    print(n, np.allclose(Inv_CovMatrixSKA_50x50[n], Inv_CovMatrixSKA_50x50[n].T, rtol=1e-4), \n",
    "          np.allclose(Inv_CovMatrixSKA_30x70[n], Inv_CovMatrixSKA_30x70[n].T, rtol=1e-4),\n",
    "          np.allclose(Inv_CovMatrixSKA_joint[n], Inv_CovMatrixSKA_joint[n].T, rtol=1e-1))"
   ]
  },
  {
   "cell_type": "code",
   "execution_count": 55,
   "metadata": {},
   "outputs": [
    {
     "name": "stdout",
     "output_type": "stream",
     "text": [
      "\n",
      " ... Computing the Fisher Matrix ... \n",
      "\n",
      "Signal & Cov must be given as functions (z,d) and (z,d,d') respectively. \n",
      "\n",
      "\n",
      " ... Success! ... \n",
      "\n",
      "\n",
      " ... Computing the Fisher Matrix ... \n",
      "\n",
      "Signal & Cov must be given as functions (z,d) and (z,d,d') respectively. \n",
      "\n",
      "\n",
      " ... Success! ... \n",
      "\n",
      "\n",
      " ... Computing the Fisher Matrix ... \n",
      "\n",
      "Signal & Cov must be given as functions (z,d) and (z,d,d') respectively. \n",
      "\n",
      "\n",
      " ... Success! ... \n",
      "\n"
     ]
    },
    {
     "data": {
      "text/plain": [
       "((5, 5), (5, 5), (5, 5))"
      ]
     },
     "execution_count": 55,
     "metadata": {},
     "output_type": "execute_result"
    }
   ],
   "source": [
    "FisherMatrixSKA_50x50 = fm.fisher_matrix(d_signal=dsignal_dcosmic50, inv_cov=Inv_CovMatrixSKA_50x50, z_bins=z_bins, bins=False)\n",
    "FisherMatrixSKA_30x70 = fm.fisher_matrix(d_signal=dsignal_dcosmic30, inv_cov=Inv_CovMatrixSKA_30x70, z_bins=z_bins, bins=False)\n",
    "FisherMatrixSKA_joint = fm.fisher_matrix(d_signal=dsignal_dcosmic, inv_cov=Inv_CovMatrixSKA_joint, z_bins=z_bins, bins=False)\n",
    "\n",
    "np.shape(FisherMatrixSKA_50x50), np.shape(FisherMatrixSKA_30x70), np.shape(FisherMatrixSKA_joint)\n"
   ]
  },
  {
   "cell_type": "code",
   "execution_count": 56,
   "metadata": {},
   "outputs": [
    {
     "name": "stdout",
     "output_type": "stream",
     "text": [
      "5164002.026713927\t1688886.113488194\t496226.54262118076\t-19413664.00695398\t6641394.1023081085\n",
      "1688886.1134881629\t591306.3728766952\t96541.34153689024\t-6055929.224972827\t2108424.579750899\n",
      "496226.5426212941\t96541.34153693542\t269437.40309821675\t-1928441.3798997358\t1401221.6430270765\n",
      "-19413664.00695389\t-6055929.2249728255\t-1928441.3798995449\t80306511.07905662\t-23831659.69196253\n",
      "6641394.102308079\t2108424.579750879\t1401221.643026993\t-23831659.691962913\t13961632.845623164\n"
     ]
    }
   ],
   "source": [
    "print('\\n'.join(['\\t'.join([str(cell) for cell in row]) for row in FisherMatrixSKA_50x50]))"
   ]
  },
  {
   "cell_type": "code",
   "execution_count": 57,
   "metadata": {},
   "outputs": [
    {
     "name": "stdout",
     "output_type": "stream",
     "text": [
      "5982702.933384105\t1941106.7989340974\t647009.0811368452\t-22479456.449509744\t7855159.7982589435\n",
      "1941106.7989341135\t670904.4828461709\t138897.17270884645\t-6988605.066999086\t2473726.474570977\n",
      "647009.0811369446\t138897.17270890815\t310960.1564787712\t-2499890.3801519116\t1671688.8824865094\n",
      "-22479456.449508905\t-6988605.066998642\t-2499890.3801519973\t92043357.18543775\t-28355007.711743876\n",
      "7855159.798259621\t2473726.4745712737\t1671688.8824863958\t-28355007.71174604\t15915477.89555201\n"
     ]
    }
   ],
   "source": [
    "print('\\n'.join(['\\t'.join([str(cell) for cell in row]) for row in FisherMatrixSKA_30x70]))"
   ]
  },
  {
   "cell_type": "code",
   "execution_count": 58,
   "metadata": {},
   "outputs": [
    {
     "name": "stdout",
     "output_type": "stream",
     "text": [
      "7644913.149420241\t2466544.8861443447\t885117.2351155959\t-28721269.51251163\t10160388.182646416\n",
      "2466544.8861421505\t846782.0439297776\t195359.76275401967\t-8895059.887975065\t3155849.888833712\n",
      "885117.2351277511\t195359.76275964474\t408644.89916158334\t-3419560.9182246285\t2271371.157701622\n",
      "-28721269.512456253\t-8895059.887951877\t-3419560.9182172464\t117063411.60683432\t-36865421.954954304\n",
      "10160388.182686161\t3155849.888858996\t2271371.157667018\t-36865421.95510075\t21276982.930528738\n"
     ]
    }
   ],
   "source": [
    "print('\\n'.join(['\\t'.join([str(cell) for cell in row]) for row in FisherMatrixSKA_joint]))"
   ]
  },
  {
   "cell_type": "code",
   "execution_count": 59,
   "metadata": {},
   "outputs": [
    {
     "data": {
      "text/plain": [
       "(5, 19, 324)"
      ]
     },
     "execution_count": 59,
     "metadata": {},
     "output_type": "execute_result"
    }
   ],
   "source": [
    "np.shape(dsignal_dcosmic50)"
   ]
  },
  {
   "cell_type": "code",
   "execution_count": 60,
   "metadata": {},
   "outputs": [
    {
     "data": {
      "text/plain": [
       "((5, 19, 648), (5, 19, 648), (10, 19, 648))"
      ]
     },
     "execution_count": 60,
     "metadata": {},
     "output_type": "execute_result"
    }
   ],
   "source": [
    "dsignal_dcosmic50_ = np.concatenate([dsignal_dcosmic50, np.zeros_like(dsignal_dcosmic30)], axis=2)\n",
    "dsignal_dcosmic30_ = np.concatenate([np.zeros_like(dsignal_dcosmic50), dsignal_dcosmic30], axis=2)\n",
    "\n",
    "dsignal_dcosmic_multi = np.concatenate([dsignal_dcosmic50_, dsignal_dcosmic30_])\n",
    "\n",
    "np.shape(dsignal_dcosmic50_), np.shape(dsignal_dcosmic30_), np.shape(dsignal_dcosmic_multi)"
   ]
  },
  {
   "cell_type": "code",
   "execution_count": 61,
   "metadata": {},
   "outputs": [
    {
     "name": "stdout",
     "output_type": "stream",
     "text": [
      "\n",
      " ... Computing the Fisher Matrix ... \n",
      "\n",
      "Signal & Cov must be given as functions (z,d) and (z,d,d') respectively. \n",
      "\n",
      "\n",
      " ... Success! ... \n",
      "\n"
     ]
    }
   ],
   "source": [
    "FisherMatrixSKA_joint_ = fm.fisher_matrix(d_signal=dsignal_dcosmic_multi, inv_cov=Inv_CovMatrixSKA_joint, z_bins=z_bins, bins=False)\n"
   ]
  },
  {
   "cell_type": "code",
   "execution_count": 62,
   "metadata": {},
   "outputs": [
    {
     "name": "stdout",
     "output_type": "stream",
     "text": [
      "34659716.274887726\t13852063.148451775\t-4772151.293549008\t-123710478.64185812\t27587764.43721887\t-31526498.048359256\t-12838759.906519623\t5115236.204673875\t111918308.0908535\t-23243342.593047395\n",
      "13852063.148452263\t6111293.525039808\t-3011964.2726371614\t-45141570.97186677\t10304037.322617095\t-12846729.141351653\t-5763654.005732943\t3083290.906685285\t41524546.46018055\t-8947066.017020768\n",
      "-4772151.293550826\t-3011964.2726376797\t3686237.2395266807\t12863410.155256014\t2095316.3992457523\t5141521.553573232\t3092903.4028123566\t-3513590.4582826397\t-14285676.803415973\t-1130765.4726733116\n",
      "-123710478.64186324\t-45141570.97186752\t12863410.155250624\t521318820.95312965\t-93462054.8340658\t111904249.18204178\t41490449.74598859\t-14190131.944552569\t-472690371.9947804\t77775314.1762646\n",
      "27587764.437210202\t10304037.322613955\t2095316.3992473485\t-93462054.83402355\t52277045.16251978\t-23490661.642973777\t-9027498.873392021\t-1166404.2478173391\t78669595.78238614\t-42993256.64522915\n",
      "-31526498.04837106\t-12846729.141359922\t5141521.553583634\t111904249.18199605\t-23490661.642999806\t36038192.97126283\t14299970.785572104\t-4599489.229592902\t-128833348.14350298\t29306627.98147474\n",
      "-12838759.90652478\t-5763654.005737733\t3092903.402819016\t41490449.745953016\t-9027498.873408917\t14299970.785566311\t6262796.53036064\t-2968870.274113113\t-46768485.122241765\t10826377.456646295\n",
      "5115236.204675339\t3083290.906690146\t-3513590.45829095\t-14190131.944495112\t-1166404.2477951446\t-4599489.22956999\t-2968870.2741051745\t3749588.5762084858\t12192837.674430463\t2473224.478924317\n",
      "111918308.0908948\t41524546.46020611\t-14285676.803446826\t-472690371.99469864\t78669595.78246012\t-128833348.14352964\t-46768485.122279055\t12192837.674531534\t541125334.6431841\t-99848277.0796131\n",
      "-23243342.593076143\t-8947066.017029641\t-1130765.4726685795\t77775314.17633545\t-42993256.645235375\t29306627.98152587\t10826377.456666688\t2473224.4789055972\t-99848277.0797987\t54986451.05847345\n"
     ]
    }
   ],
   "source": [
    "print('\\n'.join(['\\t'.join([str(cell) for cell in row]) for row in FisherMatrixSKA_joint_]))"
   ]
  },
  {
   "cell_type": "code",
   "execution_count": 63,
   "metadata": {},
   "outputs": [
    {
     "data": {
      "text/plain": [
       "(4.619906059311412e+29, 6.38608103064818e+62)"
      ]
     },
     "execution_count": 63,
     "metadata": {},
     "output_type": "execute_result"
    }
   ],
   "source": [
    "np.linalg.det(FisherMatrixSKA_joint), np.linalg.det(FisherMatrixSKA_joint_)"
   ]
  },
  {
   "cell_type": "code",
   "execution_count": 64,
   "metadata": {},
   "outputs": [
    {
     "name": "stdout",
     "output_type": "stream",
     "text": [
      "3.3603280811612336e-05\t-7.170370659358787e-05\t-2.9061038600187745e-05\t2.685210966202224e-06\t2.343546431612459e-06\n",
      "-7.170370659377095e-05\t0.00016475223791451616\t6.990569047291119e-05\t-5.049358747287124e-06\t-6.407127784306303e-06\n",
      "-2.9061038600599556e-05\t6.990569047350411e-05\t3.664206367719429e-05\t-1.9252256389574677e-06\t-3.738425449233605e-06\n",
      "2.685210966183882e-06\t-5.049358747231995e-06\t-1.9252256388924435e-06\t2.733647505232914e-07\t1.458308890145434e-07\n",
      "2.3435464316454493e-06\t-6.4071277843444045e-06\t-3.738425449212093e-06\t1.4583088902063737e-07\t5.299652244672289e-07\n"
     ]
    }
   ],
   "source": [
    "print('\\n'.join(['\\t'.join([str(cell) for cell in row]) for row in np.linalg.inv(FisherMatrixSKA_joint)]))"
   ]
  },
  {
   "cell_type": "markdown",
   "metadata": {},
   "source": [
    "## Cosmic Parameters + Galaxy Bias FISHER MATRIX"
   ]
  },
  {
   "cell_type": "code",
   "execution_count": 65,
   "metadata": {},
   "outputs": [
    {
     "data": {
      "text/plain": [
       "((9, 19, 324), (9, 19, 324), (13, 19, 648))"
      ]
     },
     "execution_count": 65,
     "metadata": {},
     "output_type": "execute_result"
    }
   ],
   "source": [
    "dsignal_dpars50x50 = np.concatenate([dsignal_dgbias50_, dsignal_dcosmic50])\n",
    "dsignal_dpars30x70 = np.concatenate([dsignal_dgbias30_, dsignal_dcosmic30])\n",
    "dsignal_dpars_joint = np.concatenate([dsignal_dgbias50, dsignal_dgbias30, dsignal_dcosmic])\n",
    "\n",
    "np.shape(dsignal_dpars50x50), np.shape(dsignal_dpars30x70), np.shape(dsignal_dpars_joint)"
   ]
  },
  {
   "cell_type": "code",
   "execution_count": 66,
   "metadata": {},
   "outputs": [
    {
     "name": "stdout",
     "output_type": "stream",
     "text": [
      "\n",
      " ... Computing the Fisher Matrix ... \n",
      "\n",
      "Signal & Cov must be given as functions (z,d) and (z,d,d') respectively. \n",
      "\n",
      "\n",
      " ... Success! ... \n",
      "\n",
      "\n",
      " ... Computing the Fisher Matrix ... \n",
      "\n",
      "Signal & Cov must be given as functions (z,d) and (z,d,d') respectively. \n",
      "\n",
      "\n",
      " ... Success! ... \n",
      "\n",
      "\n",
      " ... Computing the Fisher Matrix ... \n",
      "\n",
      "Signal & Cov must be given as functions (z,d) and (z,d,d') respectively. \n",
      "\n",
      "\n",
      " ... Success! ... \n",
      "\n"
     ]
    },
    {
     "data": {
      "text/plain": [
       "((9, 9), (9, 9), (13, 13))"
      ]
     },
     "execution_count": 66,
     "metadata": {},
     "output_type": "execute_result"
    }
   ],
   "source": [
    "FisherMatrixSKA_50x50 = fm.fisher_matrix(d_signal=dsignal_dpars50x50, inv_cov=Inv_CovMatrixSKA_50x50, z_bins=z_bins, bins=False)\n",
    "FisherMatrixSKA_30x70 = fm.fisher_matrix(d_signal=dsignal_dpars30x70, inv_cov=Inv_CovMatrixSKA_30x70, z_bins=z_bins, bins=False)\n",
    "FisherMatrixSKA_joint = fm.fisher_matrix(d_signal=dsignal_dpars_joint, inv_cov=Inv_CovMatrixSKA_joint, z_bins=z_bins, bins=False)\n",
    "\n",
    "np.shape(FisherMatrixSKA_50x50), np.shape(FisherMatrixSKA_30x70), np.shape(FisherMatrixSKA_joint)\n"
   ]
  },
  {
   "cell_type": "code",
   "execution_count": 67,
   "metadata": {},
   "outputs": [
    {
     "data": {
      "text/plain": [
       "(2.978620645887647e+53, 6.949421003610326e+53, 9.999546056737581e+81)"
      ]
     },
     "execution_count": 67,
     "metadata": {},
     "output_type": "execute_result"
    }
   ],
   "source": [
    "np.linalg.det(FisherMatrixSKA_50x50), np.linalg.det(FisherMatrixSKA_30x70), np.linalg.det(FisherMatrixSKA_joint)"
   ]
  },
  {
   "cell_type": "code",
   "execution_count": 68,
   "metadata": {},
   "outputs": [
    {
     "name": "stdout",
     "output_type": "stream",
     "text": [
      "25447240.777854692\t7515169.987835224\t-31713835.347808655\t-9110094.934605015\t2177814.361231719\t1105856.1562454673\t-932413.0557254107\t-6618981.011715738\t-2933471.9958783127\n",
      "7515169.987835222\t2808444.203160712\t-9110094.934605015\t-3225463.7597114304\t1072997.0184735924\t504090.3908093623\t-332884.4190554553\t-3396522.347946506\t-474952.963605881\n",
      "-31713835.347809885\t-9110094.93460506\t48443965.55355428\t14405111.655087853\t2321035.4568680176\t305381.6409740199\t1695881.1591249863\t-10068274.409692686\t11822762.336750662\n",
      "-9110094.934605056\t-3225463.7597113927\t14405111.655087844\t5400372.421185124\t629545.2719306645\t69738.45404022718\t496145.3945584891\t-2793044.5741037377\t3003394.232552508\n",
      "2177814.3612309718\t1072997.0184736014\t2321035.456869026\t629545.2719306569\t5164002.026713927\t1688886.113488194\t496226.54262118076\t-19413664.00695398\t6641394.1023081085\n",
      "1105856.1562451809\t504090.390809364\t305381.6409744265\t69738.45404022578\t1688886.1134881629\t591306.3728766952\t96541.34153689024\t-6055929.224972827\t2108424.579750899\n",
      "-932413.0557254825\t-332884.41905548575\t1695881.1591251402\t496145.3945585524\t496226.5426212941\t96541.34153693542\t269437.40309821675\t-1928441.3798997358\t1401221.6430270765\n",
      "-6618981.011713022\t-3396522.347946646\t-10068274.409694914\t-2793044.574103466\t-19413664.00695389\t-6055929.2249728255\t-1928441.3798995449\t80306511.07905662\t-23831659.69196253\n",
      "-2933471.9958805563\t-474952.9636061552\t11822762.336753465\t3003394.232552853\t6641394.102308079\t2108424.579750879\t1401221.643026993\t-23831659.691962913\t13961632.845623164\n"
     ]
    }
   ],
   "source": [
    "print('\\n'.join(['\\t'.join([str(cell) for cell in row]) for row in FisherMatrixSKA_50x50]))"
   ]
  },
  {
   "cell_type": "code",
   "execution_count": 69,
   "metadata": {},
   "outputs": [
    {
     "name": "stdout",
     "output_type": "stream",
     "text": [
      "33016651.384679236\t8332488.267908776\t-50360159.32634173\t-12901331.246122913\t1874549.3290753085\t1015691.4324662106\t-994719.3725617193\t-5479385.917692468\t-3961393.346895395\n",
      "8332488.267908773\t2733114.2927259943\t-12901331.246122926\t-4149358.7031630417\t846945.2037477822\t422633.8689456244\t-337296.306303709\t-2592730.776060814\t-779727.1200034039\n",
      "-50360159.32633923\t-12901331.24612243\t84500438.42434922\t23254467.951169528\t2067729.6980300494\t117760.24214361416\t1973312.5021055618\t-9524773.356651565\t13038348.119257785\n",
      "-12901331.246122435\t-4149358.7031629556\t23254467.951169528\t8118604.127277631\t736809.8546538168\t81090.78851551346\t578643.8650978748\t-3279873.2486417764\t3469697.352632582\n",
      "1874549.3290768762\t846945.2037479944\t2067729.6980268739\t736809.8546534531\t5982702.933384105\t1941106.7989340974\t647009.0811368452\t-22479456.449509744\t7855159.7982589435\n",
      "1015691.4324669703\t422633.86894572224\t117760.24214217364\t81090.7885153587\t1941106.7989341135\t670904.4828461709\t138897.17270884645\t-6988605.066999086\t2473726.474570977\n",
      "-994719.372562376\t-337296.3063038523\t1973312.5021069231\t578643.8650981568\t647009.0811369446\t138897.17270890815\t310960.1564787712\t-2499890.3801519116\t1671688.8824865094\n",
      "-5479385.917697523\t-2592730.7760616518\t-9524773.356639676\t-3279873.248639772\t-22479456.449508905\t-6988605.066998642\t-2499890.3801519973\t92043357.18543775\t-28355007.711743876\n",
      "-3961393.346896719\t-779727.1200039316\t13038348.119260143\t3469697.352633649\t7855159.798259621\t2473726.4745712737\t1671688.8824863958\t-28355007.71174604\t15915477.89555201\n"
     ]
    }
   ],
   "source": [
    "print('\\n'.join(['\\t'.join([str(cell) for cell in row]) for row in FisherMatrixSKA_30x70]))"
   ]
  },
  {
   "cell_type": "code",
   "execution_count": 70,
   "metadata": {},
   "outputs": [
    {
     "name": "stdout",
     "output_type": "stream",
     "text": [
      "40901032.969589815\t11631362.711925276\t-27640677.314019628\t-7725485.339575319\t-12705689.348332532\t-3335432.769911933\t-6195450.628962137\t-2235202.3996309964\t1543751.1068177726\t825039.656899424\t-784306.1211329706\t-4543587.091185098\t-3059471.1696748966\n",
      "11631362.711925272\t4237434.676572393\t-7725485.339575325\t-2644041.8254221324\t-3335432.769911933\t-1161371.5837176305\t-2235202.399630997\t-985248.4438474228\t752448.4395950272\t367187.64997519547\t-274439.301242542\t-2331193.2006142703\t-591012.5382339006\n",
      "-27640677.31406236\t-7725485.339579337\t57217100.4292124\t16521181.194889681\t-918461.3457856313\t-514419.14445172023\t-14314407.28959793\t-3686203.330444675\t1017643.5837422909\t-72354.40503586925\t1377121.2613394393\t-5119237.609765647\t9216544.037811866\n",
      "-7725485.339579334\t-2644041.8254225315\t16521181.194889689\t6087284.7828716\t-514419.1444517205\t-288550.3055072873\t-3686203.330444673\t-1253472.4153659076\t275451.9670673846\t-40529.37740008162\t433960.794934831\t-1471754.878659809\t2399614.8109708885\n",
      "-12705689.348259658\t-3335432.769902945\t-918461.3458405444\t-514419.1444576301\t42010879.47519699\t10535545.198789302\t-46149438.34335453\t-11445026.679449065\t1597183.7293132963\t877382.009169714\t-882363.4223527805\t-4632103.644245338\t-3746430.5018821536\n",
      "-3335432.7699029455\t-1161371.5837165324\t-514419.14445763035\t-288550.30550785485\t10535545.198789302\t3454940.064599011\t-11445026.679449072\t-3534879.006980868\t678514.938632194\t347460.1306702678\t-296600.192203839\t-2045747.71227147\t-799401.7870177317\n",
      "-6195450.628980422\t-2235202.399636365\t-14314407.28970191\t-3686203.330451281\t-46149438.34330396\t-11445026.679444304\t98928622.61861478\t27151223.683586918\t1191842.9260955362\t-147711.117776462\t1798669.360616866\t-6225340.269624061\t11030478.521080054\n",
      "-2235202.3996363645\t-985248.4438482915\t-3686203.330451279\t-1253472.415366356\t-11445026.679444298\t-3534879.0069804164\t27151223.683586918\t9488792.149845542\t415476.1262486268\t-27779.882288063403\t550319.6617752536\t-2108044.9377699033\t2967701.621454236\n",
      "1543751.1068004416\t752448.4395939527\t1017643.5837242594\t275451.9670657804\t1597183.7293269718\t678514.9386322533\t1191842.9261066879\t415476.1262503779\t7644913.149420241\t2466544.8861443447\t885117.2351155959\t-28721269.51251163\t10160388.182646416\n",
      "825039.6569052816\t367187.6499757731\t-72354.40506387217\t-40529.377402341204\t877382.0091756001\t347460.1306702047\t-147711.11777206924\t-27779.8822871014\t2466544.8861421505\t846782.0439297776\t195359.76275401967\t-8895059.887975065\t3155849.888833712\n",
      "-784306.1211709409\t-274439.30124557903\t1377121.261403965\t433960.7949399055\t-882363.422355488\t-296600.1922035545\t1798669.3606291395\t550319.6617755428\t885117.2351277511\t195359.76275964474\t408644.89916158334\t-3419560.9182246285\t2271371.157701622\n",
      "-4543587.091082408\t-2331193.200607348\t-5119237.609775872\t-1471754.8786595338\t-4632103.644274919\t-2045747.7122705525\t-6225340.269573333\t-2108044.9377680677\t-28721269.512456253\t-8895059.887951877\t-3419560.9182172464\t117063411.60683432\t-36865421.954954304\n",
      "-3059471.1698016375\t-591012.5382444423\t9216544.037915543\t2399614.8109793817\t-3746430.5018661707\t-799401.7870164384\t11030478.521193797\t2967701.621463956\t10160388.182686161\t3155849.888858996\t2271371.157667018\t-36865421.95510075\t21276982.930528738\n"
     ]
    }
   ],
   "source": [
    "print('\\n'.join(['\\t'.join([str(cell) for cell in row]) for row in FisherMatrixSKA_joint]))"
   ]
  },
  {
   "cell_type": "code",
   "execution_count": 71,
   "metadata": {},
   "outputs": [
    {
     "data": {
      "text/plain": [
       "(18, 19, 648)"
      ]
     },
     "execution_count": 71,
     "metadata": {},
     "output_type": "execute_result"
    }
   ],
   "source": [
    "dsignal_dpars_joint_ = np.concatenate([dsignal_dgbias50, dsignal_dgbias30, dsignal_dcosmic_multi])\n",
    "\n",
    "np.shape(dsignal_dpars_joint_)"
   ]
  },
  {
   "cell_type": "code",
   "execution_count": 72,
   "metadata": {},
   "outputs": [
    {
     "name": "stdout",
     "output_type": "stream",
     "text": [
      "\n",
      " ... Computing the Fisher Matrix ... \n",
      "\n",
      "Signal & Cov must be given as functions (z,d) and (z,d,d') respectively. \n",
      "\n"
     ]
    },
    {
     "name": "stdout",
     "output_type": "stream",
     "text": [
      "\n",
      " ... Success! ... \n",
      "\n"
     ]
    }
   ],
   "source": [
    "FisherMatrixSKA_joint_ = fm.fisher_matrix(d_signal=dsignal_dpars_joint_, inv_cov=Inv_CovMatrixSKA_joint, z_bins=z_bins, bins=False)"
   ]
  },
  {
   "cell_type": "code",
   "execution_count": 73,
   "metadata": {},
   "outputs": [
    {
     "data": {
      "text/plain": [
       "((18, 18), 6.329299419835585e+113)"
      ]
     },
     "execution_count": 73,
     "metadata": {},
     "output_type": "execute_result"
    }
   ],
   "source": [
    "np.shape(FisherMatrixSKA_joint_), np.linalg.det(FisherMatrixSKA_joint_)"
   ]
  },
  {
   "cell_type": "code",
   "execution_count": 74,
   "metadata": {},
   "outputs": [
    {
     "name": "stdout",
     "output_type": "stream",
     "text": [
      "40901032.969589815\t11631362.711925276\t-27640677.314019628\t-7725485.339575319\t-12705689.348332532\t-3335432.769911933\t-6195450.628962137\t-2235202.3996309964\t20926527.486873463\t9808588.548774984\t-6302558.394362133\t-66071195.57956721\t7880790.634466715\t-19382776.380055685\t-8983548.891875561\t5518252.273229162\t61527608.48838214\t-10940261.804141596\n",
      "11631362.711925272\t4237434.676572393\t-7725485.339575325\t-2644041.8254221324\t-3335432.769911933\t-1161371.5837176305\t-2235202.399630997\t-985248.4438474228\t5976686.093074034\t2789446.164087389\t-1761765.202239025\t-18904199.882961545\t1847743.776674527\t-5224237.653479005\t-2422258.5141121913\t1487325.9009964822\t16573006.682347275\t-2438756.3149084277\n",
      "-27640677.31406236\t-7725485.339579337\t57217100.4292124\t16521181.194889681\t-918461.3457856313\t-514419.14445172023\t-14314407.28959793\t-3686203.330444675\t11299108.233019363\t4156409.2373299105\t57423.502228269535\t-39896053.55177575\t20123002.937174134\t-10281464.649277057\t-4228763.642365781\t1319697.7591111718\t34776815.94201012\t-10906458.899362268\n",
      "-7725485.339579334\t-2644041.8254225315\t16521181.194889689\t6087284.7828716\t-514419.1444517205\t-288550.3055072873\t-3686203.330444673\t-1253472.4153659076\t3106119.581143029\t1164304.9367199643\t-51134.354175275264\t-10890269.317929568\t4720253.2582744155\t-2830667.614075644\t-1204834.3141200477\t485095.1491101068\t9418514.439269755\t-2320638.4473035247\n",
      "-12705689.348259658\t-3335432.769902945\t-918461.3458405444\t-514419.1444576301\t42010879.47519699\t10535545.198789302\t-46149438.34335453\t-11445026.679449065\t-13150470.804979894\t-6128323.929915228\t3844458.009233694\t41619990.80224572\t-7217792.510334783\t14747654.534293193\t7005705.939084944\t-4726821.431586479\t-46252094.446491\t3471362.008452633\n",
      "-3335432.7699029455\t-1161371.5837165324\t-514419.14445763035\t-288550.30550785485\t10535545.198789302\t3454940.064599011\t-11445026.679449072\t-3534879.006980868\t-3523640.8279531766\t-1641795.5546414163\t1027239.3754904779\t11146921.359943379\t-1586957.7631601216\t4202155.766585372\t1989255.6853116795\t-1323839.5676943185\t-13192669.072214859\t787555.9761423911\n",
      "-6195450.628980422\t-2235202.399636365\t-14314407.28970191\t-3686203.330451281\t-46149438.34330396\t-11445026.679444304\t98928622.61861478\t27151223.683586918\t-15608146.814277818\t-6777144.463056243\t3077923.403677898\t51387618.43319281\t-13332998.945819933\t16799989.74037334\t6629433.345279782\t-1279254.0430610273\t-57612958.702816844\t24363477.4669\n",
      "-2235202.3996363645\t-985248.4438482915\t-3686203.330451279\t-1253472.415366356\t-11445026.679444298\t-3534879.0069804164\t27151223.683586918\t9488792.149845542\t-4385569.442355712\t-1937530.1309739007\t963600.4075256981\t14308793.037428351\t-2967654.331251121\t4801045.568604339\t1909750.2486858391\t-413280.74575044576\t-16416837.975198247\t5935355.952705363\n",
      "20926527.48686323\t5976686.093073043\t11299108.233036585\t3106119.5811448437\t-13150470.805040253\t-3523640.827960603\t-15608146.814176023\t-4385569.442344858\t34659716.274887726\t13852063.148451775\t-4772151.293549008\t-123710478.64185812\t27587764.43721887\t-31526498.048359256\t-12838759.906519623\t5115236.204673875\t111918308.0908535\t-23243342.593047395\n",
      "9808588.548769517\t2789446.1640868993\t4156409.2373392433\t1164304.9367208718\t-6128323.929934385\t-1641795.5546439209\t-6777144.46301451\t-1937530.1309694387\t13852063.148452263\t6111293.525039808\t-3011964.2726371614\t-45141570.97186677\t10304037.322617095\t-12846729.141351653\t-5763654.005732943\t3083290.906685285\t41524546.46018055\t-8947066.017020768\n",
      "-6302558.394357287\t-1761765.2022386654\t57423.5022196483\t-51134.35417597058\t3844458.0092314887\t1027239.3754903803\t3077923.403657567\t963600.4075240282\t-4772151.293550826\t-3011964.2726376797\t3686237.2395266807\t12863410.155256014\t2095316.3992457523\t5141521.553573232\t3092903.4028123566\t-3513590.4582826397\t-14285676.803415973\t-1130765.4726733116\n",
      "-66071195.57953513\t-18904199.88295842\t-39896053.55184189\t-10890269.317936303\t41619990.80248713\t11146921.359972289\t51387618.43296441\t14308793.037401091\t-123710478.64186324\t-45141570.97186752\t12863410.155250624\t521318820.95312965\t-93462054.8340658\t111904249.18204178\t41490449.74598859\t-14190131.944552569\t-472690371.9947804\t77775314.1762646\n",
      "7880790.634446882\t1847743.7766725223\t20123002.937193103\t4720253.258276567\t-7217792.510392328\t-1586957.763167707\t-13332998.945677783\t-2967654.3312351317\t27587764.437210202\t10304037.322613955\t2095316.3992473485\t-93462054.83402355\t52277045.16251978\t-23490661.642973777\t-9027498.873392021\t-1166404.2478173391\t78669595.78238614\t-42993256.64522915\n",
      "-19382776.38006279\t-5224237.653479092\t-10281464.649312325\t-2830667.6140790633\t14747654.534367222\t4202155.7665928565\t16799989.740282707\t4801045.568595237\t-31526498.04837106\t-12846729.141359922\t5141521.553583634\t111904249.18199605\t-23490661.642999806\t36038192.97126283\t14299970.785572104\t-4599489.229592902\t-128833348.14350298\t29306627.98147474\n",
      "-8983548.891864236\t-2422258.5141111272\t-4228763.6424031155\t-1204834.3141232126\t7005705.939109979\t1989255.6853141238\t6629433.345242427\t1909750.2486823364\t-12838759.90652478\t-5763654.005737733\t3092903.402819016\t41490449.745953016\t-9027498.873408917\t14299970.785566311\t6262796.53036064\t-2968870.274113113\t-46768485.122241765\t10826377.456646295\n",
      "5518252.273186345\t1487325.9009930866\t1319697.7591843186\t485095.1491158765\t-4726821.43158698\t-1323839.567693935\t-1279254.0430284094\t-413280.74574848125\t5115236.204675339\t3083290.906690146\t-3513590.45829095\t-14190131.944495112\t-1166404.2477951446\t-4599489.22956999\t-2968870.2741051745\t3749588.5762084858\t12192837.674430463\t2473224.478924317\n",
      "61527608.488452695\t16573006.682351075\t34776815.942065984\t9418514.439276766\t-46252094.44676206\t-13192669.072242843\t-57612958.702537715\t-16416837.975169154\t111918308.0908948\t41524546.46020611\t-14285676.803446826\t-472690371.99469864\t78669595.78246012\t-128833348.14352964\t-46768485.122279055\t12192837.674531534\t541125334.6431841\t-99848277.0796131\n",
      "-10940261.804248523\t-2438756.3149169637\t-10906458.899277568\t-2320638.447297185\t3471362.0085261557\t787555.9761512693\t24363477.466871556\t5935355.952699086\t-23243342.593076143\t-8947066.017029641\t-1130765.4726685795\t77775314.17633545\t-42993256.645235375\t29306627.98152587\t10826377.456666688\t2473224.4789055972\t-99848277.0797987\t54986451.05847345\n"
     ]
    }
   ],
   "source": [
    "print('\\n'.join(['\\t'.join([str(cell) for cell in row]) for row in FisherMatrixSKA_joint_]))"
   ]
  },
  {
   "cell_type": "markdown",
   "metadata": {},
   "source": [
    "# Joint Covariance Matrix 50x30 [CC & P]"
   ]
  },
  {
   "cell_type": "markdown",
   "metadata": {},
   "source": [
    "## Check Cauchy-Schwarz inequality\n",
    "\n",
    "The Cauchy-Schwarz inequality implies:\n",
    "\n",
    "$$ \\mathrm{COV}(X,Y) \\leq \\sqrt{\\mathrm{VAR}(X)\\cdot\\mathrm{VAR}(Y)}$$"
   ]
  },
  {
   "cell_type": "code",
   "execution_count": 75,
   "metadata": {},
   "outputs": [],
   "source": [
    "z_bins = np.array([0.15, 0.25, 0.35, 0.45, 0.55, 0.65, 0.75, 0.85, 0.95, 1.05, 1.15, 1.25, 1.35, 1.45, 1.55, 1.65, 1.75, 1.85, 1.95])\n"
   ]
  },
  {
   "cell_type": "code",
   "execution_count": 76,
   "metadata": {},
   "outputs": [
    {
     "name": "stdout",
     "output_type": "stream",
     "text": [
      "\n",
      " ... Loading Covariance Matrices (Joint-splittings Analysis) [CC&P] [MONOBB, MONOBF, MONOFF, DIPBF, QUADBB, QUADBF, QUADFF, HEXAT, OCTBF] ... \n",
      "\n"
     ]
    }
   ],
   "source": [
    "CovMatrixSKA_joint = fm.cov_matrix_joint(d=dist[0], z_bins=z_bins, small_off_diagonal=True, rtol=1e-4, splits=[50,30], contributions='CC&P')"
   ]
  },
  {
   "cell_type": "code",
   "execution_count": 77,
   "metadata": {},
   "outputs": [
    {
     "name": "stdout",
     "output_type": "stream",
     "text": [
      "0 True\n",
      "1 True\n",
      "2 True\n",
      "3 True\n",
      "4 True\n",
      "5 True\n",
      "6 True\n",
      "7 True\n",
      "8 True\n",
      "9 True\n",
      "10 True\n",
      "11 True\n",
      "12 True\n",
      "13 True\n",
      "14 True\n",
      "15 True\n",
      "16 True\n",
      "17 True\n",
      "18 True\n"
     ]
    }
   ],
   "source": [
    "for n, z in enumerate(z_bins):\n",
    "    print(n, np.allclose(CovMatrixSKA_joint[n], CovMatrixSKA_joint[n].T, rtol = 1e-20))"
   ]
  },
  {
   "cell_type": "code",
   "execution_count": 78,
   "metadata": {},
   "outputs": [
    {
     "data": {
      "text/plain": [
       "((19, 324, 324), (19, 324, 324), (19, 648, 648))"
      ]
     },
     "execution_count": 78,
     "metadata": {},
     "output_type": "execute_result"
    }
   ],
   "source": [
    "np.shape(CovMatrixSKA_50x50), np.shape(CovMatrixSKA_30x70), np.shape(CovMatrixSKA_joint)"
   ]
  },
  {
   "cell_type": "code",
   "execution_count": 79,
   "metadata": {},
   "outputs": [],
   "source": [
    "CovMatrixSKA_50x30 = np.array([CovMatrixSKA_joint[k][:324, 324:] for k,_ in enumerate(z_bins)])\n",
    "CovMatrixSKA_30x50 = np.array([CovMatrixSKA_joint[k][324:, :324] for k,_ in enumerate(z_bins)])"
   ]
  },
  {
   "cell_type": "code",
   "execution_count": 80,
   "metadata": {},
   "outputs": [
    {
     "data": {
      "text/plain": [
       "((19, 324, 324), (19, 324, 324))"
      ]
     },
     "execution_count": 80,
     "metadata": {},
     "output_type": "execute_result"
    }
   ],
   "source": [
    "np.shape(CovMatrixSKA_50x30), np.shape(CovMatrixSKA_30x50)"
   ]
  },
  {
   "cell_type": "code",
   "execution_count": 81,
   "metadata": {},
   "outputs": [
    {
     "name": "stdout",
     "output_type": "stream",
     "text": [
      "0 True True\n",
      "1 True True\n",
      "2 True True\n",
      "3 True True\n",
      "4 True True\n",
      "5 True True\n",
      "6 True True\n",
      "7 True True\n",
      "8 True True\n",
      "9 True True\n",
      "10 True True\n",
      "11 True True\n",
      "12 True True\n",
      "13 True True\n",
      "14 True True\n",
      "15 True True\n",
      "16 True True\n",
      "17 True True\n",
      "18 True True\n"
     ]
    }
   ],
   "source": [
    "for n, z in enumerate(z_bins):\n",
    "    print(n, np.allclose(CovMatrixSKA_50x30[n], CovMatrixSKA_30x50[n].T, rtol=1e-10), np.allclose(CovMatrixSKA_30x50[n], CovMatrixSKA_50x30[n].T, rtol = 1e-10))"
   ]
  },
  {
   "cell_type": "code",
   "execution_count": 82,
   "metadata": {},
   "outputs": [
    {
     "name": "stdout",
     "output_type": "stream",
     "text": [
      "0 True\n",
      "1 True\n",
      "2 True\n",
      "3 True\n",
      "4 True\n",
      "5 True\n",
      "6 True\n",
      "7 True\n",
      "8 True\n",
      "9 True\n",
      "10 True\n",
      "11 True\n",
      "12 True\n",
      "13 True\n",
      "14 True\n",
      "15 True\n",
      "16 True\n",
      "17 True\n",
      "18 True\n"
     ]
    }
   ],
   "source": [
    "for n, z in enumerate(z_bins):\n",
    "    print(n, np.allclose(CovMatrixSKA_joint[n], CovMatrixSKA_joint[n].T, rtol=1e-20))"
   ]
  },
  {
   "cell_type": "code",
   "execution_count": 83,
   "metadata": {},
   "outputs": [
    {
     "data": {
      "text/plain": [
       "((19, 324, 324), (19, 324, 324))"
      ]
     },
     "execution_count": 83,
     "metadata": {},
     "output_type": "execute_result"
    }
   ],
   "source": [
    "np.shape(CovMatrixSKA_50x30), np.shape(CovMatrixSKA_30x50)"
   ]
  },
  {
   "cell_type": "code",
   "execution_count": 84,
   "metadata": {},
   "outputs": [
    {
     "data": {
      "text/plain": [
       "(1.7591748859054704e-05, 1.7591748859054704e-05)"
      ]
     },
     "execution_count": 84,
     "metadata": {},
     "output_type": "execute_result"
    }
   ],
   "source": [
    "CovMatrixSKA_50x30[0,0,0], CovMatrixSKA_30x50[0,0,0]"
   ]
  },
  {
   "cell_type": "code",
   "execution_count": 85,
   "metadata": {},
   "outputs": [
    {
     "data": {
      "text/plain": [
       "(1.1406613424594502e-05, 2.728761334220845e-05)"
      ]
     },
     "execution_count": 85,
     "metadata": {},
     "output_type": "execute_result"
    }
   ],
   "source": [
    "CovMatrixSKA_50x50[0,0,0], CovMatrixSKA_30x70[0,0,0]"
   ]
  },
  {
   "cell_type": "code",
   "execution_count": 86,
   "metadata": {},
   "outputs": [
    {
     "data": {
      "text/plain": [
       "(-4.190495416728882e-09, -4.190495416728882e-09)"
      ]
     },
     "execution_count": 86,
     "metadata": {},
     "output_type": "execute_result"
    }
   ],
   "source": [
    "CovMatrixSKA_50x30[0,17,267], CovMatrixSKA_30x50[0,267,17]"
   ]
  },
  {
   "cell_type": "code",
   "execution_count": 87,
   "metadata": {},
   "outputs": [
    {
     "data": {
      "text/plain": [
       "(-4.188698962835081e-09, -5.405294849542528e-09)"
      ]
     },
     "execution_count": 87,
     "metadata": {},
     "output_type": "execute_result"
    }
   ],
   "source": [
    "CovMatrixSKA_50x50[0,17,267], CovMatrixSKA_30x70[0,267,17]"
   ]
  },
  {
   "cell_type": "markdown",
   "metadata": {},
   "source": [
    "## Checking directly from Joint Cov Matrix 50x30\n",
    "\n",
    "Compare off diagonal elements (covariances) versus the correspondent diagonal ones (variances)."
   ]
  },
  {
   "cell_type": "code",
   "execution_count": 88,
   "metadata": {},
   "outputs": [
    {
     "data": {
      "text/plain": [
       "((19, 648, 648), list)"
      ]
     },
     "execution_count": 88,
     "metadata": {},
     "output_type": "execute_result"
    }
   ],
   "source": [
    "np.shape(CovMatrixSKA_joint), type(CovMatrixSKA_joint)"
   ]
  },
  {
   "cell_type": "code",
   "execution_count": 89,
   "metadata": {},
   "outputs": [
    {
     "data": {
      "text/plain": [
       "324"
      ]
     },
     "execution_count": 89,
     "metadata": {},
     "output_type": "execute_result"
    }
   ],
   "source": [
    "36*9"
   ]
  },
  {
   "cell_type": "code",
   "execution_count": 90,
   "metadata": {},
   "outputs": [
    {
     "name": "stdout",
     "output_type": "stream",
     "text": [
      " Monopole BB (d=d), 50x50 =  1.1406613424594502e-05 \n",
      " Monopole BB (d=d), 30x70 =  2.728761334220845e-05\n"
     ]
    }
   ],
   "source": [
    "print(' Monopole BB (d=d), 50x50 = ', CovMatrixSKA_joint[0][0,0],'\\n','Monopole BB (d=d), 30x70 = ', CovMatrixSKA_joint[0][324,324] ) "
   ]
  },
  {
   "cell_type": "code",
   "execution_count": 91,
   "metadata": {},
   "outputs": [
    {
     "name": "stdout",
     "output_type": "stream",
     "text": [
      " Monopole BB (d=d), 50x30 =  1.7591748859054704e-05 \n",
      " Monopole BB (d=d), 30x50 =  1.7591748859054704e-05\n"
     ]
    }
   ],
   "source": [
    "print(' Monopole BB (d=d), 50x30 = ', CovMatrixSKA_joint[0][0,324],'\\n', 'Monopole BB (d=d), 30x50 = ', CovMatrixSKA_joint[0][324,0] ) "
   ]
  },
  {
   "cell_type": "code",
   "execution_count": 92,
   "metadata": {},
   "outputs": [
    {
     "name": "stdout",
     "output_type": "stream",
     "text": [
      "0.15 True True\n",
      "0.25 True True\n",
      "0.35 True True\n",
      "0.45 True True\n",
      "0.55 True True\n",
      "0.65 True True\n",
      "0.75 True True\n",
      "0.85 True True\n",
      "0.95 True True\n",
      "1.05 True True\n",
      "1.15 True True\n",
      "1.25 True True\n",
      "1.35 True True\n",
      "1.45 True True\n",
      "1.55 True True\n",
      "1.65 True True\n",
      "1.75 True True\n",
      "1.85 True True\n",
      "1.95 True True\n"
     ]
    }
   ],
   "source": [
    "for k,_ in enumerate(z_bins):\n",
    "    print(z_bins[k], np.sqrt(CovMatrixSKA_joint[k][0,0] * CovMatrixSKA_joint[k][324,324]) >= CovMatrixSKA_joint[k][0,324], np.sqrt(CovMatrixSKA_joint[k][0,0] * CovMatrixSKA_joint[k][324,324]) >= CovMatrixSKA_joint[k][324,0])"
   ]
  },
  {
   "cell_type": "code",
   "execution_count": 93,
   "metadata": {},
   "outputs": [
    {
     "name": "stdout",
     "output_type": "stream",
     "text": [
      "0.15 1.764254110592856e-05 1.7591748859054704e-05\n",
      "0.25 7.014350303522421e-06 6.987339425132502e-06\n",
      "0.35 3.904079159778656e-06 3.882715928743635e-06\n",
      "0.45 2.5784765980908824e-06 2.5575038345243217e-06\n",
      "0.55 1.8931986511136867e-06 1.869650246493458e-06\n",
      "0.65 1.4969289169443364e-06 1.4684628360388927e-06\n",
      "0.75 1.2532721988093958e-06 1.2167672009639408e-06\n",
      "0.85 1.1007803772214066e-06 1.0519094735961752e-06\n",
      "0.95 1.0104386161984314e-06 9.422589984695888e-07\n",
      "1.05 9.703620669081107e-07 8.712130185385997e-07\n",
      "1.15 9.797925594098938e-07 8.309484737703343e-07\n",
      "1.25 1.0534917202039827e-06 8.215568760701692e-07\n",
      "1.35 1.2326007500359773e-06 8.554091832340599e-07\n",
      "1.45 1.6096843827924573e-06 9.7033160666954e-07\n",
      "1.55 2.436372271029366e-06 1.2809708253482055e-06\n",
      "1.65 4.3288471808299055e-06 2.099426305851096e-06\n",
      "1.75 8.978984214121797e-06 4.330763768587618e-06\n",
      "1.85 2.1513371013254955e-05 1.0823454774754264e-05\n",
      "1.95 5.784949838880617e-05 3.0686479427370136e-05\n"
     ]
    }
   ],
   "source": [
    "for k,_ in enumerate(z_bins):\n",
    "    print(z_bins[k], np.sqrt(CovMatrixSKA_joint[k][0,0] * CovMatrixSKA_joint[k][324,324]), CovMatrixSKA_joint[k][0,324])"
   ]
  },
  {
   "cell_type": "code",
   "execution_count": 94,
   "metadata": {},
   "outputs": [
    {
     "name": "stdout",
     "output_type": "stream",
     "text": [
      " MonoBQuadBF (d=d), 50x50 =  1.9425535215326826e-06 \n",
      " MonoBQuadBF (d=d) (d=d), 30x70 =  4.3165840334060815e-06\n",
      " Monopole BB (d=d), 50x30 =  2.8892575230477216e-06 \n",
      " Monopole BB (d=d), 30x50 =  2.8892575230477216e-06\n"
     ]
    }
   ],
   "source": [
    "print(' MonoBQuadBF (d=d), 50x50 = ', CovMatrixSKA_joint[0][179,179],'\\n','MonoBQuadBF (d=d) (d=d), 30x70 = ', CovMatrixSKA_joint[0][179+324,179+324] )\n",
    "print(' Monopole BB (d=d), 50x30 = ', CovMatrixSKA_joint[0][179,179+324],'\\n', 'Monopole BB (d=d), 30x50 = ', CovMatrixSKA_joint[0][179+324,179] )  "
   ]
  },
  {
   "cell_type": "code",
   "execution_count": 95,
   "metadata": {},
   "outputs": [
    {
     "name": "stdout",
     "output_type": "stream",
     "text": [
      "True True\n",
      "True True\n",
      "True True\n",
      "True True\n",
      "True True\n",
      "True True\n",
      "True True\n",
      "True True\n",
      "True True\n",
      "True True\n",
      "True True\n",
      "True True\n",
      "True True\n",
      "True True\n",
      "True True\n",
      "True True\n",
      "True True\n",
      "True True\n",
      "True True\n"
     ]
    }
   ],
   "source": [
    "for k,_ in enumerate(z_bins):\n",
    "    print(np.sqrt(CovMatrixSKA_joint[k][179,179] * CovMatrixSKA_joint[k][179+324,179+324]) >= CovMatrixSKA_joint[k][179,179+324], \n",
    "          np.sqrt(CovMatrixSKA_joint[k][179,179] * CovMatrixSKA_joint[k][179+324,179+324]) >= CovMatrixSKA_joint[k][324+179,179])"
   ]
  },
  {
   "cell_type": "code",
   "execution_count": 96,
   "metadata": {},
   "outputs": [
    {
     "data": {
      "text/plain": [
       "324"
      ]
     },
     "execution_count": 96,
     "metadata": {},
     "output_type": "execute_result"
    }
   ],
   "source": [
    "len(CovMatrixSKA_50x50[0])"
   ]
  },
  {
   "cell_type": "code",
   "execution_count": 97,
   "metadata": {},
   "outputs": [
    {
     "name": "stdout",
     "output_type": "stream",
     "text": [
      " Element (d=d), 50x50 =  1.2444286340731441e-08 \n",
      " Element (d=d), 30x70 =  1.563436441154079e-08\n",
      " Element (d=d), 50x30 =  2.607716902285996e-10 \n",
      " Element (d=d), 30x50 =  2.607716902285996e-10 \n",
      "\n",
      "Check COV(X,Y)^2 <= SQRT(VAR(X) * VAR(Y)) \n",
      "\n",
      "True True\n",
      "True True\n",
      "True True\n",
      "True True\n",
      "True True\n",
      "True True\n",
      "True True\n",
      "True True\n",
      "True True\n",
      "True True\n",
      "True True\n",
      "True True\n",
      "True True\n",
      "True True\n",
      "True True\n",
      "True True\n",
      "True True\n",
      "True True\n",
      "True True\n"
     ]
    }
   ],
   "source": [
    "i_element = 288\n",
    "j_element = i_element\n",
    "l = len(CovMatrixSKA_50x50[0])\n",
    "\n",
    "print(' Element (d=d), 50x50 = ', CovMatrixSKA_joint[0][i_element,j_element],'\\n','Element (d=d), 30x70 = ', CovMatrixSKA_joint[0][i_element+l,j_element+l] )\n",
    "print(' Element (d=d), 50x30 = ', CovMatrixSKA_joint[0][i_element,j_element+l],'\\n', 'Element (d=d), 30x50 = ', CovMatrixSKA_joint[0][i_element+l,j_element],'\\n' )  \n",
    "\n",
    "print('Check COV(X,Y)^2 <= SQRT(VAR(X) * VAR(Y)) \\n')\n",
    "for k,_ in enumerate(z_bins):\n",
    "    print(np.sqrt(CovMatrixSKA_joint[k][i_element,j_element] * CovMatrixSKA_joint[k][i_element+l,j_element+l]) >= CovMatrixSKA_joint[k][i_element,j_element+l], \n",
    "          np.sqrt(CovMatrixSKA_joint[k][i_element,j_element] * CovMatrixSKA_joint[k][i_element+l,j_element+l]) >= CovMatrixSKA_joint[k][i_element+l,j_element])"
   ]
  },
  {
   "cell_type": "code",
   "execution_count": 98,
   "metadata": {},
   "outputs": [
    {
     "name": "stdout",
     "output_type": "stream",
     "text": [
      " Element (d=d), 50x50 =  6.551780712795955e-08 \n",
      " Element (d=d), 30x70 =  1.6800215155336124e-07\n",
      " Element (d=d), 50x30 =  1.0369871844976598e-07 \n",
      " Element (d=d), 30x50 =  1.0369871844976598e-07 \n",
      "\n",
      "Check COV(X,Y)^2 <= SQRT(VAR(X) * VAR(Y)) \n",
      "\n",
      "True True\n",
      "True True\n",
      "True True\n",
      "True True\n",
      "True True\n",
      "True True\n",
      "True True\n",
      "True True\n",
      "True True\n",
      "True True\n",
      "True True\n",
      "True True\n",
      "True True\n",
      "True True\n",
      "True True\n",
      "True True\n",
      "True True\n",
      "True True\n",
      "True True\n"
     ]
    }
   ],
   "source": [
    "i_element = 56\n",
    "j_element = i_element\n",
    "l = len(CovMatrixSKA_50x50[0])\n",
    "\n",
    "print(' Element (d=d), 50x50 = ', CovMatrixSKA_joint[0][i_element,j_element],'\\n','Element (d=d), 30x70 = ', CovMatrixSKA_joint[0][i_element+l,j_element+l] )\n",
    "print(' Element (d=d), 50x30 = ', CovMatrixSKA_joint[0][i_element,j_element+l],'\\n', 'Element (d=d), 30x50 = ', CovMatrixSKA_joint[0][i_element+l,j_element],'\\n' )  \n",
    "\n",
    "print('Check COV(X,Y)^2 <= SQRT(VAR(X) * VAR(Y)) \\n')\n",
    "for k,_ in enumerate(z_bins):\n",
    "    print(np.sqrt(CovMatrixSKA_joint[k][i_element,j_element] * CovMatrixSKA_joint[k][i_element+l,j_element+l]) >= CovMatrixSKA_joint[k][i_element,j_element+l], \n",
    "          np.sqrt(CovMatrixSKA_joint[k][i_element,j_element] * CovMatrixSKA_joint[k][i_element+l,j_element+l]) >= CovMatrixSKA_joint[k][i_element+l,j_element])"
   ]
  },
  {
   "cell_type": "code",
   "execution_count": 99,
   "metadata": {},
   "outputs": [
    {
     "name": "stdout",
     "output_type": "stream",
     "text": [
      "5.093876193886468e-07 1.0577598333198072e-06\n",
      "5.353246240816097e-08 5.353246240816097e-08\n"
     ]
    }
   ],
   "source": [
    "print(CovMatrixSKA_50x50[0][24,24], CovMatrixSKA_50x50[0][36,36])\n",
    "print(CovMatrixSKA_50x50[0][24,36], CovMatrixSKA_50x50[0][36,24])"
   ]
  },
  {
   "cell_type": "code",
   "execution_count": 100,
   "metadata": {},
   "outputs": [
    {
     "name": "stdout",
     "output_type": "stream",
     "text": [
      "z =  0.15 | check:  True\n",
      "z =  0.25 | check:  True\n",
      "z =  0.35 | check:  True\n",
      "z =  0.45 | check:  True\n",
      "z =  0.55 | check:  True\n",
      "z =  0.65 | check:  True\n",
      "z =  0.75 | check:  True\n",
      "z =  0.85 | check:  True\n",
      "z =  0.95 | check:  True\n",
      "z =  1.05 | check:  True\n",
      "z =  1.15 | check:  True\n",
      "z =  1.25 | check:  True\n",
      "z =  1.35 | check:  True\n",
      "z =  1.45 | check:  True\n",
      "z =  1.55 | check:  True\n",
      "z =  1.65 | check:  True\n",
      "z =  1.75 | check:  True\n",
      "z =  1.85 | check:  True\n",
      "z =  1.95 | check:  True\n"
     ]
    }
   ],
   "source": [
    "for k,_ in enumerate(z_bins):\n",
    "    print('z = ',_, '| check: ', CovMatrixSKA_50x50[k][10,25]**2 <= CovMatrixSKA_50x50[k][10,10]*CovMatrixSKA_50x50[k][25,25])"
   ]
  },
  {
   "cell_type": "code",
   "execution_count": 101,
   "metadata": {},
   "outputs": [
    {
     "name": "stdout",
     "output_type": "stream",
     "text": [
      "z =  0.15 | check:  True\n",
      "z =  0.25 | check:  True\n",
      "z =  0.35 | check:  True\n",
      "z =  0.45 | check:  True\n",
      "z =  0.55 | check:  True\n",
      "z =  0.65 | check:  True\n",
      "z =  0.75 | check:  True\n",
      "z =  0.85 | check:  True\n",
      "z =  0.95 | check:  True\n",
      "z =  1.05 | check:  True\n",
      "z =  1.15 | check:  True\n",
      "z =  1.25 | check:  True\n",
      "z =  1.35 | check:  True\n",
      "z =  1.45 | check:  True\n",
      "z =  1.55 | check:  True\n",
      "z =  1.65 | check:  True\n",
      "z =  1.75 | check:  True\n",
      "z =  1.85 | check:  True\n",
      "z =  1.95 | check:  True\n"
     ]
    }
   ],
   "source": [
    "for k,_ in enumerate(z_bins):\n",
    "    print('z = ',_, '| check: ', CovMatrixSKA_30x70[k][18,30]**2 <= CovMatrixSKA_30x70[k][18,18]*CovMatrixSKA_30x70[k][30,30])"
   ]
  },
  {
   "cell_type": "markdown",
   "metadata": {},
   "source": [
    "## Signal-to-noise"
   ]
  },
  {
   "cell_type": "code",
   "execution_count": 102,
   "metadata": {},
   "outputs": [],
   "source": [
    "splits = [2., 10/3.]\n",
    "\n",
    "mySignals = [Signal(solver=Solver(zs=[0], **params_dict0), n_split=m) for m in splits]\n"
   ]
  },
  {
   "cell_type": "code",
   "execution_count": 103,
   "metadata": {},
   "outputs": [
    {
     "data": {
      "text/plain": [
       "(2, 3, 19, 36)"
      ]
     },
     "execution_count": 103,
     "metadata": {},
     "output_type": "execute_result"
    }
   ],
   "source": [
    "d = np.linspace(20,160,36)\n",
    "z_bins = np.linspace(0.15, 1.95, 19)\n",
    "\n",
    "monopole_sigs = [mySignals[k]._monopole(d=d, z=z_bins) for k,_ in enumerate(splits)]\n",
    "\n",
    "np.shape(monopole_sigs)"
   ]
  },
  {
   "cell_type": "code",
   "execution_count": 104,
   "metadata": {},
   "outputs": [],
   "source": [
    "monopoleBB_signal = [monopole_sigs[k][0] for k,_ in enumerate(splits)]"
   ]
  },
  {
   "cell_type": "code",
   "execution_count": 105,
   "metadata": {},
   "outputs": [],
   "source": [
    "VarMONO_50x50 = [CovMatrixSKA_50x50[k,:36,:36] for k,_ in  enumerate(z_bins)]\n",
    "VarMONO_30x70 = [CovMatrixSKA_30x70[k,:36,:36] for k,_ in  enumerate(z_bins)]\n",
    "#VarMONO_10x90 = [CovMatrixSKA_10x90[k,:36,:36] for k,_ in  enumerate(z_bins)]"
   ]
  },
  {
   "cell_type": "code",
   "execution_count": 106,
   "metadata": {},
   "outputs": [
    {
     "name": "stdout",
     "output_type": "stream",
     "text": [
      "\n",
      " ... Computing the S/N ... \n",
      "\n",
      "Signal & Cov must be given as functions (z,d) and (z,d,d') respectively. \n",
      "\n",
      "--------------------------------------------------\n",
      "\n",
      " Individual SNRs: \n",
      "\n",
      "Bin 1: 58.77421213378112\n",
      "Bin 2: 89.48345521707645\n",
      "Bin 3: 114.76519820946098\n",
      "Bin 4: 134.716436740866\n",
      "Bin 5: 149.53509304639073\n",
      "Bin 6: 159.5306944397853\n",
      "Bin 7: 164.89350644693744\n",
      "Bin 8: 165.8820114819602\n",
      "Bin 9: 162.66901920794453\n",
      "Bin 10: 155.44381004466567\n",
      "Bin 11: 144.78901213682857\n",
      "Bin 12: 131.1870337188347\n",
      "Bin 13: 115.31104126390467\n",
      "Bin 14: 98.24887356301002\n",
      "Bin 15: 80.54138755170176\n",
      "Bin 16: 63.4308923544652\n",
      "Bin 17: 47.776283841079085\n",
      "Bin 18: 34.10909687634405\n",
      "Bin 19: 23.019044873900647\n",
      "\n",
      "--------------------------------------------------\n",
      "\n",
      " Cumulative SNR : 521.0877057700761 \n",
      "\n",
      "--------------------------------------------------\n"
     ]
    }
   ],
   "source": [
    "\n",
    "#covs = [ VarMONO_50x50, VarMONO_30x70, VarMONO_10x90 ]\n",
    "\n",
    "covs = [ VarMONO_50x50, VarMONO_30x70 ]\n",
    "\n",
    "\n",
    "cumSNR, SNRz = fm.signal_to_noise(monopoleBB_signal[0], covs[0])"
   ]
  },
  {
   "cell_type": "code",
   "execution_count": 107,
   "metadata": {},
   "outputs": [
    {
     "name": "stdout",
     "output_type": "stream",
     "text": [
      "\n",
      " ... Computing the S/N ... \n",
      "\n",
      "Signal & Cov must be given as functions (z,d) and (z,d,d') respectively. \n",
      "\n",
      "--------------------------------------------------\n",
      "\n",
      " Individual SNRs: \n",
      "\n",
      "Bin 1: 58.77421213378112\n",
      "Bin 2: 89.48345521707645\n",
      "Bin 3: 114.76519820946098\n",
      "Bin 4: 134.716436740866\n",
      "Bin 5: 149.53509304639073\n",
      "Bin 6: 159.5306944397853\n",
      "Bin 7: 164.89350644693744\n",
      "Bin 8: 165.8820114819602\n",
      "Bin 9: 162.66901920794453\n",
      "Bin 10: 155.44381004466567\n",
      "Bin 11: 144.78901213682857\n",
      "Bin 12: 131.1870337188347\n",
      "Bin 13: 115.31104126390467\n",
      "Bin 14: 98.24887356301002\n",
      "Bin 15: 80.54138755170176\n",
      "Bin 16: 63.4308923544652\n",
      "Bin 17: 47.776283841079085\n",
      "Bin 18: 34.10909687634405\n",
      "Bin 19: 23.019044873900647\n",
      "\n",
      "--------------------------------------------------\n",
      "\n",
      " Cumulative SNR : 521.0877057700761 \n",
      "\n",
      "--------------------------------------------------\n",
      "\n",
      " ... Computing the S/N ... \n",
      "\n",
      "Signal & Cov must be given as functions (z,d) and (z,d,d') respectively. \n",
      "\n",
      "--------------------------------------------------\n",
      "\n",
      " Individual SNRs: \n",
      "\n",
      "Bin 1: 50.28178239585822\n",
      "Bin 2: 77.28386120780625\n",
      "Bin 3: 99.94384383703023\n",
      "Bin 4: 118.14879038634017\n",
      "Bin 5: 131.8991068742575\n",
      "Bin 6: 141.3342362617081\n",
      "Bin 7: 146.50331386386273\n",
      "Bin 8: 147.5527542174896\n",
      "Bin 9: 144.5738848781501\n",
      "Bin 10: 137.71164761165207\n",
      "Bin 11: 127.54537910975058\n",
      "Bin 12: 114.5861151337434\n",
      "Bin 13: 99.55861983509341\n",
      "Bin 14: 83.59206824288859\n",
      "Bin 15: 67.27752849069671\n",
      "Bin 16: 51.838866094911715\n",
      "Bin 17: 38.08140791564808\n",
      "Bin 18: 26.451653840838368\n",
      "Bin 19: 17.35910008018916\n",
      "\n",
      "--------------------------------------------------\n",
      "\n",
      " Cumulative SNR : 457.03933585531564 \n",
      "\n",
      "--------------------------------------------------\n"
     ]
    }
   ],
   "source": [
    "for k,_ in enumerate(splits):\n",
    "    cumSNR, SNRz = fm.signal_to_noise(monopoleBB_signal[k], covs[k])"
   ]
  },
  {
   "cell_type": "markdown",
   "metadata": {},
   "source": [
    "## Test Fisher Matrix"
   ]
  },
  {
   "cell_type": "markdown",
   "metadata": {},
   "source": [
    "### Load the derivatives"
   ]
  },
  {
   "cell_type": "code",
   "execution_count": 108,
   "metadata": {},
   "outputs": [],
   "source": [
    "with open('derivatives.pkl', 'rb') as File:\n",
    "    derivatives_dict = pk.load(File)\n",
    "    \n",
    "derivatives_50x50 = derivatives_dict['split_50x50']\n",
    "derivatives_30x70 = derivatives_dict['split_30x70']"
   ]
  },
  {
   "cell_type": "code",
   "execution_count": 109,
   "metadata": {},
   "outputs": [
    {
     "data": {
      "text/plain": [
       "((8, 19, 324), (4, 19, 324), (5, 19, 324), (4, 19, 324))"
      ]
     },
     "execution_count": 109,
     "metadata": {},
     "output_type": "execute_result"
    }
   ],
   "source": [
    "dsignal_dsbias50 = derivatives_50x50['dsignal_dsbias']\n",
    "\n",
    "dsignal_dgbias50_ = derivatives_50x50['dsignal_dgbias']\n",
    "\n",
    "dsignal_dcosmic50 = derivatives_50x50['dsignal_dcosmic']\n",
    "\n",
    "dsignal_dnum50 = derivatives_50x50['dsignal_dnumev']\n",
    "\n",
    "np.shape(dsignal_dsbias50), np.shape(dsignal_dgbias50_), np.shape(dsignal_dcosmic50), np.shape(dsignal_dnum50)"
   ]
  },
  {
   "cell_type": "code",
   "execution_count": 110,
   "metadata": {},
   "outputs": [
    {
     "data": {
      "text/plain": [
       "((8, 19, 324), (4, 19, 324), (5, 19, 324), (4, 19, 324))"
      ]
     },
     "execution_count": 110,
     "metadata": {},
     "output_type": "execute_result"
    }
   ],
   "source": [
    "dsignal_dsbias30 = derivatives_30x70['dsignal_dsbias']\n",
    "\n",
    "dsignal_dgbias30_ = derivatives_30x70['dsignal_dgbias']\n",
    "\n",
    "dsignal_dcosmic30 = derivatives_30x70['dsignal_dcosmic']\n",
    "\n",
    "dsignal_dnum30 = derivatives_30x70['dsignal_dnumev']\n",
    "\n",
    "np.shape(dsignal_dsbias30), np.shape(dsignal_dgbias30_), np.shape(dsignal_dcosmic30), np.shape(dsignal_dnum30)"
   ]
  },
  {
   "cell_type": "code",
   "execution_count": 111,
   "metadata": {},
   "outputs": [
    {
     "data": {
      "text/plain": [
       "(21, 19, 324)"
      ]
     },
     "execution_count": 111,
     "metadata": {},
     "output_type": "execute_result"
    }
   ],
   "source": [
    "dsignal_dtheta50 = np.concatenate([dsignal_dsbias50, dsignal_dnum50, dsignal_dgbias50_, dsignal_dcosmic50])\n",
    "\n",
    "np.shape(dsignal_dtheta50)"
   ]
  },
  {
   "cell_type": "code",
   "execution_count": 112,
   "metadata": {},
   "outputs": [
    {
     "data": {
      "text/plain": [
       "(21, 19, 324)"
      ]
     },
     "execution_count": 112,
     "metadata": {},
     "output_type": "execute_result"
    }
   ],
   "source": [
    "dsignal_dtheta30 = np.concatenate([dsignal_dsbias30, dsignal_dnum30, dsignal_dgbias30_, dsignal_dcosmic30])\n",
    "\n",
    "np.shape(dsignal_dtheta30)"
   ]
  },
  {
   "cell_type": "code",
   "execution_count": 113,
   "metadata": {},
   "outputs": [],
   "source": [
    "dsignal_dsB50 = np.concatenate([dsignal_dsbias50[:4], np.zeros_like(dsignal_dsbias50[:4])], axis=2)\n",
    "dsignal_dsB30 = np.concatenate([np.zeros_like(dsignal_dsbias30[:4]), dsignal_dsbias30[:4]], axis=2)\n",
    "\n",
    "dsignal_dsM = np.concatenate([dsignal_dsbias50[4:], dsignal_dsbias30[4:]], axis=2)\n",
    "dsignal_dnum = np.concatenate([dsignal_dnum50, dsignal_dnum30], axis=2)\n",
    "dsignal_dgbias50 = np.concatenate([dsignal_dgbias50_, np.zeros_like(dsignal_dgbias50_[:4])], axis=2)\n",
    "dsignal_dgbias30 = np.concatenate([np.zeros_like(dsignal_dgbias30_[:4]), dsignal_dgbias30_], axis=2)\n",
    "dsignal_dcosmic = np.concatenate([dsignal_dcosmic50, dsignal_dcosmic30], axis=2)"
   ]
  },
  {
   "cell_type": "code",
   "execution_count": 114,
   "metadata": {},
   "outputs": [
    {
     "data": {
      "text/plain": [
       "(29, 19, 648)"
      ]
     },
     "execution_count": 114,
     "metadata": {},
     "output_type": "execute_result"
    }
   ],
   "source": [
    "dsignal_dtheta_multi = np.concatenate([dsignal_dsB50, dsignal_dsB30, dsignal_dsM, dsignal_dnum, dsignal_dgbias50, dsignal_dgbias30, dsignal_dcosmic])\n",
    "\n",
    "np.shape(dsignal_dtheta_multi)"
   ]
  },
  {
   "cell_type": "markdown",
   "metadata": {},
   "source": [
    "## Cosmic Parameters Fisher Matrices"
   ]
  },
  {
   "cell_type": "code",
   "execution_count": 115,
   "metadata": {},
   "outputs": [
    {
     "data": {
      "text/plain": [
       "((19, 324, 324), (19, 324, 324), (19, 648, 648))"
      ]
     },
     "execution_count": 115,
     "metadata": {},
     "output_type": "execute_result"
    }
   ],
   "source": [
    "Inv_CovMatrixSKA_joint = np.array([np.linalg.inv(CovMatrixSKA_joint[i]) for i,k in enumerate(z_bins)])\n",
    "\n",
    "np.shape(Inv_CovMatrixSKA_50x50), np.shape(Inv_CovMatrixSKA_30x70), np.shape(Inv_CovMatrixSKA_joint)"
   ]
  },
  {
   "cell_type": "code",
   "execution_count": 116,
   "metadata": {},
   "outputs": [
    {
     "name": "stdout",
     "output_type": "stream",
     "text": [
      "0 True True True\n",
      "1 True True True\n",
      "2 True True True\n",
      "3 True True True\n",
      "4 True True True\n",
      "5 True True True\n",
      "6 True True True\n",
      "7 True True True\n",
      "8 True True True\n",
      "9 True True True\n",
      "10 True True True\n",
      "11 True True True\n",
      "12 True True True\n",
      "13 True True True\n",
      "14 True True True\n",
      "15 True True True\n",
      "16 True True True\n",
      "17 True True True\n",
      "18 True True True\n"
     ]
    }
   ],
   "source": [
    "for n, z in enumerate(z_bins):\n",
    "    print(n, np.allclose(Inv_CovMatrixSKA_50x50[n], Inv_CovMatrixSKA_50x50[n].T, rtol=1e-4), \n",
    "          np.allclose(Inv_CovMatrixSKA_30x70[n], Inv_CovMatrixSKA_30x70[n].T, rtol=1e-4),\n",
    "          np.allclose(Inv_CovMatrixSKA_joint[n], Inv_CovMatrixSKA_joint[n].T, rtol=1e-1))"
   ]
  },
  {
   "cell_type": "code",
   "execution_count": 117,
   "metadata": {},
   "outputs": [
    {
     "name": "stdout",
     "output_type": "stream",
     "text": [
      "\n",
      " ... Computing the Fisher Matrix ... \n",
      "\n",
      "Signal & Cov must be given as functions (z,d) and (z,d,d') respectively. \n",
      "\n",
      "\n",
      " ... Success! ... \n",
      "\n",
      "\n",
      " ... Computing the Fisher Matrix ... \n",
      "\n",
      "Signal & Cov must be given as functions (z,d) and (z,d,d') respectively. \n",
      "\n",
      "\n",
      " ... Success! ... \n",
      "\n",
      "\n",
      " ... Computing the Fisher Matrix ... \n",
      "\n",
      "Signal & Cov must be given as functions (z,d) and (z,d,d') respectively. \n",
      "\n",
      "\n",
      " ... Success! ... \n",
      "\n"
     ]
    },
    {
     "data": {
      "text/plain": [
       "((5, 5), (5, 5), (5, 5))"
      ]
     },
     "execution_count": 117,
     "metadata": {},
     "output_type": "execute_result"
    }
   ],
   "source": [
    "FisherMatrixSKA_50x50 = fm.fisher_matrix(d_signal=dsignal_dcosmic50, inv_cov=Inv_CovMatrixSKA_50x50, z_bins=z_bins, bins=False)\n",
    "FisherMatrixSKA_30x70 = fm.fisher_matrix(d_signal=dsignal_dcosmic30, inv_cov=Inv_CovMatrixSKA_30x70, z_bins=z_bins, bins=False)\n",
    "FisherMatrixSKA_joint = fm.fisher_matrix(d_signal=dsignal_dcosmic, inv_cov=Inv_CovMatrixSKA_joint, z_bins=z_bins, bins=False)\n",
    "\n",
    "np.shape(FisherMatrixSKA_50x50), np.shape(FisherMatrixSKA_30x70), np.shape(FisherMatrixSKA_joint)\n"
   ]
  },
  {
   "cell_type": "code",
   "execution_count": 118,
   "metadata": {},
   "outputs": [
    {
     "name": "stdout",
     "output_type": "stream",
     "text": [
      "5164002.026713927\t1688886.113488194\t496226.54262118076\t-19413664.00695398\t6641394.1023081085\n",
      "1688886.1134881629\t591306.3728766952\t96541.34153689024\t-6055929.224972827\t2108424.579750899\n",
      "496226.5426212941\t96541.34153693542\t269437.40309821675\t-1928441.3798997358\t1401221.6430270765\n",
      "-19413664.00695389\t-6055929.2249728255\t-1928441.3798995449\t80306511.07905662\t-23831659.69196253\n",
      "6641394.102308079\t2108424.579750879\t1401221.643026993\t-23831659.691962913\t13961632.845623164\n"
     ]
    }
   ],
   "source": [
    "print('\\n'.join(['\\t'.join([str(cell) for cell in row]) for row in FisherMatrixSKA_50x50]))"
   ]
  },
  {
   "cell_type": "code",
   "execution_count": 119,
   "metadata": {},
   "outputs": [
    {
     "name": "stdout",
     "output_type": "stream",
     "text": [
      "5982702.933384105\t1941106.7989340974\t647009.0811368452\t-22479456.449509744\t7855159.7982589435\n",
      "1941106.7989341135\t670904.4828461709\t138897.17270884645\t-6988605.066999086\t2473726.474570977\n",
      "647009.0811369446\t138897.17270890815\t310960.1564787712\t-2499890.3801519116\t1671688.8824865094\n",
      "-22479456.449508905\t-6988605.066998642\t-2499890.3801519973\t92043357.18543775\t-28355007.711743876\n",
      "7855159.798259621\t2473726.4745712737\t1671688.8824863958\t-28355007.71174604\t15915477.89555201\n"
     ]
    }
   ],
   "source": [
    "print('\\n'.join(['\\t'.join([str(cell) for cell in row]) for row in FisherMatrixSKA_30x70]))"
   ]
  },
  {
   "cell_type": "code",
   "execution_count": 120,
   "metadata": {},
   "outputs": [
    {
     "name": "stdout",
     "output_type": "stream",
     "text": [
      "7393050.977918177\t2383284.3220618693\t863475.6507951431\t-27777333.960281923\t9935262.070098698\n",
      "2383284.3220597464\t817193.9654672426\t191980.80674421845\t-8597227.924881103\t3088642.5653488343\n",
      "863475.6507987647\t191980.8067444012\t394337.56680249213\t-3333277.289401583\t2206390.2229661164\n",
      "-27777333.960260592\t-8597227.924874905\t-3333277.289401003\t113184709.17958054\t-36053133.9668886\n",
      "9935262.070082664\t3088642.5653375383\t2206390.222975766\t-36053133.96687589\t20801956.492821\n"
     ]
    }
   ],
   "source": [
    "print('\\n'.join(['\\t'.join([str(cell) for cell in row]) for row in FisherMatrixSKA_joint]))"
   ]
  },
  {
   "cell_type": "code",
   "execution_count": 121,
   "metadata": {},
   "outputs": [
    {
     "data": {
      "text/plain": [
       "(5, 19, 324)"
      ]
     },
     "execution_count": 121,
     "metadata": {},
     "output_type": "execute_result"
    }
   ],
   "source": [
    "np.shape(dsignal_dcosmic50)"
   ]
  },
  {
   "cell_type": "code",
   "execution_count": 122,
   "metadata": {},
   "outputs": [
    {
     "data": {
      "text/plain": [
       "((5, 19, 648), (5, 19, 648), (10, 19, 648))"
      ]
     },
     "execution_count": 122,
     "metadata": {},
     "output_type": "execute_result"
    }
   ],
   "source": [
    "dsignal_dcosmic50_ = np.concatenate([dsignal_dcosmic50, np.zeros_like(dsignal_dcosmic30)], axis=2)\n",
    "dsignal_dcosmic30_ = np.concatenate([np.zeros_like(dsignal_dcosmic50), dsignal_dcosmic30], axis=2)\n",
    "\n",
    "dsignal_dcosmic_multi = np.concatenate([dsignal_dcosmic50_, dsignal_dcosmic30_])\n",
    "\n",
    "np.shape(dsignal_dcosmic50_), np.shape(dsignal_dcosmic30_), np.shape(dsignal_dcosmic_multi)"
   ]
  },
  {
   "cell_type": "code",
   "execution_count": 123,
   "metadata": {},
   "outputs": [
    {
     "name": "stdout",
     "output_type": "stream",
     "text": [
      "\n",
      " ... Computing the Fisher Matrix ... \n",
      "\n",
      "Signal & Cov must be given as functions (z,d) and (z,d,d') respectively. \n",
      "\n",
      "\n",
      " ... Success! ... \n",
      "\n"
     ]
    }
   ],
   "source": [
    "FisherMatrixSKA_joint_ = fm.fisher_matrix(d_signal=dsignal_dcosmic_multi, inv_cov=Inv_CovMatrixSKA_joint, z_bins=z_bins, bins=False)\n"
   ]
  },
  {
   "cell_type": "code",
   "execution_count": 124,
   "metadata": {},
   "outputs": [
    {
     "name": "stdout",
     "output_type": "stream",
     "text": [
      "35268641.169105165\t14073965.903849546\t-4790828.809878196\t-125964392.87725894\t28078415.02125295\t-32265951.04235994\t-13103486.3772117\t5121471.223890136\t114661915.6889265\t-23852665.565543037\n",
      "14073965.903850356\t6196705.384660047\t-3024875.7813160364\t-45925004.72450679\t10489882.777632276\t-13111437.05989921\t-5864090.5405076435\t3093888.2264252338\t42461758.74229238\t-9168884.645423714\n",
      "-4790828.809879368\t-3024875.7813163386\t3705209.329538938\t12925584.697688058\t2120614.6347166835\t5147703.084567771\t3103480.6386359725\t-3539644.0060946676\t-14298849.38761549\t-1188171.085717522\n",
      "-125964392.87723409\t-45925004.724495105\t12925584.697683452\t530611769.1232791\t-95113095.70066044\t114647679.0389023\t42427684.760702886\t-14203568.698204804\t-483986332.2597481\t79853049.4926907\n",
      "28078415.02125742\t10489882.77763418\t2120614.6347155264\t-95113095.70071512\t52988707.51662617\t-24107356.11161408\t-9251494.357591338\t-1225453.6531985896\t80776011.34982698\t-43945652.94553769\n",
      "-32265951.042416684\t-13111437.059909951\t5147703.084547128\t114647679.03901348\t-24107356.11167454\t36656311.893589675\t14524241.855333991\t-4614869.847763933\t-131122535.81096303\t29816868.726063326\n",
      "-13103486.377241842\t-5864090.540513375\t3103480.6386283133\t42427684.76077837\t-9251494.357612405\t14524241.855350446\t6348669.661828209\t-2980512.2769932854\t-47561666.703445055\t11019138.790752688\n",
      "5121471.223916996\t3093888.2264301167\t-3539644.006093583\t-14203568.698301513\t-1225453.6531984431\t-4614869.84780664\t-2980512.2770053544\t3768416.249451807\t12243556.098827394\t2499400.3271653913\n",
      "114661915.68907592\t42461758.7423183\t-14298849.387539536\t-483986332.25990415\t80776011.35003747\t-131122535.81100468\t-47561666.70340098\t12243556.098659903\t550545604.575954\t-101569099.10895632\n",
      "-23852665.565571353\t-9168884.645431764\t-1188171.0857441665\t79853049.49263678\t-43945652.94564535\t29816868.72601065\t11019138.790726459\t2499400.3272029897\t-101569099.10862443\t55704554.86737783\n"
     ]
    }
   ],
   "source": [
    "print('\\n'.join(['\\t'.join([str(cell) for cell in row]) for row in FisherMatrixSKA_joint_]))"
   ]
  },
  {
   "cell_type": "code",
   "execution_count": 125,
   "metadata": {},
   "outputs": [
    {
     "data": {
      "text/plain": [
       "(3.80170114158023e+29, 5.799576974802569e+62)"
      ]
     },
     "execution_count": 125,
     "metadata": {},
     "output_type": "execute_result"
    }
   ],
   "source": [
    "np.linalg.det(FisherMatrixSKA_joint), np.linalg.det(FisherMatrixSKA_joint_)"
   ]
  },
  {
   "cell_type": "code",
   "execution_count": 126,
   "metadata": {},
   "outputs": [
    {
     "name": "stdout",
     "output_type": "stream",
     "text": [
      "3.503860778506977e-05\t-7.487103977861287e-05\t-3.0310389876525967e-05\t2.799271210707713e-06\t2.448383993150621e-06\n",
      "-7.487103977874395e-05\t0.0001723020078428505\t7.301900175509824e-05\t-5.273294698966217e-06\t-6.708173132462623e-06\n",
      "-3.0310389877143207e-05\t7.301900175616668e-05\t3.817636217270933e-05\t-2.0092782147032092e-06\t-3.896780524120084e-06\n",
      "2.799271210699743e-06\t-5.27329469893763e-06\t-2.0092782146407583e-06\t2.846888268087113e-07\t1.5253399862127172e-07\n",
      "2.448383993220435e-06\t-6.708173132583796e-06\t-3.896780524148196e-06\t1.5253399862838547e-07\t5.523980204791495e-07\n"
     ]
    }
   ],
   "source": [
    "print('\\n'.join(['\\t'.join([str(cell) for cell in row]) for row in np.linalg.inv(FisherMatrixSKA_joint)]))"
   ]
  },
  {
   "cell_type": "markdown",
   "metadata": {},
   "source": [
    "## Cosmic Parameters + Galaxy Bias FISHER MATRIX"
   ]
  },
  {
   "cell_type": "code",
   "execution_count": 127,
   "metadata": {},
   "outputs": [
    {
     "data": {
      "text/plain": [
       "((9, 19, 324), (9, 19, 324), (13, 19, 648))"
      ]
     },
     "execution_count": 127,
     "metadata": {},
     "output_type": "execute_result"
    }
   ],
   "source": [
    "dsignal_dpars50x50 = np.concatenate([dsignal_dgbias50_, dsignal_dcosmic50])\n",
    "dsignal_dpars30x70 = np.concatenate([dsignal_dgbias30_, dsignal_dcosmic30])\n",
    "dsignal_dpars_joint = np.concatenate([dsignal_dgbias50, dsignal_dgbias30, dsignal_dcosmic])\n",
    "\n",
    "np.shape(dsignal_dpars50x50), np.shape(dsignal_dpars30x70), np.shape(dsignal_dpars_joint)"
   ]
  },
  {
   "cell_type": "code",
   "execution_count": 128,
   "metadata": {},
   "outputs": [
    {
     "name": "stdout",
     "output_type": "stream",
     "text": [
      "\n",
      " ... Computing the Fisher Matrix ... \n",
      "\n",
      "Signal & Cov must be given as functions (z,d) and (z,d,d') respectively. \n",
      "\n",
      "\n",
      " ... Success! ... \n",
      "\n",
      "\n",
      " ... Computing the Fisher Matrix ... \n",
      "\n",
      "Signal & Cov must be given as functions (z,d) and (z,d,d') respectively. \n",
      "\n",
      "\n",
      " ... Success! ... \n",
      "\n",
      "\n",
      " ... Computing the Fisher Matrix ... \n",
      "\n",
      "Signal & Cov must be given as functions (z,d) and (z,d,d') respectively. \n",
      "\n",
      "\n",
      " ... Success! ... \n",
      "\n"
     ]
    },
    {
     "data": {
      "text/plain": [
       "((9, 9), (9, 9), (13, 13))"
      ]
     },
     "execution_count": 128,
     "metadata": {},
     "output_type": "execute_result"
    }
   ],
   "source": [
    "FisherMatrixSKA_50x50 = fm.fisher_matrix(d_signal=dsignal_dpars50x50, inv_cov=Inv_CovMatrixSKA_50x50, z_bins=z_bins, bins=False)\n",
    "FisherMatrixSKA_30x70 = fm.fisher_matrix(d_signal=dsignal_dpars30x70, inv_cov=Inv_CovMatrixSKA_30x70, z_bins=z_bins, bins=False)\n",
    "FisherMatrixSKA_joint = fm.fisher_matrix(d_signal=dsignal_dpars_joint, inv_cov=Inv_CovMatrixSKA_joint, z_bins=z_bins, bins=False)\n",
    "\n",
    "np.shape(FisherMatrixSKA_50x50), np.shape(FisherMatrixSKA_30x70), np.shape(FisherMatrixSKA_joint)\n"
   ]
  },
  {
   "cell_type": "code",
   "execution_count": 129,
   "metadata": {},
   "outputs": [
    {
     "data": {
      "text/plain": [
       "(2.978620645887647e+53, 6.949421003610326e+53, 1.0764848219840307e+82)"
      ]
     },
     "execution_count": 129,
     "metadata": {},
     "output_type": "execute_result"
    }
   ],
   "source": [
    "np.linalg.det(FisherMatrixSKA_50x50), np.linalg.det(FisherMatrixSKA_30x70), np.linalg.det(FisherMatrixSKA_joint)"
   ]
  },
  {
   "cell_type": "code",
   "execution_count": 130,
   "metadata": {},
   "outputs": [
    {
     "name": "stdout",
     "output_type": "stream",
     "text": [
      "25447240.777854692\t7515169.987835224\t-31713835.347808655\t-9110094.934605015\t2177814.361231719\t1105856.1562454673\t-932413.0557254107\t-6618981.011715738\t-2933471.9958783127\n",
      "7515169.987835222\t2808444.203160712\t-9110094.934605015\t-3225463.7597114304\t1072997.0184735924\t504090.3908093623\t-332884.4190554553\t-3396522.347946506\t-474952.963605881\n",
      "-31713835.347809885\t-9110094.93460506\t48443965.55355428\t14405111.655087853\t2321035.4568680176\t305381.6409740199\t1695881.1591249863\t-10068274.409692686\t11822762.336750662\n",
      "-9110094.934605056\t-3225463.7597113927\t14405111.655087844\t5400372.421185124\t629545.2719306645\t69738.45404022718\t496145.3945584891\t-2793044.5741037377\t3003394.232552508\n",
      "2177814.3612309718\t1072997.0184736014\t2321035.456869026\t629545.2719306569\t5164002.026713927\t1688886.113488194\t496226.54262118076\t-19413664.00695398\t6641394.1023081085\n",
      "1105856.1562451809\t504090.390809364\t305381.6409744265\t69738.45404022578\t1688886.1134881629\t591306.3728766952\t96541.34153689024\t-6055929.224972827\t2108424.579750899\n",
      "-932413.0557254825\t-332884.41905548575\t1695881.1591251402\t496145.3945585524\t496226.5426212941\t96541.34153693542\t269437.40309821675\t-1928441.3798997358\t1401221.6430270765\n",
      "-6618981.011713022\t-3396522.347946646\t-10068274.409694914\t-2793044.574103466\t-19413664.00695389\t-6055929.2249728255\t-1928441.3798995449\t80306511.07905662\t-23831659.69196253\n",
      "-2933471.9958805563\t-474952.9636061552\t11822762.336753465\t3003394.232552853\t6641394.102308079\t2108424.579750879\t1401221.643026993\t-23831659.691962913\t13961632.845623164\n"
     ]
    }
   ],
   "source": [
    "print('\\n'.join(['\\t'.join([str(cell) for cell in row]) for row in FisherMatrixSKA_50x50]))"
   ]
  },
  {
   "cell_type": "code",
   "execution_count": 131,
   "metadata": {},
   "outputs": [
    {
     "name": "stdout",
     "output_type": "stream",
     "text": [
      "33016651.384679236\t8332488.267908776\t-50360159.32634173\t-12901331.246122913\t1874549.3290753085\t1015691.4324662106\t-994719.3725617193\t-5479385.917692468\t-3961393.346895395\n",
      "8332488.267908773\t2733114.2927259943\t-12901331.246122926\t-4149358.7031630417\t846945.2037477822\t422633.8689456244\t-337296.306303709\t-2592730.776060814\t-779727.1200034039\n",
      "-50360159.32633923\t-12901331.24612243\t84500438.42434922\t23254467.951169528\t2067729.6980300494\t117760.24214361416\t1973312.5021055618\t-9524773.356651565\t13038348.119257785\n",
      "-12901331.246122435\t-4149358.7031629556\t23254467.951169528\t8118604.127277631\t736809.8546538168\t81090.78851551346\t578643.8650978748\t-3279873.2486417764\t3469697.352632582\n",
      "1874549.3290768762\t846945.2037479944\t2067729.6980268739\t736809.8546534531\t5982702.933384105\t1941106.7989340974\t647009.0811368452\t-22479456.449509744\t7855159.7982589435\n",
      "1015691.4324669703\t422633.86894572224\t117760.24214217364\t81090.7885153587\t1941106.7989341135\t670904.4828461709\t138897.17270884645\t-6988605.066999086\t2473726.474570977\n",
      "-994719.372562376\t-337296.3063038523\t1973312.5021069231\t578643.8650981568\t647009.0811369446\t138897.17270890815\t310960.1564787712\t-2499890.3801519116\t1671688.8824865094\n",
      "-5479385.917697523\t-2592730.7760616518\t-9524773.356639676\t-3279873.248639772\t-22479456.449508905\t-6988605.066998642\t-2499890.3801519973\t92043357.18543775\t-28355007.711743876\n",
      "-3961393.346896719\t-779727.1200039316\t13038348.119260143\t3469697.352633649\t7855159.798259621\t2473726.4745712737\t1671688.8824863958\t-28355007.71174604\t15915477.89555201\n"
     ]
    }
   ],
   "source": [
    "print('\\n'.join(['\\t'.join([str(cell) for cell in row]) for row in FisherMatrixSKA_30x70]))"
   ]
  },
  {
   "cell_type": "code",
   "execution_count": 132,
   "metadata": {},
   "outputs": [
    {
     "name": "stdout",
     "output_type": "stream",
     "text": [
      "45056115.04321487\t12868503.391986465\t-30913266.777216937\t-8679538.271205634\t-22621884.742832616\t-6073643.848014291\t7529802.113562533\t1620330.0838263158\t1277229.2764293447\t696074.5689991552\t-691526.3196927829\t-3709565.2925022533\t-2727422.6152514825\n",
      "12868503.391986463\t4690256.864039837\t-8679538.271205636\t-2943180.299467973\t-6073643.848014291\t-2080191.2994007873\t1620330.0838263105\t252539.23417912755\t651826.2945108879\t319349.1778817093\t-242019.39917556048\t-2014288.203864682\t-512643.84782449616\n",
      "-30913266.777202196\t-8679538.271204118\t60630855.62803891\t17750461.621151518\t8767118.920199964\t2232329.990251182\t-29305063.565480813\t-8397956.20431456\t1188816.7070869617\t32909.02060687145\t1249697.9122478666\t-5576288.517081196\t8667876.033348091\n",
      "-8679538.271204118\t-2943180.299467778\t17750461.621151518\t6606170.468578394\t2232329.990251178\t624274.2414625247\t-8397956.204314565\t-3038156.6814630073\t312865.9876076333\t-11420.199872686713\t387967.8190757968\t-1548457.7027625232\t2222563.910087663\n",
      "-22621884.74286408\t-6073643.848014699\t8767118.92024641\t2232329.9902541875\t47613595.27836498\t11949186.279953705\t-52899329.25830745\t-13235095.516779337\t1378568.4626021162\t763095.7604589898\t-780535.7151028889\t-3978288.5496804453\t-3330995.6298727593\n",
      "-6073643.848014701\t-2080191.299400455\t2232329.9902541903\t624274.2414625813\t11949186.279953707\t3896983.9791770987\t-13235095.516779358\t-4078128.8027348444\t602271.0428912581\t308962.5793237878\t-265252.11125435843\t-1813481.188654522\t-711028.8952452616\n",
      "7529802.113181055\t1620330.083788925\t-29305063.565130644\t-8397956.20428024\t-52899329.25832838\t-13235095.516781718\t108441695.48393722\t30172028.97042146\t1424531.0504270114\t-6007.3271371633255\t1630472.489456617\t-6848060.068139775\t10292390.108081872\n",
      "1620330.0837889274\t252539.2341749524\t-8397956.204280239\t-3038156.6814590967\t-13235095.516781712\t-4078128.802735202\t30172028.97042151\t10646701.395481212\t458861.21249217656\t6240.417614419955\t496538.2320529092\t-2195188.612056134\t2757142.9221942234\n",
      "1277229.2761233542\t651826.2944842062\t1188816.7073837712\t312865.9876345139\t1378568.462570381\t602271.0428865901\t1424531.0505467053\t458861.21250420477\t7393050.977918177\t2383284.3220618693\t863475.6507951431\t-27777333.960281923\t9935262.070098698\n",
      "696074.568859997\t319349.1778695611\t32909.02073856985\t-11420.19986072404\t763095.7604425296\t308962.57932147244\t-6007.327078350694\t6240.417620437005\t2383284.3220597464\t817193.9654672426\t191980.80674421845\t-8597227.924881103\t3088642.5653488343\n",
      "-691526.3196079644\t-242019.39916835388\t1249697.9121752079\t387967.81906930904\t-780535.7150930898\t-265252.11125288944\t1630472.4894157161\t496538.2320485258\t863475.6507987647\t191980.8067444012\t394337.56680249213\t-3333277.289401583\t2206390.2229661164\n",
      "-3709565.2914966526\t-2014288.203780595\t-5576288.518057951\t-1548457.7028471965\t-3978288.5495833927\t-1813481.1886406217\t-6848060.068477142\t-2195188.612089101\t-27777333.960260592\t-8597227.924874905\t-3333277.289401003\t113184709.17958054\t-36053133.9668886\n",
      "-2727422.615518634\t-512643.84784789867\t8667876.033631673\t2222563.9101128993\t-3330995.629907998\t-711028.8952488784\t10292390.108160185\t2757142.9222008632\t9935262.070082664\t3088642.5653375383\t2206390.222975766\t-36053133.96687589\t20801956.492821\n"
     ]
    }
   ],
   "source": [
    "print('\\n'.join(['\\t'.join([str(cell) for cell in row]) for row in FisherMatrixSKA_joint]))"
   ]
  },
  {
   "cell_type": "code",
   "execution_count": 133,
   "metadata": {},
   "outputs": [
    {
     "data": {
      "text/plain": [
       "(18, 19, 648)"
      ]
     },
     "execution_count": 133,
     "metadata": {},
     "output_type": "execute_result"
    }
   ],
   "source": [
    "dsignal_dpars_joint_ = np.concatenate([dsignal_dgbias50, dsignal_dgbias30, dsignal_dcosmic_multi])\n",
    "\n",
    "np.shape(dsignal_dpars_joint_)"
   ]
  },
  {
   "cell_type": "code",
   "execution_count": 134,
   "metadata": {},
   "outputs": [
    {
     "name": "stdout",
     "output_type": "stream",
     "text": [
      "\n",
      " ... Computing the Fisher Matrix ... \n",
      "\n",
      "Signal & Cov must be given as functions (z,d) and (z,d,d') respectively. \n",
      "\n"
     ]
    },
    {
     "name": "stdout",
     "output_type": "stream",
     "text": [
      "\n",
      " ... Success! ... \n",
      "\n"
     ]
    }
   ],
   "source": [
    "FisherMatrixSKA_joint_ = fm.fisher_matrix(d_signal=dsignal_dpars_joint_, inv_cov=Inv_CovMatrixSKA_joint, z_bins=z_bins, bins=False)"
   ]
  },
  {
   "cell_type": "code",
   "execution_count": 135,
   "metadata": {},
   "outputs": [
    {
     "data": {
      "text/plain": [
       "((18, 18), 8.388974487012565e+113)"
      ]
     },
     "execution_count": 135,
     "metadata": {},
     "output_type": "execute_result"
    }
   ],
   "source": [
    "np.shape(FisherMatrixSKA_joint_), np.linalg.det(FisherMatrixSKA_joint_)"
   ]
  },
  {
   "cell_type": "code",
   "execution_count": 136,
   "metadata": {},
   "outputs": [
    {
     "name": "stdout",
     "output_type": "stream",
     "text": [
      "45056115.04321487\t12868503.391986465\t-30913266.777216937\t-8679538.271205634\t-22621884.742832616\t-6073643.848014291\t7529802.113562533\t1620330.0838263158\t21468198.412166715\t10043128.063477222\t-6409607.5211132085\t-67866577.77817763\t8175652.51016016\t-20190969.135737356\t-9347053.494478084\t5718081.2014204115\t64157012.48567533\t-10903075.125411658\n",
      "12868503.391986463\t4690256.864039837\t-8679538.271205636\t-2943180.299467973\t-6073643.848014291\t-2080191.2994007873\t1620330.0838263105\t252539.23417912755\t6221154.57750778\t2892740.9017117615\t-1802813.9942347999\t-19727000.159026258\t1964069.6066690662\t-5569328.282996887\t-2573391.7238300545\t1560794.5950592398\t17712711.955161545\t-2476713.45449357\n",
      "-30913266.777202196\t-8679538.271204118\t60630855.62803891\t17750461.621151518\t8767118.920199964\t2232329.990251182\t-29305063.565480813\t-8397956.20431456\t11459249.043103997\t4191557.065063723\t124490.06102099083\t-40581879.555599\t20419935.27392009\t-10270432.336017016\t-4158648.044456861\t1125207.8512268793\t35005591.03851783\t-11752059.240571981\n",
      "-8679538.271204118\t-2943180.299467778\t17750461.621151518\t6606170.468578394\t2232329.990251178\t624274.2414625247\t-8397956.204314565\t-3038156.6814630073\t3240993.4505279856\t1208005.0871030637\t-35411.42248077585\t-11404108.413091686\t4884679.767401171\t-2928127.46292035\t-1219425.286975751\t423379.2415565709\t9855650.710329164\t-2662115.8573135063\n",
      "-22621884.74286408\t-6073643.848014699\t8767118.92024641\t2232329.9902541875\t47613595.27836498\t11949186.279953705\t-52899329.25830745\t-13235095.516779337\t-13827657.250143113\t-6439248.869034297\t4029816.329584818\t43794088.6650714\t-7170088.840254973\t15206225.712745208\t7202344.629493279\t-4810352.044687713\t-47772377.21475186\t3839093.2103822064\n",
      "-6073643.848014701\t-2080191.299400455\t2232329.9902541903\t624274.2414625813\t11949186.279953707\t3896983.9791770987\t-13235095.516779358\t-4078128.8027348444\t-3778822.062438372\t-1756715.9049181931\t1090655.6976636567\t11975808.529209547\t-1589316.8372856874\t4381093.105329623\t2065678.4842419806\t-1355907.8089180163\t-13789289.717864089\t878287.9420404213\n",
      "7529802.113181055\t1620330.083788925\t-29305063.565130644\t-8397956.20428024\t-52899329.25832838\t-13235095.516781718\t108441695.48393722\t30172028.97042146\t-15534262.3951079\t-6667801.76487013\t2838733.085694478\t51470544.1132844\t-14248751.443103587\t16958793.445534926\t6661794.43773297\t-1208260.5962378618\t-58318604.18142416\t24541141.551185463\n",
      "1620330.0837889274\t252539.2341749524\t-8397956.204280239\t-3038156.6814590967\t-13235095.516781712\t-4078128.802735202\t30172028.97042151\t10646701.395481212\t-4520832.579955065\t-1962606.2278294316\t893201.7294015815\t14900627.734239852\t-3372313.507781843\t4979693.792447225\t1968846.6454438553\t-396663.4973486679\t-17095816.346295957\t6129456.429976068\n",
      "21468198.412169974\t6221154.577508394\t11459249.043099511\t3240993.450527457\t-13827657.250131935\t-3778822.062438971\t-15534262.395054871\t-4520832.579949573\t35268641.169105165\t14073965.903849546\t-4790828.809878196\t-125964392.87725894\t28078415.02125295\t-32265951.04235994\t-13103486.3772117\t5121471.223890136\t114661915.6889265\t-23852665.565543037\n",
      "10043128.063483452\t2892740.901712562\t4191557.0650564446\t1208005.0871022204\t-6439248.869036874\t-1756715.9049191524\t-6667801.764850165\t-1962606.227827137\t14073965.903850356\t6196705.384660047\t-3024875.7813160364\t-45925004.72450679\t10489882.777632276\t-13111437.05989921\t-5864090.5405076435\t3093888.2264252338\t42461758.74229238\t-9168884.645423714\n",
      "-6409607.521126537\t-1802813.994236296\t124490.06103647\t-35411.422479027104\t4029816.329592449\t1090655.6976647333\t2838733.0856989417\t893201.729401486\t-4790828.809879368\t-3024875.7813163386\t3705209.329538938\t12925584.697688058\t2120614.6347166835\t5147703.084567771\t3103480.6386359725\t-3539644.0060946676\t-14298849.38761549\t-1188171.085717522\n",
      "-67866577.77816589\t-19727000.159025684\t-40581879.55558146\t-11404108.413090358\t43794088.66503088\t11975808.52921043\t51470544.11319273\t14900627.734229892\t-125964392.87723409\t-45925004.724495105\t12925584.697683452\t530611769.1232791\t-95113095.70066044\t114647679.0389023\t42427684.760702886\t-14203568.698204804\t-483986332.2597481\t79853049.4926907\n",
      "8175652.510142834\t1964069.606667446\t20419935.273944303\t4884679.767403645\t-7170088.8402687535\t-1589316.8372882158\t-14248751.44300562\t-3372313.5077728946\t28078415.02125742\t10489882.77763418\t2120614.6347155264\t-95113095.70071512\t52988707.51662617\t-24107356.11161408\t-9251494.357591338\t-1225453.6531985896\t80776011.34982698\t-43945652.94553769\n",
      "-20190969.13604662\t-5569328.2830241835\t-10270432.335715743\t-2928127.462892943\t15206225.712702328\t4381093.105325565\t16958793.445601583\t4979693.792453784\t-32265951.042416684\t-13111437.059909951\t5147703.084547128\t114647679.03901348\t-24107356.11167454\t36656311.893589675\t14524241.855333991\t-4614869.847763933\t-131122535.81096303\t29816868.726063326\n",
      "-9347053.494623452\t-2573391.7238430027\t-4158648.044317872\t-1219425.2869629443\t7202344.629479405\t2065678.4842406255\t6661794.437771788\t1968846.6454475694\t-13103486.377241842\t-5864090.540513375\t3103480.6386283133\t42427684.76077837\t-9251494.357612405\t14524241.855350446\t6348669.661828209\t-2980512.2769932854\t-47561666.703445055\t11019138.790752688\n",
      "5718081.201518572\t1560794.595067942\t1125207.8511387412\t423379.24154833663\t-4810352.044685543\t-1355907.8089176225\t-1208260.5962832295\t-396663.49735296116\t5121471.223916996\t3093888.2264301167\t-3539644.006093583\t-14203568.698301513\t-1225453.6531984431\t-4614869.84780664\t-2980512.2770053544\t3768416.249451807\t12243556.098827394\t2499400.3271653913\n",
      "64157012.48666923\t17712711.955245085\t35005591.03752352\t9855650.710243165\t-47772377.21461437\t-13789289.71785107\t-58318604.18166967\t-17095816.34631897\t114661915.68907592\t42461758.7423183\t-14298849.387539536\t-483986332.25990415\t80776011.35003747\t-131122535.81100468\t-47561666.70340098\t12243556.098659903\t550545604.575954\t-101569099.10895632\n",
      "-10903075.12566147\t-2476713.454515345\t-11752059.240312623\t-2662115.857290745\t3839093.2103607436\t878287.9420393362\t24541141.551165815\t6129456.429973757\t-23852665.565571353\t-9168884.645431764\t-1188171.0857441665\t79853049.49263678\t-43945652.94564535\t29816868.72601065\t11019138.790726459\t2499400.3272029897\t-101569099.10862443\t55704554.86737783\n"
     ]
    }
   ],
   "source": [
    "print('\\n'.join(['\\t'.join([str(cell) for cell in row]) for row in FisherMatrixSKA_joint_]))"
   ]
  },
  {
   "cell_type": "markdown",
   "metadata": {},
   "source": [
    "# Joint Covariance Matrix 50x30 [CC & CP]"
   ]
  },
  {
   "cell_type": "markdown",
   "metadata": {},
   "source": [
    "## Check Cauchy-Schwarz inequality \n",
    "\n",
    "The Cauchy-Schwarz inequality implies:\n",
    "\n",
    "$$ \\mathrm{COV}(X,Y) \\leq \\sqrt{\\mathrm{VAR}(X)\\cdot\\mathrm{VAR}(Y)}$$"
   ]
  },
  {
   "cell_type": "code",
   "execution_count": 137,
   "metadata": {},
   "outputs": [],
   "source": [
    "z_bins = np.array([0.15, 0.25, 0.35, 0.45, 0.55, 0.65, 0.75, 0.85, 0.95, 1.05, 1.15, 1.25, 1.35, 1.45, 1.55, 1.65, 1.75, 1.85, 1.95])\n"
   ]
  },
  {
   "cell_type": "code",
   "execution_count": 138,
   "metadata": {},
   "outputs": [
    {
     "name": "stdout",
     "output_type": "stream",
     "text": [
      "\n",
      " ... Loading Covariance Matrices (Joint-splittings Analysis) [CC&CP] [MONOBB, MONOBF, MONOFF, DIPBF, QUADBB, QUADBF, QUADFF, HEXAT, OCTBF] ... \n",
      "\n"
     ]
    }
   ],
   "source": [
    "CovMatrixSKA_joint = fm.cov_matrix_joint(d=dist[0], z_bins=z_bins, small_off_diagonal=True, rtol=1e-4, splits=[50,30], contributions='CC&CP')"
   ]
  },
  {
   "cell_type": "code",
   "execution_count": 139,
   "metadata": {},
   "outputs": [
    {
     "name": "stdout",
     "output_type": "stream",
     "text": [
      "0 True\n",
      "1 True\n",
      "2 True\n",
      "3 True\n",
      "4 True\n",
      "5 True\n",
      "6 True\n",
      "7 True\n",
      "8 True\n",
      "9 True\n",
      "10 True\n",
      "11 True\n",
      "12 True\n",
      "13 True\n",
      "14 True\n",
      "15 True\n",
      "16 True\n",
      "17 True\n",
      "18 True\n"
     ]
    }
   ],
   "source": [
    "for n, z in enumerate(z_bins):\n",
    "    print(n, np.allclose(CovMatrixSKA_joint[n], CovMatrixSKA_joint[n].T, rtol = 1e-20))"
   ]
  },
  {
   "cell_type": "code",
   "execution_count": 140,
   "metadata": {},
   "outputs": [
    {
     "data": {
      "text/plain": [
       "((19, 324, 324), (19, 324, 324), (19, 648, 648))"
      ]
     },
     "execution_count": 140,
     "metadata": {},
     "output_type": "execute_result"
    }
   ],
   "source": [
    "np.shape(CovMatrixSKA_50x50), np.shape(CovMatrixSKA_30x70), np.shape(CovMatrixSKA_joint)"
   ]
  },
  {
   "cell_type": "code",
   "execution_count": 141,
   "metadata": {},
   "outputs": [],
   "source": [
    "CovMatrixSKA_50x30 = np.array([CovMatrixSKA_joint[k][:324, 324:] for k,_ in enumerate(z_bins)])\n",
    "CovMatrixSKA_30x50 = np.array([CovMatrixSKA_joint[k][324:, :324] for k,_ in enumerate(z_bins)])"
   ]
  },
  {
   "cell_type": "code",
   "execution_count": 142,
   "metadata": {},
   "outputs": [
    {
     "data": {
      "text/plain": [
       "((19, 324, 324), (19, 324, 324))"
      ]
     },
     "execution_count": 142,
     "metadata": {},
     "output_type": "execute_result"
    }
   ],
   "source": [
    "np.shape(CovMatrixSKA_50x30), np.shape(CovMatrixSKA_30x50)"
   ]
  },
  {
   "cell_type": "code",
   "execution_count": 143,
   "metadata": {},
   "outputs": [
    {
     "name": "stdout",
     "output_type": "stream",
     "text": [
      "0 True True\n",
      "1 True True\n",
      "2 True True\n",
      "3 True True\n",
      "4 True True\n",
      "5 True True\n",
      "6 True True\n",
      "7 True True\n",
      "8 True True\n",
      "9 True True\n",
      "10 True True\n",
      "11 True True\n",
      "12 True True\n",
      "13 True True\n",
      "14 True True\n",
      "15 True True\n",
      "16 True True\n",
      "17 True True\n",
      "18 True True\n"
     ]
    }
   ],
   "source": [
    "for n, z in enumerate(z_bins):\n",
    "    print(n, np.allclose(CovMatrixSKA_50x30[n], CovMatrixSKA_30x50[n].T, rtol=1e-10), np.allclose(CovMatrixSKA_30x50[n], CovMatrixSKA_50x30[n].T, rtol = 1e-10))"
   ]
  },
  {
   "cell_type": "code",
   "execution_count": 144,
   "metadata": {},
   "outputs": [
    {
     "name": "stdout",
     "output_type": "stream",
     "text": [
      "0 True\n",
      "1 True\n",
      "2 True\n",
      "3 True\n",
      "4 True\n",
      "5 True\n",
      "6 True\n",
      "7 True\n",
      "8 True\n",
      "9 True\n",
      "10 True\n",
      "11 True\n",
      "12 True\n",
      "13 True\n",
      "14 True\n",
      "15 True\n",
      "16 True\n",
      "17 True\n",
      "18 True\n"
     ]
    }
   ],
   "source": [
    "for n, z in enumerate(z_bins):\n",
    "    print(n, np.allclose(CovMatrixSKA_joint[n], CovMatrixSKA_joint[n].T, rtol=1e-20))"
   ]
  },
  {
   "cell_type": "code",
   "execution_count": 145,
   "metadata": {},
   "outputs": [
    {
     "data": {
      "text/plain": [
       "((19, 324, 324), (19, 324, 324))"
      ]
     },
     "execution_count": 145,
     "metadata": {},
     "output_type": "execute_result"
    }
   ],
   "source": [
    "np.shape(CovMatrixSKA_50x30), np.shape(CovMatrixSKA_30x50)"
   ]
  },
  {
   "cell_type": "code",
   "execution_count": 146,
   "metadata": {},
   "outputs": [
    {
     "data": {
      "text/plain": [
       "(1.7610798515470308e-05, 1.7610798515470308e-05)"
      ]
     },
     "execution_count": 146,
     "metadata": {},
     "output_type": "execute_result"
    }
   ],
   "source": [
    "CovMatrixSKA_50x30[0,0,0], CovMatrixSKA_30x50[0,0,0]"
   ]
  },
  {
   "cell_type": "code",
   "execution_count": 147,
   "metadata": {},
   "outputs": [
    {
     "data": {
      "text/plain": [
       "(1.1406613424594502e-05, 2.728761334220845e-05)"
      ]
     },
     "execution_count": 147,
     "metadata": {},
     "output_type": "execute_result"
    }
   ],
   "source": [
    "CovMatrixSKA_50x50[0,0,0], CovMatrixSKA_30x70[0,0,0]"
   ]
  },
  {
   "cell_type": "code",
   "execution_count": 148,
   "metadata": {},
   "outputs": [
    {
     "data": {
      "text/plain": [
       "(-4.188698962835081e-09, -4.188698962835081e-09)"
      ]
     },
     "execution_count": 148,
     "metadata": {},
     "output_type": "execute_result"
    }
   ],
   "source": [
    "CovMatrixSKA_50x30[0,17,267], CovMatrixSKA_30x50[0,267,17]"
   ]
  },
  {
   "cell_type": "code",
   "execution_count": 149,
   "metadata": {},
   "outputs": [
    {
     "data": {
      "text/plain": [
       "(-4.188698962835081e-09, -5.405294849542528e-09)"
      ]
     },
     "execution_count": 149,
     "metadata": {},
     "output_type": "execute_result"
    }
   ],
   "source": [
    "CovMatrixSKA_50x50[0,17,267], CovMatrixSKA_30x70[0,267,17]"
   ]
  },
  {
   "cell_type": "markdown",
   "metadata": {},
   "source": [
    "## Checking directly from Joint Cov Matrix 50x30\n",
    "\n",
    "Compare off diagonal elements (covariances) versus the correspondent diagonal ones (variances)."
   ]
  },
  {
   "cell_type": "code",
   "execution_count": 150,
   "metadata": {},
   "outputs": [
    {
     "data": {
      "text/plain": [
       "((19, 648, 648), list)"
      ]
     },
     "execution_count": 150,
     "metadata": {},
     "output_type": "execute_result"
    }
   ],
   "source": [
    "np.shape(CovMatrixSKA_joint), type(CovMatrixSKA_joint)"
   ]
  },
  {
   "cell_type": "code",
   "execution_count": 151,
   "metadata": {},
   "outputs": [
    {
     "data": {
      "text/plain": [
       "324"
      ]
     },
     "execution_count": 151,
     "metadata": {},
     "output_type": "execute_result"
    }
   ],
   "source": [
    "36*9"
   ]
  },
  {
   "cell_type": "code",
   "execution_count": 152,
   "metadata": {},
   "outputs": [
    {
     "name": "stdout",
     "output_type": "stream",
     "text": [
      " Monopole BB (d=d), 50x50 =  1.1406613424594502e-05 \n",
      " Monopole BB (d=d), 30x70 =  2.728761334220845e-05\n"
     ]
    }
   ],
   "source": [
    "print(' Monopole BB (d=d), 50x50 = ', CovMatrixSKA_joint[0][0,0],'\\n','Monopole BB (d=d), 30x70 = ', CovMatrixSKA_joint[0][324,324] ) "
   ]
  },
  {
   "cell_type": "code",
   "execution_count": 153,
   "metadata": {},
   "outputs": [
    {
     "name": "stdout",
     "output_type": "stream",
     "text": [
      " Monopole BB (d=d), 50x30 =  1.7610798515470308e-05 \n",
      " Monopole BB (d=d), 30x50 =  1.7610798515470308e-05\n"
     ]
    }
   ],
   "source": [
    "print(' Monopole BB (d=d), 50x30 = ', CovMatrixSKA_joint[0][0,324],'\\n', 'Monopole BB (d=d), 30x50 = ', CovMatrixSKA_joint[0][324,0] ) "
   ]
  },
  {
   "cell_type": "code",
   "execution_count": 154,
   "metadata": {},
   "outputs": [
    {
     "name": "stdout",
     "output_type": "stream",
     "text": [
      "0.15 True True\n",
      "0.25 True True\n",
      "0.35 True True\n",
      "0.45 True True\n",
      "0.55 True True\n",
      "0.65 True True\n",
      "0.75 True True\n",
      "0.85 True True\n",
      "0.95 True True\n",
      "1.05 True True\n",
      "1.15 True True\n",
      "1.25 True True\n",
      "1.35 True True\n",
      "1.45 True True\n",
      "1.55 True True\n",
      "1.65 True True\n",
      "1.75 True True\n",
      "1.85 True True\n",
      "1.95 True True\n"
     ]
    }
   ],
   "source": [
    "for k,_ in enumerate(z_bins):\n",
    "    print(z_bins[k], np.sqrt(CovMatrixSKA_joint[k][0,0] * CovMatrixSKA_joint[k][324,324]) >= CovMatrixSKA_joint[k][0,324], np.sqrt(CovMatrixSKA_joint[k][0,0] * CovMatrixSKA_joint[k][324,324]) >= CovMatrixSKA_joint[k][324,0])"
   ]
  },
  {
   "cell_type": "code",
   "execution_count": 155,
   "metadata": {},
   "outputs": [
    {
     "name": "stdout",
     "output_type": "stream",
     "text": [
      "0.15 1.764254110592856e-05 1.7610798515470308e-05\n",
      "0.25 7.014350303522421e-06 7.000400277266332e-06\n",
      "0.35 3.904079159778656e-06 3.895062136086899e-06\n",
      "0.45 2.5784765980908824e-06 2.57107636566038e-06\n",
      "0.55 1.8931986511136867e-06 1.8859244727706914e-06\n",
      "0.65 1.4969289169443364e-06 1.4887901541805723e-06\n",
      "0.75 1.2532721988093958e-06 1.2431276615296576e-06\n",
      "0.85 1.1007803772214066e-06 1.0870014862248079e-06\n",
      "0.95 1.0104386161984314e-06 9.901499630882853e-07\n",
      "1.05 9.703620669081107e-07 9.379489200039358e-07\n",
      "1.15 9.797925594098938e-07 9.242245765777368e-07\n",
      "1.25 1.0534917202039827e-06 9.507403503374526e-07\n",
      "1.35 1.2326007500359773e-06 1.0273878979568094e-06\n",
      "1.45 1.6096843827924573e-06 1.1732188677180108e-06\n",
      "1.55 2.436372271029366e-06 1.432633277938617e-06\n",
      "1.65 4.3288471808299055e-06 1.8786578035440482e-06\n",
      "1.75 8.978984214121797e-06 2.65237939130472e-06\n",
      "1.85 2.1513371013254955e-05 4.045155132628991e-06\n",
      "1.95 5.784949838880617e-05 6.620985876809156e-06\n"
     ]
    }
   ],
   "source": [
    "for k,_ in enumerate(z_bins):\n",
    "    print(z_bins[k], np.sqrt(CovMatrixSKA_joint[k][0,0] * CovMatrixSKA_joint[k][324,324]), CovMatrixSKA_joint[k][0,324])"
   ]
  },
  {
   "cell_type": "code",
   "execution_count": 156,
   "metadata": {},
   "outputs": [
    {
     "name": "stdout",
     "output_type": "stream",
     "text": [
      " MonoBQuadBF (d=d), 50x50 =  1.9425535215326826e-06 \n",
      " MonoBQuadBF (d=d) (d=d), 30x70 =  4.3165840334060815e-06\n",
      " Monopole BB (d=d), 50x30 =  2.8911929143650812e-06 \n",
      " Monopole BB (d=d), 30x50 =  2.8911929143650812e-06\n"
     ]
    }
   ],
   "source": [
    "print(' MonoBQuadBF (d=d), 50x50 = ', CovMatrixSKA_joint[0][179,179],'\\n','MonoBQuadBF (d=d) (d=d), 30x70 = ', CovMatrixSKA_joint[0][179+324,179+324] )\n",
    "print(' Monopole BB (d=d), 50x30 = ', CovMatrixSKA_joint[0][179,179+324],'\\n', 'Monopole BB (d=d), 30x50 = ', CovMatrixSKA_joint[0][179+324,179] )  "
   ]
  },
  {
   "cell_type": "code",
   "execution_count": 157,
   "metadata": {},
   "outputs": [
    {
     "name": "stdout",
     "output_type": "stream",
     "text": [
      "True True\n",
      "True True\n",
      "True True\n",
      "True True\n",
      "True True\n",
      "True True\n",
      "True True\n",
      "True True\n",
      "True True\n",
      "True True\n",
      "True True\n",
      "True True\n",
      "True True\n",
      "True True\n",
      "True True\n",
      "True True\n",
      "True True\n",
      "True True\n",
      "True True\n"
     ]
    }
   ],
   "source": [
    "for k,_ in enumerate(z_bins):\n",
    "    print(np.sqrt(CovMatrixSKA_joint[k][179,179] * CovMatrixSKA_joint[k][179+324,179+324]) >= CovMatrixSKA_joint[k][179,179+324], \n",
    "          np.sqrt(CovMatrixSKA_joint[k][179,179] * CovMatrixSKA_joint[k][179+324,179+324]) >= CovMatrixSKA_joint[k][324+179,179])"
   ]
  },
  {
   "cell_type": "code",
   "execution_count": 158,
   "metadata": {},
   "outputs": [
    {
     "data": {
      "text/plain": [
       "324"
      ]
     },
     "execution_count": 158,
     "metadata": {},
     "output_type": "execute_result"
    }
   ],
   "source": [
    "len(CovMatrixSKA_50x50[0])"
   ]
  },
  {
   "cell_type": "code",
   "execution_count": 159,
   "metadata": {},
   "outputs": [
    {
     "name": "stdout",
     "output_type": "stream",
     "text": [
      " Element (d=d), 50x50 =  1.2444286340731441e-08 \n",
      " Element (d=d), 30x70 =  1.563436441154079e-08\n",
      " Element (d=d), 50x30 =  1.0220284535632892e-08 \n",
      " Element (d=d), 30x50 =  1.0220284535632892e-08 \n",
      "\n",
      "Check COV(X,Y)^2 <= SQRT(VAR(X) * VAR(Y)) \n",
      "\n",
      "True True\n",
      "True True\n",
      "True True\n",
      "True True\n",
      "True True\n",
      "True True\n",
      "True True\n",
      "True True\n",
      "True True\n",
      "True True\n",
      "True True\n",
      "True True\n",
      "True True\n",
      "True True\n",
      "True True\n",
      "True True\n",
      "True True\n",
      "True True\n",
      "True True\n"
     ]
    }
   ],
   "source": [
    "i_element = 288\n",
    "j_element = i_element\n",
    "l = len(CovMatrixSKA_50x50[0])\n",
    "\n",
    "print(' Element (d=d), 50x50 = ', CovMatrixSKA_joint[0][i_element,j_element],'\\n','Element (d=d), 30x70 = ', CovMatrixSKA_joint[0][i_element+l,j_element+l] )\n",
    "print(' Element (d=d), 50x30 = ', CovMatrixSKA_joint[0][i_element,j_element+l],'\\n', 'Element (d=d), 30x50 = ', CovMatrixSKA_joint[0][i_element+l,j_element],'\\n' )  \n",
    "\n",
    "print('Check COV(X,Y)^2 <= SQRT(VAR(X) * VAR(Y)) \\n')\n",
    "for k,_ in enumerate(z_bins):\n",
    "    print(np.sqrt(CovMatrixSKA_joint[k][i_element,j_element] * CovMatrixSKA_joint[k][i_element+l,j_element+l]) >= CovMatrixSKA_joint[k][i_element,j_element+l], \n",
    "          np.sqrt(CovMatrixSKA_joint[k][i_element,j_element] * CovMatrixSKA_joint[k][i_element+l,j_element+l]) >= CovMatrixSKA_joint[k][i_element+l,j_element])"
   ]
  },
  {
   "cell_type": "code",
   "execution_count": 160,
   "metadata": {},
   "outputs": [
    {
     "name": "stdout",
     "output_type": "stream",
     "text": [
      " Element (d=d), 50x50 =  6.551780712795955e-08 \n",
      " Element (d=d), 30x70 =  1.6800215155336124e-07\n",
      " Element (d=d), 50x30 =  1.0388496607481709e-07 \n",
      " Element (d=d), 30x50 =  1.0388496607481709e-07 \n",
      "\n",
      "Check COV(X,Y)^2 <= SQRT(VAR(X) * VAR(Y)) \n",
      "\n",
      "True True\n",
      "True True\n",
      "True True\n",
      "True True\n",
      "True True\n",
      "True True\n",
      "True True\n",
      "True True\n",
      "True True\n",
      "True True\n",
      "True True\n",
      "True True\n",
      "True True\n",
      "True True\n",
      "True True\n",
      "True True\n",
      "True True\n",
      "True True\n",
      "True True\n"
     ]
    }
   ],
   "source": [
    "i_element = 56\n",
    "j_element = i_element\n",
    "l = len(CovMatrixSKA_50x50[0])\n",
    "\n",
    "print(' Element (d=d), 50x50 = ', CovMatrixSKA_joint[0][i_element,j_element],'\\n','Element (d=d), 30x70 = ', CovMatrixSKA_joint[0][i_element+l,j_element+l] )\n",
    "print(' Element (d=d), 50x30 = ', CovMatrixSKA_joint[0][i_element,j_element+l],'\\n', 'Element (d=d), 30x50 = ', CovMatrixSKA_joint[0][i_element+l,j_element],'\\n' )  \n",
    "\n",
    "print('Check COV(X,Y)^2 <= SQRT(VAR(X) * VAR(Y)) \\n')\n",
    "for k,_ in enumerate(z_bins):\n",
    "    print(np.sqrt(CovMatrixSKA_joint[k][i_element,j_element] * CovMatrixSKA_joint[k][i_element+l,j_element+l]) >= CovMatrixSKA_joint[k][i_element,j_element+l], \n",
    "          np.sqrt(CovMatrixSKA_joint[k][i_element,j_element] * CovMatrixSKA_joint[k][i_element+l,j_element+l]) >= CovMatrixSKA_joint[k][i_element+l,j_element])"
   ]
  },
  {
   "cell_type": "code",
   "execution_count": 161,
   "metadata": {},
   "outputs": [
    {
     "name": "stdout",
     "output_type": "stream",
     "text": [
      "5.093876193886468e-07 1.0577598333198072e-06\n",
      "5.353246240816097e-08 5.353246240816097e-08\n"
     ]
    }
   ],
   "source": [
    "print(CovMatrixSKA_50x50[0][24,24], CovMatrixSKA_50x50[0][36,36])\n",
    "print(CovMatrixSKA_50x50[0][24,36], CovMatrixSKA_50x50[0][36,24])"
   ]
  },
  {
   "cell_type": "code",
   "execution_count": 162,
   "metadata": {},
   "outputs": [
    {
     "name": "stdout",
     "output_type": "stream",
     "text": [
      "z =  0.15 | check:  True\n",
      "z =  0.25 | check:  True\n",
      "z =  0.35 | check:  True\n",
      "z =  0.45 | check:  True\n",
      "z =  0.55 | check:  True\n",
      "z =  0.65 | check:  True\n",
      "z =  0.75 | check:  True\n",
      "z =  0.85 | check:  True\n",
      "z =  0.95 | check:  True\n",
      "z =  1.05 | check:  True\n",
      "z =  1.15 | check:  True\n",
      "z =  1.25 | check:  True\n",
      "z =  1.35 | check:  True\n",
      "z =  1.45 | check:  True\n",
      "z =  1.55 | check:  True\n",
      "z =  1.65 | check:  True\n",
      "z =  1.75 | check:  True\n",
      "z =  1.85 | check:  True\n",
      "z =  1.95 | check:  True\n"
     ]
    }
   ],
   "source": [
    "for k,_ in enumerate(z_bins):\n",
    "    print('z = ',_, '| check: ', CovMatrixSKA_50x50[k][10,25]**2 <= CovMatrixSKA_50x50[k][10,10]*CovMatrixSKA_50x50[k][25,25])"
   ]
  },
  {
   "cell_type": "code",
   "execution_count": 163,
   "metadata": {},
   "outputs": [
    {
     "name": "stdout",
     "output_type": "stream",
     "text": [
      "z =  0.15 | check:  True\n",
      "z =  0.25 | check:  True\n",
      "z =  0.35 | check:  True\n",
      "z =  0.45 | check:  True\n",
      "z =  0.55 | check:  True\n",
      "z =  0.65 | check:  True\n",
      "z =  0.75 | check:  True\n",
      "z =  0.85 | check:  True\n",
      "z =  0.95 | check:  True\n",
      "z =  1.05 | check:  True\n",
      "z =  1.15 | check:  True\n",
      "z =  1.25 | check:  True\n",
      "z =  1.35 | check:  True\n",
      "z =  1.45 | check:  True\n",
      "z =  1.55 | check:  True\n",
      "z =  1.65 | check:  True\n",
      "z =  1.75 | check:  True\n",
      "z =  1.85 | check:  True\n",
      "z =  1.95 | check:  True\n"
     ]
    }
   ],
   "source": [
    "for k,_ in enumerate(z_bins):\n",
    "    print('z = ',_, '| check: ', CovMatrixSKA_30x70[k][18,30]**2 <= CovMatrixSKA_30x70[k][18,18]*CovMatrixSKA_30x70[k][30,30])"
   ]
  },
  {
   "cell_type": "markdown",
   "metadata": {},
   "source": [
    "## Signal-to-noise"
   ]
  },
  {
   "cell_type": "code",
   "execution_count": 164,
   "metadata": {},
   "outputs": [],
   "source": [
    "splits = [2., 10/3.]\n",
    "\n",
    "mySignals = [Signal(solver=Solver(zs=[0], **params_dict0), n_split=m) for m in splits]\n"
   ]
  },
  {
   "cell_type": "code",
   "execution_count": 165,
   "metadata": {},
   "outputs": [
    {
     "data": {
      "text/plain": [
       "(2, 3, 19, 36)"
      ]
     },
     "execution_count": 165,
     "metadata": {},
     "output_type": "execute_result"
    }
   ],
   "source": [
    "d = np.linspace(20,160,36)\n",
    "z_b = np.linspace(0.15, 1.95, 19)\n",
    "\n",
    "monopole_sigs = [mySignals[k]._monopole(d=d, z=z_b) for k,_ in enumerate(splits)]\n",
    "\n",
    "np.shape(monopole_sigs)"
   ]
  },
  {
   "cell_type": "code",
   "execution_count": 166,
   "metadata": {},
   "outputs": [],
   "source": [
    "monopoleBB_signal = [monopole_sigs[k][0] for k,_ in enumerate(splits)]"
   ]
  },
  {
   "cell_type": "code",
   "execution_count": 167,
   "metadata": {},
   "outputs": [],
   "source": [
    "VarMONO_50x50 = [CovMatrixSKA_50x50[k,:36,:36] for k,_ in  enumerate(z_b)]\n",
    "VarMONO_30x70 = [CovMatrixSKA_30x70[k,:36,:36] for k,_ in  enumerate(z_b)]\n",
    "#VarMONO_10x90 = [CovMatrixSKA_10x90[k,:36,:36] for k,_ in  enumerate(z_bins)]"
   ]
  },
  {
   "cell_type": "code",
   "execution_count": 168,
   "metadata": {},
   "outputs": [
    {
     "name": "stdout",
     "output_type": "stream",
     "text": [
      "\n",
      " ... Computing the S/N ... \n",
      "\n",
      "Signal & Cov must be given as functions (z,d) and (z,d,d') respectively. \n",
      "\n",
      "--------------------------------------------------\n",
      "\n",
      " Individual SNRs: \n",
      "\n",
      "Bin 1: 58.77421213378112\n",
      "Bin 2: 89.48345521707645\n",
      "Bin 3: 114.76519820946098\n",
      "Bin 4: 134.716436740866\n",
      "Bin 5: 149.53509304639073\n",
      "Bin 6: 159.5306944397853\n",
      "Bin 7: 164.89350644693744\n",
      "Bin 8: 165.8820114819602\n",
      "Bin 9: 162.66901920794453\n",
      "Bin 10: 155.44381004466567\n",
      "Bin 11: 144.78901213682857\n",
      "Bin 12: 131.1870337188347\n",
      "Bin 13: 115.31104126390467\n",
      "Bin 14: 98.24887356301002\n",
      "Bin 15: 80.54138755170176\n",
      "Bin 16: 63.4308923544652\n",
      "Bin 17: 47.776283841079085\n",
      "Bin 18: 34.10909687634405\n",
      "Bin 19: 23.019044873900647\n",
      "\n",
      "--------------------------------------------------\n",
      "\n",
      " Cumulative SNR : 521.0877057700761 \n",
      "\n",
      "--------------------------------------------------\n"
     ]
    }
   ],
   "source": [
    "\n",
    "#covs = [ VarMONO_50x50, VarMONO_30x70, VarMONO_10x90 ]\n",
    "\n",
    "covs = [ VarMONO_50x50, VarMONO_30x70 ]\n",
    "\n",
    "\n",
    "cumSNR, SNRz = fm.signal_to_noise(monopoleBB_signal[0], covs[0])"
   ]
  },
  {
   "cell_type": "code",
   "execution_count": 169,
   "metadata": {},
   "outputs": [
    {
     "name": "stdout",
     "output_type": "stream",
     "text": [
      "\n",
      " ... Computing the S/N ... \n",
      "\n",
      "Signal & Cov must be given as functions (z,d) and (z,d,d') respectively. \n",
      "\n",
      "--------------------------------------------------\n",
      "\n",
      " Individual SNRs: \n",
      "\n",
      "Bin 1: 58.77421213378112\n",
      "Bin 2: 89.48345521707645\n",
      "Bin 3: 114.76519820946098\n",
      "Bin 4: 134.716436740866\n",
      "Bin 5: 149.53509304639073\n",
      "Bin 6: 159.5306944397853\n",
      "Bin 7: 164.89350644693744\n",
      "Bin 8: 165.8820114819602\n",
      "Bin 9: 162.66901920794453\n",
      "Bin 10: 155.44381004466567\n",
      "Bin 11: 144.78901213682857\n",
      "Bin 12: 131.1870337188347\n",
      "Bin 13: 115.31104126390467\n",
      "Bin 14: 98.24887356301002\n",
      "Bin 15: 80.54138755170176\n",
      "Bin 16: 63.4308923544652\n",
      "Bin 17: 47.776283841079085\n",
      "Bin 18: 34.10909687634405\n",
      "Bin 19: 23.019044873900647\n",
      "\n",
      "--------------------------------------------------\n",
      "\n",
      " Cumulative SNR : 521.0877057700761 \n",
      "\n",
      "--------------------------------------------------\n",
      "\n",
      " ... Computing the S/N ... \n",
      "\n",
      "Signal & Cov must be given as functions (z,d) and (z,d,d') respectively. \n",
      "\n",
      "--------------------------------------------------\n",
      "\n",
      " Individual SNRs: \n",
      "\n",
      "Bin 1: 50.28178239585822\n",
      "Bin 2: 77.28386120780625\n",
      "Bin 3: 99.94384383703023\n",
      "Bin 4: 118.14879038634017\n",
      "Bin 5: 131.8991068742575\n",
      "Bin 6: 141.3342362617081\n",
      "Bin 7: 146.50331386386273\n",
      "Bin 8: 147.5527542174896\n",
      "Bin 9: 144.5738848781501\n",
      "Bin 10: 137.71164761165207\n",
      "Bin 11: 127.54537910975058\n",
      "Bin 12: 114.5861151337434\n",
      "Bin 13: 99.55861983509341\n",
      "Bin 14: 83.59206824288859\n",
      "Bin 15: 67.27752849069671\n",
      "Bin 16: 51.838866094911715\n",
      "Bin 17: 38.08140791564808\n",
      "Bin 18: 26.451653840838368\n",
      "Bin 19: 17.35910008018916\n",
      "\n",
      "--------------------------------------------------\n",
      "\n",
      " Cumulative SNR : 457.03933585531564 \n",
      "\n",
      "--------------------------------------------------\n"
     ]
    }
   ],
   "source": [
    "for k,_ in enumerate(splits):\n",
    "    cumSNR, SNRz = fm.signal_to_noise(monopoleBB_signal[k], covs[k])"
   ]
  },
  {
   "cell_type": "markdown",
   "metadata": {},
   "source": [
    "## Test Fisher Matrix"
   ]
  },
  {
   "cell_type": "markdown",
   "metadata": {},
   "source": [
    "### Load the derivatives"
   ]
  },
  {
   "cell_type": "code",
   "execution_count": 170,
   "metadata": {},
   "outputs": [],
   "source": [
    "with open('derivatives.pkl', 'rb') as File:\n",
    "    derivatives_dict = pk.load(File)\n",
    "    \n",
    "derivatives_50x50 = derivatives_dict['split_50x50']\n",
    "derivatives_30x70 = derivatives_dict['split_30x70']"
   ]
  },
  {
   "cell_type": "code",
   "execution_count": 171,
   "metadata": {},
   "outputs": [
    {
     "data": {
      "text/plain": [
       "((8, 19, 324), (4, 19, 324), (5, 19, 324), (4, 19, 324))"
      ]
     },
     "execution_count": 171,
     "metadata": {},
     "output_type": "execute_result"
    }
   ],
   "source": [
    "dsignal_dsbias50 = derivatives_50x50['dsignal_dsbias']\n",
    "\n",
    "dsignal_dgbias50_ = derivatives_50x50['dsignal_dgbias']\n",
    "\n",
    "dsignal_dcosmic50 = derivatives_50x50['dsignal_dcosmic']\n",
    "\n",
    "dsignal_dnum50 = derivatives_50x50['dsignal_dnumev']\n",
    "\n",
    "np.shape(dsignal_dsbias50), np.shape(dsignal_dgbias50_), np.shape(dsignal_dcosmic50), np.shape(dsignal_dnum50)"
   ]
  },
  {
   "cell_type": "code",
   "execution_count": 172,
   "metadata": {},
   "outputs": [
    {
     "data": {
      "text/plain": [
       "((8, 19, 324), (4, 19, 324), (5, 19, 324), (4, 19, 324))"
      ]
     },
     "execution_count": 172,
     "metadata": {},
     "output_type": "execute_result"
    }
   ],
   "source": [
    "dsignal_dsbias30 = derivatives_30x70['dsignal_dsbias']\n",
    "\n",
    "dsignal_dgbias30_ = derivatives_30x70['dsignal_dgbias']\n",
    "\n",
    "dsignal_dcosmic30 = derivatives_30x70['dsignal_dcosmic']\n",
    "\n",
    "dsignal_dnum30 = derivatives_30x70['dsignal_dnumev']\n",
    "\n",
    "np.shape(dsignal_dsbias30), np.shape(dsignal_dgbias30_), np.shape(dsignal_dcosmic30), np.shape(dsignal_dnum30)"
   ]
  },
  {
   "cell_type": "code",
   "execution_count": 173,
   "metadata": {},
   "outputs": [
    {
     "data": {
      "text/plain": [
       "(21, 19, 324)"
      ]
     },
     "execution_count": 173,
     "metadata": {},
     "output_type": "execute_result"
    }
   ],
   "source": [
    "dsignal_dtheta50 = np.concatenate([dsignal_dsbias50, dsignal_dnum50, dsignal_dgbias50_, dsignal_dcosmic50])\n",
    "\n",
    "np.shape(dsignal_dtheta50)"
   ]
  },
  {
   "cell_type": "code",
   "execution_count": 174,
   "metadata": {},
   "outputs": [
    {
     "data": {
      "text/plain": [
       "(21, 19, 324)"
      ]
     },
     "execution_count": 174,
     "metadata": {},
     "output_type": "execute_result"
    }
   ],
   "source": [
    "dsignal_dtheta30 = np.concatenate([dsignal_dsbias30, dsignal_dnum30, dsignal_dgbias30_, dsignal_dcosmic30])\n",
    "\n",
    "np.shape(dsignal_dtheta30)"
   ]
  },
  {
   "cell_type": "code",
   "execution_count": 175,
   "metadata": {},
   "outputs": [],
   "source": [
    "dsignal_dsB50 = np.concatenate([dsignal_dsbias50[:4], np.zeros_like(dsignal_dsbias50[:4])], axis=2)\n",
    "dsignal_dsB30 = np.concatenate([np.zeros_like(dsignal_dsbias30[:4]), dsignal_dsbias30[:4]], axis=2)\n",
    "\n",
    "dsignal_dsM = np.concatenate([dsignal_dsbias50[4:], dsignal_dsbias30[4:]], axis=2)\n",
    "dsignal_dnum = np.concatenate([dsignal_dnum50, dsignal_dnum30], axis=2)\n",
    "dsignal_dgbias50 = np.concatenate([dsignal_dgbias50_, np.zeros_like(dsignal_dgbias50_[:4])], axis=2)\n",
    "dsignal_dgbias30 = np.concatenate([np.zeros_like(dsignal_dgbias30_[:4]), dsignal_dgbias30_], axis=2)\n",
    "dsignal_dcosmic = np.concatenate([dsignal_dcosmic50, dsignal_dcosmic30], axis=2)"
   ]
  },
  {
   "cell_type": "code",
   "execution_count": 176,
   "metadata": {},
   "outputs": [
    {
     "data": {
      "text/plain": [
       "(29, 19, 648)"
      ]
     },
     "execution_count": 176,
     "metadata": {},
     "output_type": "execute_result"
    }
   ],
   "source": [
    "dsignal_dtheta_multi = np.concatenate([dsignal_dsB50, dsignal_dsB30, dsignal_dsM, dsignal_dnum, dsignal_dgbias50, dsignal_dgbias30, dsignal_dcosmic])\n",
    "\n",
    "np.shape(dsignal_dtheta_multi)"
   ]
  },
  {
   "cell_type": "markdown",
   "metadata": {},
   "source": [
    "## Cosmic Parameters Fisher Matrices"
   ]
  },
  {
   "cell_type": "code",
   "execution_count": 177,
   "metadata": {},
   "outputs": [
    {
     "data": {
      "text/plain": [
       "((19, 324, 324), (19, 324, 324), (19, 648, 648))"
      ]
     },
     "execution_count": 177,
     "metadata": {},
     "output_type": "execute_result"
    }
   ],
   "source": [
    "Inv_CovMatrixSKA_joint = np.array([np.linalg.inv(CovMatrixSKA_joint[i]) for i,k in enumerate(z_bins)])\n",
    "\n",
    "np.shape(Inv_CovMatrixSKA_50x50), np.shape(Inv_CovMatrixSKA_30x70), np.shape(Inv_CovMatrixSKA_joint)"
   ]
  },
  {
   "cell_type": "code",
   "execution_count": 178,
   "metadata": {},
   "outputs": [
    {
     "name": "stdout",
     "output_type": "stream",
     "text": [
      "0 True True True\n",
      "1 True True True\n",
      "2 True True False\n",
      "3 True True True\n",
      "4 True True True\n",
      "5 True True True\n",
      "6 True True True\n",
      "7 True True True\n",
      "8 True True True\n",
      "9 True True True\n",
      "10 True True True\n",
      "11 True True True\n",
      "12 True True True\n",
      "13 True True True\n",
      "14 True True True\n",
      "15 True True True\n",
      "16 True True True\n",
      "17 True True True\n",
      "18 True True True\n"
     ]
    }
   ],
   "source": [
    "for n, z in enumerate(z_bins):\n",
    "    print(n, np.allclose(Inv_CovMatrixSKA_50x50[n], Inv_CovMatrixSKA_50x50[n].T, rtol=1e-4), \n",
    "          np.allclose(Inv_CovMatrixSKA_30x70[n], Inv_CovMatrixSKA_30x70[n].T, rtol=1e-4),\n",
    "          np.allclose(Inv_CovMatrixSKA_joint[n], Inv_CovMatrixSKA_joint[n].T, rtol=1e-2))"
   ]
  },
  {
   "cell_type": "code",
   "execution_count": 179,
   "metadata": {},
   "outputs": [
    {
     "name": "stdout",
     "output_type": "stream",
     "text": [
      "\n",
      " ... Computing the Fisher Matrix ... \n",
      "\n",
      "Signal & Cov must be given as functions (z,d) and (z,d,d') respectively. \n",
      "\n",
      "\n",
      " ... Success! ... \n",
      "\n",
      "\n",
      " ... Computing the Fisher Matrix ... \n",
      "\n",
      "Signal & Cov must be given as functions (z,d) and (z,d,d') respectively. \n",
      "\n",
      "\n",
      " ... Success! ... \n",
      "\n",
      "\n",
      " ... Computing the Fisher Matrix ... \n",
      "\n",
      "Signal & Cov must be given as functions (z,d) and (z,d,d') respectively. \n",
      "\n",
      "\n",
      " ... Success! ... \n",
      "\n"
     ]
    },
    {
     "data": {
      "text/plain": [
       "((5, 5), (5, 5), (5, 5))"
      ]
     },
     "execution_count": 179,
     "metadata": {},
     "output_type": "execute_result"
    }
   ],
   "source": [
    "FisherMatrixSKA_50x50 = fm.fisher_matrix(d_signal=dsignal_dcosmic50, inv_cov=Inv_CovMatrixSKA_50x50, z_bins=z_bins, bins=False)\n",
    "FisherMatrixSKA_30x70 = fm.fisher_matrix(d_signal=dsignal_dcosmic30, inv_cov=Inv_CovMatrixSKA_30x70, z_bins=z_bins, bins=False)\n",
    "FisherMatrixSKA_joint = fm.fisher_matrix(d_signal=dsignal_dcosmic, inv_cov=Inv_CovMatrixSKA_joint, z_bins=z_bins, bins=False)\n",
    "\n",
    "np.shape(FisherMatrixSKA_50x50), np.shape(FisherMatrixSKA_30x70), np.shape(FisherMatrixSKA_joint)\n"
   ]
  },
  {
   "cell_type": "code",
   "execution_count": 180,
   "metadata": {},
   "outputs": [
    {
     "name": "stdout",
     "output_type": "stream",
     "text": [
      "5164002.026713927\t1688886.113488194\t496226.54262118076\t-19413664.00695398\t6641394.1023081085\n",
      "1688886.1134881629\t591306.3728766952\t96541.34153689024\t-6055929.224972827\t2108424.579750899\n",
      "496226.5426212941\t96541.34153693542\t269437.40309821675\t-1928441.3798997358\t1401221.6430270765\n",
      "-19413664.00695389\t-6055929.2249728255\t-1928441.3798995449\t80306511.07905662\t-23831659.69196253\n",
      "6641394.102308079\t2108424.579750879\t1401221.643026993\t-23831659.691962913\t13961632.845623164\n"
     ]
    }
   ],
   "source": [
    "print('\\n'.join(['\\t'.join([str(cell) for cell in row]) for row in FisherMatrixSKA_50x50]))"
   ]
  },
  {
   "cell_type": "code",
   "execution_count": 181,
   "metadata": {},
   "outputs": [
    {
     "name": "stdout",
     "output_type": "stream",
     "text": [
      "5982702.933384105\t1941106.7989340974\t647009.0811368452\t-22479456.449509744\t7855159.7982589435\n",
      "1941106.7989341135\t670904.4828461709\t138897.17270884645\t-6988605.066999086\t2473726.474570977\n",
      "647009.0811369446\t138897.17270890815\t310960.1564787712\t-2499890.3801519116\t1671688.8824865094\n",
      "-22479456.449508905\t-6988605.066998642\t-2499890.3801519973\t92043357.18543775\t-28355007.711743876\n",
      "7855159.798259621\t2473726.4745712737\t1671688.8824863958\t-28355007.71174604\t15915477.89555201\n"
     ]
    }
   ],
   "source": [
    "print('\\n'.join(['\\t'.join([str(cell) for cell in row]) for row in FisherMatrixSKA_30x70]))"
   ]
  },
  {
   "cell_type": "code",
   "execution_count": 182,
   "metadata": {},
   "outputs": [
    {
     "name": "stdout",
     "output_type": "stream",
     "text": [
      "6405232.029924338\t2077977.6826575808\t697354.5570693449\t-24059807.030419346\t8319137.816911822\n",
      "2077977.6826578246\t718020.1282746888\t149400.52635495152\t-7482815.152958558\t2607830.438294836\n",
      "697354.5570693264\t149400.52635493194\t335729.1513240685\t-2699977.708029737\t1802649.6326798527\n",
      "-24059807.03043552\t-7482815.152965439\t-2699977.7080230205\t98334244.47419085\t-30083566.183535084\n",
      "8319137.816940438\t2607830.438307992\t1802649.6326699953\t-30083566.1836229\t17060637.332088664\n"
     ]
    }
   ],
   "source": [
    "print('\\n'.join(['\\t'.join([str(cell) for cell in row]) for row in FisherMatrixSKA_joint]))"
   ]
  },
  {
   "cell_type": "code",
   "execution_count": 183,
   "metadata": {},
   "outputs": [
    {
     "data": {
      "text/plain": [
       "(5, 19, 324)"
      ]
     },
     "execution_count": 183,
     "metadata": {},
     "output_type": "execute_result"
    }
   ],
   "source": [
    "np.shape(dsignal_dcosmic50)"
   ]
  },
  {
   "cell_type": "code",
   "execution_count": 184,
   "metadata": {},
   "outputs": [
    {
     "data": {
      "text/plain": [
       "((5, 19, 648), (5, 19, 648), (10, 19, 648))"
      ]
     },
     "execution_count": 184,
     "metadata": {},
     "output_type": "execute_result"
    }
   ],
   "source": [
    "dsignal_dcosmic50_ = np.concatenate([dsignal_dcosmic50, np.zeros_like(dsignal_dcosmic30)], axis=2)\n",
    "dsignal_dcosmic30_ = np.concatenate([np.zeros_like(dsignal_dcosmic50), dsignal_dcosmic30], axis=2)\n",
    "\n",
    "dsignal_dcosmic_multi = np.concatenate([dsignal_dcosmic50_, dsignal_dcosmic30_])\n",
    "\n",
    "np.shape(dsignal_dcosmic50_), np.shape(dsignal_dcosmic30_), np.shape(dsignal_dcosmic_multi)"
   ]
  },
  {
   "cell_type": "code",
   "execution_count": 185,
   "metadata": {},
   "outputs": [
    {
     "name": "stdout",
     "output_type": "stream",
     "text": [
      "\n",
      " ... Computing the Fisher Matrix ... \n",
      "\n",
      "Signal & Cov must be given as functions (z,d) and (z,d,d') respectively. \n",
      "\n"
     ]
    },
    {
     "name": "stdout",
     "output_type": "stream",
     "text": [
      "\n",
      " ... Success! ... \n",
      "\n"
     ]
    }
   ],
   "source": [
    "FisherMatrixSKA_joint_ = fm.fisher_matrix(d_signal=dsignal_dcosmic_multi, inv_cov=Inv_CovMatrixSKA_joint, z_bins=z_bins, bins=False)\n"
   ]
  },
  {
   "cell_type": "code",
   "execution_count": 186,
   "metadata": {},
   "outputs": [
    {
     "name": "stdout",
     "output_type": "stream",
     "text": [
      "9539077189.76009\t4699062467.304879\t-3793566785.955897\t-30204876274.45651\t4890748239.244772\t-9536684220.731607\t-4698204436.697295\t3793554670.3935885\t30196040435.182156\t-4888259081.254623\n",
      "4699062467.2954445\t2681438429.277575\t-2716175973.8133435\t-12353821449.585\t1265344060.3906302\t-4698119894.350827\t-2681073937.8858085\t2716122523.3009934\t12350510213.68771\t-1264409034.188464\n",
      "-3793566785.9022207\t-2716175973.803107\t3697388428.7369437\t7403214754.726536\t1751758662.677313\t3793310549.048102\t2716030687.8027267\t-3697229754.035046\t-7402351353.679704\t-1751517185.1360176\n",
      "-30204876274.314995\t-12353821449.63124\t7403214755.0802145\t125862048670.84528\t-20812945507.020832\t30196415642.46067\t12350944574.720057\t-7403193159.663582\t-125827016753.56006\t20805518665.96384\n",
      "4890748239.398234\t1265344060.4087021\t1751758662.6997545\t-20812945508.125942\t13043577015.263817\t-4888830269.198083\t-1264685233.1894965\t-1751437914.217336\t20806419502.35252\t-13038689843.025333\n",
      "-9536684220.724144\t-4698119894.359445\t3793310549.1027875\t30196415642.535072\t-4888830269.044237\t9540696483.725584\t4699339841.434518\t-3792601078.98341\t-30211639610.29112\t4894660248.870998\n",
      "-4698204436.685153\t-2681073937.8839865\t2716030687.808436\t12350944574.648737\t-1264685233.1819215\t4699339841.423193\t2681427466.620494\t-2715827836.7697334\t-12355116153.904396\t1266358037.4180503\n",
      "3793554670.3397655\t2716122523.2861214\t-3697229754.0203915\t-7403193159.308844\t-1751437914.1629176\t-3792601078.928578\t-2715827836.759389\t3697406808.469816\t7399629780.553983\t1752999086.2543018\n",
      "30196040435.01358\t12350510213.737549\t-7402351354.057102\t-125827016753.31721\t20806419501.206593\t-30211639610.189693\t-12355116153.979328\t7399629780.932444\t125890319080.5062\t-20829076226.333126\n",
      "-4888259081.397317\t-1264409034.2121294\t-1751517185.1351664\t20805518666.97692\t-13038689842.97786\t4894660249.014103\t1266358037.431232\t1752999086.285418\t-20829076227.38712\t13050863308.07148\n"
     ]
    }
   ],
   "source": [
    "print('\\n'.join(['\\t'.join([str(cell) for cell in row]) for row in FisherMatrixSKA_joint_]))"
   ]
  },
  {
   "cell_type": "code",
   "execution_count": 187,
   "metadata": {},
   "outputs": [
    {
     "data": {
      "text/plain": [
       "(1.893120279696526e+29, 6.127975740830933e+74)"
      ]
     },
     "execution_count": 187,
     "metadata": {},
     "output_type": "execute_result"
    }
   ],
   "source": [
    "np.linalg.det(FisherMatrixSKA_joint), np.linalg.det(FisherMatrixSKA_joint_)"
   ]
  },
  {
   "cell_type": "code",
   "execution_count": 188,
   "metadata": {},
   "outputs": [
    {
     "name": "stdout",
     "output_type": "stream",
     "text": [
      "4.0294831661160583e-05\t-8.699649604758185e-05\t-3.567580567338526e-05\t3.191531604555138e-06\t3.0466319489029477e-06\n",
      "-8.699649604738407e-05\t0.00020202523659769512\t8.671266478368432e-05\t-6.088526158424483e-06\t-8.357768311300435e-06\n",
      "-3.567580567324954e-05\t8.671266478373623e-05\t4.532957723260507e-05\t-2.3538798290344217e-06\t-4.7985562475037825e-06\n",
      "3.1915316045637484e-06\t-6.088526158457173e-06\t-2.353879829058179e-06\t3.2095689589204496e-07\t1.8907858722081115e-07\n",
      "3.0466319488688754e-06\t-8.357768311258237e-06\t-4.798556247464513e-06\t1.8907858721713672e-07\t6.909803636360851e-07\n"
     ]
    }
   ],
   "source": [
    "print('\\n'.join(['\\t'.join([str(cell) for cell in row]) for row in np.linalg.inv(FisherMatrixSKA_joint)]))"
   ]
  },
  {
   "cell_type": "markdown",
   "metadata": {},
   "source": [
    "## Cosmic Parameters + Galaxy Bias FISHER MATRIX"
   ]
  },
  {
   "cell_type": "code",
   "execution_count": 189,
   "metadata": {},
   "outputs": [
    {
     "data": {
      "text/plain": [
       "((9, 19, 324), (9, 19, 324), (13, 19, 648))"
      ]
     },
     "execution_count": 189,
     "metadata": {},
     "output_type": "execute_result"
    }
   ],
   "source": [
    "dsignal_dpars50x50 = np.concatenate([dsignal_dgbias50_, dsignal_dcosmic50])\n",
    "dsignal_dpars30x70 = np.concatenate([dsignal_dgbias30_, dsignal_dcosmic30])\n",
    "dsignal_dpars_joint = np.concatenate([dsignal_dgbias50, dsignal_dgbias30, dsignal_dcosmic])\n",
    "\n",
    "np.shape(dsignal_dpars50x50), np.shape(dsignal_dpars30x70), np.shape(dsignal_dpars_joint)"
   ]
  },
  {
   "cell_type": "code",
   "execution_count": 190,
   "metadata": {},
   "outputs": [
    {
     "name": "stdout",
     "output_type": "stream",
     "text": [
      "\n",
      " ... Computing the Fisher Matrix ... \n",
      "\n",
      "Signal & Cov must be given as functions (z,d) and (z,d,d') respectively. \n",
      "\n",
      "\n",
      " ... Success! ... \n",
      "\n",
      "\n",
      " ... Computing the Fisher Matrix ... \n",
      "\n",
      "Signal & Cov must be given as functions (z,d) and (z,d,d') respectively. \n",
      "\n",
      "\n",
      " ... Success! ... \n",
      "\n",
      "\n",
      " ... Computing the Fisher Matrix ... \n",
      "\n",
      "Signal & Cov must be given as functions (z,d) and (z,d,d') respectively. \n",
      "\n",
      "\n",
      " ... Success! ... \n",
      "\n"
     ]
    },
    {
     "data": {
      "text/plain": [
       "((9, 9), (9, 9), (13, 13))"
      ]
     },
     "execution_count": 190,
     "metadata": {},
     "output_type": "execute_result"
    }
   ],
   "source": [
    "FisherMatrixSKA_50x50 = fm.fisher_matrix(d_signal=dsignal_dpars50x50, inv_cov=Inv_CovMatrixSKA_50x50, z_bins=z_bins, bins=False)\n",
    "FisherMatrixSKA_30x70 = fm.fisher_matrix(d_signal=dsignal_dpars30x70, inv_cov=Inv_CovMatrixSKA_30x70, z_bins=z_bins, bins=False)\n",
    "FisherMatrixSKA_joint = fm.fisher_matrix(d_signal=dsignal_dpars_joint, inv_cov=Inv_CovMatrixSKA_joint, z_bins=z_bins, bins=False)\n",
    "\n",
    "np.shape(FisherMatrixSKA_50x50), np.shape(FisherMatrixSKA_30x70), np.shape(FisherMatrixSKA_joint)\n"
   ]
  },
  {
   "cell_type": "code",
   "execution_count": 191,
   "metadata": {},
   "outputs": [
    {
     "data": {
      "text/plain": [
       "(2.978620645887647e+53, 6.949421003610326e+53, 1.0781374427237098e+87)"
      ]
     },
     "execution_count": 191,
     "metadata": {},
     "output_type": "execute_result"
    }
   ],
   "source": [
    "np.linalg.det(FisherMatrixSKA_50x50), np.linalg.det(FisherMatrixSKA_30x70), np.linalg.det(FisherMatrixSKA_joint)"
   ]
  },
  {
   "cell_type": "code",
   "execution_count": 192,
   "metadata": {},
   "outputs": [
    {
     "name": "stdout",
     "output_type": "stream",
     "text": [
      "25447240.777854692\t7515169.987835224\t-31713835.347808655\t-9110094.934605015\t2177814.361231719\t1105856.1562454673\t-932413.0557254107\t-6618981.011715738\t-2933471.9958783127\n",
      "7515169.987835222\t2808444.203160712\t-9110094.934605015\t-3225463.7597114304\t1072997.0184735924\t504090.3908093623\t-332884.4190554553\t-3396522.347946506\t-474952.963605881\n",
      "-31713835.347809885\t-9110094.93460506\t48443965.55355428\t14405111.655087853\t2321035.4568680176\t305381.6409740199\t1695881.1591249863\t-10068274.409692686\t11822762.336750662\n",
      "-9110094.934605056\t-3225463.7597113927\t14405111.655087844\t5400372.421185124\t629545.2719306645\t69738.45404022718\t496145.3945584891\t-2793044.5741037377\t3003394.232552508\n",
      "2177814.3612309718\t1072997.0184736014\t2321035.456869026\t629545.2719306569\t5164002.026713927\t1688886.113488194\t496226.54262118076\t-19413664.00695398\t6641394.1023081085\n",
      "1105856.1562451809\t504090.390809364\t305381.6409744265\t69738.45404022578\t1688886.1134881629\t591306.3728766952\t96541.34153689024\t-6055929.224972827\t2108424.579750899\n",
      "-932413.0557254825\t-332884.41905548575\t1695881.1591251402\t496145.3945585524\t496226.5426212941\t96541.34153693542\t269437.40309821675\t-1928441.3798997358\t1401221.6430270765\n",
      "-6618981.011713022\t-3396522.347946646\t-10068274.409694914\t-2793044.574103466\t-19413664.00695389\t-6055929.2249728255\t-1928441.3798995449\t80306511.07905662\t-23831659.69196253\n",
      "-2933471.9958805563\t-474952.9636061552\t11822762.336753465\t3003394.232552853\t6641394.102308079\t2108424.579750879\t1401221.643026993\t-23831659.691962913\t13961632.845623164\n"
     ]
    }
   ],
   "source": [
    "print('\\n'.join(['\\t'.join([str(cell) for cell in row]) for row in FisherMatrixSKA_50x50]))"
   ]
  },
  {
   "cell_type": "code",
   "execution_count": 193,
   "metadata": {},
   "outputs": [
    {
     "name": "stdout",
     "output_type": "stream",
     "text": [
      "33016651.384679236\t8332488.267908776\t-50360159.32634173\t-12901331.246122913\t1874549.3290753085\t1015691.4324662106\t-994719.3725617193\t-5479385.917692468\t-3961393.346895395\n",
      "8332488.267908773\t2733114.2927259943\t-12901331.246122926\t-4149358.7031630417\t846945.2037477822\t422633.8689456244\t-337296.306303709\t-2592730.776060814\t-779727.1200034039\n",
      "-50360159.32633923\t-12901331.24612243\t84500438.42434922\t23254467.951169528\t2067729.6980300494\t117760.24214361416\t1973312.5021055618\t-9524773.356651565\t13038348.119257785\n",
      "-12901331.246122435\t-4149358.7031629556\t23254467.951169528\t8118604.127277631\t736809.8546538168\t81090.78851551346\t578643.8650978748\t-3279873.2486417764\t3469697.352632582\n",
      "1874549.3290768762\t846945.2037479944\t2067729.6980268739\t736809.8546534531\t5982702.933384105\t1941106.7989340974\t647009.0811368452\t-22479456.449509744\t7855159.7982589435\n",
      "1015691.4324669703\t422633.86894572224\t117760.24214217364\t81090.7885153587\t1941106.7989341135\t670904.4828461709\t138897.17270884645\t-6988605.066999086\t2473726.474570977\n",
      "-994719.372562376\t-337296.3063038523\t1973312.5021069231\t578643.8650981568\t647009.0811369446\t138897.17270890815\t310960.1564787712\t-2499890.3801519116\t1671688.8824865094\n",
      "-5479385.917697523\t-2592730.7760616518\t-9524773.356639676\t-3279873.248639772\t-22479456.449508905\t-6988605.066998642\t-2499890.3801519973\t92043357.18543775\t-28355007.711743876\n",
      "-3961393.346896719\t-779727.1200039316\t13038348.119260143\t3469697.352633649\t7855159.798259621\t2473726.4745712737\t1671688.8824863958\t-28355007.71174604\t15915477.89555201\n"
     ]
    }
   ],
   "source": [
    "print('\\n'.join(['\\t'.join([str(cell) for cell in row]) for row in FisherMatrixSKA_30x70]))"
   ]
  },
  {
   "cell_type": "code",
   "execution_count": 194,
   "metadata": {},
   "outputs": [
    {
     "name": "stdout",
     "output_type": "stream",
     "text": [
      "3941526166.5513344\t677901614.663729\t4449560249.806032\t752496017.8426421\t-2276010839.323661\t-392299191.9842474\t-6420523876.82295\t-1089686004.2573042\t1863198.5876474048\t876449.7025027502\t-579137.503166111\t-5951999.86552859\t-1631735.9555959962\n",
      "677901614.663729\t152270188.05923846\t752496017.8426422\t164298276.02453616\t-392299191.98424745\t-88356498.31439497\t-1089686004.2573042\t-239362490.06637508\t699265.0233474443\t322475.68541597825\t-197049.15242615773\t-2241271.106895188\t-319570.5071121953\n",
      "4449560249.793868\t752496017.841359\t5303963291.056365\t911027194.6856267\t-2572330475.4796166\t-437729693.71853423\t-7526453920.805931\t-1282385619.7756743\t188397.07232881835\t-130573.27160901953\t607616.2824386378\t-1432255.5442824054\t5316793.274569787\n",
      "752496017.8413591\t164298276.02438536\t911027194.6856267\t203211054.58891585\t-437729693.71853423\t-96398372.37245576\t-1282385619.7756743\t-282613707.9482976\t19575.470560387155\t-63115.4232206587\t212256.61568367854\t-333837.510843183\t1278889.661013332\n",
      "-2276010839.3276496\t-392299191.9848529\t-2572330475.4914293\t-437729693.71999013\t1352620168.5777264\t236667564.92835373\t3653851430.1137033\t618386963.1177818\t1150040.9030233687\t656279.0904013392\t-710910.2428754624\t-3228454.0733377268\t-2840520.0690734615\n",
      "-392299191.984853\t-88356498.31448214\t-437729693.71999013\t-96398372.37264471\t236667564.92835373\t54430331.55489806\t618386963.1177818\t135278647.29420573\t560623.1468140621\t287394.17876697576\t-246311.52687034983\t-1685888.4224802756\t-597894.8597681123\n",
      "-6420523876.790496\t-1089686004.2543921\t-7526453920.788967\t-1282385619.7744946\t3653851430.0881433\t618386963.1150957\t10829900923.126173\t1847519013.5072582\t927541.3693591817\t-232477.06866359842\t1763146.1079100424\t-5146060.027616845\t9310708.044582618\n",
      "-1089686004.2543921\t-239362490.06609166\t-1282385619.7744946\t-282613707.94822985\t618386963.1150957\t135278647.29390028\t1847519013.5072584\t408146869.32430166\t418431.7184408914\t-14800.687916233517\t514832.176907153\t-2061054.3839256535\t2661743.292352439\n",
      "1863198.588484895\t699265.0228160453\t188397.07310616484\t19575.46992791011\t1150040.902609399\t560623.1471409436\t927541.3680558979\t418431.7193099379\t6405232.029924338\t2077977.6826575808\t697354.5570693449\t-24059807.030419346\t8319137.816911822\n",
      "876449.7046429402\t322475.68536584167\t-130573.26932356307\t-63115.423300848786\t656279.0891802822\t287394.17880361044\t-232477.07203778526\t-14800.687821404976\t2077977.6826578246\t718020.1282746888\t149400.52635495152\t-7482815.152958558\t2607830.438294836\n",
      "-579137.508735265\t-197049.1528515468\t607616.2763474282\t212256.61523657056\t-710910.2396221126\t-246311.5266251966\t1763146.1167171833\t514832.1775654852\t697354.5570693264\t149400.52635493194\t335729.1513240685\t-2699977.708029737\t1802649.6326798527\n",
      "-5951999.860665348\t-2241271.1042972775\t-1432255.5384276884\t-333837.5078370316\t-3228454.076448722\t-1685888.4240534443\t-5146060.035453613\t-2061054.3881286453\t-24059807.03043552\t-7482815.152965439\t-2699977.7080230205\t98334244.47419085\t-30083566.183535084\n",
      "-1631735.9625284758\t-319570.5083241287\t5316793.266937909\t1278889.6596671238\t-2840520.06491758\t-597894.859043586\t9310708.055455675\t2661743.294269911\t8319137.816940438\t2607830.438307992\t1802649.6326699953\t-30083566.1836229\t17060637.332088664\n"
     ]
    }
   ],
   "source": [
    "print('\\n'.join(['\\t'.join([str(cell) for cell in row]) for row in FisherMatrixSKA_joint]))"
   ]
  },
  {
   "cell_type": "code",
   "execution_count": 195,
   "metadata": {},
   "outputs": [
    {
     "data": {
      "text/plain": [
       "(18, 19, 648)"
      ]
     },
     "execution_count": 195,
     "metadata": {},
     "output_type": "execute_result"
    }
   ],
   "source": [
    "dsignal_dpars_joint_ = np.concatenate([dsignal_dgbias50, dsignal_dgbias30, dsignal_dcosmic_multi])\n",
    "\n",
    "np.shape(dsignal_dpars_joint_)"
   ]
  },
  {
   "cell_type": "code",
   "execution_count": 196,
   "metadata": {},
   "outputs": [
    {
     "name": "stdout",
     "output_type": "stream",
     "text": [
      "\n",
      " ... Computing the Fisher Matrix ... \n",
      "\n",
      "Signal & Cov must be given as functions (z,d) and (z,d,d') respectively. \n",
      "\n"
     ]
    },
    {
     "name": "stdout",
     "output_type": "stream",
     "text": [
      "\n",
      " ... Success! ... \n",
      "\n"
     ]
    }
   ],
   "source": [
    "FisherMatrixSKA_joint_ = fm.fisher_matrix(d_signal=dsignal_dpars_joint_, inv_cov=Inv_CovMatrixSKA_joint, z_bins=z_bins, bins=False)"
   ]
  },
  {
   "cell_type": "code",
   "execution_count": 197,
   "metadata": {},
   "outputs": [
    {
     "data": {
      "text/plain": [
       "((18, 18), 1.9433768148766404e+130)"
      ]
     },
     "execution_count": 197,
     "metadata": {},
     "output_type": "execute_result"
    }
   ],
   "source": [
    "np.shape(FisherMatrixSKA_joint_), np.linalg.det(FisherMatrixSKA_joint_)"
   ]
  },
  {
   "cell_type": "code",
   "execution_count": 198,
   "metadata": {},
   "outputs": [
    {
     "name": "stdout",
     "output_type": "stream",
     "text": [
      "3941526166.5513344\t677901614.663729\t4449560249.806032\t752496017.8426421\t-2276010839.323661\t-392299191.9842474\t-6420523876.82295\t-1089686004.2573042\t5595667663.327287\t3216391189.9399824\t-3302383269.948417\t-14609108519.024176\t1282309891.233212\t-5593804464.739638\t-3215514740.2374783\t3301804132.4452515\t14603156519.158655\t-1283941627.188808\n",
      "677901614.663729\t152270188.05923846\t752496017.8426422\t164298276.02453616\t-392299191.98424745\t-88356498.31439497\t-1089686004.2573042\t-239362490.06637508\t931797468.6074542\t535664462.89766383\t-550028770.5021983\t-2432102320.6241264\t121116582.19955778\t-931098203.5841068\t-535341987.21224797\t549831721.3497723\t2429861049.517231\t-121436152.70667002\n",
      "4449560249.793868\t752496017.841359\t5303963291.056365\t911027194.6856267\t-2572330475.4796166\t-437729693.71853423\t-7526453920.805931\t-1282385619.7756743\t6462816938.950627\t3713419866.118275\t-3809378009.7195787\t-16875199817.419388\t1520370951.1752195\t-6462628541.878301\t-3713550439.3898854\t3809985626.0020175\t16873767561.87511\t-1515054157.9006498\n",
      "752496017.8413591\t164298276.02438536\t911027194.6856267\t203211054.58891585\t-437729693.71853423\t-96398372.37245576\t-1282385619.7756743\t-282613707.9482976\t1071989187.897726\t616520065.4533192\t-633292049.969332\t-2795548563.2341347\t146418372.8297772\t-1071969612.4271655\t-616583180.87654\t633504306.5850154\t2795214725.723293\t-145139483.1687638\n",
      "-2276010839.3276496\t-392299191.9848529\t-2572330475.4914293\t-437729693.71999013\t1352620168.5777264\t236667564.92835373\t3653851430.1137033\t618386963.1177818\t-3227387553.1884813\t-1857933437.3438334\t1911951142.934884\t8407326258.697266\t-720298686.9808376\t3228537594.0915036\t1858589716.4342344\t-1912662053.1777596\t-8410554712.770602\t717458166.9117641\n",
      "-392299191.984853\t-88356498.31448214\t-437729693.71999013\t-96398372.37264471\t236667564.92835373\t54430331.55489806\t618386963.1177818\t135278647.29420573\t-539761888.1692555\t-310634007.36813796\t319478750.2919577\t1406523019.7270908\t-67153843.73860495\t540322511.3160696\t310921401.5469051\t-319725061.81882805\t-1408208908.149571\t66555948.87883682\n",
      "-6420523876.790496\t-1089686004.2543921\t-7526453920.788967\t-1282385619.7744946\t3653851430.0881433\t618386963.1150957\t10829900923.126173\t1847519013.5072582\t-9265561360.533129\t-5322187175.226669\t5458200478.732322\t24210895588.340103\t-2179941226.850523\t9266488901.902483\t5321954698.158004\t-5456437332.624411\t-24216041648.367714\t2189251934.8951054\n",
      "-1089686004.2543921\t-239362490.06609166\t-1282385619.7744946\t-282613707.94822985\t618386963.1150957\t135278647.29390028\t1847519013.5072584\t408146869.32430166\t-1534643768.4904954\t-882418985.7972121\t906348787.3109661\t4004544994.582639\t-208919297.10168624\t1535062200.2089362\t882404185.1092958\t-905833955.1340588\t-4006606048.9665637\t211581040.39403874\n",
      "5595667663.338333\t931797468.6081476\t6462816938.961226\t1071989187.898595\t-3227387553.193866\t-539761888.1696657\t-9265561360.561018\t-1534643768.493165\t9539077189.76009\t4699062467.304879\t-3793566785.955897\t-30204876274.45651\t4890748239.244772\t-9536684220.731607\t-4698204436.697295\t3793554670.3935885\t30196040435.182156\t-4888259081.254623\n",
      "3216391189.935907\t535664462.89722097\t3713419866.1237884\t616520065.4538814\t-1857933437.3381276\t-310634007.36737543\t-5322187175.247262\t-882418985.7989128\t4699062467.2954445\t2681438429.277575\t-2716175973.8133435\t-12353821449.585\t1265344060.3906302\t-4698119894.350827\t-2681073937.8858085\t2716122523.3009934\t12350510213.68771\t-1264409034.188464\n",
      "-3302383269.9266596\t-550028770.5005107\t-3809378009.7232795\t-633292049.9701563\t1911951142.9155023\t319478750.2896875\t5458200478.765586\t906348787.3136045\t-3793566785.9022207\t-2716175973.803107\t3697388428.7369437\t7403214754.726536\t1751758662.677313\t3793310549.048102\t2716030687.8027267\t-3697229754.035046\t-7402351353.679704\t-1751517185.1360176\n",
      "-14609108519.10975\t-2432102320.6327257\t-16875199817.437252\t-2795548563.2377524\t8407326258.775086\t1406523019.736571\t24210895588.412956\t4004544994.594712\t-30204876274.314995\t-12353821449.63124\t7403214755.0802145\t125862048670.84528\t-20812945507.020832\t30196415642.46067\t12350944574.720057\t-7403193159.663582\t-125827016753.56006\t20805518665.96384\n",
      "1282309891.2721894\t121116582.2023755\t1520370951.156665\t146418372.8273476\t-720298687.0143843\t-67153843.74309658\t-2179941226.769512\t-208919297.09643012\t4890748239.398234\t1265344060.4087021\t1751758662.6997545\t-20812945508.125942\t13043577015.263817\t-4888830269.198083\t-1264685233.1894965\t-1751437914.217336\t20806419502.35252\t-13038689843.025333\n",
      "-5593804464.749846\t-931098203.5853316\t-6462628541.888122\t-1071969612.4286672\t3228537594.0964746\t540322511.3168066\t9266488901.929073\t1535062200.212475\t-9536684220.724144\t-4698119894.359445\t3793310549.1027875\t30196415642.535072\t-4888830269.044237\t9540696483.725584\t4699339841.434518\t-3792601078.98341\t-30211639610.29112\t4894660248.870998\n",
      "-3215514740.2312636\t-535341987.2118553\t-3713550439.3931127\t-616583180.8771822\t1858589716.4273071\t310921401.54617906\t5321954698.175222\t882404185.1110911\t-4698204436.685153\t-2681073937.8839865\t2716030687.808436\t12350944574.648737\t-1264685233.1819215\t4699339841.423193\t2681427466.620494\t-2715827836.7697334\t-12355116153.904396\t1266358037.4180503\n",
      "3301804132.4179244\t549831721.3476591\t3809985625.9996257\t633504306.5853927\t-1912662053.155124\t-319725061.81631273\t-5456437332.6488695\t-905833955.1360391\t3793554670.3397655\t2716122523.2861214\t-3697229754.0203915\t-7403193159.308844\t-1751437914.1629176\t-3792601078.928578\t-2715827836.759389\t3697406808.469816\t7399629780.553983\t1752999086.2543018\n",
      "14603156519.249086\t2429861049.528428\t16873767561.898827\t2795214725.729916\t-8410554712.851539\t-1408208908.1606243\t-24216041648.448414\t-4006606048.98284\t30196040435.01358\t12350510213.737549\t-7402351354.057102\t-125827016753.31721\t20806419501.206593\t-30211639610.189693\t-12355116153.979328\t7399629780.932444\t125890319080.5062\t-20829076226.333126\n",
      "-1283941627.234719\t-121436152.71069974\t-1515054157.8897264\t-145139483.1676804\t717458166.9494663\t66555948.88405298\t2189251934.824968\t211581040.39070016\t-4888259081.397317\t-1264409034.2121294\t-1751517185.1351664\t20805518666.97692\t-13038689842.97786\t4894660249.014103\t1266358037.431232\t1752999086.285418\t-20829076227.38712\t13050863308.07148\n"
     ]
    }
   ],
   "source": [
    "print('\\n'.join(['\\t'.join([str(cell) for cell in row]) for row in FisherMatrixSKA_joint_]))"
   ]
  },
  {
   "cell_type": "code",
   "execution_count": null,
   "metadata": {},
   "outputs": [],
   "source": []
  },
  {
   "cell_type": "markdown",
   "metadata": {},
   "source": [
    "#  Joint Covariance Matrix 50x30 [all]"
   ]
  },
  {
   "cell_type": "markdown",
   "metadata": {},
   "source": [
    "## Check Cauchy-Schwarz inequality \n",
    "\n",
    "The Cauchy-Schwarz inequality implies:\n",
    "\n",
    "$$ \\mathrm{COV}(X,Y) \\leq \\sqrt{\\mathrm{VAR}(X)\\cdot\\mathrm{VAR}(Y)}$$"
   ]
  },
  {
   "cell_type": "code",
   "execution_count": 199,
   "metadata": {},
   "outputs": [],
   "source": [
    "z_bins = np.array([0.15, 0.25, 0.35, 0.45, 0.55, 0.65, 0.75, 0.85, 0.95, 1.05, 1.15, 1.25, 1.35, 1.45, 1.55, 1.65, 1.75, 1.85, 1.95])\n"
   ]
  },
  {
   "cell_type": "code",
   "execution_count": 200,
   "metadata": {},
   "outputs": [
    {
     "name": "stdout",
     "output_type": "stream",
     "text": [
      "\n",
      " ... Loading Covariance Matrices (Joint-splittings Analysis) [all] [MONOBB, MONOBF, MONOFF, DIPBF, QUADBB, QUADBF, QUADFF, HEXAT, OCTBF] ... \n",
      "\n"
     ]
    }
   ],
   "source": [
    "CovMatrixSKA_joint = fm.cov_matrix_joint(d=dist[0], z_bins=z_bins, small_off_diagonal=True, rtol=1e-4, splits=[50,30], contributions='all')"
   ]
  },
  {
   "cell_type": "code",
   "execution_count": 201,
   "metadata": {},
   "outputs": [
    {
     "name": "stdout",
     "output_type": "stream",
     "text": [
      "0 True\n",
      "1 True\n",
      "2 True\n",
      "3 True\n",
      "4 True\n",
      "5 True\n",
      "6 True\n",
      "7 True\n",
      "8 True\n",
      "9 True\n",
      "10 True\n",
      "11 True\n",
      "12 True\n",
      "13 True\n",
      "14 True\n",
      "15 True\n",
      "16 True\n",
      "17 True\n",
      "18 True\n"
     ]
    }
   ],
   "source": [
    "for n, z in enumerate(z_bins):\n",
    "    print(n, np.allclose(CovMatrixSKA_joint[n], CovMatrixSKA_joint[n].T, rtol = 1e-20))"
   ]
  },
  {
   "cell_type": "code",
   "execution_count": 202,
   "metadata": {},
   "outputs": [
    {
     "data": {
      "text/plain": [
       "((19, 324, 324), (19, 324, 324), (19, 648, 648))"
      ]
     },
     "execution_count": 202,
     "metadata": {},
     "output_type": "execute_result"
    }
   ],
   "source": [
    "np.shape(CovMatrixSKA_50x50), np.shape(CovMatrixSKA_30x70), np.shape(CovMatrixSKA_joint)"
   ]
  },
  {
   "cell_type": "code",
   "execution_count": 203,
   "metadata": {},
   "outputs": [],
   "source": [
    "CovMatrixSKA_50x30 = np.array([CovMatrixSKA_joint[k][:324, 324:] for k,_ in enumerate(z_bins)])\n",
    "CovMatrixSKA_30x50 = np.array([CovMatrixSKA_joint[k][324:, :324] for k,_ in enumerate(z_bins)])"
   ]
  },
  {
   "cell_type": "code",
   "execution_count": 204,
   "metadata": {},
   "outputs": [
    {
     "data": {
      "text/plain": [
       "((19, 324, 324), (19, 324, 324))"
      ]
     },
     "execution_count": 204,
     "metadata": {},
     "output_type": "execute_result"
    }
   ],
   "source": [
    "np.shape(CovMatrixSKA_50x30), np.shape(CovMatrixSKA_30x50)"
   ]
  },
  {
   "cell_type": "code",
   "execution_count": 205,
   "metadata": {},
   "outputs": [
    {
     "name": "stdout",
     "output_type": "stream",
     "text": [
      "0 True True\n",
      "1 True True\n",
      "2 True True\n",
      "3 True True\n",
      "4 True True\n",
      "5 True True\n",
      "6 True True\n",
      "7 True True\n",
      "8 True True\n",
      "9 True True\n",
      "10 True True\n",
      "11 True True\n",
      "12 True True\n",
      "13 True True\n",
      "14 True True\n",
      "15 True True\n",
      "16 True True\n",
      "17 True True\n",
      "18 True True\n"
     ]
    }
   ],
   "source": [
    "for n, z in enumerate(z_bins):\n",
    "    print(n, np.allclose(CovMatrixSKA_50x30[n], CovMatrixSKA_30x50[n].T, rtol=1e-10), np.allclose(CovMatrixSKA_30x50[n], CovMatrixSKA_50x30[n].T, rtol = 1e-10))"
   ]
  },
  {
   "cell_type": "code",
   "execution_count": 206,
   "metadata": {},
   "outputs": [
    {
     "name": "stdout",
     "output_type": "stream",
     "text": [
      "0 True\n",
      "1 True\n",
      "2 True\n",
      "3 True\n",
      "4 True\n",
      "5 True\n",
      "6 True\n",
      "7 True\n",
      "8 True\n",
      "9 True\n",
      "10 True\n",
      "11 True\n",
      "12 True\n",
      "13 True\n",
      "14 True\n",
      "15 True\n",
      "16 True\n",
      "17 True\n",
      "18 True\n"
     ]
    }
   ],
   "source": [
    "for n, z in enumerate(z_bins):\n",
    "    print(n, np.allclose(CovMatrixSKA_joint[n], CovMatrixSKA_joint[n].T, rtol=1e-20))"
   ]
  },
  {
   "cell_type": "code",
   "execution_count": 207,
   "metadata": {},
   "outputs": [
    {
     "data": {
      "text/plain": [
       "((19, 324, 324), (19, 324, 324))"
      ]
     },
     "execution_count": 207,
     "metadata": {},
     "output_type": "execute_result"
    }
   ],
   "source": [
    "np.shape(CovMatrixSKA_50x30), np.shape(CovMatrixSKA_30x50)"
   ]
  },
  {
   "cell_type": "code",
   "execution_count": 208,
   "metadata": {},
   "outputs": [
    {
     "data": {
      "text/plain": [
       "(1.761081877983889e-05, 1.761081877983889e-05)"
      ]
     },
     "execution_count": 208,
     "metadata": {},
     "output_type": "execute_result"
    }
   ],
   "source": [
    "CovMatrixSKA_50x30[0,0,0], CovMatrixSKA_30x50[0,0,0]"
   ]
  },
  {
   "cell_type": "code",
   "execution_count": 209,
   "metadata": {},
   "outputs": [
    {
     "data": {
      "text/plain": [
       "(1.1406613424594502e-05, 2.728761334220845e-05)"
      ]
     },
     "execution_count": 209,
     "metadata": {},
     "output_type": "execute_result"
    }
   ],
   "source": [
    "CovMatrixSKA_50x50[0,0,0], CovMatrixSKA_30x70[0,0,0]"
   ]
  },
  {
   "cell_type": "code",
   "execution_count": 210,
   "metadata": {},
   "outputs": [
    {
     "data": {
      "text/plain": [
       "(-4.188698962835081e-09, -4.188698962835081e-09)"
      ]
     },
     "execution_count": 210,
     "metadata": {},
     "output_type": "execute_result"
    }
   ],
   "source": [
    "CovMatrixSKA_50x30[0,17,267], CovMatrixSKA_30x50[0,267,17]"
   ]
  },
  {
   "cell_type": "code",
   "execution_count": 211,
   "metadata": {},
   "outputs": [
    {
     "data": {
      "text/plain": [
       "(-4.188698962835081e-09, -5.405294849542528e-09)"
      ]
     },
     "execution_count": 211,
     "metadata": {},
     "output_type": "execute_result"
    }
   ],
   "source": [
    "CovMatrixSKA_50x50[0,17,267], CovMatrixSKA_30x70[0,267,17]"
   ]
  },
  {
   "cell_type": "markdown",
   "metadata": {},
   "source": [
    "## Checking directly from Joint Cov Matrix 50x30\n",
    "\n",
    "Compare off diagonal elements (covariances) versus the correspondent diagonal ones (variances)."
   ]
  },
  {
   "cell_type": "code",
   "execution_count": 212,
   "metadata": {},
   "outputs": [
    {
     "data": {
      "text/plain": [
       "((19, 648, 648), list)"
      ]
     },
     "execution_count": 212,
     "metadata": {},
     "output_type": "execute_result"
    }
   ],
   "source": [
    "np.shape(CovMatrixSKA_joint), type(CovMatrixSKA_joint)"
   ]
  },
  {
   "cell_type": "code",
   "execution_count": 213,
   "metadata": {},
   "outputs": [
    {
     "data": {
      "text/plain": [
       "324"
      ]
     },
     "execution_count": 213,
     "metadata": {},
     "output_type": "execute_result"
    }
   ],
   "source": [
    "36*9"
   ]
  },
  {
   "cell_type": "code",
   "execution_count": 214,
   "metadata": {},
   "outputs": [
    {
     "name": "stdout",
     "output_type": "stream",
     "text": [
      " Monopole BB (d=d), 50x50 =  1.1406613424594502e-05 \n",
      " Monopole BB (d=d), 30x70 =  2.728761334220845e-05\n"
     ]
    }
   ],
   "source": [
    "print(' Monopole BB (d=d), 50x50 = ', CovMatrixSKA_joint[0][0,0],'\\n','Monopole BB (d=d), 30x70 = ', CovMatrixSKA_joint[0][324,324] ) "
   ]
  },
  {
   "cell_type": "code",
   "execution_count": 215,
   "metadata": {},
   "outputs": [
    {
     "name": "stdout",
     "output_type": "stream",
     "text": [
      " Monopole BB (d=d), 50x30 =  1.761081877983889e-05 \n",
      " Monopole BB (d=d), 30x50 =  1.761081877983889e-05\n"
     ]
    }
   ],
   "source": [
    "print(' Monopole BB (d=d), 50x30 = ', CovMatrixSKA_joint[0][0,324],'\\n', 'Monopole BB (d=d), 30x50 = ', CovMatrixSKA_joint[0][324,0] ) "
   ]
  },
  {
   "cell_type": "code",
   "execution_count": 216,
   "metadata": {},
   "outputs": [
    {
     "name": "stdout",
     "output_type": "stream",
     "text": [
      "0.15 True True\n",
      "0.25 True True\n",
      "0.35 True True\n",
      "0.45 True True\n",
      "0.55 True True\n",
      "0.65 True True\n",
      "0.75 True True\n",
      "0.85 True True\n",
      "0.95 True True\n",
      "1.05 True True\n",
      "1.15 True True\n",
      "1.25 True True\n",
      "1.35 True True\n",
      "1.45 True True\n",
      "1.55 True True\n",
      "1.65 True True\n",
      "1.75 True True\n",
      "1.85 True True\n",
      "1.95 True True\n"
     ]
    }
   ],
   "source": [
    "for k,_ in enumerate(z_bins):\n",
    "    print(z_bins[k], np.sqrt(CovMatrixSKA_joint[k][0,0] * CovMatrixSKA_joint[k][324,324]) >= CovMatrixSKA_joint[k][0,324], np.sqrt(CovMatrixSKA_joint[k][0,0] * CovMatrixSKA_joint[k][324,324]) >= CovMatrixSKA_joint[k][324,0])"
   ]
  },
  {
   "cell_type": "code",
   "execution_count": 217,
   "metadata": {},
   "outputs": [
    {
     "name": "stdout",
     "output_type": "stream",
     "text": [
      "0.15 1.764254110592856e-05 1.761081877983889e-05\n",
      "0.25 7.014350303522421e-06 7.000424397731244e-06\n",
      "0.35 3.904079159778656e-06 3.895101127116166e-06\n",
      "0.45 2.5784765980908824e-06 2.57114829840431e-06\n",
      "0.55 1.8931986511136867e-06 1.8860669201036704e-06\n",
      "0.65 1.4969289169443364e-06 1.4890758213620874e-06\n",
      "0.75 1.2532721988093958e-06 1.2437159931673294e-06\n",
      "0.85 1.1007803772214066e-06 1.0882357772332196e-06\n",
      "0.95 1.0104386161984314e-06 9.92815265805662e-07\n",
      "1.05 9.703620669081107e-07 9.439141037718107e-07\n",
      "1.15 9.797925594098938e-07 9.378224104633536e-07\n",
      "1.25 1.0534917202039827e-06 9.825635624950322e-07\n",
      "1.35 1.2326007500359773e-06 1.1041080122051723e-06\n",
      "1.45 1.6096843827924573e-06 1.361464441548065e-06\n",
      "1.55 2.436372271029366e-06 1.9147195310493815e-06\n",
      "1.65 4.3288471808299055e-06 3.1492163021338824e-06\n",
      "1.75 8.978984214121797e-06 6.1106398851286035e-06\n",
      "1.85 2.1513371013254955e-05 1.3937722616731117e-05\n",
      "1.95 5.784949838880617e-05 3.630171649833516e-05\n"
     ]
    }
   ],
   "source": [
    "for k,_ in enumerate(z_bins):\n",
    "    print(z_bins[k], np.sqrt(CovMatrixSKA_joint[k][0,0] * CovMatrixSKA_joint[k][324,324]), CovMatrixSKA_joint[k][0,324])"
   ]
  },
  {
   "cell_type": "code",
   "execution_count": 218,
   "metadata": {},
   "outputs": [
    {
     "name": "stdout",
     "output_type": "stream",
     "text": [
      " MonoBQuadBF (d=d), 50x50 =  1.9425535215326826e-06 \n",
      " MonoBQuadBF (d=d) (d=d), 30x70 =  4.3165840334060815e-06\n",
      " Monopole BB (d=d), 50x30 =  2.891194497518877e-06 \n",
      " Monopole BB (d=d), 30x50 =  2.891194497518877e-06\n"
     ]
    }
   ],
   "source": [
    "print(' MonoBQuadBF (d=d), 50x50 = ', CovMatrixSKA_joint[0][179,179],'\\n','MonoBQuadBF (d=d) (d=d), 30x70 = ', CovMatrixSKA_joint[0][179+324,179+324] )\n",
    "print(' Monopole BB (d=d), 50x30 = ', CovMatrixSKA_joint[0][179,179+324],'\\n', 'Monopole BB (d=d), 30x50 = ', CovMatrixSKA_joint[0][179+324,179] )  "
   ]
  },
  {
   "cell_type": "code",
   "execution_count": 219,
   "metadata": {},
   "outputs": [
    {
     "name": "stdout",
     "output_type": "stream",
     "text": [
      "True True\n",
      "True True\n",
      "True True\n",
      "True True\n",
      "True True\n",
      "True True\n",
      "True True\n",
      "True True\n",
      "True True\n",
      "True True\n",
      "True True\n",
      "True True\n",
      "True True\n",
      "True True\n",
      "True True\n",
      "True True\n",
      "True True\n",
      "True True\n",
      "True True\n"
     ]
    }
   ],
   "source": [
    "for k,_ in enumerate(z_bins):\n",
    "    print(np.sqrt(CovMatrixSKA_joint[k][179,179] * CovMatrixSKA_joint[k][179+324,179+324]) >= CovMatrixSKA_joint[k][179,179+324], \n",
    "          np.sqrt(CovMatrixSKA_joint[k][179,179] * CovMatrixSKA_joint[k][179+324,179+324]) >= CovMatrixSKA_joint[k][324+179,179])"
   ]
  },
  {
   "cell_type": "code",
   "execution_count": 220,
   "metadata": {},
   "outputs": [
    {
     "data": {
      "text/plain": [
       "324"
      ]
     },
     "execution_count": 220,
     "metadata": {},
     "output_type": "execute_result"
    }
   ],
   "source": [
    "len(CovMatrixSKA_50x50[0])"
   ]
  },
  {
   "cell_type": "code",
   "execution_count": 221,
   "metadata": {},
   "outputs": [
    {
     "name": "stdout",
     "output_type": "stream",
     "text": [
      " Element (d=d), 50x50 =  1.2444286340731441e-08 \n",
      " Element (d=d), 30x70 =  1.563436441154079e-08\n",
      " Element (d=d), 50x30 =  1.0270945457089037e-08 \n",
      " Element (d=d), 30x50 =  1.0270945457089037e-08 \n",
      "\n",
      "Check COV(X,Y)^2 <= SQRT(VAR(X) * VAR(Y)) \n",
      "\n",
      "True True\n",
      "True True\n",
      "True True\n",
      "True True\n",
      "True True\n",
      "True True\n",
      "True True\n",
      "True True\n",
      "True True\n",
      "True True\n",
      "True True\n",
      "True True\n",
      "True True\n",
      "True True\n",
      "True True\n",
      "True True\n",
      "True True\n",
      "True True\n",
      "True True\n"
     ]
    }
   ],
   "source": [
    "i_element = 288\n",
    "j_element = i_element\n",
    "l = len(CovMatrixSKA_50x50[0])\n",
    "\n",
    "print(' Element (d=d), 50x50 = ', CovMatrixSKA_joint[0][i_element,j_element],'\\n','Element (d=d), 30x70 = ', CovMatrixSKA_joint[0][i_element+l,j_element+l] )\n",
    "print(' Element (d=d), 50x30 = ', CovMatrixSKA_joint[0][i_element,j_element+l],'\\n', 'Element (d=d), 30x50 = ', CovMatrixSKA_joint[0][i_element+l,j_element],'\\n' )  \n",
    "\n",
    "print('Check COV(X,Y)^2 <= SQRT(VAR(X) * VAR(Y)) \\n')\n",
    "for k,_ in enumerate(z_bins):\n",
    "    print(np.sqrt(CovMatrixSKA_joint[k][i_element,j_element] * CovMatrixSKA_joint[k][i_element+l,j_element+l]) >= CovMatrixSKA_joint[k][i_element,j_element+l], \n",
    "          np.sqrt(CovMatrixSKA_joint[k][i_element,j_element] * CovMatrixSKA_joint[k][i_element+l,j_element+l]) >= CovMatrixSKA_joint[k][i_element+l,j_element])"
   ]
  },
  {
   "cell_type": "code",
   "execution_count": 222,
   "metadata": {},
   "outputs": [
    {
     "name": "stdout",
     "output_type": "stream",
     "text": [
      " Element (d=d), 50x50 =  6.551780712795955e-08 \n",
      " Element (d=d), 30x70 =  1.6800215155336124e-07\n",
      " Element (d=d), 50x30 =  1.0388525556579684e-07 \n",
      " Element (d=d), 30x50 =  1.0388525556579684e-07 \n",
      "\n",
      "Check COV(X,Y)^2 <= SQRT(VAR(X) * VAR(Y)) \n",
      "\n",
      "True True\n",
      "True True\n",
      "True True\n",
      "True True\n",
      "True True\n",
      "True True\n",
      "True True\n",
      "True True\n",
      "True True\n",
      "True True\n",
      "True True\n",
      "True True\n",
      "True True\n",
      "True True\n",
      "True True\n",
      "True True\n",
      "True True\n",
      "True True\n",
      "True True\n"
     ]
    }
   ],
   "source": [
    "i_element = 56\n",
    "j_element = i_element\n",
    "l = len(CovMatrixSKA_50x50[0])\n",
    "\n",
    "print(' Element (d=d), 50x50 = ', CovMatrixSKA_joint[0][i_element,j_element],'\\n','Element (d=d), 30x70 = ', CovMatrixSKA_joint[0][i_element+l,j_element+l] )\n",
    "print(' Element (d=d), 50x30 = ', CovMatrixSKA_joint[0][i_element,j_element+l],'\\n', 'Element (d=d), 30x50 = ', CovMatrixSKA_joint[0][i_element+l,j_element],'\\n' )  \n",
    "\n",
    "print('Check COV(X,Y)^2 <= SQRT(VAR(X) * VAR(Y)) \\n')\n",
    "for k,_ in enumerate(z_bins):\n",
    "    print(np.sqrt(CovMatrixSKA_joint[k][i_element,j_element] * CovMatrixSKA_joint[k][i_element+l,j_element+l]) >= CovMatrixSKA_joint[k][i_element,j_element+l], \n",
    "          np.sqrt(CovMatrixSKA_joint[k][i_element,j_element] * CovMatrixSKA_joint[k][i_element+l,j_element+l]) >= CovMatrixSKA_joint[k][i_element+l,j_element])"
   ]
  },
  {
   "cell_type": "code",
   "execution_count": 223,
   "metadata": {},
   "outputs": [
    {
     "name": "stdout",
     "output_type": "stream",
     "text": [
      "5.093876193886468e-07 1.0577598333198072e-06\n",
      "5.353246240816097e-08 5.353246240816097e-08\n"
     ]
    }
   ],
   "source": [
    "print(CovMatrixSKA_50x50[0][24,24], CovMatrixSKA_50x50[0][36,36])\n",
    "print(CovMatrixSKA_50x50[0][24,36], CovMatrixSKA_50x50[0][36,24])"
   ]
  },
  {
   "cell_type": "code",
   "execution_count": 224,
   "metadata": {},
   "outputs": [
    {
     "name": "stdout",
     "output_type": "stream",
     "text": [
      "z =  0.15 | check:  True\n",
      "z =  0.25 | check:  True\n",
      "z =  0.35 | check:  True\n",
      "z =  0.45 | check:  True\n",
      "z =  0.55 | check:  True\n",
      "z =  0.65 | check:  True\n",
      "z =  0.75 | check:  True\n",
      "z =  0.85 | check:  True\n",
      "z =  0.95 | check:  True\n",
      "z =  1.05 | check:  True\n",
      "z =  1.15 | check:  True\n",
      "z =  1.25 | check:  True\n",
      "z =  1.35 | check:  True\n",
      "z =  1.45 | check:  True\n",
      "z =  1.55 | check:  True\n",
      "z =  1.65 | check:  True\n",
      "z =  1.75 | check:  True\n",
      "z =  1.85 | check:  True\n",
      "z =  1.95 | check:  True\n"
     ]
    }
   ],
   "source": [
    "for k,_ in enumerate(z_bins):\n",
    "    print('z = ',_, '| check: ', CovMatrixSKA_50x50[k][10,25]**2 <= CovMatrixSKA_50x50[k][10,10]*CovMatrixSKA_50x50[k][25,25])"
   ]
  },
  {
   "cell_type": "code",
   "execution_count": 225,
   "metadata": {},
   "outputs": [
    {
     "name": "stdout",
     "output_type": "stream",
     "text": [
      "z =  0.15 | check:  True\n",
      "z =  0.25 | check:  True\n",
      "z =  0.35 | check:  True\n",
      "z =  0.45 | check:  True\n",
      "z =  0.55 | check:  True\n",
      "z =  0.65 | check:  True\n",
      "z =  0.75 | check:  True\n",
      "z =  0.85 | check:  True\n",
      "z =  0.95 | check:  True\n",
      "z =  1.05 | check:  True\n",
      "z =  1.15 | check:  True\n",
      "z =  1.25 | check:  True\n",
      "z =  1.35 | check:  True\n",
      "z =  1.45 | check:  True\n",
      "z =  1.55 | check:  True\n",
      "z =  1.65 | check:  True\n",
      "z =  1.75 | check:  True\n",
      "z =  1.85 | check:  True\n",
      "z =  1.95 | check:  True\n"
     ]
    }
   ],
   "source": [
    "for k,_ in enumerate(z_bins):\n",
    "    print('z = ',_, '| check: ', CovMatrixSKA_30x70[k][18,30]**2 <= CovMatrixSKA_30x70[k][18,18]*CovMatrixSKA_30x70[k][30,30])"
   ]
  },
  {
   "cell_type": "markdown",
   "metadata": {},
   "source": [
    "## Signal-to-noise"
   ]
  },
  {
   "cell_type": "code",
   "execution_count": 226,
   "metadata": {},
   "outputs": [],
   "source": [
    "splits = [2., 10/3.]\n",
    "\n",
    "mySignals = [Signal(solver=Solver(zs=[0], **params_dict0), n_split=m) for m in splits]\n"
   ]
  },
  {
   "cell_type": "code",
   "execution_count": 227,
   "metadata": {},
   "outputs": [
    {
     "data": {
      "text/plain": [
       "(2, 3, 19, 36)"
      ]
     },
     "execution_count": 227,
     "metadata": {},
     "output_type": "execute_result"
    }
   ],
   "source": [
    "d = np.linspace(20,160,36)\n",
    "z_bins = np.linspace(0.15, 1.95, 19)\n",
    "\n",
    "monopole_sigs = [mySignals[k]._monopole(d=d, z=z_bins) for k,_ in enumerate(splits)]\n",
    "\n",
    "np.shape(monopole_sigs)"
   ]
  },
  {
   "cell_type": "code",
   "execution_count": 228,
   "metadata": {},
   "outputs": [],
   "source": [
    "monopoleBB_signal = [monopole_sigs[k][0] for k,_ in enumerate(splits)]"
   ]
  },
  {
   "cell_type": "code",
   "execution_count": 229,
   "metadata": {},
   "outputs": [],
   "source": [
    "VarMONO_50x50 = [CovMatrixSKA_50x50[k,:36,:36] for k,_ in  enumerate(z_bins)]\n",
    "VarMONO_30x70 = [CovMatrixSKA_30x70[k,:36,:36] for k,_ in  enumerate(z_bins)]\n",
    "#VarMONO_10x90 = [CovMatrixSKA_10x90[k,:36,:36] for k,_ in  enumerate(z_bins)]"
   ]
  },
  {
   "cell_type": "code",
   "execution_count": 230,
   "metadata": {},
   "outputs": [
    {
     "name": "stdout",
     "output_type": "stream",
     "text": [
      "\n",
      " ... Computing the S/N ... \n",
      "\n",
      "Signal & Cov must be given as functions (z,d) and (z,d,d') respectively. \n",
      "\n",
      "--------------------------------------------------\n",
      "\n",
      " Individual SNRs: \n",
      "\n",
      "Bin 1: 58.77421213378112\n",
      "Bin 2: 89.48345521707645\n",
      "Bin 3: 114.76519820946098\n",
      "Bin 4: 134.716436740866\n",
      "Bin 5: 149.53509304639073\n",
      "Bin 6: 159.5306944397853\n",
      "Bin 7: 164.89350644693744\n",
      "Bin 8: 165.8820114819602\n",
      "Bin 9: 162.66901920794453\n",
      "Bin 10: 155.44381004466567\n",
      "Bin 11: 144.78901213682857\n",
      "Bin 12: 131.1870337188347\n",
      "Bin 13: 115.31104126390467\n",
      "Bin 14: 98.24887356301002\n",
      "Bin 15: 80.54138755170176\n",
      "Bin 16: 63.4308923544652\n",
      "Bin 17: 47.776283841079085\n",
      "Bin 18: 34.10909687634405\n",
      "Bin 19: 23.019044873900647\n",
      "\n",
      "--------------------------------------------------\n",
      "\n",
      " Cumulative SNR : 521.0877057700761 \n",
      "\n",
      "--------------------------------------------------\n"
     ]
    }
   ],
   "source": [
    "\n",
    "#covs = [ VarMONO_50x50, VarMONO_30x70, VarMONO_10x90 ]\n",
    "\n",
    "covs = [ VarMONO_50x50, VarMONO_30x70 ]\n",
    "\n",
    "\n",
    "cumSNR, SNRz = fm.signal_to_noise(monopoleBB_signal[0], covs[0])"
   ]
  },
  {
   "cell_type": "code",
   "execution_count": 231,
   "metadata": {},
   "outputs": [
    {
     "name": "stdout",
     "output_type": "stream",
     "text": [
      "\n",
      " ... Computing the S/N ... \n",
      "\n",
      "Signal & Cov must be given as functions (z,d) and (z,d,d') respectively. \n",
      "\n",
      "--------------------------------------------------\n",
      "\n",
      " Individual SNRs: \n",
      "\n",
      "Bin 1: 58.77421213378112\n",
      "Bin 2: 89.48345521707645\n",
      "Bin 3: 114.76519820946098\n",
      "Bin 4: 134.716436740866\n",
      "Bin 5: 149.53509304639073\n",
      "Bin 6: 159.5306944397853\n",
      "Bin 7: 164.89350644693744\n",
      "Bin 8: 165.8820114819602\n",
      "Bin 9: 162.66901920794453\n",
      "Bin 10: 155.44381004466567\n",
      "Bin 11: 144.78901213682857\n",
      "Bin 12: 131.1870337188347\n",
      "Bin 13: 115.31104126390467\n",
      "Bin 14: 98.24887356301002\n",
      "Bin 15: 80.54138755170176\n",
      "Bin 16: 63.4308923544652\n",
      "Bin 17: 47.776283841079085\n",
      "Bin 18: 34.10909687634405\n",
      "Bin 19: 23.019044873900647\n",
      "\n",
      "--------------------------------------------------\n",
      "\n",
      " Cumulative SNR : 521.0877057700761 \n",
      "\n",
      "--------------------------------------------------\n",
      "\n",
      " ... Computing the S/N ... \n",
      "\n",
      "Signal & Cov must be given as functions (z,d) and (z,d,d') respectively. \n",
      "\n",
      "--------------------------------------------------\n",
      "\n",
      " Individual SNRs: \n",
      "\n",
      "Bin 1: 50.28178239585822\n",
      "Bin 2: 77.28386120780625\n",
      "Bin 3: 99.94384383703023\n",
      "Bin 4: 118.14879038634017\n",
      "Bin 5: 131.8991068742575\n",
      "Bin 6: 141.3342362617081\n",
      "Bin 7: 146.50331386386273\n",
      "Bin 8: 147.5527542174896\n",
      "Bin 9: 144.5738848781501\n",
      "Bin 10: 137.71164761165207\n",
      "Bin 11: 127.54537910975058\n",
      "Bin 12: 114.5861151337434\n",
      "Bin 13: 99.55861983509341\n",
      "Bin 14: 83.59206824288859\n",
      "Bin 15: 67.27752849069671\n",
      "Bin 16: 51.838866094911715\n",
      "Bin 17: 38.08140791564808\n",
      "Bin 18: 26.451653840838368\n",
      "Bin 19: 17.35910008018916\n",
      "\n",
      "--------------------------------------------------\n",
      "\n",
      " Cumulative SNR : 457.03933585531564 \n",
      "\n",
      "--------------------------------------------------\n"
     ]
    }
   ],
   "source": [
    "for k,_ in enumerate(splits):\n",
    "    cumSNR, SNRz = fm.signal_to_noise(monopoleBB_signal[k], covs[k])"
   ]
  },
  {
   "cell_type": "markdown",
   "metadata": {},
   "source": [
    "## Test Fisher Matrix"
   ]
  },
  {
   "cell_type": "markdown",
   "metadata": {},
   "source": [
    "### Load the derivatives"
   ]
  },
  {
   "cell_type": "code",
   "execution_count": 232,
   "metadata": {},
   "outputs": [],
   "source": [
    "with open('derivatives.pkl', 'rb') as File:\n",
    "    derivatives_dict = pk.load(File)\n",
    "    \n",
    "derivatives_50x50 = derivatives_dict['split_50x50']\n",
    "derivatives_30x70 = derivatives_dict['split_30x70']"
   ]
  },
  {
   "cell_type": "code",
   "execution_count": 233,
   "metadata": {},
   "outputs": [
    {
     "data": {
      "text/plain": [
       "((8, 19, 324), (4, 19, 324), (5, 19, 324), (4, 19, 324))"
      ]
     },
     "execution_count": 233,
     "metadata": {},
     "output_type": "execute_result"
    }
   ],
   "source": [
    "dsignal_dsbias50 = derivatives_50x50['dsignal_dsbias']\n",
    "\n",
    "dsignal_dgbias50_ = derivatives_50x50['dsignal_dgbias']\n",
    "\n",
    "dsignal_dcosmic50 = derivatives_50x50['dsignal_dcosmic']\n",
    "\n",
    "dsignal_dnum50 = derivatives_50x50['dsignal_dnumev']\n",
    "\n",
    "np.shape(dsignal_dsbias50), np.shape(dsignal_dgbias50_), np.shape(dsignal_dcosmic50), np.shape(dsignal_dnum50)"
   ]
  },
  {
   "cell_type": "code",
   "execution_count": 234,
   "metadata": {},
   "outputs": [
    {
     "data": {
      "text/plain": [
       "((8, 19, 324), (4, 19, 324), (5, 19, 324), (4, 19, 324))"
      ]
     },
     "execution_count": 234,
     "metadata": {},
     "output_type": "execute_result"
    }
   ],
   "source": [
    "dsignal_dsbias30 = derivatives_30x70['dsignal_dsbias']\n",
    "\n",
    "dsignal_dgbias30_ = derivatives_30x70['dsignal_dgbias']\n",
    "\n",
    "dsignal_dcosmic30 = derivatives_30x70['dsignal_dcosmic']\n",
    "\n",
    "dsignal_dnum30 = derivatives_30x70['dsignal_dnumev']\n",
    "\n",
    "np.shape(dsignal_dsbias30), np.shape(dsignal_dgbias30_), np.shape(dsignal_dcosmic30), np.shape(dsignal_dnum30)"
   ]
  },
  {
   "cell_type": "code",
   "execution_count": 235,
   "metadata": {},
   "outputs": [
    {
     "data": {
      "text/plain": [
       "(21, 19, 324)"
      ]
     },
     "execution_count": 235,
     "metadata": {},
     "output_type": "execute_result"
    }
   ],
   "source": [
    "dsignal_dtheta50 = np.concatenate([dsignal_dsbias50, dsignal_dnum50, dsignal_dgbias50_, dsignal_dcosmic50])\n",
    "\n",
    "np.shape(dsignal_dtheta50)"
   ]
  },
  {
   "cell_type": "code",
   "execution_count": 236,
   "metadata": {},
   "outputs": [
    {
     "data": {
      "text/plain": [
       "(21, 19, 324)"
      ]
     },
     "execution_count": 236,
     "metadata": {},
     "output_type": "execute_result"
    }
   ],
   "source": [
    "dsignal_dtheta30 = np.concatenate([dsignal_dsbias30, dsignal_dnum30, dsignal_dgbias30_, dsignal_dcosmic30])\n",
    "\n",
    "np.shape(dsignal_dtheta30)"
   ]
  },
  {
   "cell_type": "code",
   "execution_count": 237,
   "metadata": {},
   "outputs": [],
   "source": [
    "dsignal_dsB50 = np.concatenate([dsignal_dsbias50[:4], np.zeros_like(dsignal_dsbias50[:4])], axis=2)\n",
    "dsignal_dsB30 = np.concatenate([np.zeros_like(dsignal_dsbias30[:4]), dsignal_dsbias30[:4]], axis=2)\n",
    "\n",
    "dsignal_dsM = np.concatenate([dsignal_dsbias50[4:], dsignal_dsbias30[4:]], axis=2)\n",
    "dsignal_dnum = np.concatenate([dsignal_dnum50, dsignal_dnum30], axis=2)\n",
    "dsignal_dgbias50 = np.concatenate([dsignal_dgbias50_, np.zeros_like(dsignal_dgbias50_[:4])], axis=2)\n",
    "dsignal_dgbias30 = np.concatenate([np.zeros_like(dsignal_dgbias30_[:4]), dsignal_dgbias30_], axis=2)\n",
    "dsignal_dcosmic = np.concatenate([dsignal_dcosmic50, dsignal_dcosmic30], axis=2)"
   ]
  },
  {
   "cell_type": "code",
   "execution_count": 238,
   "metadata": {},
   "outputs": [
    {
     "data": {
      "text/plain": [
       "(29, 19, 648)"
      ]
     },
     "execution_count": 238,
     "metadata": {},
     "output_type": "execute_result"
    }
   ],
   "source": [
    "dsignal_dtheta_multi = np.concatenate([dsignal_dsB50, dsignal_dsB30, dsignal_dsM, dsignal_dnum, dsignal_dgbias50, dsignal_dgbias30, dsignal_dcosmic])\n",
    "\n",
    "np.shape(dsignal_dtheta_multi)"
   ]
  },
  {
   "cell_type": "markdown",
   "metadata": {},
   "source": [
    "## Cosmic Parameters Fisher Matrices"
   ]
  },
  {
   "cell_type": "code",
   "execution_count": 239,
   "metadata": {},
   "outputs": [
    {
     "data": {
      "text/plain": [
       "((19, 324, 324), (19, 324, 324), (19, 648, 648))"
      ]
     },
     "execution_count": 239,
     "metadata": {},
     "output_type": "execute_result"
    }
   ],
   "source": [
    "Inv_CovMatrixSKA_joint = np.array([np.linalg.inv(CovMatrixSKA_joint[i]) for i,k in enumerate(z_bins)])\n",
    "\n",
    "np.shape(Inv_CovMatrixSKA_50x50), np.shape(Inv_CovMatrixSKA_30x70), np.shape(Inv_CovMatrixSKA_joint)"
   ]
  },
  {
   "cell_type": "code",
   "execution_count": 240,
   "metadata": {},
   "outputs": [
    {
     "name": "stdout",
     "output_type": "stream",
     "text": [
      "0 True True False\n",
      "1 True True False\n",
      "2 True True False\n",
      "3 True True False\n",
      "4 True True False\n",
      "5 True True False\n",
      "6 True True False\n",
      "7 True True False\n",
      "8 True True False\n",
      "9 True True False\n",
      "10 True True False\n",
      "11 True True False\n",
      "12 True True False\n",
      "13 True True False\n",
      "14 True True False\n",
      "15 True True False\n",
      "16 True True False\n",
      "17 True True False\n",
      "18 True True False\n"
     ]
    }
   ],
   "source": [
    "for n, z in enumerate(z_bins):\n",
    "    print(n, np.allclose(Inv_CovMatrixSKA_50x50[n], Inv_CovMatrixSKA_50x50[n].T, rtol=1e-4), \n",
    "          np.allclose(Inv_CovMatrixSKA_30x70[n], Inv_CovMatrixSKA_30x70[n].T, rtol=1e-4),\n",
    "          np.allclose(Inv_CovMatrixSKA_joint[n], Inv_CovMatrixSKA_joint[n].T, rtol=1e-1))"
   ]
  },
  {
   "cell_type": "code",
   "execution_count": 241,
   "metadata": {},
   "outputs": [
    {
     "name": "stdout",
     "output_type": "stream",
     "text": [
      "\n",
      " ... Computing the Fisher Matrix ... \n",
      "\n",
      "Signal & Cov must be given as functions (z,d) and (z,d,d') respectively. \n",
      "\n",
      "\n",
      " ... Success! ... \n",
      "\n",
      "\n",
      " ... Computing the Fisher Matrix ... \n",
      "\n",
      "Signal & Cov must be given as functions (z,d) and (z,d,d') respectively. \n",
      "\n",
      "\n",
      " ... Success! ... \n",
      "\n",
      "\n",
      " ... Computing the Fisher Matrix ... \n",
      "\n",
      "Signal & Cov must be given as functions (z,d) and (z,d,d') respectively. \n",
      "\n",
      "\n",
      " ... Success! ... \n",
      "\n"
     ]
    },
    {
     "data": {
      "text/plain": [
       "((5, 5), (5, 5), (5, 5))"
      ]
     },
     "execution_count": 241,
     "metadata": {},
     "output_type": "execute_result"
    }
   ],
   "source": [
    "FisherMatrixSKA_50x50 = fm.fisher_matrix(d_signal=dsignal_dcosmic50, inv_cov=Inv_CovMatrixSKA_50x50, z_bins=z_bins, bins=False)\n",
    "FisherMatrixSKA_30x70 = fm.fisher_matrix(d_signal=dsignal_dcosmic30, inv_cov=Inv_CovMatrixSKA_30x70, z_bins=z_bins, bins=False)\n",
    "FisherMatrixSKA_joint = fm.fisher_matrix(d_signal=dsignal_dcosmic, inv_cov=Inv_CovMatrixSKA_joint, z_bins=z_bins, bins=False)\n",
    "\n",
    "np.shape(FisherMatrixSKA_50x50), np.shape(FisherMatrixSKA_30x70), np.shape(FisherMatrixSKA_joint)\n"
   ]
  },
  {
   "cell_type": "code",
   "execution_count": 242,
   "metadata": {},
   "outputs": [
    {
     "name": "stdout",
     "output_type": "stream",
     "text": [
      "5164002.026713927\t1688886.113488194\t496226.54262118076\t-19413664.00695398\t6641394.1023081085\n",
      "1688886.1134881629\t591306.3728766952\t96541.34153689024\t-6055929.224972827\t2108424.579750899\n",
      "496226.5426212941\t96541.34153693542\t269437.40309821675\t-1928441.3798997358\t1401221.6430270765\n",
      "-19413664.00695389\t-6055929.2249728255\t-1928441.3798995449\t80306511.07905662\t-23831659.69196253\n",
      "6641394.102308079\t2108424.579750879\t1401221.643026993\t-23831659.691962913\t13961632.845623164\n"
     ]
    }
   ],
   "source": [
    "print('\\n'.join(['\\t'.join([str(cell) for cell in row]) for row in FisherMatrixSKA_50x50]))"
   ]
  },
  {
   "cell_type": "code",
   "execution_count": 243,
   "metadata": {},
   "outputs": [
    {
     "name": "stdout",
     "output_type": "stream",
     "text": [
      "5982702.933384105\t1941106.7989340974\t647009.0811368452\t-22479456.449509744\t7855159.7982589435\n",
      "1941106.7989341135\t670904.4828461709\t138897.17270884645\t-6988605.066999086\t2473726.474570977\n",
      "647009.0811369446\t138897.17270890815\t310960.1564787712\t-2499890.3801519116\t1671688.8824865094\n",
      "-22479456.449508905\t-6988605.066998642\t-2499890.3801519973\t92043357.18543775\t-28355007.711743876\n",
      "7855159.798259621\t2473726.4745712737\t1671688.8824863958\t-28355007.71174604\t15915477.89555201\n"
     ]
    }
   ],
   "source": [
    "print('\\n'.join(['\\t'.join([str(cell) for cell in row]) for row in FisherMatrixSKA_30x70]))"
   ]
  },
  {
   "cell_type": "code",
   "execution_count": 244,
   "metadata": {},
   "outputs": [
    {
     "name": "stdout",
     "output_type": "stream",
     "text": [
      "23540005.405536592\t6309151.987861257\t7374443.615792481\t-91382209.91576387\t42721937.60725491\n",
      "5687407.206411818\t1171329.3425980997\t2847530.417657021\t-23581595.63987485\t12834068.855523234\n",
      "5415085.5710737845\t1575172.0305968022\t1417495.466707767\t-19559345.331203572\t9253628.711412916\n",
      "-90211434.07125682\t-25681821.13135975\t-24965943.863310527\t338838413.19141704\t-157779418.11353573\n",
      "35063075.88393482\t9294585.562959393\t11656586.058249475\t-138047395.64778018\t65076615.114773355\n"
     ]
    }
   ],
   "source": [
    "print('\\n'.join(['\\t'.join([str(cell) for cell in row]) for row in FisherMatrixSKA_joint]))"
   ]
  },
  {
   "cell_type": "code",
   "execution_count": 245,
   "metadata": {},
   "outputs": [
    {
     "data": {
      "text/plain": [
       "(5, 19, 324)"
      ]
     },
     "execution_count": 245,
     "metadata": {},
     "output_type": "execute_result"
    }
   ],
   "source": [
    "np.shape(dsignal_dcosmic50)"
   ]
  },
  {
   "cell_type": "code",
   "execution_count": 246,
   "metadata": {},
   "outputs": [
    {
     "data": {
      "text/plain": [
       "((5, 19, 648), (5, 19, 648), (10, 19, 648))"
      ]
     },
     "execution_count": 246,
     "metadata": {},
     "output_type": "execute_result"
    }
   ],
   "source": [
    "dsignal_dcosmic50_ = np.concatenate([dsignal_dcosmic50, np.zeros_like(dsignal_dcosmic30)], axis=2)\n",
    "dsignal_dcosmic30_ = np.concatenate([np.zeros_like(dsignal_dcosmic50), dsignal_dcosmic30], axis=2)\n",
    "\n",
    "dsignal_dcosmic_multi = np.concatenate([dsignal_dcosmic50_, dsignal_dcosmic30_])\n",
    "\n",
    "np.shape(dsignal_dcosmic50_), np.shape(dsignal_dcosmic30_), np.shape(dsignal_dcosmic_multi)"
   ]
  },
  {
   "cell_type": "code",
   "execution_count": 247,
   "metadata": {},
   "outputs": [
    {
     "name": "stdout",
     "output_type": "stream",
     "text": [
      "\n",
      " ... Computing the Fisher Matrix ... \n",
      "\n",
      "Signal & Cov must be given as functions (z,d) and (z,d,d') respectively. \n",
      "\n",
      "\n",
      " ... Success! ... \n",
      "\n"
     ]
    }
   ],
   "source": [
    "FisherMatrixSKA_joint_ = fm.fisher_matrix(d_signal=dsignal_dcosmic_multi, inv_cov=Inv_CovMatrixSKA_joint, z_bins=z_bins, bins=False)\n"
   ]
  },
  {
   "cell_type": "code",
   "execution_count": 248,
   "metadata": {},
   "outputs": [
    {
     "name": "stdout",
     "output_type": "stream",
     "text": [
      "3.932845848544591e+21\t9.877624561515537e+20\t1.1256532326968956e+21\t-1.5985070100273877e+22\t7.352933399336688e+21\t-3.9328349577216425e+21\t-9.877594618408829e+20\t-1.1256497525316393e+21\t1.5985029064266695e+22\t-7.35290287841733e+21\n",
      "1.296054332118401e+21\t2.406577040183968e+20\t5.8468488620672877e+20\t-5.468440150375117e+21\t2.850616129422429e+21\t-1.2960551977292385e+21\t-2.4065794648655426e+20\t-5.846851636231961e+20\t5.468443262599428e+21\t-2.850614479115544e+21\n",
      "4.764190753606881e+20\t2.8530083172578994e+20\t-1.1596996605700006e+20\t-9.934899754744026e+20\t1.1759439414377762e+21\t-4.7639738305237405e+20\t-2.85294810398686e+20\t1.1597673381697323e+20\t9.934088171171291e+20\t-1.1758999423775124e+21\n",
      "-1.507067585650983e+22\t-4.6150450950975e+21\t-1.3406363190187802e+21\t6.2189990778704805e+22\t-1.7563626327711527e+22\t1.5070609003316907e+22\t4.615026739017164e+21\t1.3406147355893508e+21\t-6.218973999090837e+22\t1.7563448729482666e+22\n",
      "7.028917694706071e+21\t2.0681126378989148e+21\t2.0733841650135678e+21\t-2.5254695151545547e+22\t1.710831013578456e+22\t-7.028757756940502e+21\t-2.0680682276393365e+21\t-2.0733344527558128e+21\t2.525409597142818e+22\t-1.7107955626894357e+22\n",
      "-3.932845849043996e+21\t-9.877624562900915e+20\t-1.1256532328528116e+21\t1.5985070102146013e+22\t-7.35293340026176e+21\t3.932834958221072e+21\t9.877594619794267e+20\t1.125649752687564e+21\t-1.5985029066138931e+22\t7.352902879342448e+21\n",
      "-1.2960543326079321e+21\t-2.4065770415419002e+20\t-5.846848863595545e+20\t5.468440152210284e+21\t-2.8506161303222123e+21\t1.2960551982187767e+21\t2.406579466223494e+20\t5.846851637760245e+20\t-5.468443264434617e+21\t2.850614480015336e+21\n",
      "-4.764190744834971e+20\t-2.8530083148272098e+20\t1.1596996633157937e+20\t9.934899721849185e+20\t-1.1759439398163386e+21\t4.7639738217518596e+20\t2.8529481015561758e+20\t-1.1597673409154992e+20\t-9.934088138276618e+20\t1.1758999407560868e+21\n",
      "1.5070675856335196e+22\t4.615045095049198e+21\t1.340636318963831e+21\t-6.218999077804931e+22\t1.7563626327456415e+22\t-1.5070609003142357e+22\t-4.615026738968885e+21\t-1.3406147355344264e+21\t6.218973999025324e+22\t-1.756344872922769e+22\n",
      "-7.028917690541884e+21\t-2.0681126367441532e+21\t-2.0733841637127532e+21\t2.525469513593357e+22\t-1.7108310127238927e+22\t7.028757752776359e+21\t2.068068226484588e+21\t2.0733344514550132e+21\t-2.5254095955816366e+22\t1.7107955618348817e+22\n"
     ]
    }
   ],
   "source": [
    "print('\\n'.join(['\\t'.join([str(cell) for cell in row]) for row in FisherMatrixSKA_joint_]))"
   ]
  },
  {
   "cell_type": "code",
   "execution_count": 249,
   "metadata": {},
   "outputs": [
    {
     "data": {
      "text/plain": [
       "(5.561916506041953e+30, 9.66869206281804e+136)"
      ]
     },
     "execution_count": 249,
     "metadata": {},
     "output_type": "execute_result"
    }
   ],
   "source": [
    "np.linalg.det(FisherMatrixSKA_joint), np.linalg.det(FisherMatrixSKA_joint_)"
   ]
  },
  {
   "cell_type": "code",
   "execution_count": 250,
   "metadata": {},
   "outputs": [
    {
     "name": "stdout",
     "output_type": "stream",
     "text": [
      "4.7474308679761215e-06\t-4.5069396456612225e-07\t8.771220924825273e-06\t1.1142354286531753e-06\t-1.573490139146783e-06\n",
      "-1.094285122975047e-05\t-1.9822679027962325e-06\t3.776912596878033e-06\t-3.1781196436359603e-07\t6.267167335983491e-06\n",
      "-3.0470006230043076e-06\t-2.843749562065036e-06\t1.5876405054192338e-05\t1.6761752027830387e-06\t4.3675018775844595e-06\n",
      "7.099011238127303e-08\t1.908640427424329e-07\t1.2502717509652293e-06\t6.526863610212872e-08\t-1.0378383314982536e-07\n",
      "-2.986116683095764e-07\t1.4402066036729706e-06\t-5.456933251494058e-06\t-7.167383564437936e-07\t-1.0344202467159471e-06\n"
     ]
    }
   ],
   "source": [
    "print('\\n'.join(['\\t'.join([str(cell) for cell in row]) for row in np.linalg.inv(FisherMatrixSKA_joint)]))"
   ]
  },
  {
   "cell_type": "markdown",
   "metadata": {},
   "source": [
    "## Cosmic Parameters + Galaxy Bias FISHER MATRIX"
   ]
  },
  {
   "cell_type": "code",
   "execution_count": 251,
   "metadata": {},
   "outputs": [
    {
     "data": {
      "text/plain": [
       "((9, 19, 324), (9, 19, 324), (13, 19, 648))"
      ]
     },
     "execution_count": 251,
     "metadata": {},
     "output_type": "execute_result"
    }
   ],
   "source": [
    "dsignal_dpars50x50 = np.concatenate([dsignal_dgbias50_, dsignal_dcosmic50])\n",
    "dsignal_dpars30x70 = np.concatenate([dsignal_dgbias30_, dsignal_dcosmic30])\n",
    "dsignal_dpars_joint = np.concatenate([dsignal_dgbias50, dsignal_dgbias30, dsignal_dcosmic])\n",
    "\n",
    "np.shape(dsignal_dpars50x50), np.shape(dsignal_dpars30x70), np.shape(dsignal_dpars_joint)"
   ]
  },
  {
   "cell_type": "code",
   "execution_count": 252,
   "metadata": {},
   "outputs": [
    {
     "name": "stdout",
     "output_type": "stream",
     "text": [
      "\n",
      " ... Computing the Fisher Matrix ... \n",
      "\n",
      "Signal & Cov must be given as functions (z,d) and (z,d,d') respectively. \n",
      "\n",
      "\n",
      " ... Success! ... \n",
      "\n",
      "\n",
      " ... Computing the Fisher Matrix ... \n",
      "\n",
      "Signal & Cov must be given as functions (z,d) and (z,d,d') respectively. \n",
      "\n",
      "\n",
      " ... Success! ... \n",
      "\n",
      "\n",
      " ... Computing the Fisher Matrix ... \n",
      "\n",
      "Signal & Cov must be given as functions (z,d) and (z,d,d') respectively. \n",
      "\n"
     ]
    },
    {
     "name": "stdout",
     "output_type": "stream",
     "text": [
      "\n",
      " ... Success! ... \n",
      "\n"
     ]
    },
    {
     "data": {
      "text/plain": [
       "((9, 9), (9, 9), (13, 13))"
      ]
     },
     "execution_count": 252,
     "metadata": {},
     "output_type": "execute_result"
    }
   ],
   "source": [
    "FisherMatrixSKA_50x50 = fm.fisher_matrix(d_signal=dsignal_dpars50x50, inv_cov=Inv_CovMatrixSKA_50x50, z_bins=z_bins, bins=False)\n",
    "FisherMatrixSKA_30x70 = fm.fisher_matrix(d_signal=dsignal_dpars30x70, inv_cov=Inv_CovMatrixSKA_30x70, z_bins=z_bins, bins=False)\n",
    "FisherMatrixSKA_joint = fm.fisher_matrix(d_signal=dsignal_dpars_joint, inv_cov=Inv_CovMatrixSKA_joint, z_bins=z_bins, bins=False)\n",
    "\n",
    "np.shape(FisherMatrixSKA_50x50), np.shape(FisherMatrixSKA_30x70), np.shape(FisherMatrixSKA_joint)\n"
   ]
  },
  {
   "cell_type": "code",
   "execution_count": 253,
   "metadata": {},
   "outputs": [
    {
     "data": {
      "text/plain": [
       "(2.978620645887647e+53, 6.949421003610326e+53, -1.1009360003469574e+138)"
      ]
     },
     "execution_count": 253,
     "metadata": {},
     "output_type": "execute_result"
    }
   ],
   "source": [
    "np.linalg.det(FisherMatrixSKA_50x50), np.linalg.det(FisherMatrixSKA_30x70), np.linalg.det(FisherMatrixSKA_joint)"
   ]
  },
  {
   "cell_type": "code",
   "execution_count": 254,
   "metadata": {},
   "outputs": [
    {
     "name": "stdout",
     "output_type": "stream",
     "text": [
      "25447240.777854692\t7515169.987835224\t-31713835.347808655\t-9110094.934605015\t2177814.361231719\t1105856.1562454673\t-932413.0557254107\t-6618981.011715738\t-2933471.9958783127\n",
      "7515169.987835222\t2808444.203160712\t-9110094.934605015\t-3225463.7597114304\t1072997.0184735924\t504090.3908093623\t-332884.4190554553\t-3396522.347946506\t-474952.963605881\n",
      "-31713835.347809885\t-9110094.93460506\t48443965.55355428\t14405111.655087853\t2321035.4568680176\t305381.6409740199\t1695881.1591249863\t-10068274.409692686\t11822762.336750662\n",
      "-9110094.934605056\t-3225463.7597113927\t14405111.655087844\t5400372.421185124\t629545.2719306645\t69738.45404022718\t496145.3945584891\t-2793044.5741037377\t3003394.232552508\n",
      "2177814.3612309718\t1072997.0184736014\t2321035.456869026\t629545.2719306569\t5164002.026713927\t1688886.113488194\t496226.54262118076\t-19413664.00695398\t6641394.1023081085\n",
      "1105856.1562451809\t504090.390809364\t305381.6409744265\t69738.45404022578\t1688886.1134881629\t591306.3728766952\t96541.34153689024\t-6055929.224972827\t2108424.579750899\n",
      "-932413.0557254825\t-332884.41905548575\t1695881.1591251402\t496145.3945585524\t496226.5426212941\t96541.34153693542\t269437.40309821675\t-1928441.3798997358\t1401221.6430270765\n",
      "-6618981.011713022\t-3396522.347946646\t-10068274.409694914\t-2793044.574103466\t-19413664.00695389\t-6055929.2249728255\t-1928441.3798995449\t80306511.07905662\t-23831659.69196253\n",
      "-2933471.9958805563\t-474952.9636061552\t11822762.336753465\t3003394.232552853\t6641394.102308079\t2108424.579750879\t1401221.643026993\t-23831659.691962913\t13961632.845623164\n"
     ]
    }
   ],
   "source": [
    "print('\\n'.join(['\\t'.join([str(cell) for cell in row]) for row in FisherMatrixSKA_50x50]))"
   ]
  },
  {
   "cell_type": "code",
   "execution_count": 255,
   "metadata": {},
   "outputs": [
    {
     "name": "stdout",
     "output_type": "stream",
     "text": [
      "33016651.384679236\t8332488.267908776\t-50360159.32634173\t-12901331.246122913\t1874549.3290753085\t1015691.4324662106\t-994719.3725617193\t-5479385.917692468\t-3961393.346895395\n",
      "8332488.267908773\t2733114.2927259943\t-12901331.246122926\t-4149358.7031630417\t846945.2037477822\t422633.8689456244\t-337296.306303709\t-2592730.776060814\t-779727.1200034039\n",
      "-50360159.32633923\t-12901331.24612243\t84500438.42434922\t23254467.951169528\t2067729.6980300494\t117760.24214361416\t1973312.5021055618\t-9524773.356651565\t13038348.119257785\n",
      "-12901331.246122435\t-4149358.7031629556\t23254467.951169528\t8118604.127277631\t736809.8546538168\t81090.78851551346\t578643.8650978748\t-3279873.2486417764\t3469697.352632582\n",
      "1874549.3290768762\t846945.2037479944\t2067729.6980268739\t736809.8546534531\t5982702.933384105\t1941106.7989340974\t647009.0811368452\t-22479456.449509744\t7855159.7982589435\n",
      "1015691.4324669703\t422633.86894572224\t117760.24214217364\t81090.7885153587\t1941106.7989341135\t670904.4828461709\t138897.17270884645\t-6988605.066999086\t2473726.474570977\n",
      "-994719.372562376\t-337296.3063038523\t1973312.5021069231\t578643.8650981568\t647009.0811369446\t138897.17270890815\t310960.1564787712\t-2499890.3801519116\t1671688.8824865094\n",
      "-5479385.917697523\t-2592730.7760616518\t-9524773.356639676\t-3279873.248639772\t-22479456.449508905\t-6988605.066998642\t-2499890.3801519973\t92043357.18543775\t-28355007.711743876\n",
      "-3961393.346896719\t-779727.1200039316\t13038348.119260143\t3469697.352633649\t7855159.798259621\t2473726.4745712737\t1671688.8824863958\t-28355007.71174604\t15915477.89555201\n"
     ]
    }
   ],
   "source": [
    "print('\\n'.join(['\\t'.join([str(cell) for cell in row]) for row in FisherMatrixSKA_30x70]))"
   ]
  },
  {
   "cell_type": "code",
   "execution_count": 256,
   "metadata": {},
   "outputs": [
    {
     "name": "stdout",
     "output_type": "stream",
     "text": [
      "2.5385057226077438e+20\t3.227893879290389e+20\t2.7019845864174243e+20\t3.502117430532662e+20\t-1.569666143420626e+20\t-1.973090600528217e+20\t-3.674131951524024e+20\t-4.818137779832439e+20\t-1669004975901248.2\t-466275583996496.8\t-527935366119441.25\t6094426025613464.0\t535279544340240.0\n",
      "3.2278938792903967e+20\t3.280481580199732e+20\t3.502117430532675e+20\t3.5781189760977496e+20\t-1.9730906005282164e+20\t-1.998848468028931e+20\t-4.8181377798324316e+20\t-4.93806103295406e+20\t-2019307803190054.0\t-561719742951867.9\t-627520243199851.6\t7539001999290952.0\t-3994270677557522.0\n",
      "2.7019847210432994e+20\t3.502117465268752e+20\t2.8706340177849935e+20\t3.798077826821554e+20\t-1.6725915939822993e+20\t-2.1412374801571945e+20\t-3.898952347215402e+20\t-5.224052637520908e+20\t-1961909434001332.0\t-547963540457907.0\t-620519337760174.0\t7168986881233536.0\t493155245051472.0\n",
      "3.5021174652687555e+20\t3.578118987555899e+20\t3.7980778268215575e+20\t3.902142832792029e+20\t-2.1412374801571997e+20\t-2.1804086733745786e+20\t-5.2240526375209206e+20\t-5.3847463250921036e+20\t-2312846531450511.0\t-643353310593207.0\t-718823177599617.1\t8634945947342590.0\t-4580815072362005.0\n",
      "-1.5696662844868562e+20\t-1.9730906204043225e+20\t-1.6725916756088e+20\t-2.1412374822261473e+20\t9.699576550452396e+19\t1.2058995832729842e+20\t2.27592653050632e+20\t2.9462936578695456e+20\t1013429589719443.4\t283088358555339.44\t320323503927610.7\t-3703655087542856.0\t-237398451286787.62\n",
      "-1.973090620404321e+20\t-1.9988484725519414e+20\t-2.1412374822261506e+20\t-2.180408671696067e+20\t1.2058995832729828e+20\t1.2178612849450865e+20\t2.9462936578695443e+20\t3.009283678109811e+20\t1190116941111956.5\t331069792534067.5\t369797357102004.25\t-4443287006830470.0\t2354071817980564.0\n",
      "-3.674131957235479e+20\t-4.818137768089216e+20\t-3.8989521360443494e+20\t-5.224052568415285e+20\t2.275926303882396e+20\t2.9462936186461163e+20\t5.291822780266208e+20\t7.184381382571313e+20\t2718611162520836.0\t759395281088538.1\t860415084067221.6\t-9926916324889088.0\t-885878940509240.0\n",
      "-4.818137768089214e+20\t-4.9380610255659277e+20\t-5.224052568415296e+20\t-5.3847462984834154e+20\t2.9462936186461202e+20\t3.009283666423998e+20\t7.18438138257131e+20\t7.430268385668298e+20\t3288076555049296.0\t914606096705264.5\t1022020292928063.0\t-1.227585749956032e+16\t6512285832540153.0\n",
      "-277836191.88293046\t-89335193.63989161\t-320624544.1130404\t-103520950.28709152\t166241958.69229007\t53562919.18240853\t453709603.0970641\t146493621.1961779\t23540005.405536592\t6309151.987861257\t7374443.615792481\t-91382209.91576387\t42721937.60725491\n",
      "-211435148.8905916\t-79596681.8287419\t-244382132.29848623\t-91945474.27245408\t125774660.57077742\t47131933.81371275\t342492272.58093834\t128775807.17508197\t5687407.206411818\t1171329.3425980997\t2847530.417657021\t-23581595.63987485\t12834068.855523234\n",
      "-351145871.1351205\t-349562303.33132714\t-376851789.7401995\t-383532100.5402769\t214120582.56875637\t211921461.39042068\t521563345.3461785\t532662402.1911526\t5415085.5710737845\t1575172.0305968022\t1417495.466707767\t-19559345.331203572\t9253628.711412916\n",
      "847127210.790849\t208221793.99086255\t967443715.999943\t236374714.24606016\t-507141724.57660615\t-127426827.3786166\t-1377118087.357127\t-333617545.163151\t-90211434.07125682\t-25681821.13135975\t-24965943.863310527\t338838413.19141704\t-157779418.11353573\n",
      "893315155.7067176\t785478540.2301795\t1034781134.4624422\t900961572.8121508\t-542604711.0703168\t-464975046.8612461\t-1427279882.9549315\t-1274532698.0361915\t35063075.88393482\t9294585.562959393\t11656586.058249475\t-138047395.64778018\t65076615.114773355\n"
     ]
    }
   ],
   "source": [
    "print('\\n'.join(['\\t'.join([str(cell) for cell in row]) for row in FisherMatrixSKA_joint]))"
   ]
  },
  {
   "cell_type": "code",
   "execution_count": 257,
   "metadata": {},
   "outputs": [
    {
     "data": {
      "text/plain": [
       "(18, 19, 648)"
      ]
     },
     "execution_count": 257,
     "metadata": {},
     "output_type": "execute_result"
    }
   ],
   "source": [
    "dsignal_dpars_joint_ = np.concatenate([dsignal_dgbias50, dsignal_dgbias30, dsignal_dcosmic_multi])\n",
    "\n",
    "np.shape(dsignal_dpars_joint_)"
   ]
  },
  {
   "cell_type": "code",
   "execution_count": 258,
   "metadata": {},
   "outputs": [
    {
     "name": "stdout",
     "output_type": "stream",
     "text": [
      "\n",
      " ... Computing the Fisher Matrix ... \n",
      "\n",
      "Signal & Cov must be given as functions (z,d) and (z,d,d') respectively. \n",
      "\n"
     ]
    },
    {
     "name": "stdout",
     "output_type": "stream",
     "text": [
      "\n",
      " ... Success! ... \n",
      "\n"
     ]
    }
   ],
   "source": [
    "FisherMatrixSKA_joint_ = fm.fisher_matrix(d_signal=dsignal_dpars_joint_, inv_cov=Inv_CovMatrixSKA_joint, z_bins=z_bins, bins=False)"
   ]
  },
  {
   "cell_type": "code",
   "execution_count": 259,
   "metadata": {},
   "outputs": [
    {
     "data": {
      "text/plain": [
       "((18, 18), 1.504031017503593e+241)"
      ]
     },
     "execution_count": 259,
     "metadata": {},
     "output_type": "execute_result"
    }
   ],
   "source": [
    "np.shape(FisherMatrixSKA_joint_), np.linalg.det(FisherMatrixSKA_joint_)"
   ]
  },
  {
   "cell_type": "code",
   "execution_count": 260,
   "metadata": {},
   "outputs": [
    {
     "name": "stdout",
     "output_type": "stream",
     "text": [
      "2.5385057226077438e+20\t3.227893879290389e+20\t2.7019845864174243e+20\t3.502117430532662e+20\t-1.569666143420626e+20\t-1.973090600528217e+20\t-3.674131951524024e+20\t-4.818137779832439e+20\t8.507161990194598e+20\t6.7433081472865894e+19\t4.521124541886201e+20\t-4.1889112535932737e+21\t1.2328145716002357e+21\t-8.507178680244354e+20\t-6.7433547748449755e+19\t-4.5211298212398616e+20\t4.188917348019299e+21\t-1.2328140363206917e+21\n",
      "3.2278938792903967e+20\t3.280481580199732e+20\t3.502117430532675e+20\t3.5781189760977496e+20\t-1.9730906005282164e+20\t-1.998848468028931e+20\t-4.8181377798324316e+20\t-4.93806103295406e+20\t7.12442073025591e+20\t1.2952273623431587e+20\t1.898281535889699e+20\t-3.284621651668759e+21\t5.674740900597645e+20\t-7.124440923333941e+20\t-1.2952329795405881e+20\t-1.8982878110921336e+20\t3.2846291906707577e+21\t-5.674780843304423e+20\n",
      "2.7019847210432994e+20\t3.502117465268752e+20\t2.8706340177849935e+20\t3.798077826821554e+20\t-1.6725915939822993e+20\t-2.1412374801571945e+20\t-3.898952347215402e+20\t-5.224052637520908e+20\t9.353041455417849e+20\t6.799066987648758e+19\t5.1274934137995094e+20\t-4.624389035935842e+21\t1.393149998457001e+21\t-9.353061074512194e+20\t-6.7991217840028615e+19\t-5.12749961899289e+20\t4.6243962049227197e+21\t-1.3931495053017568e+21\n",
      "3.5021174652687555e+20\t3.578118987555899e+20\t3.7980778268215575e+20\t3.902142832792029e+20\t-2.1412374801571997e+20\t-2.1804086733745786e+20\t-5.2240526375209206e+20\t-5.3847463250921036e+20\t7.842030684958432e+20\t1.392085558107946e+20\t2.174668251930604e+20\t-3.6263268691483453e+21\t6.455978232114778e+20\t-7.842053813423744e+20\t-1.3920919916410516e+20\t-2.174675440162385e+20\t3.626335504094296e+21\t-6.456024040265502e+20\n",
      "-1.5696662844868562e+20\t-1.9730906204043225e+20\t-1.6725916756088e+20\t-2.1412374822261473e+20\t9.699576550452396e+19\t1.2058995832729842e+20\t2.27592653050632e+20\t2.9462936578695456e+20\t-5.160221335737279e+20\t-4.292234357072614e+19\t-2.6903642404762177e+20\t2.5347380640421013e+21\t-7.351065090124224e+20\t5.1602314700331765e+20\t4.292262665908515e+19\t2.6903674437112565e+20\t-2.534741767697188e+21\t7.35106271613972e+20\n",
      "-1.973090620404321e+20\t-1.9988484725519414e+20\t-2.1412374822261506e+20\t-2.180408671696067e+20\t1.2058995832729828e+20\t1.2178612849450865e+20\t2.9462936578695443e+20\t3.009283678109811e+20\t-4.318966015227071e+20\t-7.96108197429557e+19\t-1.1231442754920913e+20\t1.9876944753030225e+21\t-3.372693832642812e+20\t4.318977916396485e+20\t7.961115081274833e+19\t1.1231479734656628e+20\t-1.9876989185900292e+21\t3.3727173733609905e+20\n",
      "-3.674131957235479e+20\t-4.818137768089216e+20\t-3.8989521360443494e+20\t-5.224052568415285e+20\t2.275926303882396e+20\t2.9462936186461163e+20\t5.291822780266208e+20\t7.184381382571313e+20\t-1.2963768337572506e+21\t-8.944111588482792e+19\t-7.230548565570617e+20\t6.424231575662548e+21\t-1.9611018707318095e+21\t1.2963795523684118e+21\t8.944187528010972e+19\t7.230557169721457e+20\t-6.424241502578875e+21\t1.961100984852869e+21\n",
      "-4.818137768089214e+20\t-4.9380610255659277e+20\t-5.224052568415296e+20\t-5.3847462984834154e+20\t2.9462936186461202e+20\t3.009283666423998e+20\t7.18438138257131e+20\t7.430268385668298e+20\t-1.0875444598615891e+21\t-1.9046522907926115e+20\t-3.081459722494556e+20\t5.037374148256483e+21\t-9.113387817994176e+20\t1.0875477479381441e+21\t1.9046614368535813e+20\t3.081469942697487e+20\t-5.037386424113982e+21\t9.113452940852506e+20\n",
      "4.066832278724112e+20\t4.440601532561067e+20\t4.391431809559535e+20\t4.844093342248574e+20\t-2.494682723900417e+20\t-2.7059677953059593e+20\t-6.020642933856714e+20\t-6.684647952435505e+20\t3.932845848544591e+21\t9.877624561515537e+20\t1.1256532326968956e+21\t-1.5985070100273877e+22\t7.352933399336688e+21\t-3.9328349577216425e+21\t-9.877594618408829e+20\t-1.1256497525316393e+21\t1.5985029064266695e+22\t-7.35290287841733e+21\n",
      "8.080087319217103e+19\t1.4079320755792981e+20\t8.296324612819845e+19\t1.5190776167091598e+20\t-5.1017004633514844e+19\t-8.634760738292646e+19\t-1.1023007504019644e+20\t-2.0830360666828738e+20\t1.296054332118401e+21\t2.406577040183968e+20\t5.8468488620672877e+20\t-5.468440150375117e+21\t2.850616129422429e+21\t-1.2960551977292385e+21\t-2.4065794648655426e+20\t-5.846851636231961e+20\t5.468443262599428e+21\t-2.850614479115544e+21\n",
      "-7.849825610176523e+19\t-1.8971760276120633e+20\t-7.630790047669099e+19\t-2.045596547225742e+20\t5.110259417114093e+19\t1.1645459989782603e+20\t9.748925281063235e+19\t2.8026076431223954e+20\t4.764190753606881e+20\t2.8530083172578994e+20\t-1.1596996605700006e+20\t-9.934899754744026e+20\t1.1759439414377762e+21\t-4.7639738305237405e+20\t-2.85294810398686e+20\t1.1597673381697323e+20\t9.934088171171291e+20\t-1.1758999423775124e+21\n",
      "-3.3392231443243703e+21\t-3.2683448663721016e+21\t-3.637502816715777e+21\t-3.5862124262563816e+21\t2.038549782408221e+21\t1.9852602456735186e+21\t5.0108001574839e+21\t4.964106302779051e+21\t-1.507067585650983e+22\t-4.6150450950975e+21\t-1.3406363190187802e+21\t6.2189990778704805e+22\t-1.7563626327711527e+22\t1.5070609003316907e+22\t4.615026739017164e+21\t1.3406147355893508e+21\t-6.218973999090837e+22\t1.7563448729482666e+22\n",
      "-2.1327184547926278e+20\t-3.1725279792849696e+20\t-2.22725833476752e+20\t-3.440770390432186e+20\t1.3331949710961164e+20\t1.9407051102482963e+20\t2.993180845307583e+20\t4.7303059787178115e+20\t7.028917694706071e+21\t2.0681126378989148e+21\t2.0733841650135678e+21\t-2.5254695151545547e+22\t1.710831013578456e+22\t-7.028757756940502e+21\t-2.0680682276393365e+21\t-2.0733344527558128e+21\t2.525409597142818e+22\t-1.7107955626894357e+22\n",
      "-4.0668322787268873e+20\t-4.440601532561963e+20\t-4.391431809562757e+20\t-4.844093342249618e+20\t2.494682723902075e+20\t2.7059677953064947e+20\t6.020642933861235e+20\t6.684647952436961e+20\t-3.932845849043996e+21\t-9.877624562900915e+20\t-1.1256532328528116e+21\t1.5985070102146013e+22\t-7.35293340026176e+21\t3.932834958221072e+21\t9.877594619794267e+20\t1.125649752687564e+21\t-1.5985029066138931e+22\t7.352902879342448e+21\n",
      "-8.080087319238173e+19\t-1.407932075580088e+20\t-8.296324612844192e+19\t-1.5190776167100717e+20\t5.101700463364038e+19\t8.634760738297351e+19\t1.1023007504053807e+20\t2.0830360666841563e+20\t-1.2960543326079321e+21\t-2.4065770415419002e+20\t-5.846848863595545e+20\t5.468440152210284e+21\t-2.8506161303222123e+21\t1.2960551982187767e+21\t2.406579466223494e+20\t5.846851637760245e+20\t-5.468443264434617e+21\t2.850614480015336e+21\n",
      "7.849825610141372e+19\t1.8971760276085637e+20\t7.630790047631311e+19\t2.0455965472218982e+20\t-5.110259417092707e+19\t-1.164545998976143e+20\t-9.748925281011255e+19\t-2.802607643117077e+20\t-4.764190744834971e+20\t-2.8530083148272098e+20\t1.1596996633157937e+20\t9.934899721849185e+20\t-1.1759439398163386e+21\t4.7639738217518596e+20\t2.8529481015561758e+20\t-1.1597673409154992e+20\t-9.934088138276618e+20\t1.1758999407560868e+21\n",
      "3.339223144325217e+21\t3.268344866372311e+21\t3.6375028167167417e+21\t3.5862124262566176e+21\t-2.0385497824087282e+21\t-1.9852602456736457e+21\t-5.010800157485277e+21\t-4.964106302779383e+21\t1.5070675856335196e+22\t4.615045095049198e+21\t1.340636318963831e+21\t-6.218999077804931e+22\t1.7563626327456415e+22\t-1.5070609003142357e+22\t-4.615026738968885e+21\t-1.3406147355344264e+21\t6.218973999025324e+22\t-1.756344872922769e+22\n",
      "2.1327184548015555e+20\t3.172527979292822e+20\t2.2272583347778683e+20\t3.440770390441192e+20\t-1.333194971101539e+20\t-1.940705110252946e+20\t-2.9931808453218546e+20\t-4.730305978730558e+20\t-7.028917690541884e+21\t-2.0681126367441532e+21\t-2.0733841637127532e+21\t2.525469513593357e+22\t-1.7108310127238927e+22\t7.028757752776359e+21\t2.068068226484588e+21\t2.0733344514550132e+21\t-2.5254095955816366e+22\t1.7107955618348817e+22\n"
     ]
    }
   ],
   "source": [
    "print('\\n'.join(['\\t'.join([str(cell) for cell in row]) for row in FisherMatrixSKA_joint_]))"
   ]
  },
  {
   "cell_type": "markdown",
   "metadata": {},
   "source": [
    "#  Joint Covariance Matrix 50x30 [all] REMOVE ONE HEXADECAPOLE"
   ]
  },
  {
   "cell_type": "markdown",
   "metadata": {},
   "source": [
    "## Check Cauchy-Schwarz inequality \n",
    "\n",
    "The Cauchy-Schwarz inequality implies:\n",
    "\n",
    "$$ \\mathrm{COV}(X,Y) \\leq \\sqrt{\\mathrm{VAR}(X)\\cdot\\mathrm{VAR}(Y)}$$"
   ]
  },
  {
   "cell_type": "code",
   "execution_count": 395,
   "metadata": {},
   "outputs": [],
   "source": [
    "z_bins = np.array([0.15, 0.25, 0.35, 0.45, 0.55, 0.65, 0.75, 0.85, 0.95, 1.05, 1.15, 1.25, 1.35, 1.45, 1.55, 1.65, 1.75, 1.85, 1.95])\n",
    "\n",
    "n_sep = len(dist[0])\n",
    "\n",
    "ind_to_remove = list(range(7*n_sep,8*n_sep))\n"
   ]
  },
  {
   "cell_type": "code",
   "execution_count": 396,
   "metadata": {},
   "outputs": [
    {
     "name": "stdout",
     "output_type": "stream",
     "text": [
      "\n",
      " ... Loading Covariance Matrices (Joint-splittings Analysis) [all] [MONOBB, MONOBF, MONOFF, DIPBF, QUADBB, QUADBF, QUADFF, HEXAT, OCTBF] ... \n",
      "\n"
     ]
    }
   ],
   "source": [
    "CovMatrixSKA_joint_ = fm.cov_matrix_joint(d=dist[0], z_bins=z_bins, small_off_diagonal=True, rtol=1e-4, splits=[50,30], contributions='all')"
   ]
  },
  {
   "cell_type": "code",
   "execution_count": 397,
   "metadata": {},
   "outputs": [
    {
     "name": "stdout",
     "output_type": "stream",
     "text": [
      "\n",
      " ... Remove the HEXADECAPOLE from 50x50 split ... \n",
      "\n"
     ]
    },
    {
     "data": {
      "text/plain": [
       "((19, 648, 648), (19, 612, 612))"
      ]
     },
     "execution_count": 397,
     "metadata": {},
     "output_type": "execute_result"
    }
   ],
   "source": [
    "print('\\n ... Remove the HEXADECAPOLE from 50x50 split ... \\n')\n",
    "\n",
    "CovMatrixSKA_joint = np.delete(CovMatrixSKA_joint_, ind_to_remove, axis=1)\n",
    "CovMatrixSKA_joint = np.delete(CovMatrixSKA_joint, ind_to_remove, axis=2)\n",
    "\n",
    "np.shape(CovMatrixSKA_joint_), np.shape(CovMatrixSKA_joint)"
   ]
  },
  {
   "cell_type": "code",
   "execution_count": 398,
   "metadata": {},
   "outputs": [
    {
     "name": "stdout",
     "output_type": "stream",
     "text": [
      "0 True\n",
      "1 True\n",
      "2 True\n",
      "3 True\n",
      "4 True\n",
      "5 True\n",
      "6 True\n",
      "7 True\n",
      "8 True\n",
      "9 True\n",
      "10 True\n",
      "11 True\n",
      "12 True\n",
      "13 True\n",
      "14 True\n",
      "15 True\n",
      "16 True\n",
      "17 True\n",
      "18 True\n"
     ]
    }
   ],
   "source": [
    "for n, z in enumerate(z_bins):\n",
    "    print(n, np.allclose(CovMatrixSKA_joint[n], CovMatrixSKA_joint[n].T, rtol = 1e-20))"
   ]
  },
  {
   "cell_type": "code",
   "execution_count": 399,
   "metadata": {},
   "outputs": [
    {
     "data": {
      "text/plain": [
       "((19, 324, 324), (19, 324, 324), (19, 612, 612))"
      ]
     },
     "execution_count": 399,
     "metadata": {},
     "output_type": "execute_result"
    }
   ],
   "source": [
    "np.shape(CovMatrixSKA_50x50), np.shape(CovMatrixSKA_30x70), np.shape(CovMatrixSKA_joint)"
   ]
  },
  {
   "cell_type": "markdown",
   "metadata": {},
   "source": [
    "## Checking directly from Joint Cov Matrix 50x30\n",
    "\n",
    "Compare off diagonal elements (covariances) versus the correspondent diagonal ones (variances)."
   ]
  },
  {
   "cell_type": "code",
   "execution_count": 400,
   "metadata": {},
   "outputs": [
    {
     "data": {
      "text/plain": [
       "((19, 612, 612), numpy.ndarray)"
      ]
     },
     "execution_count": 400,
     "metadata": {},
     "output_type": "execute_result"
    }
   ],
   "source": [
    "np.shape(CovMatrixSKA_joint), type(CovMatrixSKA_joint)"
   ]
  },
  {
   "cell_type": "code",
   "execution_count": 401,
   "metadata": {},
   "outputs": [
    {
     "data": {
      "text/plain": [
       "612"
      ]
     },
     "execution_count": 401,
     "metadata": {},
     "output_type": "execute_result"
    }
   ],
   "source": [
    "2*36*9-36"
   ]
  },
  {
   "cell_type": "code",
   "execution_count": 402,
   "metadata": {},
   "outputs": [
    {
     "name": "stdout",
     "output_type": "stream",
     "text": [
      " Monopole BB (d=d), 50x50 =  1.1406613424594502e-05 \n",
      " Monopole BB (d=d), 30x70 =  2.710848522234923e-06\n"
     ]
    }
   ],
   "source": [
    "print(' Monopole BB (d=d), 50x50 = ', CovMatrixSKA_joint[0][0,0],'\\n','Monopole BB (d=d), 30x70 = ', CovMatrixSKA_joint[0][324,324] ) "
   ]
  },
  {
   "cell_type": "code",
   "execution_count": 403,
   "metadata": {},
   "outputs": [
    {
     "name": "stdout",
     "output_type": "stream",
     "text": [
      " Monopole BB (d=d), 50x30 =  5.4529116478367385e-06 \n",
      " Monopole BB (d=d), 30x50 =  5.4529116478367385e-06\n"
     ]
    }
   ],
   "source": [
    "print(' Monopole BB (d=d), 50x30 = ', CovMatrixSKA_joint[0][0,324],'\\n', 'Monopole BB (d=d), 30x50 = ', CovMatrixSKA_joint[0][324,0] ) "
   ]
  },
  {
   "cell_type": "code",
   "execution_count": 404,
   "metadata": {},
   "outputs": [
    {
     "name": "stdout",
     "output_type": "stream",
     "text": [
      "0.15 True True\n",
      "0.25 True True\n",
      "0.35 True True\n",
      "0.45 True True\n",
      "0.55 True True\n",
      "0.65 True True\n",
      "0.75 True True\n",
      "0.85 True True\n",
      "0.95 True True\n",
      "1.05 True True\n",
      "1.15 True True\n",
      "1.25 True True\n",
      "1.35 True True\n",
      "1.45 True True\n",
      "1.55 True True\n",
      "1.65 True True\n",
      "1.75 True True\n",
      "1.85 True True\n",
      "1.95 True True\n"
     ]
    }
   ],
   "source": [
    "for k,_ in enumerate(z_bins):\n",
    "    print(z_bins[k], np.sqrt(CovMatrixSKA_joint[k][0,0] * CovMatrixSKA_joint[k][324,324]) >= CovMatrixSKA_joint[k][0,324], np.sqrt(CovMatrixSKA_joint[k][0,0] * CovMatrixSKA_joint[k][324,324]) >= CovMatrixSKA_joint[k][324,0])"
   ]
  },
  {
   "cell_type": "code",
   "execution_count": 405,
   "metadata": {},
   "outputs": [
    {
     "name": "stdout",
     "output_type": "stream",
     "text": [
      "0.15 5.560719480945522e-06 5.4529116478367385e-06\n",
      "0.25 2.4072793607924924e-06 2.369059867465096e-06\n",
      "0.35 1.4413122011281243e-06 1.4220736106850454e-06\n",
      "0.45 1.01448263246394e-06 1.0026263272710078e-06\n",
      "0.55 7.879982613735045e-07 7.794185195347171e-07\n",
      "0.65 6.55217457542722e-07 6.480221578160664e-07\n",
      "0.75 5.739319958027031e-07 5.669247611993325e-07\n",
      "0.85 5.249111351607153e-07 5.170558619524636e-07\n",
      "0.95 4.992546805844021e-07 4.892352109090447e-07\n",
      "1.05 4.938993000620163e-07 4.795519510605689e-07\n",
      "1.15 5.099649237689384e-07 4.874310612797096e-07\n",
      "1.25 5.55173644388643e-07 5.165167960467193e-07\n",
      "1.35 6.491797350855918e-07 5.768559035990331e-07\n",
      "1.45 8.354725105188151e-07 6.897462742997723e-07\n",
      "1.55 1.2312485858385983e-06 9.101841100116461e-07\n",
      "1.65 2.1237123874642116e-06 1.3640533571886951e-06\n",
      "1.75 4.3000643149346946e-06 2.380706734573997e-06\n",
      "1.85 1.014186658029927e-05 4.920628597744649e-06\n",
      "1.95 2.7036451944849437e-05 1.1874110612053319e-05\n"
     ]
    }
   ],
   "source": [
    "for k,_ in enumerate(z_bins):\n",
    "    print(z_bins[k], np.sqrt(CovMatrixSKA_joint[k][0,0] * CovMatrixSKA_joint[k][324,324]), CovMatrixSKA_joint[k][0,324])"
   ]
  },
  {
   "cell_type": "code",
   "execution_count": 406,
   "metadata": {},
   "outputs": [
    {
     "name": "stdout",
     "output_type": "stream",
     "text": [
      " MonoBQuadBF (d=d), 50x50 =  1.9425535215326826e-06 \n",
      " MonoBQuadBF (d=d) (d=d), 30x70 =  5.802107326787381e-07\n",
      " Monopole BB (d=d), 50x30 =  1.0478145760334263e-06 \n",
      " Monopole BB (d=d), 30x50 =  1.0478145760334263e-06\n"
     ]
    }
   ],
   "source": [
    "print(' MonoBQuadBF (d=d), 50x50 = ', CovMatrixSKA_joint[0][179,179],'\\n','MonoBQuadBF (d=d) (d=d), 30x70 = ', CovMatrixSKA_joint[0][179+324,179+324] )\n",
    "print(' Monopole BB (d=d), 50x30 = ', CovMatrixSKA_joint[0][179,179+324],'\\n', 'Monopole BB (d=d), 30x50 = ', CovMatrixSKA_joint[0][179+324,179] )  "
   ]
  },
  {
   "cell_type": "code",
   "execution_count": 407,
   "metadata": {},
   "outputs": [
    {
     "name": "stdout",
     "output_type": "stream",
     "text": [
      "True True\n",
      "True True\n",
      "True True\n",
      "True True\n",
      "True True\n",
      "True True\n",
      "True True\n",
      "True True\n",
      "True True\n",
      "True True\n",
      "True True\n",
      "True True\n",
      "True True\n",
      "True True\n",
      "True True\n",
      "True True\n",
      "True True\n",
      "True True\n",
      "True True\n"
     ]
    }
   ],
   "source": [
    "for k,_ in enumerate(z_bins):\n",
    "    print(np.sqrt(CovMatrixSKA_joint[k][179,179] * CovMatrixSKA_joint[k][179+324,179+324]) >= CovMatrixSKA_joint[k][179,179+324], \n",
    "          np.sqrt(CovMatrixSKA_joint[k][179,179] * CovMatrixSKA_joint[k][179+324,179+324]) >= CovMatrixSKA_joint[k][324+179,179])"
   ]
  },
  {
   "cell_type": "code",
   "execution_count": 408,
   "metadata": {},
   "outputs": [
    {
     "data": {
      "text/plain": [
       "324"
      ]
     },
     "execution_count": 408,
     "metadata": {},
     "output_type": "execute_result"
    }
   ],
   "source": [
    "len(CovMatrixSKA_30x50[0])"
   ]
  },
  {
   "cell_type": "code",
   "execution_count": 409,
   "metadata": {},
   "outputs": [
    {
     "name": "stdout",
     "output_type": "stream",
     "text": [
      " Element (d=d), 50x50 =  2.728761334220845e-05 \n",
      " Element (d=d), 30x70 =  5.164601290296824e-09\n",
      " Element (d=d), 50x30 =  0.0 \n",
      " Element (d=d), 30x50 =  0.0 \n",
      "\n",
      "Check COV(X,Y)^2 <= SQRT(VAR(X) * VAR(Y)) \n",
      "\n",
      "True True\n",
      "True True\n",
      "True True\n",
      "True True\n",
      "True True\n",
      "True True\n",
      "True True\n",
      "True True\n",
      "True True\n",
      "True True\n",
      "True True\n",
      "True True\n",
      "True True\n",
      "True True\n",
      "True True\n",
      "True True\n",
      "True True\n",
      "True True\n",
      "True True\n"
     ]
    }
   ],
   "source": [
    "i_element = 288\n",
    "j_element = i_element\n",
    "l = int((2*36*9-36)/2)\n",
    "\n",
    "print(' Element (d=d), 50x50 = ', CovMatrixSKA_joint[0][i_element,j_element],'\\n','Element (d=d), 30x70 = ', CovMatrixSKA_joint[0][i_element+l,j_element+l] )\n",
    "print(' Element (d=d), 50x30 = ', CovMatrixSKA_joint[0][i_element,j_element+l],'\\n', 'Element (d=d), 30x50 = ', CovMatrixSKA_joint[0][i_element+l,j_element],'\\n' )  \n",
    "\n",
    "print('Check COV(X,Y)^2 <= SQRT(VAR(X) * VAR(Y)) \\n')\n",
    "for k,_ in enumerate(z_bins):\n",
    "    print(np.sqrt(CovMatrixSKA_joint[k][i_element,j_element] * CovMatrixSKA_joint[k][i_element+l,j_element+l]) >= CovMatrixSKA_joint[k][i_element,j_element+l], \n",
    "          np.sqrt(CovMatrixSKA_joint[k][i_element,j_element] * CovMatrixSKA_joint[k][i_element+l,j_element+l]) >= CovMatrixSKA_joint[k][i_element+l,j_element])"
   ]
  },
  {
   "cell_type": "code",
   "execution_count": 410,
   "metadata": {},
   "outputs": [
    {
     "name": "stdout",
     "output_type": "stream",
     "text": [
      " Element (d=d), 50x50 =  6.551780712795955e-08 \n",
      " Element (d=d), 30x70 =  2.037598373627894e-08\n",
      " Element (d=d), 50x30 =  3.645579650706823e-08 \n",
      " Element (d=d), 30x50 =  3.645579650706823e-08 \n",
      "\n",
      "Check COV(X,Y)^2 <= SQRT(VAR(X) * VAR(Y)) \n",
      "\n",
      "True True\n",
      "True True\n",
      "True True\n",
      "True True\n",
      "True True\n",
      "True True\n",
      "True True\n",
      "True True\n",
      "True True\n",
      "True True\n",
      "True True\n",
      "True True\n",
      "True True\n",
      "True True\n",
      "True True\n",
      "True True\n",
      "True True\n",
      "True True\n",
      "True True\n"
     ]
    }
   ],
   "source": [
    "i_element = 56\n",
    "j_element = i_element\n",
    "l = len(CovMatrixSKA_50x50[0])\n",
    "\n",
    "print(' Element (d=d), 50x50 = ', CovMatrixSKA_joint[0][i_element,j_element],'\\n','Element (d=d), 30x70 = ', CovMatrixSKA_joint[0][i_element+l,j_element+l] )\n",
    "print(' Element (d=d), 50x30 = ', CovMatrixSKA_joint[0][i_element,j_element+l],'\\n', 'Element (d=d), 30x50 = ', CovMatrixSKA_joint[0][i_element+l,j_element],'\\n' )  \n",
    "\n",
    "print('Check COV(X,Y)^2 <= SQRT(VAR(X) * VAR(Y)) \\n')\n",
    "for k,_ in enumerate(z_bins):\n",
    "    print(np.sqrt(CovMatrixSKA_joint[k][i_element,j_element] * CovMatrixSKA_joint[k][i_element+l,j_element+l]) >= CovMatrixSKA_joint[k][i_element,j_element+l], \n",
    "          np.sqrt(CovMatrixSKA_joint[k][i_element,j_element] * CovMatrixSKA_joint[k][i_element+l,j_element+l]) >= CovMatrixSKA_joint[k][i_element+l,j_element])"
   ]
  },
  {
   "cell_type": "code",
   "execution_count": 411,
   "metadata": {},
   "outputs": [
    {
     "name": "stdout",
     "output_type": "stream",
     "text": [
      "5.093876193886468e-07 1.0577598333198072e-06\n",
      "5.353246240816097e-08 5.353246240816097e-08\n"
     ]
    }
   ],
   "source": [
    "print(CovMatrixSKA_50x50[0][24,24], CovMatrixSKA_50x50[0][36,36])\n",
    "print(CovMatrixSKA_50x50[0][24,36], CovMatrixSKA_50x50[0][36,24])"
   ]
  },
  {
   "cell_type": "code",
   "execution_count": 412,
   "metadata": {},
   "outputs": [
    {
     "name": "stdout",
     "output_type": "stream",
     "text": [
      "z =  0.15 | check:  True\n",
      "z =  0.25 | check:  True\n",
      "z =  0.35 | check:  True\n",
      "z =  0.45 | check:  True\n",
      "z =  0.55 | check:  True\n",
      "z =  0.65 | check:  True\n",
      "z =  0.75 | check:  True\n",
      "z =  0.85 | check:  True\n",
      "z =  0.95 | check:  True\n",
      "z =  1.05 | check:  True\n",
      "z =  1.15 | check:  True\n",
      "z =  1.25 | check:  True\n",
      "z =  1.35 | check:  True\n",
      "z =  1.45 | check:  True\n",
      "z =  1.55 | check:  True\n",
      "z =  1.65 | check:  True\n",
      "z =  1.75 | check:  True\n",
      "z =  1.85 | check:  True\n",
      "z =  1.95 | check:  True\n"
     ]
    }
   ],
   "source": [
    "for k,_ in enumerate(z_bins):\n",
    "    print('z = ',_, '| check: ', CovMatrixSKA_50x50[k][10,25]**2 <= CovMatrixSKA_50x50[k][10,10]*CovMatrixSKA_50x50[k][25,25])"
   ]
  },
  {
   "cell_type": "code",
   "execution_count": 413,
   "metadata": {},
   "outputs": [
    {
     "name": "stdout",
     "output_type": "stream",
     "text": [
      "z =  0.15 | check:  True\n",
      "z =  0.25 | check:  True\n",
      "z =  0.35 | check:  True\n",
      "z =  0.45 | check:  True\n",
      "z =  0.55 | check:  True\n",
      "z =  0.65 | check:  True\n",
      "z =  0.75 | check:  True\n",
      "z =  0.85 | check:  True\n",
      "z =  0.95 | check:  True\n",
      "z =  1.05 | check:  True\n",
      "z =  1.15 | check:  True\n",
      "z =  1.25 | check:  True\n",
      "z =  1.35 | check:  True\n",
      "z =  1.45 | check:  True\n",
      "z =  1.55 | check:  True\n",
      "z =  1.65 | check:  True\n",
      "z =  1.75 | check:  True\n",
      "z =  1.85 | check:  True\n",
      "z =  1.95 | check:  True\n"
     ]
    }
   ],
   "source": [
    "for k,_ in enumerate(z_bins):\n",
    "    print('z = ',_, '| check: ', CovMatrixSKA_30x70[k][18,30]**2 <= CovMatrixSKA_30x70[k][18,18]*CovMatrixSKA_30x70[k][30,30])"
   ]
  },
  {
   "cell_type": "markdown",
   "metadata": {},
   "source": [
    "## Test Fisher Matrix"
   ]
  },
  {
   "cell_type": "markdown",
   "metadata": {},
   "source": [
    "### Load the derivatives"
   ]
  },
  {
   "cell_type": "code",
   "execution_count": 414,
   "metadata": {},
   "outputs": [],
   "source": [
    "with open('derivatives.pkl', 'rb') as File:\n",
    "    derivatives_dict = pk.load(File)\n",
    "    \n",
    "derivatives_50x50 = derivatives_dict['split_50x50']\n",
    "derivatives_30x70 = derivatives_dict['split_30x70']"
   ]
  },
  {
   "cell_type": "code",
   "execution_count": 415,
   "metadata": {},
   "outputs": [
    {
     "data": {
      "text/plain": [
       "((8, 19, 324), (4, 19, 324), (5, 19, 324), (4, 19, 324))"
      ]
     },
     "execution_count": 415,
     "metadata": {},
     "output_type": "execute_result"
    }
   ],
   "source": [
    "dsignal_dsbias50 = derivatives_50x50['dsignal_dsbias']\n",
    "\n",
    "dsignal_dgbias50_ = derivatives_50x50['dsignal_dgbias']\n",
    "\n",
    "dsignal_dcosmic50 = derivatives_50x50['dsignal_dcosmic']\n",
    "\n",
    "dsignal_dnum50 = derivatives_50x50['dsignal_dnumev']\n",
    "\n",
    "np.shape(dsignal_dsbias50), np.shape(dsignal_dgbias50_), np.shape(dsignal_dcosmic50), np.shape(dsignal_dnum50)"
   ]
  },
  {
   "cell_type": "code",
   "execution_count": 416,
   "metadata": {},
   "outputs": [
    {
     "data": {
      "text/plain": [
       "((8, 19, 324), (4, 19, 324), (5, 19, 324), (4, 19, 324))"
      ]
     },
     "execution_count": 416,
     "metadata": {},
     "output_type": "execute_result"
    }
   ],
   "source": [
    "dsignal_dsbias30 = derivatives_30x70['dsignal_dsbias']\n",
    "\n",
    "dsignal_dgbias30_ = derivatives_30x70['dsignal_dgbias']\n",
    "\n",
    "dsignal_dcosmic30 = derivatives_30x70['dsignal_dcosmic']\n",
    "\n",
    "dsignal_dnum30 = derivatives_30x70['dsignal_dnumev']\n",
    "\n",
    "np.shape(dsignal_dsbias30), np.shape(dsignal_dgbias30_), np.shape(dsignal_dcosmic30), np.shape(dsignal_dnum30)"
   ]
  },
  {
   "cell_type": "code",
   "execution_count": 626,
   "metadata": {},
   "outputs": [
    {
     "data": {
      "text/plain": [
       "(21, 19, 324)"
      ]
     },
     "execution_count": 626,
     "metadata": {},
     "output_type": "execute_result"
    }
   ],
   "source": [
    "dsignal_dtheta50 = np.concatenate([dsignal_dsbias50, dsignal_dnum50, dsignal_dgbias50_, dsignal_dcosmic50])\n",
    "\n",
    "np.shape(dsignal_dtheta50)"
   ]
  },
  {
   "cell_type": "code",
   "execution_count": 417,
   "metadata": {},
   "outputs": [
    {
     "data": {
      "text/plain": [
       "(21, 19, 324)"
      ]
     },
     "execution_count": 417,
     "metadata": {},
     "output_type": "execute_result"
    }
   ],
   "source": [
    "dsignal_dtheta30 = np.concatenate([dsignal_dsbias30, dsignal_dnum30, dsignal_dgbias30_, dsignal_dcosmic30])\n",
    "\n",
    "np.shape(dsignal_dtheta30)"
   ]
  },
  {
   "cell_type": "code",
   "execution_count": 418,
   "metadata": {},
   "outputs": [],
   "source": [
    "dsignal_dsB50 = np.concatenate([dsignal_dsbias50[:4], np.zeros_like(dsignal_dsbias50[:4])], axis=2)\n",
    "dsignal_dsB30 = np.concatenate([np.zeros_like(dsignal_dsbias30[:4]), dsignal_dsbias30[:4]], axis=2)\n",
    "\n",
    "dsignal_dsM = np.concatenate([dsignal_dsbias50[4:], dsignal_dsbias30[4:]], axis=2)\n",
    "dsignal_dnum = np.concatenate([dsignal_dnum50, dsignal_dnum30], axis=2)\n",
    "dsignal_dgbias50 = np.concatenate([dsignal_dgbias50_, np.zeros_like(dsignal_dgbias50_[:4])], axis=2)\n",
    "dsignal_dgbias30 = np.concatenate([np.zeros_like(dsignal_dgbias30_[:4]), dsignal_dgbias30_], axis=2)\n",
    "dsignal_dcosmic = np.concatenate([dsignal_dcosmic50, dsignal_dcosmic30], axis=2)"
   ]
  },
  {
   "cell_type": "code",
   "execution_count": 419,
   "metadata": {},
   "outputs": [
    {
     "data": {
      "text/plain": [
       "((29, 19, 612), (5, 19, 612))"
      ]
     },
     "execution_count": 419,
     "metadata": {},
     "output_type": "execute_result"
    }
   ],
   "source": [
    "dsignal_dtheta_multi = np.concatenate([dsignal_dsB50, dsignal_dsB30, dsignal_dsM, dsignal_dnum, dsignal_dgbias50, dsignal_dgbias30, dsignal_dcosmic])\n",
    "\n",
    "dsignal_dtheta_multi = np.delete(dsignal_dtheta_multi, ind_to_remove, axis=2)\n",
    "dsignal_dcosmic = np.delete(dsignal_dcosmic, ind_to_remove, axis=2)\n",
    "\n",
    "np.shape(dsignal_dtheta_multi), np.shape(dsignal_dcosmic)"
   ]
  },
  {
   "cell_type": "markdown",
   "metadata": {},
   "source": [
    "## Cosmic Parameters Fisher Matrices"
   ]
  },
  {
   "cell_type": "code",
   "execution_count": 421,
   "metadata": {},
   "outputs": [
    {
     "data": {
      "text/plain": [
       "((19, 324, 324), (19, 324, 324), (19, 612, 612))"
      ]
     },
     "execution_count": 421,
     "metadata": {},
     "output_type": "execute_result"
    }
   ],
   "source": [
    "Inv_CovMatrixSKA_joint = np.array([np.linalg.pinv(CovMatrixSKA_joint[i]) for i,k in enumerate(z_bins)])\n",
    "\n",
    "np.shape(Inv_CovMatrixSKA_50x50), np.shape(Inv_CovMatrixSKA_30x70), np.shape(Inv_CovMatrixSKA_joint)"
   ]
  },
  {
   "cell_type": "code",
   "execution_count": 424,
   "metadata": {},
   "outputs": [
    {
     "name": "stdout",
     "output_type": "stream",
     "text": [
      "0 True True False\n",
      "1 True True False\n",
      "2 True True False\n",
      "3 True True False\n",
      "4 True True False\n",
      "5 True True False\n",
      "6 True True False\n",
      "7 True True False\n",
      "8 True True False\n",
      "9 True True False\n",
      "10 True True False\n",
      "11 True True False\n",
      "12 True True False\n",
      "13 True True False\n",
      "14 True True False\n",
      "15 True True False\n",
      "16 True True False\n",
      "17 True True False\n",
      "18 True True False\n"
     ]
    }
   ],
   "source": [
    "for n, z in enumerate(z_bins):\n",
    "    print(n, np.allclose(Inv_CovMatrixSKA_50x50[n], Inv_CovMatrixSKA_50x50[n].T, rtol=1e-4), \n",
    "          np.allclose(Inv_CovMatrixSKA_30x70[n], Inv_CovMatrixSKA_30x70[n].T, rtol=1e-4),\n",
    "          np.allclose(Inv_CovMatrixSKA_joint[n], Inv_CovMatrixSKA_joint[n].T, rtol=1e-1))"
   ]
  },
  {
   "cell_type": "code",
   "execution_count": 425,
   "metadata": {},
   "outputs": [
    {
     "name": "stdout",
     "output_type": "stream",
     "text": [
      "\n",
      " ... Computing the Fisher Matrix ... \n",
      "\n",
      "Signal & Cov must be given as functions (z,d) and (z,d,d') respectively. \n",
      "\n",
      "\n",
      " ... Success! ... \n",
      "\n",
      "\n",
      " ... Computing the Fisher Matrix ... \n",
      "\n",
      "Signal & Cov must be given as functions (z,d) and (z,d,d') respectively. \n",
      "\n",
      "\n",
      " ... Success! ... \n",
      "\n",
      "\n",
      " ... Computing the Fisher Matrix ... \n",
      "\n",
      "Signal & Cov must be given as functions (z,d) and (z,d,d') respectively. \n",
      "\n",
      "\n",
      " ... Success! ... \n",
      "\n"
     ]
    },
    {
     "data": {
      "text/plain": [
       "((5, 5), (5, 5), (5, 5))"
      ]
     },
     "execution_count": 425,
     "metadata": {},
     "output_type": "execute_result"
    }
   ],
   "source": [
    "FisherMatrixSKA_50x50 = fm.fisher_matrix(d_signal=dsignal_dcosmic50, inv_cov=Inv_CovMatrixSKA_50x50, z_bins=z_bins, bins=False)\n",
    "FisherMatrixSKA_30x70 = fm.fisher_matrix(d_signal=dsignal_dcosmic30, inv_cov=Inv_CovMatrixSKA_30x70, z_bins=z_bins, bins=False)\n",
    "FisherMatrixSKA_joint = fm.fisher_matrix(d_signal=dsignal_dcosmic, inv_cov=Inv_CovMatrixSKA_joint, z_bins=z_bins, bins=False)\n",
    "\n",
    "np.shape(FisherMatrixSKA_50x50), np.shape(FisherMatrixSKA_30x70), np.shape(FisherMatrixSKA_joint)\n"
   ]
  },
  {
   "cell_type": "code",
   "execution_count": 426,
   "metadata": {},
   "outputs": [
    {
     "name": "stdout",
     "output_type": "stream",
     "text": [
      "5164002.026713927\t1688886.113488194\t496226.54262118076\t-19413664.00695398\t6641394.1023081085\n",
      "1688886.1134881629\t591306.3728766952\t96541.34153689024\t-6055929.224972827\t2108424.579750899\n",
      "496226.5426212941\t96541.34153693542\t269437.40309821675\t-1928441.3798997358\t1401221.6430270765\n",
      "-19413664.00695389\t-6055929.2249728255\t-1928441.3798995449\t80306511.07905662\t-23831659.69196253\n",
      "6641394.102308079\t2108424.579750879\t1401221.643026993\t-23831659.691962913\t13961632.845623164\n"
     ]
    }
   ],
   "source": [
    "print('\\n'.join(['\\t'.join([str(cell) for cell in row]) for row in FisherMatrixSKA_50x50]))"
   ]
  },
  {
   "cell_type": "code",
   "execution_count": 427,
   "metadata": {},
   "outputs": [
    {
     "name": "stdout",
     "output_type": "stream",
     "text": [
      "5982702.933384105\t1941106.7989340974\t647009.0811368452\t-22479456.449509744\t7855159.7982589435\n",
      "1941106.7989341135\t670904.4828461709\t138897.17270884645\t-6988605.066999086\t2473726.474570977\n",
      "647009.0811369446\t138897.17270890815\t310960.1564787712\t-2499890.3801519116\t1671688.8824865094\n",
      "-22479456.449508905\t-6988605.066998642\t-2499890.3801519973\t92043357.18543775\t-28355007.711743876\n",
      "7855159.798259621\t2473726.4745712737\t1671688.8824863958\t-28355007.71174604\t15915477.89555201\n"
     ]
    }
   ],
   "source": [
    "print('\\n'.join(['\\t'.join([str(cell) for cell in row]) for row in FisherMatrixSKA_30x70]))"
   ]
  },
  {
   "cell_type": "code",
   "execution_count": 428,
   "metadata": {},
   "outputs": [
    {
     "name": "stdout",
     "output_type": "stream",
     "text": [
      "6251295.368837502\t2026141.1179901503\t687527.5698482153\t-23482439.4055779\t8178810.243777531\n",
      "2026141.117990104\t699264.2519198089\t148489.37206981913\t-7297374.249152005\t2565456.666756784\n",
      "687527.5698483501\t148489.37206987408\t327476.46734001266\t-2658934.1807957934\t1765010.6975681668\n",
      "-23482439.405577064\t-7297374.249151797\t-2658934.180795723\t95961186.90261878\t-29573082.66786928\n",
      "8178810.243777963\t2565456.666756904\t1765010.6975683053\t-29573082.667871144\t16756273.07661894\n"
     ]
    }
   ],
   "source": [
    "print('\\n'.join(['\\t'.join([str(cell) for cell in row]) for row in FisherMatrixSKA_joint]))"
   ]
  },
  {
   "cell_type": "code",
   "execution_count": 429,
   "metadata": {},
   "outputs": [
    {
     "data": {
      "text/plain": [
       "(5, 19, 324)"
      ]
     },
     "execution_count": 429,
     "metadata": {},
     "output_type": "execute_result"
    }
   ],
   "source": [
    "np.shape(dsignal_dcosmic50)"
   ]
  },
  {
   "cell_type": "code",
   "execution_count": 430,
   "metadata": {},
   "outputs": [
    {
     "data": {
      "text/plain": [
       "((5, 19, 648), (5, 19, 648), (10, 19, 612))"
      ]
     },
     "execution_count": 430,
     "metadata": {},
     "output_type": "execute_result"
    }
   ],
   "source": [
    "dsignal_dcosmic50_ = np.concatenate([dsignal_dcosmic50, np.zeros_like(dsignal_dcosmic30)], axis=2)\n",
    "dsignal_dcosmic30_ = np.concatenate([np.zeros_like(dsignal_dcosmic50), dsignal_dcosmic30], axis=2)\n",
    "\n",
    "dsignal_dcosmic_multi = np.concatenate([dsignal_dcosmic50_, dsignal_dcosmic30_])\n",
    "\n",
    "dsignal_dcosmic_multi = np.delete(dsignal_dcosmic_multi, ind_to_remove, axis=2)\n",
    "\n",
    "np.shape(dsignal_dcosmic50_), np.shape(dsignal_dcosmic30_), np.shape(dsignal_dcosmic_multi)"
   ]
  },
  {
   "cell_type": "code",
   "execution_count": 431,
   "metadata": {},
   "outputs": [
    {
     "name": "stdout",
     "output_type": "stream",
     "text": [
      "\n",
      " ... Computing the Fisher Matrix ... \n",
      "\n",
      "Signal & Cov must be given as functions (z,d) and (z,d,d') respectively. \n",
      "\n",
      "\n",
      " ... Success! ... \n",
      "\n"
     ]
    }
   ],
   "source": [
    "FisherMatrixSKA_joint_ = fm.fisher_matrix(d_signal=dsignal_dcosmic_multi, inv_cov=Inv_CovMatrixSKA_joint, z_bins=z_bins, bins=False)\n"
   ]
  },
  {
   "cell_type": "code",
   "execution_count": 432,
   "metadata": {},
   "outputs": [
    {
     "name": "stdout",
     "output_type": "stream",
     "text": [
      "703872218.150775\t319797474.72804046\t-212245379.1844078\t-2379823127.2053742\t458883058.24678373\t-700743671.1921499\t-318511365.99167585\t211724126.9584626\t2368813880.4830008\t-459591094.76312566\n",
      "319797474.01400304\t159990530.22853753\t-124860282.52903669\t-966871471.0093046\t200114130.32489592\t-318467386.31754535\t-159384846.35101536\t124514636.82020631\t962572701.8048247\t-200779356.09356847\n",
      "-212245376.77242467\t-124860281.60211782\t136516642.24279994\t589854186.6564937\t-45670267.071075976\t211615418.26900944\t124472377.89075033\t-136052453.63362306\t-588064860.4949622\t47237823.61807507\n",
      "-2379823127.2024417\t-966871472.6118709\t589854192.4733844\t10011341184.872478\t-1454169894.2982576\t2369131650.6487646\t962834030.5090423\t-588401478.1503981\t-9967115738.710846\t1456780753.308046\n",
      "458883063.35614103\t200114133.26483417\t-45670270.49451372\t-1454169908.1728764\t789790775.2420641\t-456879208.47708875\t-199394060.95055488\t45932501.20271988\t1447408663.2480824\t-786255353.2113926\n",
      "-700743671.1870086\t-318467387.0287613\t211615420.6783677\t2369131650.637984\t-456879203.3650464\t703866419.5972205\t319207419.41038686\t-210406640.88257414\t-2381604843.3211865\t465766050.1251658\n",
      "-318511365.2749319\t-159384846.34959725\t124472378.81645164\t962834028.8987081\t-199394058.00885406\t319207418.69646406\t159478426.72399488\t-123978243.73555143\t-965832633.9433799\t202624740.44428334\n",
      "211724124.5443964\t124514635.89234698\t-136052453.63306454\t-588401472.3263733\t45932497.777105644\t-210406638.47113276\t-123978242.80890973\t135915741.49122772\t583953211.9840463\t-45735043.62653661\n",
      "2368813880.468402\t962572703.4008567\t-588064866.3056589\t-9967115738.68185\t1447408649.3678927\t-2381604843.320303\t-965832635.54718\t583953217.8018767\t10018851479.42283\t-1479592591.045551\n",
      "-459591099.8990623\t-200779359.04585508\t47237827.049538866\t1456780767.2714481\t-786255353.2370218\t465766055.2637881\t202624743.39833257\t-45735047.06017671\t-1479592605.0145247\t799476204.282969\n"
     ]
    }
   ],
   "source": [
    "print('\\n'.join(['\\t'.join([str(cell) for cell in row]) for row in FisherMatrixSKA_joint_]))"
   ]
  },
  {
   "cell_type": "code",
   "execution_count": 433,
   "metadata": {},
   "outputs": [
    {
     "data": {
      "text/plain": [
       "(1.6519686050731574e+29, 7.699403863968864e+68)"
      ]
     },
     "execution_count": 433,
     "metadata": {},
     "output_type": "execute_result"
    }
   ],
   "source": [
    "np.linalg.det(FisherMatrixSKA_joint), np.linalg.det(FisherMatrixSKA_joint_)"
   ]
  },
  {
   "cell_type": "code",
   "execution_count": 434,
   "metadata": {},
   "outputs": [
    {
     "name": "stdout",
     "output_type": "stream",
     "text": [
      "4.1401384047626375e-05\t-8.945846139545268e-05\t-3.661641439888493e-05\t3.2792061676656403e-06\t3.1326978374865317e-06\n",
      "-8.945846139546193e-05\t0.0002079680264675636\t8.907854334579257e-05\t-6.261071933601408e-06\t-8.608892840971337e-06\n",
      "-3.66164143988934e-05\t8.907854334579684e-05\t4.6455362189046436e-05\t-2.4166333614153135e-06\t-4.9241228485738274e-06\n",
      "3.2792061676648674e-06\t-6.261071933599017e-06\t-2.4166333614136584e-06\t3.2971299830183826e-07\t1.9446551229418968e-07\n",
      "3.1326978374877192e-06\t-8.608892840972704e-06\t-4.9241228485747354e-06\t1.9446551229437007e-07\t7.105443131016032e-07\n"
     ]
    }
   ],
   "source": [
    "print('\\n'.join(['\\t'.join([str(cell) for cell in row]) for row in np.linalg.inv(FisherMatrixSKA_joint)]))"
   ]
  },
  {
   "cell_type": "markdown",
   "metadata": {},
   "source": [
    "## Cosmic Parameters + Galaxy Bias FISHER MATRIX"
   ]
  },
  {
   "cell_type": "code",
   "execution_count": 435,
   "metadata": {},
   "outputs": [
    {
     "data": {
      "text/plain": [
       "((4, 19, 648), (4, 19, 648), (5, 19, 612))"
      ]
     },
     "execution_count": 435,
     "metadata": {},
     "output_type": "execute_result"
    }
   ],
   "source": [
    "np.shape(dsignal_dgbias50), np.shape(dsignal_dgbias30), np.shape(dsignal_dcosmic)"
   ]
  },
  {
   "cell_type": "code",
   "execution_count": 436,
   "metadata": {},
   "outputs": [
    {
     "data": {
      "text/plain": [
       "((9, 19, 324), (9, 19, 324), (13, 19, 612))"
      ]
     },
     "execution_count": 436,
     "metadata": {},
     "output_type": "execute_result"
    }
   ],
   "source": [
    "dsignal_dpars50x50 = np.concatenate([dsignal_dgbias50_, dsignal_dcosmic50])\n",
    "dsignal_dpars30x70 = np.concatenate([dsignal_dgbias30_, dsignal_dcosmic30])\n",
    "\n",
    "dsignal_dgbias50 = np.delete(dsignal_dgbias50, ind_to_remove, axis=2)\n",
    "dsignal_dgbias30 = np.delete(dsignal_dgbias30, ind_to_remove, axis=2)\n",
    "\n",
    "dsignal_dpars_joint = np.concatenate([dsignal_dgbias50, dsignal_dgbias30, dsignal_dcosmic])\n",
    "\n",
    "np.shape(dsignal_dpars50x50), np.shape(dsignal_dpars30x70), np.shape(dsignal_dpars_joint)"
   ]
  },
  {
   "cell_type": "code",
   "execution_count": 437,
   "metadata": {},
   "outputs": [
    {
     "name": "stdout",
     "output_type": "stream",
     "text": [
      "\n",
      " ... Computing the Fisher Matrix ... \n",
      "\n",
      "Signal & Cov must be given as functions (z,d) and (z,d,d') respectively. \n",
      "\n",
      "\n",
      " ... Success! ... \n",
      "\n",
      "\n",
      " ... Computing the Fisher Matrix ... \n",
      "\n",
      "Signal & Cov must be given as functions (z,d) and (z,d,d') respectively. \n",
      "\n",
      "\n",
      " ... Success! ... \n",
      "\n",
      "\n",
      " ... Computing the Fisher Matrix ... \n",
      "\n",
      "Signal & Cov must be given as functions (z,d) and (z,d,d') respectively. \n",
      "\n",
      "\n",
      " ... Success! ... \n",
      "\n"
     ]
    },
    {
     "data": {
      "text/plain": [
       "((9, 9), (9, 9), (13, 13))"
      ]
     },
     "execution_count": 437,
     "metadata": {},
     "output_type": "execute_result"
    }
   ],
   "source": [
    "FisherMatrixSKA_50x50 = fm.fisher_matrix(d_signal=dsignal_dpars50x50, inv_cov=Inv_CovMatrixSKA_50x50, z_bins=z_bins, bins=False)\n",
    "FisherMatrixSKA_30x70 = fm.fisher_matrix(d_signal=dsignal_dpars30x70, inv_cov=Inv_CovMatrixSKA_30x70, z_bins=z_bins, bins=False)\n",
    "FisherMatrixSKA_joint = fm.fisher_matrix(d_signal=dsignal_dpars_joint, inv_cov=Inv_CovMatrixSKA_joint, z_bins=z_bins, bins=False)\n",
    "\n",
    "np.shape(FisherMatrixSKA_50x50), np.shape(FisherMatrixSKA_30x70), np.shape(FisherMatrixSKA_joint)\n"
   ]
  },
  {
   "cell_type": "code",
   "execution_count": 438,
   "metadata": {},
   "outputs": [
    {
     "data": {
      "text/plain": [
       "(2.978620645887647e+53, 6.949421003610326e+53, 6.821016502284641e+83)"
      ]
     },
     "execution_count": 438,
     "metadata": {},
     "output_type": "execute_result"
    }
   ],
   "source": [
    "np.linalg.det(FisherMatrixSKA_50x50), np.linalg.det(FisherMatrixSKA_30x70), np.linalg.det(FisherMatrixSKA_joint)"
   ]
  },
  {
   "cell_type": "code",
   "execution_count": 439,
   "metadata": {},
   "outputs": [
    {
     "name": "stdout",
     "output_type": "stream",
     "text": [
      "25447240.777854692\t7515169.987835224\t-31713835.347808655\t-9110094.934605015\t2177814.361231719\t1105856.1562454673\t-932413.0557254107\t-6618981.011715738\t-2933471.9958783127\n",
      "7515169.987835222\t2808444.203160712\t-9110094.934605015\t-3225463.7597114304\t1072997.0184735924\t504090.3908093623\t-332884.4190554553\t-3396522.347946506\t-474952.963605881\n",
      "-31713835.347809885\t-9110094.93460506\t48443965.55355428\t14405111.655087853\t2321035.4568680176\t305381.6409740199\t1695881.1591249863\t-10068274.409692686\t11822762.336750662\n",
      "-9110094.934605056\t-3225463.7597113927\t14405111.655087844\t5400372.421185124\t629545.2719306645\t69738.45404022718\t496145.3945584891\t-2793044.5741037377\t3003394.232552508\n",
      "2177814.3612309718\t1072997.0184736014\t2321035.456869026\t629545.2719306569\t5164002.026713927\t1688886.113488194\t496226.54262118076\t-19413664.00695398\t6641394.1023081085\n",
      "1105856.1562451809\t504090.390809364\t305381.6409744265\t69738.45404022578\t1688886.1134881629\t591306.3728766952\t96541.34153689024\t-6055929.224972827\t2108424.579750899\n",
      "-932413.0557254825\t-332884.41905548575\t1695881.1591251402\t496145.3945585524\t496226.5426212941\t96541.34153693542\t269437.40309821675\t-1928441.3798997358\t1401221.6430270765\n",
      "-6618981.011713022\t-3396522.347946646\t-10068274.409694914\t-2793044.574103466\t-19413664.00695389\t-6055929.2249728255\t-1928441.3798995449\t80306511.07905662\t-23831659.69196253\n",
      "-2933471.9958805563\t-474952.9636061552\t11822762.336753465\t3003394.232552853\t6641394.102308079\t2108424.579750879\t1401221.643026993\t-23831659.691962913\t13961632.845623164\n"
     ]
    }
   ],
   "source": [
    "print('\\n'.join(['\\t'.join([str(cell) for cell in row]) for row in FisherMatrixSKA_50x50]))"
   ]
  },
  {
   "cell_type": "code",
   "execution_count": 440,
   "metadata": {},
   "outputs": [
    {
     "name": "stdout",
     "output_type": "stream",
     "text": [
      "33016651.384679236\t8332488.267908776\t-50360159.32634173\t-12901331.246122913\t1874549.3290753085\t1015691.4324662106\t-994719.3725617193\t-5479385.917692468\t-3961393.346895395\n",
      "8332488.267908773\t2733114.2927259943\t-12901331.246122926\t-4149358.7031630417\t846945.2037477822\t422633.8689456244\t-337296.306303709\t-2592730.776060814\t-779727.1200034039\n",
      "-50360159.32633923\t-12901331.24612243\t84500438.42434922\t23254467.951169528\t2067729.6980300494\t117760.24214361416\t1973312.5021055618\t-9524773.356651565\t13038348.119257785\n",
      "-12901331.246122435\t-4149358.7031629556\t23254467.951169528\t8118604.127277631\t736809.8546538168\t81090.78851551346\t578643.8650978748\t-3279873.2486417764\t3469697.352632582\n",
      "1874549.3290768762\t846945.2037479944\t2067729.6980268739\t736809.8546534531\t5982702.933384105\t1941106.7989340974\t647009.0811368452\t-22479456.449509744\t7855159.7982589435\n",
      "1015691.4324669703\t422633.86894572224\t117760.24214217364\t81090.7885153587\t1941106.7989341135\t670904.4828461709\t138897.17270884645\t-6988605.066999086\t2473726.474570977\n",
      "-994719.372562376\t-337296.3063038523\t1973312.5021069231\t578643.8650981568\t647009.0811369446\t138897.17270890815\t310960.1564787712\t-2499890.3801519116\t1671688.8824865094\n",
      "-5479385.917697523\t-2592730.7760616518\t-9524773.356639676\t-3279873.248639772\t-22479456.449508905\t-6988605.066998642\t-2499890.3801519973\t92043357.18543775\t-28355007.711743876\n",
      "-3961393.346896719\t-779727.1200039316\t13038348.119260143\t3469697.352633649\t7855159.798259621\t2473726.4745712737\t1671688.8824863958\t-28355007.71174604\t15915477.89555201\n"
     ]
    }
   ],
   "source": [
    "print('\\n'.join(['\\t'.join([str(cell) for cell in row]) for row in FisherMatrixSKA_30x70]))"
   ]
  },
  {
   "cell_type": "code",
   "execution_count": 441,
   "metadata": {},
   "outputs": [
    {
     "name": "stdout",
     "output_type": "stream",
     "text": [
      "239836850.62495834\t48697266.23710122\t170533246.63374412\t18168276.35035656\t-86354322.11230232\t-19768479.423442256\t-358913738.8152637\t-53284837.76877848\t2194809.158537092\t1097536.5806002778\t-870414.4301893655\t-6725098.400473181\t-3369598.640316342\n",
      "48697266.23710123\t14351933.217645446\t18168276.350356564\t1046135.4021589902\t-19768479.423442263\t-6699195.871897356\t-53284837.76877847\t-10075359.004489357\t752103.1840154352\t363707.8894107544\t-259862.91652634702\t-2334727.5858235816\t-659403.3985773692\n",
      "170533247.26709872\t18168276.39835402\t393454505.2658195\t64371510.07652239\t-22195058.948971387\t1896947.293044668\t-587487014.3914438\t-91855671.97164471\t849139.5028543855\t295817.07501475874\t62472.274187524185\t-3072626.3861645493\t2542556.6771948826\n",
      "18168276.39835402\t1046135.4053310191\t64371510.07652238\t13857853.288172426\t1896947.2930446756\t1833783.048967673\t-91855671.97164473\t-17982927.874865077\t180258.58592617506\t46624.41439750799\t63031.69997074727\t-703771.1324359342\t642805.4906908451\n",
      "-86354321.53384532\t-19768479.378012415\t-22195057.91744645\t1896947.3730049015\t56447282.506708466\t15381845.625244332\t49171101.19858397\t604702.3615953403\t633743.6326162139\t373778.96736504004\t-437308.0753173528\t-1757357.3858127103\t-1507898.7935307927\n",
      "-19768479.37801241\t-6699195.868634843\t1896947.373004888\t1833783.0545419545\t15381845.625244334\t5766692.764203067\t604702.3615953452\t-1685694.9519737905\t428079.5807252553\t213679.2049406366\t-172923.56799744107\t-1315064.0191452706\t-309050.98270038824\n",
      "-358913740.17994225\t-53284837.87318287\t-587487014.9162759\t-91855672.01249053\t49171102.941774346\t604702.4968446199\t1006763808.8093758\t167668502.88202024\t370909.6017750341\t-613169.2096336937\t2284274.835755881\t-3868034.238217638\t12302876.542207994\n",
      "-53284837.87318287\t-10075359.011511095\t-91855672.01249045\t-17982927.87769143\t604702.496844644\t-1685694.942546872\t167668502.8820203\t36175994.344880156\t271556.1447356515\t-109882.01975541287\t634540.0795287761\t-1710475.5607616452\t3234397.836632117\n",
      "2194809.1618838175\t752103.1843467552\t849139.5066687514\t180258.58630423478\t633743.6306543251\t428079.5805312054\t370909.59632407274\t271556.1441952306\t6251295.368837502\t2026141.1179901503\t687527.5698482153\t-23482439.4055779\t8178810.243777531\n",
      "1097536.582276536\t363707.88955992146\t295817.0769249995\t46624.41456744975\t373778.96638217324\t213679.2048532045\t-613169.212363371\t-109882.01999833845\t2026141.117990104\t699264.2519198089\t148489.37206981913\t-7297374.249152005\t2565456.666756784\n",
      "-870414.4312836505\t-259862.91657834325\t62472.272938409486\t63031.6999117366\t-437308.07467598765\t-172923.56796694652\t2284274.837540584\t634540.0796132449\t687527.5698483501\t148489.37206987408\t327476.46734001266\t-2658934.1807957934\t1765010.6975681668\n",
      "-6725098.408220751\t-2334727.586590856\t-3072626.394991312\t-703771.1333122535\t-1757357.3812721758\t-1315064.018696696\t-3868034.22559876\t-1710475.5595077157\t-23482439.405577064\t-7297374.249151797\t-2658934.180795723\t95961186.90261878\t-29573082.66786928\n",
      "-3369598.6547560226\t-659403.3994690742\t2542556.6606890825\t642805.4896727623\t-1507898.785067296\t-309050.98217783927\t12302876.565782284\t3234397.838087076\t8178810.243777963\t2565456.666756904\t1765010.6975683053\t-29573082.667871144\t16756273.07661894\n"
     ]
    }
   ],
   "source": [
    "print('\\n'.join(['\\t'.join([str(cell) for cell in row]) for row in FisherMatrixSKA_joint]))"
   ]
  },
  {
   "cell_type": "code",
   "execution_count": 442,
   "metadata": {},
   "outputs": [
    {
     "data": {
      "text/plain": [
       "(18, 19, 612)"
      ]
     },
     "execution_count": 442,
     "metadata": {},
     "output_type": "execute_result"
    }
   ],
   "source": [
    "dsignal_dpars_joint_ = np.concatenate([dsignal_dgbias50, dsignal_dgbias30, dsignal_dcosmic_multi])\n",
    "\n",
    "np.shape(dsignal_dpars_joint_)"
   ]
  },
  {
   "cell_type": "code",
   "execution_count": 443,
   "metadata": {},
   "outputs": [
    {
     "name": "stdout",
     "output_type": "stream",
     "text": [
      "\n",
      " ... Computing the Fisher Matrix ... \n",
      "\n",
      "Signal & Cov must be given as functions (z,d) and (z,d,d') respectively. \n",
      "\n",
      "\n",
      " ... Success! ... \n",
      "\n"
     ]
    }
   ],
   "source": [
    "FisherMatrixSKA_joint_ = fm.fisher_matrix(d_signal=dsignal_dpars_joint_, inv_cov=Inv_CovMatrixSKA_joint, z_bins=z_bins, bins=False)"
   ]
  },
  {
   "cell_type": "code",
   "execution_count": 444,
   "metadata": {},
   "outputs": [
    {
     "data": {
      "text/plain": [
       "((18, 18), 1.2322517742426492e+120)"
      ]
     },
     "execution_count": 444,
     "metadata": {},
     "output_type": "execute_result"
    }
   ],
   "source": [
    "np.shape(FisherMatrixSKA_joint_), np.linalg.det(FisherMatrixSKA_joint_)"
   ]
  },
  {
   "cell_type": "code",
   "execution_count": 445,
   "metadata": {},
   "outputs": [
    {
     "name": "stdout",
     "output_type": "stream",
     "text": [
      "239836850.62495834\t48697266.23710122\t170533246.63374412\t18168276.35035656\t-86354322.11230232\t-19768479.423442256\t-358913738.8152637\t-53284837.76877848\t354064026.31351715\t176246927.39882022\t-136201093.8359703\t-1077569687.179304\t208494937.07153094\t-351869217.15498\t-175149390.8182199\t135330679.40578094\t1070844588.7788311\t-211864535.71184742\n",
      "48697266.23710123\t14351933.217645446\t18168276.350356564\t1046135.4021589902\t-19768479.423442263\t-6699195.871897356\t-53284837.76877847\t-10075359.004489357\t59329304.975869335\t29449576.562688127\t-22535843.56127617\t-180599721.44593447\t28049502.7610185\t-58577201.7918539\t-29085868.673277378\t22275980.644749835\t178264993.86011094\t-28708906.15959587\n",
      "170533247.26709872\t18168276.39835402\t393454505.2658195\t64371510.07652239\t-22195058.948971387\t1896947.293044668\t-587487014.3914438\t-91855671.97164471\t426437443.39795786\t214711291.63732675\t-169688034.16453156\t-1279274126.63607\t285576678.0363355\t-425588303.89510363\t-214415474.56231198\t169750506.43871903\t1276201500.2499053\t-283034121.3591407\n",
      "18168276.39835402\t1046135.4053310191\t64371510.07652238\t13857853.288172426\t1896947.2930446756\t1833783.048967673\t-91855671.97164473\t-17982927.874865077\t59581371.56526422\t30010480.072603498\t-23631285.20193779\t-178142848.84702983\t37721649.35253865\t-59401112.97933803\t-29963855.65820601\t23694316.901908547\t177439077.71459386\t-37078843.86184781\n",
      "-86354321.53384532\t-19768479.378012415\t-22195057.91744645\t1896947.3730049015\t56447282.506708466\t15381845.625244332\t49171101.19858397\t604702.3615953403\t-109391402.60444796\t-52810268.13135494\t37321074.492405795\t338699043.9948495\t-67571909.11329284\t110025146.23706421\t53184047.09872001\t-37758382.56772313\t-340456401.3806624\t66064010.31976206\n",
      "-19768479.37801241\t-6699195.868634843\t1896947.373004888\t1833783.0545419545\t15381845.625244334\t5766692.764203067\t604702.3615953452\t-1685694.9519737905\t-19582942.369431876\t-9294770.548920223\t6223611.316439493\t61297143.19507624\t-9696959.269661905\t20011021.95015713\t9508449.753860857\t-6396534.884436935\t-62612207.2142215\t9387908.286961522\n",
      "-358913740.17994225\t-53284837.87318287\t-587487014.9162759\t-91855672.01249053\t49171102.941774346\t604702.4968446199\t1006763808.8093758\t167668502.88202024\t-731743048.3473743\t-370601697.39193076\t298467378.53532356\t2193472353.9695373\t-449562727.9140722\t732113957.9491498\t369988528.18229705\t-296183103.69956774\t-2197340388.2077556\t461865604.45628023\n",
      "-53284837.87318287\t-10075359.011511095\t-91855672.01249045\t-17982927.87769143\t604702.496844644\t-1685694.942546872\t167668502.8820203\t36175994.344880156\t-109247764.58148374\t-55663950.63970311\t45363819.45771682\t325224561.49392843\t-58149746.15971452\t109519320.72621942\t55554068.619947694\t-44729279.378188066\t-326935037.05469006\t61384143.996346645\n",
      "354064027.7960191\t59329305.08692801\t426437443.97438675\t59581371.60602631\t-109391404.4847473\t-19582942.514675736\t-731743048.367287\t-109247764.57652043\t703872218.150775\t319797474.72804046\t-212245379.1844078\t-2379823127.2053742\t458883058.24678373\t-700743671.1921499\t-318511365.99167585\t211724126.9584626\t2368813880.4830008\t-459591094.76312566\n",
      "176246927.70971215\t29449576.586574\t214711291.453736\t30010480.058910828\t-52810268.80492174\t-9294770.601597598\t-370601696.7389582\t-55663950.58961707\t319797474.01400304\t159990530.22853753\t-124860282.52903669\t-966871471.0093046\t200114130.32489592\t-318467386.31754535\t-159384846.35101536\t124514636.82020631\t962572701.8048247\t-200779356.09356847\n",
      "-136201092.96942705\t-22535843.49331584\t-169688032.78769937\t-23631285.095880874\t37321074.343816906\t6223611.304425167\t298467376.28230137\t45363819.28420847\t-212245376.77242467\t-124860281.60211782\t136516642.24279994\t589854186.6564937\t-45670267.071075976\t211615418.26900944\t124472377.89075033\t-136052453.63362306\t-588064860.4949622\t47237823.61807507\n",
      "-1077569691.1088123\t-180599721.70415914\t-1279274127.5433326\t-178142848.86246026\t338699049.515098\t61297143.60290144\t2193472352.7136292\t325224561.3142216\t-2379823127.2024417\t-966871472.6118709\t589854192.4733844\t10011341184.872478\t-1454169894.2982576\t2369131650.6487646\t962834030.5090423\t-588401478.1503981\t-9967115738.710846\t1456780753.308046\n",
      "208494941.08182094\t28049503.07257616\t285576681.6546138\t37721649.63045621\t-67571912.31525977\t-9696959.521679774\t-449562732.40693456\t-58149746.50193552\t458883063.35614103\t200114133.26483417\t-45670270.49451372\t-1454169908.1728764\t789790775.2420641\t-456879208.47708875\t-199394060.95055488\t45932501.20271988\t1447408663.2480824\t-786255353.2113926\n",
      "-351869218.6341352\t-58577201.90258129\t-425588304.4677182\t-59401113.019722104\t110025148.11540161\t20011022.095206935\t732113957.9636115\t109519320.72071561\t-700743671.1870086\t-318467387.0287613\t211615420.6783677\t2369131650.637984\t-456879203.3650464\t703866419.5972205\t319207419.41038686\t-210406640.88257414\t-2381604843.3211865\t465766050.1251658\n",
      "-175149391.1274356\t-29085868.697014075\t-214415474.37681094\t-29963855.64434337\t53184047.77130389\t9508449.8064508\t369988527.5265948\t55554068.56961872\t-318511365.2749319\t-159384846.34959725\t124472378.81645164\t962834028.8987081\t-199394058.00885406\t319207418.69646406\t159478426.72399488\t-123978243.73555143\t-965832633.9433799\t202624740.44428334\n",
      "135330678.53814334\t22275980.576737493\t169750505.06063762\t23694316.795792613\t-37758382.4184929\t-6396534.872392115\t-296183101.4447609\t-44729279.20459524\t211724124.5443964\t124514635.89234698\t-136052453.63306454\t-588401472.3263733\t45932497.777105644\t-210406638.47113276\t-123978242.80890973\t135915741.49122772\t583953211.9840463\t-45735043.62653661\n",
      "1070844592.7005913\t178264994.11756822\t1276201501.148342\t177439077.729148\t-340456406.89637023\t-62612207.62159812\t-2197340386.9392276\t-326935036.8737293\t2368813880.468402\t962572703.4008567\t-588064866.3056589\t-9967115738.68185\t1447408649.3678927\t-2381604843.320303\t-965832635.54718\t583953217.8018767\t10018851479.42283\t-1479592591.045551\n",
      "-211864539.73657694\t-28708906.47204524\t-283034124.99392486\t-37078844.14078347\t66064013.530192435\t9387908.539501932\t461865608.9727167\t61384144.34002259\t-459591099.8990623\t-200779359.04585508\t47237827.049538866\t1456780767.2714481\t-786255353.2370218\t465766055.2637881\t202624743.39833257\t-45735047.06017671\t-1479592605.0145247\t799476204.282969\n"
     ]
    }
   ],
   "source": [
    "print('\\n'.join(['\\t'.join([str(cell) for cell in row]) for row in FisherMatrixSKA_joint_]))"
   ]
  },
  {
   "cell_type": "markdown",
   "metadata": {},
   "source": [
    "#  Joint Covariance Matrix 50x30 [all] MONOPOLE ONLY"
   ]
  },
  {
   "cell_type": "markdown",
   "metadata": {},
   "source": [
    "## Check Cauchy-Schwarz inequality \n",
    "\n",
    "The Cauchy-Schwarz inequality implies:\n",
    "\n",
    "$$ \\mathrm{COV}(X,Y) \\leq \\sqrt{\\mathrm{VAR}(X)\\cdot\\mathrm{VAR}(Y)}$$"
   ]
  },
  {
   "cell_type": "code",
   "execution_count": 261,
   "metadata": {},
   "outputs": [],
   "source": [
    "z_bins = np.array([0.15, 0.25, 0.35, 0.45, 0.55, 0.65, 0.75, 0.85, 0.95, 1.05, 1.15, 1.25, 1.35, 1.45, 1.55, 1.65, 1.75, 1.85, 1.95])"
   ]
  },
  {
   "cell_type": "code",
   "execution_count": 262,
   "metadata": {},
   "outputs": [
    {
     "name": "stdout",
     "output_type": "stream",
     "text": [
      "\n",
      " ... Loading Covariance Matrices (Joint-splittings Analysis) [all] [MONOBB, MONOBF, MONOFF, DIPBF, QUADBB, QUADBF, QUADFF, HEXAT, OCTBF] ... \n",
      "\n"
     ]
    }
   ],
   "source": [
    "CovMatrixSKA_joint_ = fm.cov_matrix_joint(d=dist[0], z_bins=z_bins, small_off_diagonal=True, rtol=1e-4, splits=[50,30], contributions='all')"
   ]
  },
  {
   "cell_type": "code",
   "execution_count": 265,
   "metadata": {},
   "outputs": [
    {
     "name": "stdout",
     "output_type": "stream",
     "text": [
      "36 324\n"
     ]
    }
   ],
   "source": [
    "n_sep = len(dist[0])\n",
    "n_dim = len(CovMatrixSKA_50x50[0,0])\n",
    "\n",
    "ind_to_remove = list(range(3*n_sep,9*n_sep))+list(range(3*n_sep+n_dim,9*n_sep+n_dim))\n",
    "\n",
    "print(n_sep, n_dim)"
   ]
  },
  {
   "cell_type": "code",
   "execution_count": 266,
   "metadata": {},
   "outputs": [
    {
     "name": "stdout",
     "output_type": "stream",
     "text": [
      "\n",
      " ... EXTRACT THE MONOPOLES JOINT MATRIX from 50x50 split ... \n",
      "\n"
     ]
    },
    {
     "data": {
      "text/plain": [
       "((19, 648, 648), (19, 216, 216))"
      ]
     },
     "execution_count": 266,
     "metadata": {},
     "output_type": "execute_result"
    }
   ],
   "source": [
    "print('\\n ... EXTRACT THE MONOPOLES JOINT MATRIX from 50x50 split ... \\n')\n",
    "\n",
    "CovMatrixSKA_joint = np.delete(CovMatrixSKA_joint_, ind_to_remove, axis=1)\n",
    "CovMatrixSKA_joint = np.delete(CovMatrixSKA_joint, ind_to_remove, axis=2)\n",
    "\n",
    "np.shape(CovMatrixSKA_joint_), np.shape(CovMatrixSKA_joint)"
   ]
  },
  {
   "cell_type": "code",
   "execution_count": 268,
   "metadata": {},
   "outputs": [
    {
     "name": "stdout",
     "output_type": "stream",
     "text": [
      "0 True\n",
      "1 True\n",
      "2 True\n",
      "3 True\n",
      "4 True\n",
      "5 True\n",
      "6 True\n",
      "7 True\n",
      "8 True\n",
      "9 True\n",
      "10 True\n",
      "11 True\n",
      "12 True\n",
      "13 True\n",
      "14 True\n",
      "15 True\n",
      "16 True\n",
      "17 True\n",
      "18 True\n"
     ]
    }
   ],
   "source": [
    "for n, z in enumerate(z_bins):\n",
    "    print(n, np.allclose(CovMatrixSKA_joint[n], CovMatrixSKA_joint[n].T, rtol = 1e-20))"
   ]
  },
  {
   "cell_type": "code",
   "execution_count": 269,
   "metadata": {},
   "outputs": [
    {
     "data": {
      "text/plain": [
       "((19, 324, 324), (19, 324, 324), (19, 216, 216))"
      ]
     },
     "execution_count": 269,
     "metadata": {},
     "output_type": "execute_result"
    }
   ],
   "source": [
    "np.shape(CovMatrixSKA_50x50), np.shape(CovMatrixSKA_30x70), np.shape(CovMatrixSKA_joint)"
   ]
  },
  {
   "cell_type": "markdown",
   "metadata": {},
   "source": [
    "## Checking directly from Joint Cov Matrix 50x30\n",
    "\n",
    "Compare off diagonal elements (covariances) versus the correspondent diagonal ones (variances)."
   ]
  },
  {
   "cell_type": "code",
   "execution_count": 270,
   "metadata": {},
   "outputs": [
    {
     "data": {
      "text/plain": [
       "((19, 216, 216), numpy.ndarray)"
      ]
     },
     "execution_count": 270,
     "metadata": {},
     "output_type": "execute_result"
    }
   ],
   "source": [
    "np.shape(CovMatrixSKA_joint), type(CovMatrixSKA_joint)"
   ]
  },
  {
   "cell_type": "code",
   "execution_count": 271,
   "metadata": {},
   "outputs": [
    {
     "data": {
      "text/plain": [
       "612"
      ]
     },
     "execution_count": 271,
     "metadata": {},
     "output_type": "execute_result"
    }
   ],
   "source": [
    "2*36*9-36"
   ]
  },
  {
   "cell_type": "code",
   "execution_count": 273,
   "metadata": {},
   "outputs": [
    {
     "name": "stdout",
     "output_type": "stream",
     "text": [
      " Monopole BB (d=d), 50x50 =  1.1406613424594502e-05 \n",
      " Monopole BB (d=d), 30x70 =  2.728761334220845e-05\n"
     ]
    }
   ],
   "source": [
    "print(' Monopole BB (d=d), 50x50 = ', CovMatrixSKA_joint[0][0,0],'\\n','Monopole BB (d=d), 30x70 = ', CovMatrixSKA_joint[0][3*n_sep,3*n_sep] ) "
   ]
  },
  {
   "cell_type": "code",
   "execution_count": 274,
   "metadata": {},
   "outputs": [
    {
     "name": "stdout",
     "output_type": "stream",
     "text": [
      " Monopole BB (d=d), 50x30 =  1.761081877983889e-05 \n",
      " Monopole BB (d=d), 30x50 =  1.761081877983889e-05\n"
     ]
    }
   ],
   "source": [
    "print(' Monopole BB (d=d), 50x30 = ', CovMatrixSKA_joint[0][0,3*n_sep],'\\n', 'Monopole BB (d=d), 30x50 = ', CovMatrixSKA_joint[0][3*n_sep,0] ) "
   ]
  },
  {
   "cell_type": "code",
   "execution_count": 275,
   "metadata": {},
   "outputs": [
    {
     "name": "stdout",
     "output_type": "stream",
     "text": [
      "0.15 True True\n",
      "0.25 True True\n",
      "0.35 True True\n",
      "0.45 True True\n",
      "0.55 True True\n",
      "0.65 True True\n",
      "0.75 True True\n",
      "0.85 True True\n",
      "0.95 True True\n",
      "1.05 True True\n",
      "1.15 True True\n",
      "1.25 True True\n",
      "1.35 True True\n",
      "1.45 True True\n",
      "1.55 True True\n",
      "1.65 True True\n",
      "1.75 True True\n",
      "1.85 True True\n",
      "1.95 True True\n"
     ]
    }
   ],
   "source": [
    "for k,_ in enumerate(z_bins):\n",
    "    print(z_bins[k], np.sqrt(CovMatrixSKA_joint[k][0,0] * CovMatrixSKA_joint[k][3*n_sep,3*n_sep]) >= CovMatrixSKA_joint[k][0,3*n_sep], np.sqrt(CovMatrixSKA_joint[k][0,0] * CovMatrixSKA_joint[k][3*n_sep,3*n_sep]) >= CovMatrixSKA_joint[k][3*n_sep,0])"
   ]
  },
  {
   "cell_type": "code",
   "execution_count": 287,
   "metadata": {},
   "outputs": [
    {
     "name": "stdout",
     "output_type": "stream",
     "text": [
      " Element (d=d), 50x50 =  4.218886417437754e-06 \n",
      " Element (d=d), 30x70 =  1.0092376870537708e-05\n",
      " Element (d=d), 50x30 =  6.513999438089945e-06 \n",
      " Element (d=d), 30x50 =  6.513999438089945e-06 \n",
      "\n",
      "Check COV(X,Y)^2 <= SQRT(VAR(X) * VAR(Y)) \n",
      "\n",
      "True True\n",
      "True True\n",
      "True True\n",
      "True True\n",
      "True True\n",
      "True True\n",
      "True True\n",
      "True True\n",
      "True True\n",
      "True True\n",
      "True True\n",
      "True True\n",
      "True True\n",
      "True True\n",
      "True True\n",
      "True True\n",
      "True True\n",
      "True True\n",
      "True True\n"
     ]
    }
   ],
   "source": [
    "i_element = 5\n",
    "j_element = i_element\n",
    "l = 3*n_sep\n",
    "\n",
    "print(' Element (d=d), 50x50 = ', CovMatrixSKA_joint[0][i_element,j_element],'\\n','Element (d=d), 30x70 = ', CovMatrixSKA_joint[0][i_element+l,j_element+l] )\n",
    "print(' Element (d=d), 50x30 = ', CovMatrixSKA_joint[0][i_element,j_element+l],'\\n', 'Element (d=d), 30x50 = ', CovMatrixSKA_joint[0][i_element+l,j_element],'\\n' )  \n",
    "\n",
    "print('Check COV(X,Y)^2 <= SQRT(VAR(X) * VAR(Y)) \\n')\n",
    "for k,_ in enumerate(z_bins):\n",
    "    print(np.sqrt(CovMatrixSKA_joint[k][i_element,j_element] * CovMatrixSKA_joint[k][i_element+l,j_element+l]) >= CovMatrixSKA_joint[k][i_element,j_element+l], \n",
    "          np.sqrt(CovMatrixSKA_joint[k][i_element,j_element] * CovMatrixSKA_joint[k][i_element+l,j_element+l]) >= CovMatrixSKA_joint[k][i_element+l,j_element])"
   ]
  },
  {
   "cell_type": "code",
   "execution_count": 282,
   "metadata": {},
   "outputs": [
    {
     "name": "stdout",
     "output_type": "stream",
     "text": [
      "5.093876193886468e-07 1.0577598333198072e-06\n",
      "5.353246240816097e-08 5.353246240816097e-08\n"
     ]
    }
   ],
   "source": [
    "print(CovMatrixSKA_50x50[0][24,24], CovMatrixSKA_50x50[0][36,36])\n",
    "print(CovMatrixSKA_50x50[0][24,36], CovMatrixSKA_50x50[0][36,24])"
   ]
  },
  {
   "cell_type": "code",
   "execution_count": 283,
   "metadata": {},
   "outputs": [
    {
     "name": "stdout",
     "output_type": "stream",
     "text": [
      "z =  0.15 | check:  True\n",
      "z =  0.25 | check:  True\n",
      "z =  0.35 | check:  True\n",
      "z =  0.45 | check:  True\n",
      "z =  0.55 | check:  True\n",
      "z =  0.65 | check:  True\n",
      "z =  0.75 | check:  True\n",
      "z =  0.85 | check:  True\n",
      "z =  0.95 | check:  True\n",
      "z =  1.05 | check:  True\n",
      "z =  1.15 | check:  True\n",
      "z =  1.25 | check:  True\n",
      "z =  1.35 | check:  True\n",
      "z =  1.45 | check:  True\n",
      "z =  1.55 | check:  True\n",
      "z =  1.65 | check:  True\n",
      "z =  1.75 | check:  True\n",
      "z =  1.85 | check:  True\n",
      "z =  1.95 | check:  True\n"
     ]
    }
   ],
   "source": [
    "for k,_ in enumerate(z_bins):\n",
    "    print('z = ',_, '| check: ', CovMatrixSKA_50x50[k][10,25]**2 <= CovMatrixSKA_50x50[k][10,10]*CovMatrixSKA_50x50[k][25,25])"
   ]
  },
  {
   "cell_type": "code",
   "execution_count": 284,
   "metadata": {},
   "outputs": [
    {
     "name": "stdout",
     "output_type": "stream",
     "text": [
      "z =  0.15 | check:  True\n",
      "z =  0.25 | check:  True\n",
      "z =  0.35 | check:  True\n",
      "z =  0.45 | check:  True\n",
      "z =  0.55 | check:  True\n",
      "z =  0.65 | check:  True\n",
      "z =  0.75 | check:  True\n",
      "z =  0.85 | check:  True\n",
      "z =  0.95 | check:  True\n",
      "z =  1.05 | check:  True\n",
      "z =  1.15 | check:  True\n",
      "z =  1.25 | check:  True\n",
      "z =  1.35 | check:  True\n",
      "z =  1.45 | check:  True\n",
      "z =  1.55 | check:  True\n",
      "z =  1.65 | check:  True\n",
      "z =  1.75 | check:  True\n",
      "z =  1.85 | check:  True\n",
      "z =  1.95 | check:  True\n"
     ]
    }
   ],
   "source": [
    "for k,_ in enumerate(z_bins):\n",
    "    print('z = ',_, '| check: ', CovMatrixSKA_30x70[k][18,30]**2 <= CovMatrixSKA_30x70[k][18,18]*CovMatrixSKA_30x70[k][30,30])"
   ]
  },
  {
   "cell_type": "markdown",
   "metadata": {},
   "source": [
    "## Test Fisher Matrix"
   ]
  },
  {
   "cell_type": "markdown",
   "metadata": {},
   "source": [
    "### Load the derivatives"
   ]
  },
  {
   "cell_type": "code",
   "execution_count": 362,
   "metadata": {},
   "outputs": [],
   "source": [
    "with open('derivatives.pkl', 'rb') as File:\n",
    "    derivatives_dict = pk.load(File)\n",
    "    \n",
    "derivatives_50x50 = derivatives_dict['split_50x50']\n",
    "derivatives_30x70 = derivatives_dict['split_30x70']"
   ]
  },
  {
   "cell_type": "code",
   "execution_count": 363,
   "metadata": {},
   "outputs": [
    {
     "data": {
      "text/plain": [
       "((8, 19, 324), (4, 19, 324), (5, 19, 324), (4, 19, 324))"
      ]
     },
     "execution_count": 363,
     "metadata": {},
     "output_type": "execute_result"
    }
   ],
   "source": [
    "dsignal_dsbias50 = derivatives_50x50['dsignal_dsbias']\n",
    "\n",
    "dsignal_dgbias50_ = derivatives_50x50['dsignal_dgbias']\n",
    "\n",
    "dsignal_dcosmic50 = derivatives_50x50['dsignal_dcosmic']\n",
    "\n",
    "dsignal_dnum50 = derivatives_50x50['dsignal_dnumev']\n",
    "\n",
    "np.shape(dsignal_dsbias50), np.shape(dsignal_dgbias50_), np.shape(dsignal_dcosmic50), np.shape(dsignal_dnum50)"
   ]
  },
  {
   "cell_type": "code",
   "execution_count": 364,
   "metadata": {},
   "outputs": [
    {
     "data": {
      "text/plain": [
       "((8, 19, 324), (4, 19, 324), (5, 19, 324), (4, 19, 324))"
      ]
     },
     "execution_count": 364,
     "metadata": {},
     "output_type": "execute_result"
    }
   ],
   "source": [
    "dsignal_dsbias30 = derivatives_30x70['dsignal_dsbias']\n",
    "\n",
    "dsignal_dgbias30_ = derivatives_30x70['dsignal_dgbias']\n",
    "\n",
    "dsignal_dcosmic30 = derivatives_30x70['dsignal_dcosmic']\n",
    "\n",
    "dsignal_dnum30 = derivatives_30x70['dsignal_dnumev']\n",
    "\n",
    "np.shape(dsignal_dsbias30), np.shape(dsignal_dgbias30_), np.shape(dsignal_dcosmic30), np.shape(dsignal_dnum30)"
   ]
  },
  {
   "cell_type": "code",
   "execution_count": 365,
   "metadata": {},
   "outputs": [
    {
     "data": {
      "text/plain": [
       "(21, 19, 108)"
      ]
     },
     "execution_count": 365,
     "metadata": {},
     "output_type": "execute_result"
    }
   ],
   "source": [
    "dsignal_dtheta50 = np.concatenate([dsignal_dsbias50, dsignal_dnum50, dsignal_dgbias50_, dsignal_dcosmic50])\n",
    "\n",
    "dsignal_dtheta50 = np.delete(dsignal_dtheta50, ind_to_remove[:int(len(ind_to_remove)/2)], axis=2)\n",
    "\n",
    "np.shape(dsignal_dtheta50)"
   ]
  },
  {
   "cell_type": "code",
   "execution_count": 366,
   "metadata": {},
   "outputs": [
    {
     "data": {
      "text/plain": [
       "(21, 19, 108)"
      ]
     },
     "execution_count": 366,
     "metadata": {},
     "output_type": "execute_result"
    }
   ],
   "source": [
    "dsignal_dtheta30 = np.concatenate([dsignal_dsbias30, dsignal_dnum30, dsignal_dgbias30_, dsignal_dcosmic30])\n",
    "\n",
    "dsignal_dtheta30 = np.delete(dsignal_dtheta30, ind_to_remove[:int(len(ind_to_remove)/2)], axis=2)\n",
    "\n",
    "np.shape(dsignal_dtheta30)"
   ]
  },
  {
   "cell_type": "code",
   "execution_count": 367,
   "metadata": {},
   "outputs": [],
   "source": [
    "dsignal_dsB50 = np.concatenate([dsignal_dsbias50[:4], np.zeros_like(dsignal_dsbias50[:4])], axis=2)\n",
    "dsignal_dsB30 = np.concatenate([np.zeros_like(dsignal_dsbias30[:4]), dsignal_dsbias30[:4]], axis=2)\n",
    "\n",
    "dsignal_dsM = np.concatenate([dsignal_dsbias50[4:], dsignal_dsbias30[4:]], axis=2)\n",
    "dsignal_dnum = np.concatenate([dsignal_dnum50, dsignal_dnum30], axis=2)\n",
    "dsignal_dgbias50 = np.concatenate([dsignal_dgbias50_, np.zeros_like(dsignal_dgbias50_[:4])], axis=2)\n",
    "dsignal_dgbias30 = np.concatenate([np.zeros_like(dsignal_dgbias30_[:4]), dsignal_dgbias30_], axis=2)\n",
    "dsignal_dcosmic = np.concatenate([dsignal_dcosmic50, dsignal_dcosmic30], axis=2)"
   ]
  },
  {
   "cell_type": "code",
   "execution_count": 368,
   "metadata": {},
   "outputs": [
    {
     "data": {
      "text/plain": [
       "((29, 19, 216), (5, 19, 216))"
      ]
     },
     "execution_count": 368,
     "metadata": {},
     "output_type": "execute_result"
    }
   ],
   "source": [
    "dsignal_dtheta_multi = np.concatenate([dsignal_dsB50, dsignal_dsB30, dsignal_dsM, dsignal_dnum, dsignal_dgbias50, dsignal_dgbias30, dsignal_dcosmic])\n",
    "\n",
    "dsignal_dtheta_multi = np.delete(dsignal_dtheta_multi, ind_to_remove, axis=2)\n",
    "dsignal_dcosmic = np.delete(dsignal_dcosmic, ind_to_remove, axis=2)\n",
    "\n",
    "np.shape(dsignal_dtheta_multi), np.shape(dsignal_dcosmic)"
   ]
  },
  {
   "cell_type": "markdown",
   "metadata": {},
   "source": [
    "## Cosmic Parameters Fisher Matrices"
   ]
  },
  {
   "cell_type": "code",
   "execution_count": 369,
   "metadata": {},
   "outputs": [
    {
     "data": {
      "text/plain": [
       "((19, 324, 324), (19, 324, 324), (19, 216, 216))"
      ]
     },
     "execution_count": 369,
     "metadata": {},
     "output_type": "execute_result"
    }
   ],
   "source": [
    "Inv_CovMatrixSKA_joint = np.array([np.linalg.pinv(CovMatrixSKA_joint[i]) for i,k in enumerate(z_bins)])\n",
    "\n",
    "np.shape(Inv_CovMatrixSKA_50x50), np.shape(Inv_CovMatrixSKA_30x70), np.shape(Inv_CovMatrixSKA_joint)"
   ]
  },
  {
   "cell_type": "code",
   "execution_count": 370,
   "metadata": {},
   "outputs": [
    {
     "name": "stderr",
     "output_type": "stream",
     "text": [
      "/Users/danielsb/opt/anaconda3/envs/camb/lib/python3.9/site-packages/numpy/linalg/linalg.py:2139: RuntimeWarning: overflow encountered in det\n",
      "  r = _umath_linalg.det(a, signature=signature)\n"
     ]
    },
    {
     "data": {
      "text/plain": [
       "(array([-0.,  0., -0.,  0., -0., -0.,  0., -0., -0.,  0., -0.,  0., -0.,\n",
       "         0.,  0.,  0.,  0.,  0.,  0.]),\n",
       " array([ inf, -inf,  inf,  inf,  inf, -inf, -inf, -inf,  inf, -inf, -inf,\n",
       "        -inf,  inf, -inf,  inf, -inf,  inf,  inf, -inf]))"
      ]
     },
     "execution_count": 370,
     "metadata": {},
     "output_type": "execute_result"
    }
   ],
   "source": [
    "np.linalg.det(CovMatrixSKA_joint), np.linalg.det(Inv_CovMatrixSKA_joint)"
   ]
  },
  {
   "cell_type": "code",
   "execution_count": 371,
   "metadata": {},
   "outputs": [
    {
     "name": "stdout",
     "output_type": "stream",
     "text": [
      "0 True True True\n",
      "1 True True True\n",
      "2 True True True\n",
      "3 True True True\n",
      "4 True True True\n",
      "5 True True True\n",
      "6 True True True\n",
      "7 True True True\n",
      "8 True True True\n",
      "9 True True True\n",
      "10 True True True\n",
      "11 True True True\n",
      "12 True True True\n",
      "13 True True True\n",
      "14 True True True\n",
      "15 True True True\n",
      "16 True True True\n",
      "17 True True True\n",
      "18 True True True\n"
     ]
    }
   ],
   "source": [
    "for n, z in enumerate(z_bins):\n",
    "    print(n, np.allclose(Inv_CovMatrixSKA_50x50[n], Inv_CovMatrixSKA_50x50[n].T, rtol=1e-4), \n",
    "          np.allclose(Inv_CovMatrixSKA_30x70[n], Inv_CovMatrixSKA_30x70[n].T, rtol=1e-4),\n",
    "          np.allclose(Inv_CovMatrixSKA_joint[n], Inv_CovMatrixSKA_joint[n].T, rtol=1e-1))"
   ]
  },
  {
   "cell_type": "code",
   "execution_count": 372,
   "metadata": {},
   "outputs": [
    {
     "name": "stdout",
     "output_type": "stream",
     "text": [
      "\n",
      " ... Computing the Fisher Matrix ... \n",
      "\n",
      "Signal & Cov must be given as functions (z,d) and (z,d,d') respectively. \n",
      "\n",
      "\n",
      " ... Success! ... \n",
      "\n",
      "\n",
      " ... Computing the Fisher Matrix ... \n",
      "\n",
      "Signal & Cov must be given as functions (z,d) and (z,d,d') respectively. \n",
      "\n",
      "\n",
      " ... Success! ... \n",
      "\n",
      "\n",
      " ... Computing the Fisher Matrix ... \n",
      "\n",
      "Signal & Cov must be given as functions (z,d) and (z,d,d') respectively. \n",
      "\n",
      "\n",
      " ... Success! ... \n",
      "\n"
     ]
    },
    {
     "data": {
      "text/plain": [
       "((5, 5), (5, 5), (5, 5))"
      ]
     },
     "execution_count": 372,
     "metadata": {},
     "output_type": "execute_result"
    }
   ],
   "source": [
    "FisherMatrixSKA_50x50 = fm.fisher_matrix(d_signal=dsignal_dcosmic50, inv_cov=Inv_CovMatrixSKA_50x50, z_bins=z_bins, bins=False)\n",
    "FisherMatrixSKA_30x70 = fm.fisher_matrix(d_signal=dsignal_dcosmic30, inv_cov=Inv_CovMatrixSKA_30x70, z_bins=z_bins, bins=False)\n",
    "FisherMatrixSKA_joint = fm.fisher_matrix(d_signal=dsignal_dcosmic, inv_cov=Inv_CovMatrixSKA_joint, z_bins=z_bins, bins=False)\n",
    "\n",
    "np.shape(FisherMatrixSKA_50x50), np.shape(FisherMatrixSKA_30x70), np.shape(FisherMatrixSKA_joint)\n"
   ]
  },
  {
   "cell_type": "code",
   "execution_count": 373,
   "metadata": {},
   "outputs": [
    {
     "name": "stdout",
     "output_type": "stream",
     "text": [
      "5164002.026713927\t1688886.113488194\t496226.54262118076\t-19413664.00695398\t6641394.1023081085\n",
      "1688886.1134881629\t591306.3728766952\t96541.34153689024\t-6055929.224972827\t2108424.579750899\n",
      "496226.5426212941\t96541.34153693542\t269437.40309821675\t-1928441.3798997358\t1401221.6430270765\n",
      "-19413664.00695389\t-6055929.2249728255\t-1928441.3798995449\t80306511.07905662\t-23831659.69196253\n",
      "6641394.102308079\t2108424.579750879\t1401221.643026993\t-23831659.691962913\t13961632.845623164\n"
     ]
    }
   ],
   "source": [
    "print('\\n'.join(['\\t'.join([str(cell) for cell in row]) for row in FisherMatrixSKA_50x50]))"
   ]
  },
  {
   "cell_type": "code",
   "execution_count": 374,
   "metadata": {},
   "outputs": [
    {
     "name": "stdout",
     "output_type": "stream",
     "text": [
      "5982702.933384105\t1941106.7989340974\t647009.0811368452\t-22479456.449509744\t7855159.7982589435\n",
      "1941106.7989341135\t670904.4828461709\t138897.17270884645\t-6988605.066999086\t2473726.474570977\n",
      "647009.0811369446\t138897.17270890815\t310960.1564787712\t-2499890.3801519116\t1671688.8824865094\n",
      "-22479456.449508905\t-6988605.066998642\t-2499890.3801519973\t92043357.18543775\t-28355007.711743876\n",
      "7855159.798259621\t2473726.4745712737\t1671688.8824863958\t-28355007.71174604\t15915477.89555201\n"
     ]
    }
   ],
   "source": [
    "print('\\n'.join(['\\t'.join([str(cell) for cell in row]) for row in FisherMatrixSKA_30x70]))"
   ]
  },
  {
   "cell_type": "code",
   "execution_count": 375,
   "metadata": {},
   "outputs": [
    {
     "name": "stdout",
     "output_type": "stream",
     "text": [
      "2133687.517889752\t794008.4126335182\t-214003.91158581895\t-8035716.738384281\t929019.9318244644\n",
      "794008.4126334895\t327545.4341689119\t-112992.61608574488\t-2689073.3702787836\t436037.0520637652\n",
      "-214003.9115858422\t-112992.61608577095\t104503.77131064444\t749383.9867290747\t45704.395473502926\n",
      "-8035716.738384091\t-2689073.3702788223\t749383.9867289994\t37848641.06224067\t-2271371.105499264\n",
      "929019.9318244952\t436037.05206380074\t45704.39547347172\t-2271371.1054993747\t2268551.9689084417\n"
     ]
    }
   ],
   "source": [
    "print('\\n'.join(['\\t'.join([str(cell) for cell in row]) for row in FisherMatrixSKA_joint]))"
   ]
  },
  {
   "cell_type": "code",
   "execution_count": 376,
   "metadata": {},
   "outputs": [
    {
     "data": {
      "text/plain": [
       "(5, 19, 324)"
      ]
     },
     "execution_count": 376,
     "metadata": {},
     "output_type": "execute_result"
    }
   ],
   "source": [
    "np.shape(dsignal_dcosmic50)"
   ]
  },
  {
   "cell_type": "code",
   "execution_count": 377,
   "metadata": {},
   "outputs": [
    {
     "data": {
      "text/plain": [
       "((5, 19, 648), (5, 19, 648), (10, 19, 216))"
      ]
     },
     "execution_count": 377,
     "metadata": {},
     "output_type": "execute_result"
    }
   ],
   "source": [
    "dsignal_dcosmic50_ = np.concatenate([dsignal_dcosmic50, np.zeros_like(dsignal_dcosmic30)], axis=2)\n",
    "dsignal_dcosmic30_ = np.concatenate([np.zeros_like(dsignal_dcosmic50), dsignal_dcosmic30], axis=2)\n",
    "\n",
    "dsignal_dcosmic_multi = np.concatenate([dsignal_dcosmic50_, dsignal_dcosmic30_])\n",
    "\n",
    "dsignal_dcosmic_multi = np.delete(dsignal_dcosmic_multi, ind_to_remove, axis=2)\n",
    "\n",
    "np.shape(dsignal_dcosmic50_), np.shape(dsignal_dcosmic30_), np.shape(dsignal_dcosmic_multi)"
   ]
  },
  {
   "cell_type": "code",
   "execution_count": 378,
   "metadata": {},
   "outputs": [
    {
     "name": "stdout",
     "output_type": "stream",
     "text": [
      "\n",
      " ... Computing the Fisher Matrix ... \n",
      "\n",
      "Signal & Cov must be given as functions (z,d) and (z,d,d') respectively. \n",
      "\n",
      "\n",
      " ... Success! ... \n",
      "\n"
     ]
    }
   ],
   "source": [
    "FisherMatrixSKA_joint_ = fm.fisher_matrix(d_signal=dsignal_dcosmic_multi, inv_cov=Inv_CovMatrixSKA_joint, z_bins=z_bins, bins=False)\n"
   ]
  },
  {
   "cell_type": "code",
   "execution_count": 379,
   "metadata": {},
   "outputs": [
    {
     "name": "stdout",
     "output_type": "stream",
     "text": [
      "134729160.300716\t57109921.53384178\t-29788469.31991109\t-473442075.61174065\t79870391.37836367\t-133467174.32455377\t-56610195.12004801\t29587204.580697846\t468831082.078828\t-78891422.29997244\n",
      "57109921.53089588\t26769409.95647544\t-17130306.812577907\t-179896143.68667725\t33314639.900238015\t-56610420.57188802\t-26547509.78192928\t17014988.954025403\t178275980.74235058\t-32898662.203369576\n",
      "-29788469.322782144\t-17130306.81487867\t17972160.927427996\t85008041.77905238\t-361065.69714028435\t29587851.342460506\t17015222.480170462\t-17850773.83106626\t-84402913.73789048\t353039.3469264778\n",
      "-473442075.7358447\t-179896143.76011208\t85008041.82167992\t2050390518.330116\t-252776468.74890205\t468830028.36223376\t178274754.81959513\t-84400490.42111348\t-2029150152.5229979\t249806544.0474036\n",
      "79870391.35219382\t33314639.890692674\t-361065.68700744415\t-252776468.56808776\t151234843.13208744\t-79304694.71774523\t-33067649.559050955\t407988.2504935548\t251217062.32164207\t-149418649.0195276\n",
      "-133467174.32453793\t-56610420.57482915\t29587851.339590233\t468830028.23805565\t-79304694.74389674\t134338875.86626557\t56904702.5736689\t-29600590.511962827\t-472254751.44352704\t79254745.59733\n",
      "-56610195.1171074\t-26547509.781931985\t17015222.477871936\t178274754.7461761\t-33067649.56859944\t56904702.570732996\t26653155.04155474\t-17012897.235405184\t-179343665.17212802\t33087708.92379474\n",
      "29587204.583564058\t17014988.95632353\t-17850773.8310638\t-84400490.37847167\t407988.26062435354\t-29600590.51482828\t-17012897.2377011\t17833890.506012693\t84544746.3240389\t-354257.5149370554\n",
      "468831082.2025348\t178275980.81559685\t-84402913.78037816\t-2029150152.5216427\t251217062.50220025\t-472254751.5673083\t-179343665.2453588\t84544746.3665408\t2045758427.7767658\t-250518508.9062015\n",
      "-78891422.27394865\t-32898662.193892185\t353039.3368399448\t249806543.86708915\t-149418649.01964054\t79254745.57132448\t33087708.914314255\t-354257.50485257653\t-250518508.72614273\t149871006.8759893\n"
     ]
    }
   ],
   "source": [
    "print('\\n'.join(['\\t'.join([str(cell) for cell in row]) for row in FisherMatrixSKA_joint_]))"
   ]
  },
  {
   "cell_type": "code",
   "execution_count": 380,
   "metadata": {},
   "outputs": [
    {
     "data": {
      "text/plain": [
       "(3.0514196733892736e+27, 4.807332339808402e+63)"
      ]
     },
     "execution_count": 380,
     "metadata": {},
     "output_type": "execute_result"
    }
   ],
   "source": [
    "np.linalg.det(FisherMatrixSKA_joint), np.linalg.det(FisherMatrixSKA_joint_)"
   ]
  },
  {
   "cell_type": "code",
   "execution_count": 381,
   "metadata": {},
   "outputs": [
    {
     "name": "stdout",
     "output_type": "stream",
     "text": [
      "9.452654473332236e-05\t-0.00023606577037501786\t-0.00011509986790939524\t6.505979633441481e-06\t1.5496423701014465e-05\n",
      "-0.00023606577037502225\t0.0006135473952054965\t0.0003074300634218457\t-1.5174227242871954e-05\t-4.264253120032149e-05\n",
      "-0.00011509986790944789\t0.00030743006342197885\t0.00016844097889510328\t-7.288869414652904e-06\t-2.264662583433861e-05\n",
      "6.505979633441398e-06\t-1.5174227242871522e-05\t-7.288869414649528e-06\t5.297161770053184e-07\t9.295162626043739e-07\n",
      "1.549642370101744e-05\t-4.2642531200328464e-05\t-2.2646625834332474e-05\t9.295162626045656e-07\t3.6779249254515622e-06\n"
     ]
    }
   ],
   "source": [
    "print('\\n'.join(['\\t'.join([str(cell) for cell in row]) for row in np.linalg.inv(FisherMatrixSKA_joint)]))"
   ]
  },
  {
   "cell_type": "markdown",
   "metadata": {},
   "source": [
    "## Cosmic Parameters + Galaxy Bias FISHER MATRIX"
   ]
  },
  {
   "cell_type": "code",
   "execution_count": 382,
   "metadata": {},
   "outputs": [
    {
     "data": {
      "text/plain": [
       "((9, 19, 324), (9, 19, 324), (13, 19, 216))"
      ]
     },
     "execution_count": 382,
     "metadata": {},
     "output_type": "execute_result"
    }
   ],
   "source": [
    "dsignal_dpars50x50 = np.concatenate([dsignal_dgbias50_, dsignal_dcosmic50])\n",
    "dsignal_dpars30x70 = np.concatenate([dsignal_dgbias30_, dsignal_dcosmic30])\n",
    "\n",
    "dsignal_dgbias50 = np.delete(dsignal_dgbias50, ind_to_remove, axis=2)\n",
    "dsignal_dgbias30 = np.delete(dsignal_dgbias30, ind_to_remove, axis=2)\n",
    "\n",
    "dsignal_dpars_joint = np.concatenate([dsignal_dgbias50, dsignal_dgbias30, dsignal_dcosmic])\n",
    "\n",
    "np.shape(dsignal_dpars50x50), np.shape(dsignal_dpars30x70), np.shape(dsignal_dpars_joint)"
   ]
  },
  {
   "cell_type": "code",
   "execution_count": 383,
   "metadata": {},
   "outputs": [
    {
     "name": "stdout",
     "output_type": "stream",
     "text": [
      "\n",
      " ... Computing the Fisher Matrix ... \n",
      "\n",
      "Signal & Cov must be given as functions (z,d) and (z,d,d') respectively. \n",
      "\n",
      "\n",
      " ... Success! ... \n",
      "\n",
      "\n",
      " ... Computing the Fisher Matrix ... \n",
      "\n",
      "Signal & Cov must be given as functions (z,d) and (z,d,d') respectively. \n",
      "\n",
      "\n",
      " ... Success! ... \n",
      "\n",
      "\n",
      " ... Computing the Fisher Matrix ... \n",
      "\n",
      "Signal & Cov must be given as functions (z,d) and (z,d,d') respectively. \n",
      "\n",
      "\n",
      " ... Success! ... \n",
      "\n"
     ]
    },
    {
     "data": {
      "text/plain": [
       "((9, 9), (9, 9), (13, 13))"
      ]
     },
     "execution_count": 383,
     "metadata": {},
     "output_type": "execute_result"
    }
   ],
   "source": [
    "FisherMatrixSKA_50x50 = fm.fisher_matrix(d_signal=dsignal_dpars50x50, inv_cov=Inv_CovMatrixSKA_50x50, z_bins=z_bins, bins=False)\n",
    "FisherMatrixSKA_30x70 = fm.fisher_matrix(d_signal=dsignal_dpars30x70, inv_cov=Inv_CovMatrixSKA_30x70, z_bins=z_bins, bins=False)\n",
    "FisherMatrixSKA_joint = fm.fisher_matrix(d_signal=dsignal_dpars_joint, inv_cov=Inv_CovMatrixSKA_joint, z_bins=z_bins, bins=False)\n",
    "\n",
    "np.shape(FisherMatrixSKA_50x50), np.shape(FisherMatrixSKA_30x70), np.shape(FisherMatrixSKA_joint)\n"
   ]
  },
  {
   "cell_type": "code",
   "execution_count": 384,
   "metadata": {},
   "outputs": [
    {
     "data": {
      "text/plain": [
       "(2.978620645887647e+53, 6.949421003610326e+53, 4.109011071237484e+78)"
      ]
     },
     "execution_count": 384,
     "metadata": {},
     "output_type": "execute_result"
    }
   ],
   "source": [
    "np.linalg.det(FisherMatrixSKA_50x50), np.linalg.det(FisherMatrixSKA_30x70), np.linalg.det(FisherMatrixSKA_joint)"
   ]
  },
  {
   "cell_type": "code",
   "execution_count": 385,
   "metadata": {},
   "outputs": [
    {
     "name": "stdout",
     "output_type": "stream",
     "text": [
      "25447240.777854692\t7515169.987835224\t-31713835.347808655\t-9110094.934605015\t2177814.361231719\t1105856.1562454673\t-932413.0557254107\t-6618981.011715738\t-2933471.9958783127\n",
      "7515169.987835222\t2808444.203160712\t-9110094.934605015\t-3225463.7597114304\t1072997.0184735924\t504090.3908093623\t-332884.4190554553\t-3396522.347946506\t-474952.963605881\n",
      "-31713835.347809885\t-9110094.93460506\t48443965.55355428\t14405111.655087853\t2321035.4568680176\t305381.6409740199\t1695881.1591249863\t-10068274.409692686\t11822762.336750662\n",
      "-9110094.934605056\t-3225463.7597113927\t14405111.655087844\t5400372.421185124\t629545.2719306645\t69738.45404022718\t496145.3945584891\t-2793044.5741037377\t3003394.232552508\n",
      "2177814.3612309718\t1072997.0184736014\t2321035.456869026\t629545.2719306569\t5164002.026713927\t1688886.113488194\t496226.54262118076\t-19413664.00695398\t6641394.1023081085\n",
      "1105856.1562451809\t504090.390809364\t305381.6409744265\t69738.45404022578\t1688886.1134881629\t591306.3728766952\t96541.34153689024\t-6055929.224972827\t2108424.579750899\n",
      "-932413.0557254825\t-332884.41905548575\t1695881.1591251402\t496145.3945585524\t496226.5426212941\t96541.34153693542\t269437.40309821675\t-1928441.3798997358\t1401221.6430270765\n",
      "-6618981.011713022\t-3396522.347946646\t-10068274.409694914\t-2793044.574103466\t-19413664.00695389\t-6055929.2249728255\t-1928441.3798995449\t80306511.07905662\t-23831659.69196253\n",
      "-2933471.9958805563\t-474952.9636061552\t11822762.336753465\t3003394.232552853\t6641394.102308079\t2108424.579750879\t1401221.643026993\t-23831659.691962913\t13961632.845623164\n"
     ]
    }
   ],
   "source": [
    "print('\\n'.join(['\\t'.join([str(cell) for cell in row]) for row in FisherMatrixSKA_50x50]))"
   ]
  },
  {
   "cell_type": "code",
   "execution_count": 386,
   "metadata": {},
   "outputs": [
    {
     "name": "stdout",
     "output_type": "stream",
     "text": [
      "33016651.384679236\t8332488.267908776\t-50360159.32634173\t-12901331.246122913\t1874549.3290753085\t1015691.4324662106\t-994719.3725617193\t-5479385.917692468\t-3961393.346895395\n",
      "8332488.267908773\t2733114.2927259943\t-12901331.246122926\t-4149358.7031630417\t846945.2037477822\t422633.8689456244\t-337296.306303709\t-2592730.776060814\t-779727.1200034039\n",
      "-50360159.32633923\t-12901331.24612243\t84500438.42434922\t23254467.951169528\t2067729.6980300494\t117760.24214361416\t1973312.5021055618\t-9524773.356651565\t13038348.119257785\n",
      "-12901331.246122435\t-4149358.7031629556\t23254467.951169528\t8118604.127277631\t736809.8546538168\t81090.78851551346\t578643.8650978748\t-3279873.2486417764\t3469697.352632582\n",
      "1874549.3290768762\t846945.2037479944\t2067729.6980268739\t736809.8546534531\t5982702.933384105\t1941106.7989340974\t647009.0811368452\t-22479456.449509744\t7855159.7982589435\n",
      "1015691.4324669703\t422633.86894572224\t117760.24214217364\t81090.7885153587\t1941106.7989341135\t670904.4828461709\t138897.17270884645\t-6988605.066999086\t2473726.474570977\n",
      "-994719.372562376\t-337296.3063038523\t1973312.5021069231\t578643.8650981568\t647009.0811369446\t138897.17270890815\t310960.1564787712\t-2499890.3801519116\t1671688.8824865094\n",
      "-5479385.917697523\t-2592730.7760616518\t-9524773.356639676\t-3279873.248639772\t-22479456.449508905\t-6988605.066998642\t-2499890.3801519973\t92043357.18543775\t-28355007.711743876\n",
      "-3961393.346896719\t-779727.1200039316\t13038348.119260143\t3469697.352633649\t7855159.798259621\t2473726.4745712737\t1671688.8824863958\t-28355007.71174604\t15915477.89555201\n"
     ]
    }
   ],
   "source": [
    "print('\\n'.join(['\\t'.join([str(cell) for cell in row]) for row in FisherMatrixSKA_30x70]))"
   ]
  },
  {
   "cell_type": "code",
   "execution_count": 387,
   "metadata": {},
   "outputs": [
    {
     "name": "stdout",
     "output_type": "stream",
     "text": [
      "92066506.36463049\t26920303.855945222\t-15342405.252876662\t-6656001.943252067\t-56902183.571835\t-16626971.718238655\t-21945128.911250416\t-4068466.4882647437\t1332585.6925930122\t593108.938667171\t-311007.5775627017\t-4322794.222278359\t630513.5381725173\n",
      "26920303.855945222\t10198339.605717944\t-6656001.943252066\t-2914131.820052219\t-16626971.718238655\t-6297889.97474721\t-4068466.4882647446\t-1097314.1163115448\t569106.6792123744\t254879.21872294825\t-137185.29296954433\t-1838826.4266961366\t182875.69014475791\n",
      "-15342405.2546295\t-6656001.94332883\t60981355.31990123\t12966310.573607504\t20652150.389404207\t6199905.061081541\t-78198565.31662098\t-14667962.713502007\t-369657.2337270996\t-160982.47376826243\t76836.13927080088\t1224708.1824009353\t519903.6029943622\n",
      "-6656001.943328827\t-2914131.820039441\t12966310.57360752\t3694245.1182399895\t6199905.061081552\t2214836.9799904865\t-14667962.713501988\t-3335463.361361189\t-134718.12225294244\t-62195.51599628249\t37893.38293994561\t431802.06247003184\t160859.91971105168\n",
      "-56902183.5724854\t-16626971.71828878\t20652150.387637667\t6199905.060977705\t45444684.99734155\t13853106.737645661\t-14875818.172159176\t-5249543.165405737\t1279073.704024232\t548911.9832450533\t-241878.48667877965\t-4246076.5938583175\t204752.421568811\n",
      "-16626971.718288781\t-6297889.974750428\t6199905.060977701\t2214836.97999391\t13853106.737645661\t5432996.665350732\t-5249543.165405733\t-1992669.1955332495\t580816.7609601526\t253086.33483666112\t-120538.70437371756\t-1911616.4340010872\t99474.99334750169\n",
      "-21945128.90830516\t-4068466.488103663\t-78198565.3161185\t-14667962.713440042\t-14875818.174941553\t-5249543.16558336\t144832360.77484968\t32229127.83020227\t-1463164.1831403277\t-704823.6769062493\t491688.7966191422\t4517174.388476592\t-133825.07733255846\n",
      "-4068466.4881036617\t-1097314.116321224\t-14667962.713440035\t-3335463.3613507776\t-5249543.165583376\t-1992669.1955331857\t32229127.830202203\t9370858.331004627\t-445012.4740727141\t-226003.6852296156\t181920.55388426728\t1321452.8604446978\t120699.42894888979\n",
      "1332585.6925986598\t569106.679213216\t-369657.2337203655\t-134718.12225214735\t1279073.7040210671\t580816.7609596679\t-1463164.1831500365\t-445012.4740739066\t2133687.517889752\t794008.4126335182\t-214003.91158581895\t-8035716.738384281\t929019.9318244644\n",
      "593108.9386639213\t254879.21872245986\t-160982.4737719775\t-62195.51599690975\t548911.9832469767\t253086.33483694083\t-704823.67690102\t-226003.68522874612\t794008.4126334895\t327545.4341689119\t-112992.61608574488\t-2689073.3702787836\t436037.0520637652\n",
      "-311007.57756595634\t-137185.29297005417\t76836.13926726869\t37893.38293940592\t-241878.48667687716\t-120538.70437341974\t491688.7966242259\t181920.55388505824\t-214003.9115858422\t-112992.61608577095\t104503.77131064444\t749383.9867290747\t45704.395473502926\n",
      "-4322794.222506436\t-1838826.4267304866\t1224708.1821400502\t431802.0624314628\t-4246076.593724566\t-1911616.4339808226\t4517174.388848727\t1321452.8604997476\t-8035716.738384091\t-2689073.3702788223\t749383.9867289994\t37848641.06224067\t-2271371.105499264\n",
      "630513.538090488\t182875.69013430638\t519903.6029025209\t160859.9196991215\t204752.42161721288\t99474.99335361824\t-133825.07720100228\t120699.42896600503\t929019.9318244952\t436037.05206380074\t45704.39547347172\t-2271371.1054993747\t2268551.9689084417\n"
     ]
    }
   ],
   "source": [
    "print('\\n'.join(['\\t'.join([str(cell) for cell in row]) for row in FisherMatrixSKA_joint]))"
   ]
  },
  {
   "cell_type": "code",
   "execution_count": 388,
   "metadata": {},
   "outputs": [
    {
     "data": {
      "text/plain": [
       "(18, 19, 216)"
      ]
     },
     "execution_count": 388,
     "metadata": {},
     "output_type": "execute_result"
    }
   ],
   "source": [
    "dsignal_dpars_joint_ = np.concatenate([dsignal_dgbias50, dsignal_dgbias30, dsignal_dcosmic_multi])\n",
    "\n",
    "np.shape(dsignal_dpars_joint_)"
   ]
  },
  {
   "cell_type": "code",
   "execution_count": 389,
   "metadata": {},
   "outputs": [
    {
     "name": "stdout",
     "output_type": "stream",
     "text": [
      "\n",
      " ... Computing the Fisher Matrix ... \n",
      "\n",
      "Signal & Cov must be given as functions (z,d) and (z,d,d') respectively. \n",
      "\n",
      "\n",
      " ... Success! ... \n",
      "\n"
     ]
    }
   ],
   "source": [
    "FisherMatrixSKA_joint_ = fm.fisher_matrix(d_signal=dsignal_dpars_joint_, inv_cov=Inv_CovMatrixSKA_joint, z_bins=z_bins, bins=False)"
   ]
  },
  {
   "cell_type": "code",
   "execution_count": 390,
   "metadata": {},
   "outputs": [
    {
     "data": {
      "text/plain": [
       "((18, 18), 3.3216627958448616e+111)"
      ]
     },
     "execution_count": 390,
     "metadata": {},
     "output_type": "execute_result"
    }
   ],
   "source": [
    "np.shape(FisherMatrixSKA_joint_), np.linalg.det(FisherMatrixSKA_joint_)"
   ]
  },
  {
   "cell_type": "code",
   "execution_count": 391,
   "metadata": {},
   "outputs": [
    {
     "name": "stdout",
     "output_type": "stream",
     "text": [
      "92066506.36463049\t26920303.855945222\t-15342405.252876662\t-6656001.943252067\t-56902183.571835\t-16626971.718238655\t-21945128.911250416\t-4068466.4882647437\t91670575.53544714\t42717960.99014189\t-26796840.411836803\t-290006127.79184276\t47572413.241915524\t-90337989.8428541\t-42124852.0514747\t26485832.8342741\t285683333.5695643\t-46941899.703743\n",
      "26920303.855945222\t10198339.605717944\t-6656001.943252066\t-2914131.820052219\t-16626971.718238655\t-6297889.97474721\t-4068466.4882647446\t-1097314.1163115448\t23368034.837180924\t10991956.332475802\t-7113388.166193549\t-73429113.68377201\t9162550.227619926\t-22798928.157968547\t-10737077.113752859\t6976202.873224005\t71590287.25707585\t-8979674.537475172\n",
      "-15342405.2546295\t-6656001.94332883\t60981355.31990123\t12966310.573607504\t20652150.389404207\t6199905.061081541\t-78198565.31662098\t-14667962.713502007\t25209953.229723312\t12292587.533625571\t-8883655.048157772\t-77015777.10726714\t21986271.807046533\t-25579610.463450417\t-12453570.007393837\t8960491.18742857\t78240485.28966808\t-21466368.204052173\n",
      "-6656001.943328827\t-2914131.820039441\t12966310.57360752\t3694245.1182399895\t6199905.061081552\t2214836.9799904865\t-14667962.713501988\t-3335463.361361189\t1894578.0191760494\t963821.040625818\t-779486.6705397539\t-5583853.993557022\t2654701.64304828\t-2029296.1414289905\t-1026016.5566220997\t817380.0534797005\t6015656.056027055\t-2493841.723337229\n",
      "-56902183.5724854\t-16626971.71828878\t20652150.387637667\t6199905.060977705\t45444684.99734155\t13853106.737645661\t-14875818.172159176\t-5249543.165405737\t-50198530.1653961\t-23228103.13970719\t14219306.637559246\t159670201.79160035\t-24835502.773512878\t51477603.869420335\t23777015.12295224\t-14461185.124238024\t-163916278.3854587\t25040255.195081685\n",
      "-16626971.718288781\t-6297889.974750428\t6199905.060977701\t2214836.97999391\t13853106.737645661\t5432996.665350732\t-5249543.165405733\t-1992669.1955332495\t-13313374.056495698\t-6207410.768841995\t3900322.9259011457\t42117675.28894312\t-5068942.979332545\t13894190.817455856\t6460497.103678654\t-4020861.6302748634\t-44029291.72294421\t5168417.972680049\n",
      "-21945128.90830516\t-4068466.488103663\t-78198565.3161185\t-14667962.713440042\t-14875818.174941553\t-5249543.16558336\t144832360.77484968\t32229127.83020227\t-77079613.83516327\t-36900696.75302535\t25260525.097161878\t238939062.1534487\t-50592939.48917779\t75616449.65202296\t36195873.0761191\t-24768836.30054274\t-234421887.76497206\t50459114.411845244\n",
      "-4068466.4881036617\t-1097314.116321224\t-14667962.713440035\t-3335463.3613507776\t-5249543.165583376\t-1992669.1955331857\t32229127.830202203\t9370858.331004627\t-13877384.865047509\t-6739828.8434852855\t4814916.258772652\t42557743.64144062\t-7481074.464273049\t13432372.390974792\t6513825.158255668\t-4632995.704888384\t-41236290.78099593\t7601773.893221939\n",
      "91670575.53753094\t23368034.837626036\t25209953.235278636\t1894578.0198292483\t-50198530.16548525\t-13313374.05667132\t-77079613.84382352\t-13877384.866062563\t134729160.300716\t57109921.53384178\t-29788469.31991109\t-473442075.61174065\t79870391.37836367\t-133467174.32455377\t-56610195.12004801\t29587204.580697846\t468831082.078828\t-78891422.29997244\n",
      "42717960.989441656\t10991956.332438769\t12292587.53433755\t963821.040654997\t-23228103.138745576\t-6207410.768777192\t-36900696.75440939\t-6739828.843569818\t57109921.53089588\t26769409.95647544\t-17130306.812577907\t-179896143.68667725\t33314639.900238015\t-56610420.57188802\t-26547509.78192928\t17014988.954025403\t178275980.74235058\t-32898662.203369576\n",
      "-26796840.414094124\t-7113388.166443158\t-8883655.051749822\t-779486.6708779288\t14219306.63849242\t3900322.9260142012\t25260525.10257496\t4814916.259290699\t-29788469.322782144\t-17130306.81487867\t17972160.927427996\t85008041.77905238\t-361065.69714028435\t29587851.342460506\t17015222.480170462\t-17850773.83106626\t-84402913.73789048\t353039.3469264778\n",
      "-290006127.8747917\t-73429113.6937443\t-77015777.21211591\t-5583854.005388721\t159670201.83667868\t42117675.294534504\t238939062.30539894\t42557743.65857448\t-473442075.7358447\t-179896143.76011208\t85008041.82167992\t2050390518.330116\t-252776468.74890205\t468830028.36223376\t178274754.81959513\t-84400490.42111348\t-2029150152.5229979\t249806544.0474036\n",
      "47572413.22904311\t9162550.226024993\t21986271.795461673\t2654701.641401581\t-24835502.76493799\t-5068942.97832348\t-50592939.47321506\t-7481074.461975986\t79870391.35219382\t33314639.890692674\t-361065.68700744415\t-252776468.56808776\t151234843.13208744\t-79304694.71774523\t-33067649.559050955\t407988.2504935548\t251217062.32164207\t-149418649.0195276\n",
      "-90337989.84493226\t-22798928.15841282\t-25579610.46899898\t-2029296.142081392\t51477603.86950632\t13894190.817630984\t75616449.66067354\t13432372.39198866\t-133467174.32453793\t-56610420.57482915\t29587851.339590233\t468830028.23805565\t-79304694.74389674\t134338875.86626557\t56904702.5736689\t-29600590.511962827\t-472254751.44352704\t79254745.59733\n",
      "-42124852.05077773\t-10737077.11371631\t-12453570.008109514\t-1026016.5566519054\t23777015.121992547\t6460497.103614133\t36195873.0775084\t6513825.158341078\t-56610195.1171074\t-26547509.781931985\t17015222.477871936\t178274754.7461761\t-33067649.56859944\t56904702.570732996\t26653155.04155474\t-17012897.235405184\t-179343665.17212802\t33087708.92379474\n",
      "26485832.836528156\t6976202.873473103\t8960491.191017086\t817380.0538173359\t-14461185.125169301\t-4020861.630387622\t-24768836.305950727\t-4632995.70540564\t29587204.583564058\t17014988.95632353\t-17850773.8310638\t-84400490.37847167\t407988.26062435354\t-29600590.51482828\t-17012897.2377011\t17833890.506012693\t84544746.3240389\t-354257.5149370554\n",
      "285683333.6522853\t71590287.26701377\t78240485.39425594\t6015656.067820161\t-163916278.43040332\t-44029291.728515334\t-234421887.91655055\t-41236290.798074745\t468831082.2025348\t178275980.81559685\t-84402913.78037816\t-2029150152.5216427\t251217062.50220025\t-472254751.5673083\t-179343665.2453588\t84544746.3665408\t2045758427.7767658\t-250518508.9062015\n",
      "-46941899.69095263\t-8979674.535890682\t-21466368.1925591\t-2493841.7217024555\t25040255.186555184\t5168417.971677095\t50459114.39601402\t7601773.890941989\t-78891422.27394865\t-32898662.193892185\t353039.3368399448\t249806543.86708915\t-149418649.01964054\t79254745.57132448\t33087708.914314255\t-354257.50485257653\t-250518508.72614273\t149871006.8759893\n"
     ]
    }
   ],
   "source": [
    "print('\\n'.join(['\\t'.join([str(cell) for cell in row]) for row in FisherMatrixSKA_joint_]))"
   ]
  },
  {
   "cell_type": "markdown",
   "metadata": {},
   "source": [
    "#  Joint Covariance Matrix 50x70 [all] REMOVE ONE HEXADECAPOLE"
   ]
  },
  {
   "cell_type": "markdown",
   "metadata": {},
   "source": [
    "## Check Cauchy-Schwarz inequality \n",
    "\n",
    "The Cauchy-Schwarz inequality implies:\n",
    "\n",
    "$$ \\mathrm{COV}(X,Y) \\leq \\sqrt{\\mathrm{VAR}(X)\\cdot\\mathrm{VAR}(Y)}$$"
   ]
  },
  {
   "cell_type": "code",
   "execution_count": 14,
   "metadata": {},
   "outputs": [],
   "source": [
    "z_bins = np.array([0.15, 0.25, 0.35, 0.45, 0.55, 0.65, 0.75, 0.85, 0.95, 1.05, 1.15, 1.25, 1.35, 1.45, 1.55, 1.65, 1.75, 1.85, 1.95])\n",
    "\n",
    "n_sep = len(dist[0])\n",
    "\n",
    "ind_to_remove = list(range(7*n_sep,8*n_sep))\n"
   ]
  },
  {
   "cell_type": "code",
   "execution_count": 15,
   "metadata": {},
   "outputs": [
    {
     "name": "stdout",
     "output_type": "stream",
     "text": [
      "\n",
      " ... Loading Covariance Matrices (Joint-splittings Analysis) [all] [MONOBB, MONOBF, MONOFF, DIPBF, QUADBB, QUADBF, QUADFF, HEXAT, OCTBF] ... \n",
      "\n"
     ]
    }
   ],
   "source": [
    "CovMatrixSKA_joint_ = fm.cov_matrix_joint(d=dist[0], z_bins=z_bins, small_off_diagonal=True, rtol=1e-4, splits=[50,70], contributions='all')"
   ]
  },
  {
   "cell_type": "code",
   "execution_count": 16,
   "metadata": {},
   "outputs": [
    {
     "name": "stdout",
     "output_type": "stream",
     "text": [
      "\n",
      " ... Remove the HEXADECAPOLE from 50x50 split ... \n",
      "\n"
     ]
    },
    {
     "data": {
      "text/plain": [
       "((19, 648, 648), (19, 612, 612))"
      ]
     },
     "execution_count": 16,
     "metadata": {},
     "output_type": "execute_result"
    }
   ],
   "source": [
    "print('\\n ... Remove the HEXADECAPOLE from 50x50 split ... \\n')\n",
    "\n",
    "CovMatrixSKA_joint = np.delete(CovMatrixSKA_joint_, ind_to_remove, axis=1)\n",
    "CovMatrixSKA_joint = np.delete(CovMatrixSKA_joint, ind_to_remove, axis=2)\n",
    "\n",
    "np.shape(CovMatrixSKA_joint_), np.shape(CovMatrixSKA_joint)"
   ]
  },
  {
   "cell_type": "code",
   "execution_count": 17,
   "metadata": {},
   "outputs": [
    {
     "name": "stdout",
     "output_type": "stream",
     "text": [
      "0 True\n",
      "1 True\n",
      "2 True\n",
      "3 True\n",
      "4 True\n",
      "5 True\n",
      "6 True\n",
      "7 True\n",
      "8 True\n",
      "9 True\n",
      "10 True\n",
      "11 True\n",
      "12 True\n",
      "13 True\n",
      "14 True\n",
      "15 True\n",
      "16 True\n",
      "17 True\n",
      "18 True\n"
     ]
    }
   ],
   "source": [
    "for n, z in enumerate(z_bins):\n",
    "    print(n, np.allclose(CovMatrixSKA_joint[n], CovMatrixSKA_joint[n].T, rtol = 1e-20))"
   ]
  },
  {
   "cell_type": "code",
   "execution_count": 18,
   "metadata": {},
   "outputs": [
    {
     "data": {
      "text/plain": [
       "((19, 324, 324), (19, 324, 324), (19, 612, 612))"
      ]
     },
     "execution_count": 18,
     "metadata": {},
     "output_type": "execute_result"
    }
   ],
   "source": [
    "np.shape(CovMatrixSKA_50x50), np.shape(CovMatrixSKA_70x30), np.shape(CovMatrixSKA_joint)"
   ]
  },
  {
   "cell_type": "markdown",
   "metadata": {},
   "source": [
    "## Checking directly from Joint Cov Matrix 50x70\n",
    "\n",
    "Compare off diagonal elements (covariances) versus the correspondent diagonal ones (variances)."
   ]
  },
  {
   "cell_type": "code",
   "execution_count": 19,
   "metadata": {},
   "outputs": [
    {
     "data": {
      "text/plain": [
       "((19, 612, 612), numpy.ndarray)"
      ]
     },
     "execution_count": 19,
     "metadata": {},
     "output_type": "execute_result"
    }
   ],
   "source": [
    "np.shape(CovMatrixSKA_joint), type(CovMatrixSKA_joint)"
   ]
  },
  {
   "cell_type": "code",
   "execution_count": 20,
   "metadata": {},
   "outputs": [
    {
     "data": {
      "text/plain": [
       "612"
      ]
     },
     "execution_count": 20,
     "metadata": {},
     "output_type": "execute_result"
    }
   ],
   "source": [
    "2*36*9-36"
   ]
  },
  {
   "cell_type": "code",
   "execution_count": 21,
   "metadata": {},
   "outputs": [
    {
     "name": "stdout",
     "output_type": "stream",
     "text": [
      " Monopole BB (d=d), 50x50 =  1.1406613424594502e-05 \n",
      " Monopole BB (d=d), 70x30 =  5.638417702019513e-07\n"
     ]
    }
   ],
   "source": [
    "print(' Monopole BB (d=d), 50x50 = ', CovMatrixSKA_joint[0][0,0],'\\n','Monopole BB (d=d), 70x30 = ', CovMatrixSKA_joint[0][324,324] ) "
   ]
  },
  {
   "cell_type": "code",
   "execution_count": 22,
   "metadata": {},
   "outputs": [
    {
     "name": "stdout",
     "output_type": "stream",
     "text": [
      " Monopole BB (d=d), 50x70 =  5.613138257797223e-06 \n",
      " Monopole BB (d=d), 70x50 =  5.613138257797223e-06\n"
     ]
    }
   ],
   "source": [
    "print(' Monopole BB (d=d), 50x70 = ', CovMatrixSKA_joint[0][0,324],'\\n', 'Monopole BB (d=d), 70x50 = ', CovMatrixSKA_joint[0][324,0] ) "
   ]
  },
  {
   "cell_type": "code",
   "execution_count": 23,
   "metadata": {},
   "outputs": [
    {
     "name": "stdout",
     "output_type": "stream",
     "text": [
      "0.15 False False\n",
      "0.25 False False\n",
      "0.35 False False\n",
      "0.45 False False\n",
      "0.55 False False\n",
      "0.65 False False\n",
      "0.75 False False\n",
      "0.85 False False\n",
      "0.95 False False\n",
      "1.05 False False\n",
      "1.15 False False\n",
      "1.25 False False\n",
      "1.35 True True\n",
      "1.45 True True\n",
      "1.55 True True\n",
      "1.65 True True\n",
      "1.75 True True\n",
      "1.85 True True\n",
      "1.95 True True\n"
     ]
    }
   ],
   "source": [
    "for k,_ in enumerate(z_bins):\n",
    "    print(z_bins[k], np.sqrt(CovMatrixSKA_joint[k][0,0] * CovMatrixSKA_joint[k][324,324]) >= CovMatrixSKA_joint[k][0,324], np.sqrt(CovMatrixSKA_joint[k][0,0] * CovMatrixSKA_joint[k][324,324]) >= CovMatrixSKA_joint[k][324,0])"
   ]
  },
  {
   "cell_type": "code",
   "execution_count": 24,
   "metadata": {},
   "outputs": [
    {
     "name": "stdout",
     "output_type": "stream",
     "text": [
      "0.15 2.536045170207484e-06 5.613138257797223e-06\n",
      "0.25 1.1759044891878678e-06 2.4013378376522883e-06\n",
      "0.35 7.450113415260696e-07 1.4245096642642512e-06\n",
      "0.45 5.5031050034784e-07 9.948754287797074e-07\n",
      "0.55 4.460848183034741e-07 7.6719573894467e-07\n",
      "0.65 3.856208309751128e-07 6.332227301086177e-07\n",
      "0.75 3.504145653179042e-07 5.499569580095534e-07\n",
      "0.85 3.321896418365526e-07 4.975540816320136e-07\n",
      "0.95 3.2770012949669244e-07 4.66089114352573e-07\n",
      "1.05 3.370420312793053e-07 4.505703449219131e-07\n",
      "1.15 3.6319962723115915e-07 4.4874624504609085e-07\n",
      "1.25 4.150521430880537e-07 4.606856977823527e-07\n",
      "1.35 5.129675776023526e-07 4.887762274491425e-07\n",
      "1.45 7.00790038571815e-07 5.380493619721122e-07\n",
      "1.55 1.0957302823682655e-06 6.200987233643109e-07\n",
      "1.65 1.9845528176588043e-06 7.545578343527732e-07\n",
      "1.75 4.153655618440485e-06 9.79432459179411e-07\n",
      "1.85 9.983327692749943e-06 1.3733660181748274e-06\n",
      "1.95 2.6858881386093924e-05 2.090715609007057e-06\n"
     ]
    }
   ],
   "source": [
    "for k,_ in enumerate(z_bins):\n",
    "    print(z_bins[k], np.sqrt(CovMatrixSKA_joint[k][0,0] * CovMatrixSKA_joint[k][324,324]), CovMatrixSKA_joint[k][0,324])"
   ]
  },
  {
   "cell_type": "code",
   "execution_count": 25,
   "metadata": {},
   "outputs": [
    {
     "name": "stdout",
     "output_type": "stream",
     "text": [
      " MonoBQuadBF (d=d), 50x50 =  1.9425535215326826e-06 \n",
      " MonoBQuadBF (d=d) (d=d), 70x30 =  1.5008788056283315e-07\n",
      " Monopole BB (d=d), 50x70 =  1.0518285311743783e-06 \n",
      " Monopole BB (d=d), 70x50 =  1.0518285311743783e-06\n"
     ]
    }
   ],
   "source": [
    "print(' MonoBQuadBF (d=d), 50x50 = ', CovMatrixSKA_joint[0][179,179],'\\n','MonoBQuadBF (d=d) (d=d), 70x30 = ', CovMatrixSKA_joint[0][179+324,179+324] )\n",
    "print(' Monopole BB (d=d), 50x70 = ', CovMatrixSKA_joint[0][179,179+324],'\\n', 'Monopole BB (d=d), 70x50 = ', CovMatrixSKA_joint[0][179+324,179] )  "
   ]
  },
  {
   "cell_type": "code",
   "execution_count": 26,
   "metadata": {},
   "outputs": [
    {
     "name": "stdout",
     "output_type": "stream",
     "text": [
      "False False\n",
      "False False\n",
      "False False\n",
      "False False\n",
      "False False\n",
      "False False\n",
      "False False\n",
      "False False\n",
      "False False\n",
      "False False\n",
      "False False\n",
      "False False\n",
      "False False\n",
      "True True\n",
      "True True\n",
      "True True\n",
      "True True\n",
      "True True\n",
      "True True\n"
     ]
    }
   ],
   "source": [
    "for k,_ in enumerate(z_bins):\n",
    "    print(np.sqrt(CovMatrixSKA_joint[k][179,179] * CovMatrixSKA_joint[k][179+324,179+324]) >= CovMatrixSKA_joint[k][179,179+324], \n",
    "          np.sqrt(CovMatrixSKA_joint[k][179,179] * CovMatrixSKA_joint[k][179+324,179+324]) >= CovMatrixSKA_joint[k][324+179,179])"
   ]
  },
  {
   "cell_type": "code",
   "execution_count": 27,
   "metadata": {},
   "outputs": [
    {
     "ename": "NameError",
     "evalue": "name 'CovMatrixSKA_70x50' is not defined",
     "output_type": "error",
     "traceback": [
      "\u001b[0;31m---------------------------------------------------------------------------\u001b[0m",
      "\u001b[0;31mNameError\u001b[0m                                 Traceback (most recent call last)",
      "Cell \u001b[0;32mIn[27], line 1\u001b[0m\n\u001b[0;32m----> 1\u001b[0m \u001b[38;5;28mlen\u001b[39m(\u001b[43mCovMatrixSKA_70x50\u001b[49m[\u001b[38;5;241m0\u001b[39m])\n",
      "\u001b[0;31mNameError\u001b[0m: name 'CovMatrixSKA_70x50' is not defined"
     ]
    }
   ],
   "source": [
    "len(CovMatrixSKA_30x50[0])"
   ]
  },
  {
   "cell_type": "code",
   "execution_count": 28,
   "metadata": {},
   "outputs": [
    {
     "name": "stdout",
     "output_type": "stream",
     "text": [
      " Element (d=d), 50x50 =  5.056783304171943e-06 \n",
      " Element (d=d), 70x30 =  3.42118942960755e-09\n",
      " Element (d=d), 50x70 =  0.0 \n",
      " Element (d=d), 70x50 =  0.0 \n",
      "\n",
      "Check COV(X,Y)^2 <= SQRT(VAR(X) * VAR(Y)) \n",
      "\n",
      "True True\n",
      "True True\n",
      "True True\n",
      "True True\n",
      "True True\n",
      "True True\n",
      "True True\n",
      "True True\n",
      "True True\n",
      "True True\n",
      "True True\n",
      "True True\n",
      "True True\n",
      "True True\n",
      "True True\n",
      "True True\n",
      "True True\n",
      "True True\n",
      "True True\n"
     ]
    }
   ],
   "source": [
    "i_element = 288\n",
    "j_element = i_element\n",
    "l = int((2*36*9-36)/2)\n",
    "\n",
    "print(' Element (d=d), 50x50 = ', CovMatrixSKA_joint[0][i_element,j_element],'\\n','Element (d=d), 70x30 = ', CovMatrixSKA_joint[0][i_element+l,j_element+l] )\n",
    "print(' Element (d=d), 50x70 = ', CovMatrixSKA_joint[0][i_element,j_element+l],'\\n', 'Element (d=d), 70x50 = ', CovMatrixSKA_joint[0][i_element+l,j_element],'\\n' )  \n",
    "\n",
    "print('Check COV(X,Y)^2 <= SQRT(VAR(X) * VAR(Y)) \\n')\n",
    "for k,_ in enumerate(z_bins):\n",
    "    print(np.sqrt(CovMatrixSKA_joint[k][i_element,j_element] * CovMatrixSKA_joint[k][i_element+l,j_element+l]) >= CovMatrixSKA_joint[k][i_element,j_element+l], \n",
    "          np.sqrt(CovMatrixSKA_joint[k][i_element,j_element] * CovMatrixSKA_joint[k][i_element+l,j_element+l]) >= CovMatrixSKA_joint[k][i_element+l,j_element])"
   ]
  },
  {
   "cell_type": "code",
   "execution_count": null,
   "metadata": {},
   "outputs": [
    {
     "name": "stdout",
     "output_type": "stream",
     "text": [
      " Element (d=d), 50x50 =  6.551780712795955e-08 \n",
      " Element (d=d), 30x70 =  2.037598373627894e-08\n",
      " Element (d=d), 50x30 =  3.645579650706823e-08 \n",
      " Element (d=d), 30x50 =  3.645579650706823e-08 \n",
      "\n",
      "Check COV(X,Y)^2 <= SQRT(VAR(X) * VAR(Y)) \n",
      "\n",
      "True True\n",
      "True True\n",
      "True True\n",
      "True True\n",
      "True True\n",
      "True True\n",
      "True True\n",
      "True True\n",
      "True True\n",
      "True True\n",
      "True True\n",
      "True True\n",
      "True True\n",
      "True True\n",
      "True True\n",
      "True True\n",
      "True True\n",
      "True True\n",
      "True True\n"
     ]
    }
   ],
   "source": [
    "i_element = 56\n",
    "j_element = i_element\n",
    "l = len(CovMatrixSKA_50x50[0])\n",
    "\n",
    "print(' Element (d=d), 50x50 = ', CovMatrixSKA_joint[0][i_element,j_element],'\\n','Element (d=d), 30x70 = ', CovMatrixSKA_joint[0][i_element+l,j_element+l] )\n",
    "print(' Element (d=d), 50x30 = ', CovMatrixSKA_joint[0][i_element,j_element+l],'\\n', 'Element (d=d), 30x50 = ', CovMatrixSKA_joint[0][i_element+l,j_element],'\\n' )  \n",
    "\n",
    "print('Check COV(X,Y)^2 <= SQRT(VAR(X) * VAR(Y)) \\n')\n",
    "for k,_ in enumerate(z_bins):\n",
    "    print(np.sqrt(CovMatrixSKA_joint[k][i_element,j_element] * CovMatrixSKA_joint[k][i_element+l,j_element+l]) >= CovMatrixSKA_joint[k][i_element,j_element+l], \n",
    "          np.sqrt(CovMatrixSKA_joint[k][i_element,j_element] * CovMatrixSKA_joint[k][i_element+l,j_element+l]) >= CovMatrixSKA_joint[k][i_element+l,j_element])"
   ]
  },
  {
   "cell_type": "code",
   "execution_count": 29,
   "metadata": {},
   "outputs": [
    {
     "name": "stdout",
     "output_type": "stream",
     "text": [
      "5.093876193886468e-07 1.0577598333198072e-06\n",
      "5.353246240816097e-08 5.353246240816097e-08\n"
     ]
    }
   ],
   "source": [
    "print(CovMatrixSKA_50x50[0][24,24], CovMatrixSKA_50x50[0][36,36])\n",
    "print(CovMatrixSKA_50x50[0][24,36], CovMatrixSKA_50x50[0][36,24])"
   ]
  },
  {
   "cell_type": "code",
   "execution_count": 30,
   "metadata": {},
   "outputs": [
    {
     "name": "stdout",
     "output_type": "stream",
     "text": [
      "z =  0.15 | check:  True\n",
      "z =  0.25 | check:  True\n",
      "z =  0.35 | check:  True\n",
      "z =  0.45 | check:  True\n",
      "z =  0.55 | check:  True\n",
      "z =  0.65 | check:  True\n",
      "z =  0.75 | check:  True\n",
      "z =  0.85 | check:  True\n",
      "z =  0.95 | check:  True\n",
      "z =  1.05 | check:  True\n",
      "z =  1.15 | check:  True\n",
      "z =  1.25 | check:  True\n",
      "z =  1.35 | check:  True\n",
      "z =  1.45 | check:  True\n",
      "z =  1.55 | check:  True\n",
      "z =  1.65 | check:  True\n",
      "z =  1.75 | check:  True\n",
      "z =  1.85 | check:  True\n",
      "z =  1.95 | check:  True\n"
     ]
    }
   ],
   "source": [
    "for k,_ in enumerate(z_bins):\n",
    "    print('z = ',_, '| check: ', CovMatrixSKA_50x50[k][10,25]**2 <= CovMatrixSKA_50x50[k][10,10]*CovMatrixSKA_50x50[k][25,25])"
   ]
  },
  {
   "cell_type": "code",
   "execution_count": 31,
   "metadata": {},
   "outputs": [
    {
     "name": "stdout",
     "output_type": "stream",
     "text": [
      "z =  0.15 | check:  True\n",
      "z =  0.25 | check:  True\n",
      "z =  0.35 | check:  True\n",
      "z =  0.45 | check:  True\n",
      "z =  0.55 | check:  True\n",
      "z =  0.65 | check:  True\n",
      "z =  0.75 | check:  True\n",
      "z =  0.85 | check:  True\n",
      "z =  0.95 | check:  True\n",
      "z =  1.05 | check:  True\n",
      "z =  1.15 | check:  True\n",
      "z =  1.25 | check:  True\n",
      "z =  1.35 | check:  True\n",
      "z =  1.45 | check:  True\n",
      "z =  1.55 | check:  True\n",
      "z =  1.65 | check:  True\n",
      "z =  1.75 | check:  True\n",
      "z =  1.85 | check:  True\n",
      "z =  1.95 | check:  True\n"
     ]
    }
   ],
   "source": [
    "for k,_ in enumerate(z_bins):\n",
    "    print('z = ',_, '| check: ', CovMatrixSKA_70x30[k][18,30]**2 <= CovMatrixSKA_70x30[k][18,18]*CovMatrixSKA_70x30[k][30,30])"
   ]
  },
  {
   "cell_type": "markdown",
   "metadata": {},
   "source": [
    "## Test Fisher Matrix"
   ]
  },
  {
   "cell_type": "markdown",
   "metadata": {},
   "source": [
    "### Load the derivatives"
   ]
  },
  {
   "cell_type": "code",
   "execution_count": 33,
   "metadata": {},
   "outputs": [],
   "source": [
    "with open('derivatives.pkl', 'rb') as File:\n",
    "    derivatives_dict = pk.load(File)\n",
    "    \n",
    "derivatives_50x50 = derivatives_dict['split_50x50']\n",
    "derivatives_30x70 = derivatives_dict['split_30x70']\n",
    "derivatives_70x30 = derivatives_dict['split_70x30']\n"
   ]
  },
  {
   "cell_type": "code",
   "execution_count": 34,
   "metadata": {},
   "outputs": [
    {
     "data": {
      "text/plain": [
       "((8, 19, 324), (4, 19, 324), (5, 19, 324), (4, 19, 324))"
      ]
     },
     "execution_count": 34,
     "metadata": {},
     "output_type": "execute_result"
    }
   ],
   "source": [
    "dsignal_dsbias50 = derivatives_50x50['dsignal_dsbias']\n",
    "\n",
    "dsignal_dgbias50_ = derivatives_50x50['dsignal_dgbias']\n",
    "\n",
    "dsignal_dcosmic50 = derivatives_50x50['dsignal_dcosmic']\n",
    "\n",
    "dsignal_dnum50 = derivatives_50x50['dsignal_dnumev']\n",
    "\n",
    "np.shape(dsignal_dsbias50), np.shape(dsignal_dgbias50_), np.shape(dsignal_dcosmic50), np.shape(dsignal_dnum50)"
   ]
  },
  {
   "cell_type": "code",
   "execution_count": 35,
   "metadata": {},
   "outputs": [
    {
     "data": {
      "text/plain": [
       "((8, 19, 324), (4, 19, 324), (5, 19, 324), (4, 19, 324))"
      ]
     },
     "execution_count": 35,
     "metadata": {},
     "output_type": "execute_result"
    }
   ],
   "source": [
    "dsignal_dsbias30 = derivatives_30x70['dsignal_dsbias']\n",
    "\n",
    "dsignal_dgbias30_ = derivatives_30x70['dsignal_dgbias']\n",
    "\n",
    "dsignal_dcosmic30 = derivatives_30x70['dsignal_dcosmic']\n",
    "\n",
    "dsignal_dnum30 = derivatives_30x70['dsignal_dnumev']\n",
    "\n",
    "np.shape(dsignal_dsbias30), np.shape(dsignal_dgbias30_), np.shape(dsignal_dcosmic30), np.shape(dsignal_dnum30)"
   ]
  },
  {
   "cell_type": "code",
   "execution_count": 36,
   "metadata": {},
   "outputs": [
    {
     "data": {
      "text/plain": [
       "((8, 19, 324), (4, 19, 324), (5, 19, 324), (4, 19, 324))"
      ]
     },
     "execution_count": 36,
     "metadata": {},
     "output_type": "execute_result"
    }
   ],
   "source": [
    "dsignal_dsbias70 = derivatives_70x30['dsignal_dsbias']\n",
    "\n",
    "dsignal_dgbias70_ = derivatives_70x30['dsignal_dgbias']\n",
    "\n",
    "dsignal_dcosmic70 = derivatives_70x30['dsignal_dcosmic']\n",
    "\n",
    "dsignal_dnum70 = derivatives_70x30['dsignal_dnumev']\n",
    "\n",
    "np.shape(dsignal_dsbias70), np.shape(dsignal_dgbias70_), np.shape(dsignal_dcosmic70), np.shape(dsignal_dnum70)"
   ]
  },
  {
   "cell_type": "code",
   "execution_count": 37,
   "metadata": {},
   "outputs": [
    {
     "data": {
      "text/plain": [
       "(21, 19, 324)"
      ]
     },
     "execution_count": 37,
     "metadata": {},
     "output_type": "execute_result"
    }
   ],
   "source": [
    "dsignal_dtheta50 = np.concatenate([dsignal_dsbias50, dsignal_dnum50, dsignal_dgbias50_, dsignal_dcosmic50])\n",
    "\n",
    "np.shape(dsignal_dtheta50)"
   ]
  },
  {
   "cell_type": "code",
   "execution_count": 38,
   "metadata": {},
   "outputs": [
    {
     "data": {
      "text/plain": [
       "(21, 19, 324)"
      ]
     },
     "execution_count": 38,
     "metadata": {},
     "output_type": "execute_result"
    }
   ],
   "source": [
    "dsignal_dtheta30 = np.concatenate([dsignal_dsbias30, dsignal_dnum30, dsignal_dgbias30_, dsignal_dcosmic30])\n",
    "\n",
    "np.shape(dsignal_dtheta30)"
   ]
  },
  {
   "cell_type": "code",
   "execution_count": 39,
   "metadata": {},
   "outputs": [
    {
     "data": {
      "text/plain": [
       "(21, 19, 324)"
      ]
     },
     "execution_count": 39,
     "metadata": {},
     "output_type": "execute_result"
    }
   ],
   "source": [
    "dsignal_dtheta70 = np.concatenate([dsignal_dsbias70, dsignal_dnum70, dsignal_dgbias70_, dsignal_dcosmic70])\n",
    "\n",
    "np.shape(dsignal_dtheta70)"
   ]
  },
  {
   "cell_type": "code",
   "execution_count": 40,
   "metadata": {},
   "outputs": [],
   "source": [
    "dsignal_dsB50 = np.concatenate([dsignal_dsbias50[:4], np.zeros_like(dsignal_dsbias50[:4])], axis=2)\n",
    "dsignal_dsB30 = np.concatenate([np.zeros_like(dsignal_dsbias30[:4]), dsignal_dsbias30[:4]], axis=2)\n",
    "dsignal_dsB70 = np.concatenate([np.zeros_like(dsignal_dsbias70[:4]), dsignal_dsbias70[:4]], axis=2)\n",
    "\n",
    "\n",
    "dsignal_dsM = np.concatenate([dsignal_dsbias50[4:], dsignal_dsbias70[4:]], axis=2)\n",
    "dsignal_dnum = np.concatenate([dsignal_dnum50, dsignal_dnum70], axis=2)\n",
    "dsignal_dgbias50 = np.concatenate([dsignal_dgbias50_, np.zeros_like(dsignal_dgbias50_[:4])], axis=2)\n",
    "dsignal_dgbias30 = np.concatenate([np.zeros_like(dsignal_dgbias70_[:4]), dsignal_dgbias70_], axis=2)\n",
    "dsignal_dgbias70 = np.concatenate([np.zeros_like(dsignal_dgbias70_[:4]), dsignal_dgbias70_], axis=2)\n",
    "dsignal_dcosmic = np.concatenate([dsignal_dcosmic50, dsignal_dcosmic70], axis=2)"
   ]
  },
  {
   "cell_type": "code",
   "execution_count": 41,
   "metadata": {},
   "outputs": [
    {
     "data": {
      "text/plain": [
       "((29, 19, 612), (5, 19, 612))"
      ]
     },
     "execution_count": 41,
     "metadata": {},
     "output_type": "execute_result"
    }
   ],
   "source": [
    "dsignal_dtheta_multi = np.concatenate([dsignal_dsB50, dsignal_dsB70, dsignal_dsM, dsignal_dnum, dsignal_dgbias50, dsignal_dgbias70, dsignal_dcosmic])\n",
    "\n",
    "dsignal_dtheta_multi = np.delete(dsignal_dtheta_multi, ind_to_remove, axis=2)\n",
    "dsignal_dcosmic = np.delete(dsignal_dcosmic, ind_to_remove, axis=2)\n",
    "\n",
    "np.shape(dsignal_dtheta_multi), np.shape(dsignal_dcosmic)"
   ]
  },
  {
   "cell_type": "markdown",
   "metadata": {},
   "source": [
    "## Cosmic Parameters Fisher Matrices"
   ]
  },
  {
   "cell_type": "code",
   "execution_count": 43,
   "metadata": {},
   "outputs": [
    {
     "data": {
      "text/plain": [
       "((19, 324, 324), (19, 324, 324), (19, 612, 612))"
      ]
     },
     "execution_count": 43,
     "metadata": {},
     "output_type": "execute_result"
    }
   ],
   "source": [
    "Inv_CovMatrixSKA_joint = np.array([np.linalg.pinv(CovMatrixSKA_joint[i]) for i,k in enumerate(z_bins)])\n",
    "\n",
    "np.shape(Inv_CovMatrixSKA_50x50), np.shape(Inv_CovMatrixSKA_70x30), np.shape(Inv_CovMatrixSKA_joint)"
   ]
  },
  {
   "cell_type": "code",
   "execution_count": 45,
   "metadata": {},
   "outputs": [
    {
     "name": "stdout",
     "output_type": "stream",
     "text": [
      "0 True True False\n",
      "1 True True False\n",
      "2 True True False\n",
      "3 True True False\n",
      "4 True True False\n",
      "5 True True False\n",
      "6 True True False\n",
      "7 True True False\n",
      "8 True True False\n",
      "9 True True False\n",
      "10 True True False\n",
      "11 True True False\n",
      "12 True True False\n",
      "13 True True False\n",
      "14 True True False\n",
      "15 True True False\n",
      "16 True True False\n",
      "17 True True False\n",
      "18 True True False\n"
     ]
    }
   ],
   "source": [
    "for n, z in enumerate(z_bins):\n",
    "    print(n, np.allclose(Inv_CovMatrixSKA_50x50[n], Inv_CovMatrixSKA_50x50[n].T, rtol=1e-4), \n",
    "          np.allclose(Inv_CovMatrixSKA_70x30[n], Inv_CovMatrixSKA_70x30[n].T, rtol=1e-4),\n",
    "          np.allclose(Inv_CovMatrixSKA_joint[n], Inv_CovMatrixSKA_joint[n].T, rtol=1e-1))"
   ]
  },
  {
   "cell_type": "code",
   "execution_count": 47,
   "metadata": {},
   "outputs": [
    {
     "name": "stdout",
     "output_type": "stream",
     "text": [
      "\n",
      " ... Computing the Fisher Matrix ... \n",
      "\n",
      "Signal & Cov must be given as functions (z,d) and (z,d,d') respectively. \n",
      "\n",
      "\n",
      " ... Success! ... \n",
      "\n",
      "\n",
      " ... Computing the Fisher Matrix ... \n",
      "\n",
      "Signal & Cov must be given as functions (z,d) and (z,d,d') respectively. \n",
      "\n",
      "\n",
      " ... Success! ... \n",
      "\n",
      "\n",
      " ... Computing the Fisher Matrix ... \n",
      "\n",
      "Signal & Cov must be given as functions (z,d) and (z,d,d') respectively. \n",
      "\n",
      "\n",
      " ... Success! ... \n",
      "\n"
     ]
    },
    {
     "data": {
      "text/plain": [
       "((5, 5), (5, 5), (5, 5))"
      ]
     },
     "execution_count": 47,
     "metadata": {},
     "output_type": "execute_result"
    }
   ],
   "source": [
    "FisherMatrixSKA_50x50 = fm.fisher_matrix(d_signal=dsignal_dcosmic50, inv_cov=Inv_CovMatrixSKA_50x50, z_bins=z_bins, bins=False)\n",
    "FisherMatrixSKA_70x30 = fm.fisher_matrix(d_signal=dsignal_dcosmic30, inv_cov=Inv_CovMatrixSKA_70x30, z_bins=z_bins, bins=False)\n",
    "FisherMatrixSKA_joint = fm.fisher_matrix(d_signal=dsignal_dcosmic, inv_cov=Inv_CovMatrixSKA_joint, z_bins=z_bins, bins=False)\n",
    "\n",
    "np.shape(FisherMatrixSKA_50x50), np.shape(FisherMatrixSKA_70x30), np.shape(FisherMatrixSKA_joint)\n"
   ]
  },
  {
   "cell_type": "code",
   "execution_count": 48,
   "metadata": {},
   "outputs": [
    {
     "name": "stdout",
     "output_type": "stream",
     "text": [
      "5164002.026713927\t1688886.113488194\t496226.54262118076\t-19413664.00695398\t6641394.1023081085\n",
      "1688886.1134881629\t591306.3728766952\t96541.34153689024\t-6055929.224972827\t2108424.579750899\n",
      "496226.5426212941\t96541.34153693542\t269437.40309821675\t-1928441.3798997358\t1401221.6430270765\n",
      "-19413664.00695389\t-6055929.2249728255\t-1928441.3798995449\t80306511.07905662\t-23831659.69196253\n",
      "6641394.102308079\t2108424.579750879\t1401221.643026993\t-23831659.691962913\t13961632.845623164\n"
     ]
    }
   ],
   "source": [
    "print('\\n'.join(['\\t'.join([str(cell) for cell in row]) for row in FisherMatrixSKA_50x50]))"
   ]
  },
  {
   "cell_type": "code",
   "execution_count": 49,
   "metadata": {},
   "outputs": [
    {
     "ename": "NameError",
     "evalue": "name 'FisherMatrixSKA_30x70' is not defined",
     "output_type": "error",
     "traceback": [
      "\u001b[0;31m---------------------------------------------------------------------------\u001b[0m",
      "\u001b[0;31mNameError\u001b[0m                                 Traceback (most recent call last)",
      "Cell \u001b[0;32mIn[49], line 1\u001b[0m\n\u001b[0;32m----> 1\u001b[0m \u001b[38;5;28mprint\u001b[39m(\u001b[38;5;124m'\u001b[39m\u001b[38;5;130;01m\\n\u001b[39;00m\u001b[38;5;124m'\u001b[39m\u001b[38;5;241m.\u001b[39mjoin([\u001b[38;5;124m'\u001b[39m\u001b[38;5;130;01m\\t\u001b[39;00m\u001b[38;5;124m'\u001b[39m\u001b[38;5;241m.\u001b[39mjoin([\u001b[38;5;28mstr\u001b[39m(cell) \u001b[38;5;28;01mfor\u001b[39;00m cell \u001b[38;5;129;01min\u001b[39;00m row]) \u001b[38;5;28;01mfor\u001b[39;00m row \u001b[38;5;129;01min\u001b[39;00m \u001b[43mFisherMatrixSKA_30x70\u001b[49m]))\n",
      "\u001b[0;31mNameError\u001b[0m: name 'FisherMatrixSKA_30x70' is not defined"
     ]
    }
   ],
   "source": [
    "print('\\n'.join(['\\t'.join([str(cell) for cell in row]) for row in FisherMatrixSKA_30x70]))"
   ]
  },
  {
   "cell_type": "code",
   "execution_count": null,
   "metadata": {},
   "outputs": [
    {
     "name": "stdout",
     "output_type": "stream",
     "text": [
      "6251295.368837502\t2026141.1179901503\t687527.5698482153\t-23482439.4055779\t8178810.243777531\n",
      "2026141.117990104\t699264.2519198089\t148489.37206981913\t-7297374.249152005\t2565456.666756784\n",
      "687527.5698483501\t148489.37206987408\t327476.46734001266\t-2658934.1807957934\t1765010.6975681668\n",
      "-23482439.405577064\t-7297374.249151797\t-2658934.180795723\t95961186.90261878\t-29573082.66786928\n",
      "8178810.243777963\t2565456.666756904\t1765010.6975683053\t-29573082.667871144\t16756273.07661894\n"
     ]
    }
   ],
   "source": [
    "print('\\n'.join(['\\t'.join([str(cell) for cell in row]) for row in FisherMatrixSKA_joint]))"
   ]
  },
  {
   "cell_type": "code",
   "execution_count": null,
   "metadata": {},
   "outputs": [
    {
     "data": {
      "text/plain": [
       "(5, 19, 324)"
      ]
     },
     "metadata": {},
     "output_type": "display_data"
    }
   ],
   "source": [
    "np.shape(dsignal_dcosmic50)"
   ]
  },
  {
   "cell_type": "code",
   "execution_count": null,
   "metadata": {},
   "outputs": [
    {
     "data": {
      "text/plain": [
       "((5, 19, 648), (5, 19, 648), (10, 19, 612))"
      ]
     },
     "metadata": {},
     "output_type": "display_data"
    }
   ],
   "source": [
    "dsignal_dcosmic50_ = np.concatenate([dsignal_dcosmic50, np.zeros_like(dsignal_dcosmic30)], axis=2)\n",
    "dsignal_dcosmic30_ = np.concatenate([np.zeros_like(dsignal_dcosmic50), dsignal_dcosmic30], axis=2)\n",
    "\n",
    "dsignal_dcosmic_multi = np.concatenate([dsignal_dcosmic50_, dsignal_dcosmic30_])\n",
    "\n",
    "dsignal_dcosmic_multi = np.delete(dsignal_dcosmic_multi, ind_to_remove, axis=2)\n",
    "\n",
    "np.shape(dsignal_dcosmic50_), np.shape(dsignal_dcosmic30_), np.shape(dsignal_dcosmic_multi)"
   ]
  },
  {
   "cell_type": "code",
   "execution_count": null,
   "metadata": {},
   "outputs": [
    {
     "name": "stdout",
     "output_type": "stream",
     "text": [
      "\n",
      " ... Computing the Fisher Matrix ... \n",
      "\n",
      "Signal & Cov must be given as functions (z,d) and (z,d,d') respectively. \n",
      "\n",
      "\n",
      " ... Success! ... \n",
      "\n"
     ]
    }
   ],
   "source": [
    "FisherMatrixSKA_joint_ = fm.fisher_matrix(d_signal=dsignal_dcosmic_multi, inv_cov=Inv_CovMatrixSKA_joint, z_bins=z_bins, bins=False)\n"
   ]
  },
  {
   "cell_type": "code",
   "execution_count": null,
   "metadata": {},
   "outputs": [
    {
     "name": "stdout",
     "output_type": "stream",
     "text": [
      "703872218.150775\t319797474.72804046\t-212245379.1844078\t-2379823127.2053742\t458883058.24678373\t-700743671.1921499\t-318511365.99167585\t211724126.9584626\t2368813880.4830008\t-459591094.76312566\n",
      "319797474.01400304\t159990530.22853753\t-124860282.52903669\t-966871471.0093046\t200114130.32489592\t-318467386.31754535\t-159384846.35101536\t124514636.82020631\t962572701.8048247\t-200779356.09356847\n",
      "-212245376.77242467\t-124860281.60211782\t136516642.24279994\t589854186.6564937\t-45670267.071075976\t211615418.26900944\t124472377.89075033\t-136052453.63362306\t-588064860.4949622\t47237823.61807507\n",
      "-2379823127.2024417\t-966871472.6118709\t589854192.4733844\t10011341184.872478\t-1454169894.2982576\t2369131650.6487646\t962834030.5090423\t-588401478.1503981\t-9967115738.710846\t1456780753.308046\n",
      "458883063.35614103\t200114133.26483417\t-45670270.49451372\t-1454169908.1728764\t789790775.2420641\t-456879208.47708875\t-199394060.95055488\t45932501.20271988\t1447408663.2480824\t-786255353.2113926\n",
      "-700743671.1870086\t-318467387.0287613\t211615420.6783677\t2369131650.637984\t-456879203.3650464\t703866419.5972205\t319207419.41038686\t-210406640.88257414\t-2381604843.3211865\t465766050.1251658\n",
      "-318511365.2749319\t-159384846.34959725\t124472378.81645164\t962834028.8987081\t-199394058.00885406\t319207418.69646406\t159478426.72399488\t-123978243.73555143\t-965832633.9433799\t202624740.44428334\n",
      "211724124.5443964\t124514635.89234698\t-136052453.63306454\t-588401472.3263733\t45932497.777105644\t-210406638.47113276\t-123978242.80890973\t135915741.49122772\t583953211.9840463\t-45735043.62653661\n",
      "2368813880.468402\t962572703.4008567\t-588064866.3056589\t-9967115738.68185\t1447408649.3678927\t-2381604843.320303\t-965832635.54718\t583953217.8018767\t10018851479.42283\t-1479592591.045551\n",
      "-459591099.8990623\t-200779359.04585508\t47237827.049538866\t1456780767.2714481\t-786255353.2370218\t465766055.2637881\t202624743.39833257\t-45735047.06017671\t-1479592605.0145247\t799476204.282969\n"
     ]
    }
   ],
   "source": [
    "print('\\n'.join(['\\t'.join([str(cell) for cell in row]) for row in FisherMatrixSKA_joint_]))"
   ]
  },
  {
   "cell_type": "code",
   "execution_count": null,
   "metadata": {},
   "outputs": [
    {
     "data": {
      "text/plain": [
       "(1.6519686050731574e+29, 7.699403863968864e+68)"
      ]
     },
     "metadata": {},
     "output_type": "display_data"
    }
   ],
   "source": [
    "np.linalg.det(FisherMatrixSKA_joint), np.linalg.det(FisherMatrixSKA_joint_)"
   ]
  },
  {
   "cell_type": "code",
   "execution_count": null,
   "metadata": {},
   "outputs": [
    {
     "name": "stdout",
     "output_type": "stream",
     "text": [
      "4.1401384047626375e-05\t-8.945846139545268e-05\t-3.661641439888493e-05\t3.2792061676656403e-06\t3.1326978374865317e-06\n",
      "-8.945846139546193e-05\t0.0002079680264675636\t8.907854334579257e-05\t-6.261071933601408e-06\t-8.608892840971337e-06\n",
      "-3.66164143988934e-05\t8.907854334579684e-05\t4.6455362189046436e-05\t-2.4166333614153135e-06\t-4.9241228485738274e-06\n",
      "3.2792061676648674e-06\t-6.261071933599017e-06\t-2.4166333614136584e-06\t3.2971299830183826e-07\t1.9446551229418968e-07\n",
      "3.1326978374877192e-06\t-8.608892840972704e-06\t-4.9241228485747354e-06\t1.9446551229437007e-07\t7.105443131016032e-07\n"
     ]
    }
   ],
   "source": [
    "print('\\n'.join(['\\t'.join([str(cell) for cell in row]) for row in np.linalg.inv(FisherMatrixSKA_joint)]))"
   ]
  },
  {
   "cell_type": "markdown",
   "metadata": {},
   "source": [
    "## Cosmic Parameters + Galaxy Bias FISHER MATRIX"
   ]
  },
  {
   "cell_type": "code",
   "execution_count": null,
   "metadata": {},
   "outputs": [
    {
     "data": {
      "text/plain": [
       "((4, 19, 648), (4, 19, 648), (5, 19, 612))"
      ]
     },
     "metadata": {},
     "output_type": "display_data"
    }
   ],
   "source": [
    "np.shape(dsignal_dgbias50), np.shape(dsignal_dgbias30), np.shape(dsignal_dcosmic)"
   ]
  },
  {
   "cell_type": "code",
   "execution_count": null,
   "metadata": {},
   "outputs": [
    {
     "data": {
      "text/plain": [
       "((9, 19, 324), (9, 19, 324), (13, 19, 612))"
      ]
     },
     "metadata": {},
     "output_type": "display_data"
    }
   ],
   "source": [
    "dsignal_dpars50x50 = np.concatenate([dsignal_dgbias50_, dsignal_dcosmic50])\n",
    "dsignal_dpars30x70 = np.concatenate([dsignal_dgbias30_, dsignal_dcosmic30])\n",
    "\n",
    "dsignal_dgbias50 = np.delete(dsignal_dgbias50, ind_to_remove, axis=2)\n",
    "dsignal_dgbias30 = np.delete(dsignal_dgbias30, ind_to_remove, axis=2)\n",
    "\n",
    "dsignal_dpars_joint = np.concatenate([dsignal_dgbias50, dsignal_dgbias30, dsignal_dcosmic])\n",
    "\n",
    "np.shape(dsignal_dpars50x50), np.shape(dsignal_dpars30x70), np.shape(dsignal_dpars_joint)"
   ]
  },
  {
   "cell_type": "code",
   "execution_count": null,
   "metadata": {},
   "outputs": [
    {
     "name": "stdout",
     "output_type": "stream",
     "text": [
      "\n",
      " ... Computing the Fisher Matrix ... \n",
      "\n",
      "Signal & Cov must be given as functions (z,d) and (z,d,d') respectively. \n",
      "\n",
      "\n",
      " ... Success! ... \n",
      "\n",
      "\n",
      " ... Computing the Fisher Matrix ... \n",
      "\n",
      "Signal & Cov must be given as functions (z,d) and (z,d,d') respectively. \n",
      "\n",
      "\n",
      " ... Success! ... \n",
      "\n",
      "\n",
      " ... Computing the Fisher Matrix ... \n",
      "\n",
      "Signal & Cov must be given as functions (z,d) and (z,d,d') respectively. \n",
      "\n",
      "\n",
      " ... Success! ... \n",
      "\n"
     ]
    },
    {
     "data": {
      "text/plain": [
       "((9, 9), (9, 9), (13, 13))"
      ]
     },
     "metadata": {},
     "output_type": "display_data"
    }
   ],
   "source": [
    "FisherMatrixSKA_50x50 = fm.fisher_matrix(d_signal=dsignal_dpars50x50, inv_cov=Inv_CovMatrixSKA_50x50, z_bins=z_bins, bins=False)\n",
    "FisherMatrixSKA_30x70 = fm.fisher_matrix(d_signal=dsignal_dpars30x70, inv_cov=Inv_CovMatrixSKA_30x70, z_bins=z_bins, bins=False)\n",
    "FisherMatrixSKA_joint = fm.fisher_matrix(d_signal=dsignal_dpars_joint, inv_cov=Inv_CovMatrixSKA_joint, z_bins=z_bins, bins=False)\n",
    "\n",
    "np.shape(FisherMatrixSKA_50x50), np.shape(FisherMatrixSKA_30x70), np.shape(FisherMatrixSKA_joint)\n"
   ]
  },
  {
   "cell_type": "code",
   "execution_count": null,
   "metadata": {},
   "outputs": [
    {
     "data": {
      "text/plain": [
       "(2.978620645887647e+53, 6.949421003610326e+53, 6.821016502284641e+83)"
      ]
     },
     "metadata": {},
     "output_type": "display_data"
    }
   ],
   "source": [
    "np.linalg.det(FisherMatrixSKA_50x50), np.linalg.det(FisherMatrixSKA_30x70), np.linalg.det(FisherMatrixSKA_joint)"
   ]
  },
  {
   "cell_type": "code",
   "execution_count": null,
   "metadata": {},
   "outputs": [
    {
     "name": "stdout",
     "output_type": "stream",
     "text": [
      "25447240.777854692\t7515169.987835224\t-31713835.347808655\t-9110094.934605015\t2177814.361231719\t1105856.1562454673\t-932413.0557254107\t-6618981.011715738\t-2933471.9958783127\n",
      "7515169.987835222\t2808444.203160712\t-9110094.934605015\t-3225463.7597114304\t1072997.0184735924\t504090.3908093623\t-332884.4190554553\t-3396522.347946506\t-474952.963605881\n",
      "-31713835.347809885\t-9110094.93460506\t48443965.55355428\t14405111.655087853\t2321035.4568680176\t305381.6409740199\t1695881.1591249863\t-10068274.409692686\t11822762.336750662\n",
      "-9110094.934605056\t-3225463.7597113927\t14405111.655087844\t5400372.421185124\t629545.2719306645\t69738.45404022718\t496145.3945584891\t-2793044.5741037377\t3003394.232552508\n",
      "2177814.3612309718\t1072997.0184736014\t2321035.456869026\t629545.2719306569\t5164002.026713927\t1688886.113488194\t496226.54262118076\t-19413664.00695398\t6641394.1023081085\n",
      "1105856.1562451809\t504090.390809364\t305381.6409744265\t69738.45404022578\t1688886.1134881629\t591306.3728766952\t96541.34153689024\t-6055929.224972827\t2108424.579750899\n",
      "-932413.0557254825\t-332884.41905548575\t1695881.1591251402\t496145.3945585524\t496226.5426212941\t96541.34153693542\t269437.40309821675\t-1928441.3798997358\t1401221.6430270765\n",
      "-6618981.011713022\t-3396522.347946646\t-10068274.409694914\t-2793044.574103466\t-19413664.00695389\t-6055929.2249728255\t-1928441.3798995449\t80306511.07905662\t-23831659.69196253\n",
      "-2933471.9958805563\t-474952.9636061552\t11822762.336753465\t3003394.232552853\t6641394.102308079\t2108424.579750879\t1401221.643026993\t-23831659.691962913\t13961632.845623164\n"
     ]
    }
   ],
   "source": [
    "print('\\n'.join(['\\t'.join([str(cell) for cell in row]) for row in FisherMatrixSKA_50x50]))"
   ]
  },
  {
   "cell_type": "code",
   "execution_count": null,
   "metadata": {},
   "outputs": [
    {
     "name": "stdout",
     "output_type": "stream",
     "text": [
      "33016651.384679236\t8332488.267908776\t-50360159.32634173\t-12901331.246122913\t1874549.3290753085\t1015691.4324662106\t-994719.3725617193\t-5479385.917692468\t-3961393.346895395\n",
      "8332488.267908773\t2733114.2927259943\t-12901331.246122926\t-4149358.7031630417\t846945.2037477822\t422633.8689456244\t-337296.306303709\t-2592730.776060814\t-779727.1200034039\n",
      "-50360159.32633923\t-12901331.24612243\t84500438.42434922\t23254467.951169528\t2067729.6980300494\t117760.24214361416\t1973312.5021055618\t-9524773.356651565\t13038348.119257785\n",
      "-12901331.246122435\t-4149358.7031629556\t23254467.951169528\t8118604.127277631\t736809.8546538168\t81090.78851551346\t578643.8650978748\t-3279873.2486417764\t3469697.352632582\n",
      "1874549.3290768762\t846945.2037479944\t2067729.6980268739\t736809.8546534531\t5982702.933384105\t1941106.7989340974\t647009.0811368452\t-22479456.449509744\t7855159.7982589435\n",
      "1015691.4324669703\t422633.86894572224\t117760.24214217364\t81090.7885153587\t1941106.7989341135\t670904.4828461709\t138897.17270884645\t-6988605.066999086\t2473726.474570977\n",
      "-994719.372562376\t-337296.3063038523\t1973312.5021069231\t578643.8650981568\t647009.0811369446\t138897.17270890815\t310960.1564787712\t-2499890.3801519116\t1671688.8824865094\n",
      "-5479385.917697523\t-2592730.7760616518\t-9524773.356639676\t-3279873.248639772\t-22479456.449508905\t-6988605.066998642\t-2499890.3801519973\t92043357.18543775\t-28355007.711743876\n",
      "-3961393.346896719\t-779727.1200039316\t13038348.119260143\t3469697.352633649\t7855159.798259621\t2473726.4745712737\t1671688.8824863958\t-28355007.71174604\t15915477.89555201\n"
     ]
    }
   ],
   "source": [
    "print('\\n'.join(['\\t'.join([str(cell) for cell in row]) for row in FisherMatrixSKA_30x70]))"
   ]
  },
  {
   "cell_type": "code",
   "execution_count": null,
   "metadata": {},
   "outputs": [
    {
     "name": "stdout",
     "output_type": "stream",
     "text": [
      "239836850.62495834\t48697266.23710122\t170533246.63374412\t18168276.35035656\t-86354322.11230232\t-19768479.423442256\t-358913738.8152637\t-53284837.76877848\t2194809.158537092\t1097536.5806002778\t-870414.4301893655\t-6725098.400473181\t-3369598.640316342\n",
      "48697266.23710123\t14351933.217645446\t18168276.350356564\t1046135.4021589902\t-19768479.423442263\t-6699195.871897356\t-53284837.76877847\t-10075359.004489357\t752103.1840154352\t363707.8894107544\t-259862.91652634702\t-2334727.5858235816\t-659403.3985773692\n",
      "170533247.26709872\t18168276.39835402\t393454505.2658195\t64371510.07652239\t-22195058.948971387\t1896947.293044668\t-587487014.3914438\t-91855671.97164471\t849139.5028543855\t295817.07501475874\t62472.274187524185\t-3072626.3861645493\t2542556.6771948826\n",
      "18168276.39835402\t1046135.4053310191\t64371510.07652238\t13857853.288172426\t1896947.2930446756\t1833783.048967673\t-91855671.97164473\t-17982927.874865077\t180258.58592617506\t46624.41439750799\t63031.69997074727\t-703771.1324359342\t642805.4906908451\n",
      "-86354321.53384532\t-19768479.378012415\t-22195057.91744645\t1896947.3730049015\t56447282.506708466\t15381845.625244332\t49171101.19858397\t604702.3615953403\t633743.6326162139\t373778.96736504004\t-437308.0753173528\t-1757357.3858127103\t-1507898.7935307927\n",
      "-19768479.37801241\t-6699195.868634843\t1896947.373004888\t1833783.0545419545\t15381845.625244334\t5766692.764203067\t604702.3615953452\t-1685694.9519737905\t428079.5807252553\t213679.2049406366\t-172923.56799744107\t-1315064.0191452706\t-309050.98270038824\n",
      "-358913740.17994225\t-53284837.87318287\t-587487014.9162759\t-91855672.01249053\t49171102.941774346\t604702.4968446199\t1006763808.8093758\t167668502.88202024\t370909.6017750341\t-613169.2096336937\t2284274.835755881\t-3868034.238217638\t12302876.542207994\n",
      "-53284837.87318287\t-10075359.011511095\t-91855672.01249045\t-17982927.87769143\t604702.496844644\t-1685694.942546872\t167668502.8820203\t36175994.344880156\t271556.1447356515\t-109882.01975541287\t634540.0795287761\t-1710475.5607616452\t3234397.836632117\n",
      "2194809.1618838175\t752103.1843467552\t849139.5066687514\t180258.58630423478\t633743.6306543251\t428079.5805312054\t370909.59632407274\t271556.1441952306\t6251295.368837502\t2026141.1179901503\t687527.5698482153\t-23482439.4055779\t8178810.243777531\n",
      "1097536.582276536\t363707.88955992146\t295817.0769249995\t46624.41456744975\t373778.96638217324\t213679.2048532045\t-613169.212363371\t-109882.01999833845\t2026141.117990104\t699264.2519198089\t148489.37206981913\t-7297374.249152005\t2565456.666756784\n",
      "-870414.4312836505\t-259862.91657834325\t62472.272938409486\t63031.6999117366\t-437308.07467598765\t-172923.56796694652\t2284274.837540584\t634540.0796132449\t687527.5698483501\t148489.37206987408\t327476.46734001266\t-2658934.1807957934\t1765010.6975681668\n",
      "-6725098.408220751\t-2334727.586590856\t-3072626.394991312\t-703771.1333122535\t-1757357.3812721758\t-1315064.018696696\t-3868034.22559876\t-1710475.5595077157\t-23482439.405577064\t-7297374.249151797\t-2658934.180795723\t95961186.90261878\t-29573082.66786928\n",
      "-3369598.6547560226\t-659403.3994690742\t2542556.6606890825\t642805.4896727623\t-1507898.785067296\t-309050.98217783927\t12302876.565782284\t3234397.838087076\t8178810.243777963\t2565456.666756904\t1765010.6975683053\t-29573082.667871144\t16756273.07661894\n"
     ]
    }
   ],
   "source": [
    "print('\\n'.join(['\\t'.join([str(cell) for cell in row]) for row in FisherMatrixSKA_joint]))"
   ]
  },
  {
   "cell_type": "code",
   "execution_count": null,
   "metadata": {},
   "outputs": [
    {
     "data": {
      "text/plain": [
       "(18, 19, 612)"
      ]
     },
     "metadata": {},
     "output_type": "display_data"
    }
   ],
   "source": [
    "dsignal_dpars_joint_ = np.concatenate([dsignal_dgbias50, dsignal_dgbias30, dsignal_dcosmic_multi])\n",
    "\n",
    "np.shape(dsignal_dpars_joint_)"
   ]
  },
  {
   "cell_type": "code",
   "execution_count": null,
   "metadata": {},
   "outputs": [
    {
     "name": "stdout",
     "output_type": "stream",
     "text": [
      "\n",
      " ... Computing the Fisher Matrix ... \n",
      "\n",
      "Signal & Cov must be given as functions (z,d) and (z,d,d') respectively. \n",
      "\n",
      "\n",
      " ... Success! ... \n",
      "\n"
     ]
    }
   ],
   "source": [
    "FisherMatrixSKA_joint_ = fm.fisher_matrix(d_signal=dsignal_dpars_joint_, inv_cov=Inv_CovMatrixSKA_joint, z_bins=z_bins, bins=False)"
   ]
  },
  {
   "cell_type": "code",
   "execution_count": null,
   "metadata": {},
   "outputs": [
    {
     "data": {
      "text/plain": [
       "((18, 18), 1.2322517742426492e+120)"
      ]
     },
     "metadata": {},
     "output_type": "display_data"
    }
   ],
   "source": [
    "np.shape(FisherMatrixSKA_joint_), np.linalg.det(FisherMatrixSKA_joint_)"
   ]
  },
  {
   "cell_type": "code",
   "execution_count": null,
   "metadata": {},
   "outputs": [
    {
     "name": "stdout",
     "output_type": "stream",
     "text": [
      "239836850.62495834\t48697266.23710122\t170533246.63374412\t18168276.35035656\t-86354322.11230232\t-19768479.423442256\t-358913738.8152637\t-53284837.76877848\t354064026.31351715\t176246927.39882022\t-136201093.8359703\t-1077569687.179304\t208494937.07153094\t-351869217.15498\t-175149390.8182199\t135330679.40578094\t1070844588.7788311\t-211864535.71184742\n",
      "48697266.23710123\t14351933.217645446\t18168276.350356564\t1046135.4021589902\t-19768479.423442263\t-6699195.871897356\t-53284837.76877847\t-10075359.004489357\t59329304.975869335\t29449576.562688127\t-22535843.56127617\t-180599721.44593447\t28049502.7610185\t-58577201.7918539\t-29085868.673277378\t22275980.644749835\t178264993.86011094\t-28708906.15959587\n",
      "170533247.26709872\t18168276.39835402\t393454505.2658195\t64371510.07652239\t-22195058.948971387\t1896947.293044668\t-587487014.3914438\t-91855671.97164471\t426437443.39795786\t214711291.63732675\t-169688034.16453156\t-1279274126.63607\t285576678.0363355\t-425588303.89510363\t-214415474.56231198\t169750506.43871903\t1276201500.2499053\t-283034121.3591407\n",
      "18168276.39835402\t1046135.4053310191\t64371510.07652238\t13857853.288172426\t1896947.2930446756\t1833783.048967673\t-91855671.97164473\t-17982927.874865077\t59581371.56526422\t30010480.072603498\t-23631285.20193779\t-178142848.84702983\t37721649.35253865\t-59401112.97933803\t-29963855.65820601\t23694316.901908547\t177439077.71459386\t-37078843.86184781\n",
      "-86354321.53384532\t-19768479.378012415\t-22195057.91744645\t1896947.3730049015\t56447282.506708466\t15381845.625244332\t49171101.19858397\t604702.3615953403\t-109391402.60444796\t-52810268.13135494\t37321074.492405795\t338699043.9948495\t-67571909.11329284\t110025146.23706421\t53184047.09872001\t-37758382.56772313\t-340456401.3806624\t66064010.31976206\n",
      "-19768479.37801241\t-6699195.868634843\t1896947.373004888\t1833783.0545419545\t15381845.625244334\t5766692.764203067\t604702.3615953452\t-1685694.9519737905\t-19582942.369431876\t-9294770.548920223\t6223611.316439493\t61297143.19507624\t-9696959.269661905\t20011021.95015713\t9508449.753860857\t-6396534.884436935\t-62612207.2142215\t9387908.286961522\n",
      "-358913740.17994225\t-53284837.87318287\t-587487014.9162759\t-91855672.01249053\t49171102.941774346\t604702.4968446199\t1006763808.8093758\t167668502.88202024\t-731743048.3473743\t-370601697.39193076\t298467378.53532356\t2193472353.9695373\t-449562727.9140722\t732113957.9491498\t369988528.18229705\t-296183103.69956774\t-2197340388.2077556\t461865604.45628023\n",
      "-53284837.87318287\t-10075359.011511095\t-91855672.01249045\t-17982927.87769143\t604702.496844644\t-1685694.942546872\t167668502.8820203\t36175994.344880156\t-109247764.58148374\t-55663950.63970311\t45363819.45771682\t325224561.49392843\t-58149746.15971452\t109519320.72621942\t55554068.619947694\t-44729279.378188066\t-326935037.05469006\t61384143.996346645\n",
      "354064027.7960191\t59329305.08692801\t426437443.97438675\t59581371.60602631\t-109391404.4847473\t-19582942.514675736\t-731743048.367287\t-109247764.57652043\t703872218.150775\t319797474.72804046\t-212245379.1844078\t-2379823127.2053742\t458883058.24678373\t-700743671.1921499\t-318511365.99167585\t211724126.9584626\t2368813880.4830008\t-459591094.76312566\n",
      "176246927.70971215\t29449576.586574\t214711291.453736\t30010480.058910828\t-52810268.80492174\t-9294770.601597598\t-370601696.7389582\t-55663950.58961707\t319797474.01400304\t159990530.22853753\t-124860282.52903669\t-966871471.0093046\t200114130.32489592\t-318467386.31754535\t-159384846.35101536\t124514636.82020631\t962572701.8048247\t-200779356.09356847\n",
      "-136201092.96942705\t-22535843.49331584\t-169688032.78769937\t-23631285.095880874\t37321074.343816906\t6223611.304425167\t298467376.28230137\t45363819.28420847\t-212245376.77242467\t-124860281.60211782\t136516642.24279994\t589854186.6564937\t-45670267.071075976\t211615418.26900944\t124472377.89075033\t-136052453.63362306\t-588064860.4949622\t47237823.61807507\n",
      "-1077569691.1088123\t-180599721.70415914\t-1279274127.5433326\t-178142848.86246026\t338699049.515098\t61297143.60290144\t2193472352.7136292\t325224561.3142216\t-2379823127.2024417\t-966871472.6118709\t589854192.4733844\t10011341184.872478\t-1454169894.2982576\t2369131650.6487646\t962834030.5090423\t-588401478.1503981\t-9967115738.710846\t1456780753.308046\n",
      "208494941.08182094\t28049503.07257616\t285576681.6546138\t37721649.63045621\t-67571912.31525977\t-9696959.521679774\t-449562732.40693456\t-58149746.50193552\t458883063.35614103\t200114133.26483417\t-45670270.49451372\t-1454169908.1728764\t789790775.2420641\t-456879208.47708875\t-199394060.95055488\t45932501.20271988\t1447408663.2480824\t-786255353.2113926\n",
      "-351869218.6341352\t-58577201.90258129\t-425588304.4677182\t-59401113.019722104\t110025148.11540161\t20011022.095206935\t732113957.9636115\t109519320.72071561\t-700743671.1870086\t-318467387.0287613\t211615420.6783677\t2369131650.637984\t-456879203.3650464\t703866419.5972205\t319207419.41038686\t-210406640.88257414\t-2381604843.3211865\t465766050.1251658\n",
      "-175149391.1274356\t-29085868.697014075\t-214415474.37681094\t-29963855.64434337\t53184047.77130389\t9508449.8064508\t369988527.5265948\t55554068.56961872\t-318511365.2749319\t-159384846.34959725\t124472378.81645164\t962834028.8987081\t-199394058.00885406\t319207418.69646406\t159478426.72399488\t-123978243.73555143\t-965832633.9433799\t202624740.44428334\n",
      "135330678.53814334\t22275980.576737493\t169750505.06063762\t23694316.795792613\t-37758382.4184929\t-6396534.872392115\t-296183101.4447609\t-44729279.20459524\t211724124.5443964\t124514635.89234698\t-136052453.63306454\t-588401472.3263733\t45932497.777105644\t-210406638.47113276\t-123978242.80890973\t135915741.49122772\t583953211.9840463\t-45735043.62653661\n",
      "1070844592.7005913\t178264994.11756822\t1276201501.148342\t177439077.729148\t-340456406.89637023\t-62612207.62159812\t-2197340386.9392276\t-326935036.8737293\t2368813880.468402\t962572703.4008567\t-588064866.3056589\t-9967115738.68185\t1447408649.3678927\t-2381604843.320303\t-965832635.54718\t583953217.8018767\t10018851479.42283\t-1479592591.045551\n",
      "-211864539.73657694\t-28708906.47204524\t-283034124.99392486\t-37078844.14078347\t66064013.530192435\t9387908.539501932\t461865608.9727167\t61384144.34002259\t-459591099.8990623\t-200779359.04585508\t47237827.049538866\t1456780767.2714481\t-786255353.2370218\t465766055.2637881\t202624743.39833257\t-45735047.06017671\t-1479592605.0145247\t799476204.282969\n"
     ]
    }
   ],
   "source": [
    "print('\\n'.join(['\\t'.join([str(cell) for cell in row]) for row in FisherMatrixSKA_joint_]))"
   ]
  },
  {
   "cell_type": "code",
   "execution_count": null,
   "metadata": {},
   "outputs": [],
   "source": []
  },
  {
   "cell_type": "code",
   "execution_count": null,
   "metadata": {},
   "outputs": [],
   "source": []
  },
  {
   "cell_type": "code",
   "execution_count": null,
   "metadata": {},
   "outputs": [],
   "source": []
  }
 ],
 "metadata": {
  "kernelspec": {
   "display_name": "envcamb",
   "language": "python",
   "name": "python3"
  },
  "language_info": {
   "codemirror_mode": {
    "name": "ipython",
    "version": 3
   },
   "file_extension": ".py",
   "mimetype": "text/x-python",
   "name": "python",
   "nbconvert_exporter": "python",
   "pygments_lexer": "ipython3",
   "version": "3.9.16"
  },
  "orig_nbformat": 4,
  "vscode": {
   "interpreter": {
    "hash": "de1dfb49bcd1a26e75b21446df7878bdac45fb18b2be53fbf138187b65bbd84c"
   }
  }
 },
 "nbformat": 4,
 "nbformat_minor": 2
}
